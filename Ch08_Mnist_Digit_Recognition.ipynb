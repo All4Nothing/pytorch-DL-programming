{
  "nbformat": 4,
  "nbformat_minor": 0,
  "metadata": {
    "colab": {
      "provenance": [],
      "gpuType": "T4",
      "authorship_tag": "ABX9TyOHHXM53hJosRsa0EkljP9W",
      "include_colab_link": true
    },
    "kernelspec": {
      "name": "python3",
      "display_name": "Python 3"
    },
    "language_info": {
      "name": "python"
    },
    "accelerator": "GPU",
    "widgets": {
      "application/vnd.jupyter.widget-state+json": {
        "47ef65d72a1144b3bf9ee08b7dcdd286": {
          "model_module": "@jupyter-widgets/controls",
          "model_name": "HBoxModel",
          "model_module_version": "1.5.0",
          "state": {
            "_dom_classes": [],
            "_model_module": "@jupyter-widgets/controls",
            "_model_module_version": "1.5.0",
            "_model_name": "HBoxModel",
            "_view_count": null,
            "_view_module": "@jupyter-widgets/controls",
            "_view_module_version": "1.5.0",
            "_view_name": "HBoxView",
            "box_style": "",
            "children": [
              "IPY_MODEL_ab559175631e4a1fa9f8a0e6b7b0a40d",
              "IPY_MODEL_b1200431ab784899ac39cc195e1efa07",
              "IPY_MODEL_2fa584b9566b4fd29bbb815dce76892a"
            ],
            "layout": "IPY_MODEL_9f5ba30ca2a547068bccf8502ac649c9"
          }
        },
        "ab559175631e4a1fa9f8a0e6b7b0a40d": {
          "model_module": "@jupyter-widgets/controls",
          "model_name": "HTMLModel",
          "model_module_version": "1.5.0",
          "state": {
            "_dom_classes": [],
            "_model_module": "@jupyter-widgets/controls",
            "_model_module_version": "1.5.0",
            "_model_name": "HTMLModel",
            "_view_count": null,
            "_view_module": "@jupyter-widgets/controls",
            "_view_module_version": "1.5.0",
            "_view_name": "HTMLView",
            "description": "",
            "description_tooltip": null,
            "layout": "IPY_MODEL_2333f7b3617e4545ab4be0acaf08156b",
            "placeholder": "​",
            "style": "IPY_MODEL_c652c0412444429189e8a2101469bdb3",
            "value": "100%"
          }
        },
        "b1200431ab784899ac39cc195e1efa07": {
          "model_module": "@jupyter-widgets/controls",
          "model_name": "FloatProgressModel",
          "model_module_version": "1.5.0",
          "state": {
            "_dom_classes": [],
            "_model_module": "@jupyter-widgets/controls",
            "_model_module_version": "1.5.0",
            "_model_name": "FloatProgressModel",
            "_view_count": null,
            "_view_module": "@jupyter-widgets/controls",
            "_view_module_version": "1.5.0",
            "_view_name": "ProgressView",
            "bar_style": "success",
            "description": "",
            "description_tooltip": null,
            "layout": "IPY_MODEL_b2c866440b384492abf7dfd7e0f1a1ca",
            "max": 120,
            "min": 0,
            "orientation": "horizontal",
            "style": "IPY_MODEL_ccd63d4372154062874d47875b5eb553",
            "value": 120
          }
        },
        "2fa584b9566b4fd29bbb815dce76892a": {
          "model_module": "@jupyter-widgets/controls",
          "model_name": "HTMLModel",
          "model_module_version": "1.5.0",
          "state": {
            "_dom_classes": [],
            "_model_module": "@jupyter-widgets/controls",
            "_model_module_version": "1.5.0",
            "_model_name": "HTMLModel",
            "_view_count": null,
            "_view_module": "@jupyter-widgets/controls",
            "_view_module_version": "1.5.0",
            "_view_name": "HTMLView",
            "description": "",
            "description_tooltip": null,
            "layout": "IPY_MODEL_59c85a3a571b49798bfe5d70fd1379fd",
            "placeholder": "​",
            "style": "IPY_MODEL_7a5fe816091643ce931496664ddf3cf4",
            "value": " 120/120 [00:16&lt;00:00,  7.60it/s]"
          }
        },
        "9f5ba30ca2a547068bccf8502ac649c9": {
          "model_module": "@jupyter-widgets/base",
          "model_name": "LayoutModel",
          "model_module_version": "1.2.0",
          "state": {
            "_model_module": "@jupyter-widgets/base",
            "_model_module_version": "1.2.0",
            "_model_name": "LayoutModel",
            "_view_count": null,
            "_view_module": "@jupyter-widgets/base",
            "_view_module_version": "1.2.0",
            "_view_name": "LayoutView",
            "align_content": null,
            "align_items": null,
            "align_self": null,
            "border": null,
            "bottom": null,
            "display": null,
            "flex": null,
            "flex_flow": null,
            "grid_area": null,
            "grid_auto_columns": null,
            "grid_auto_flow": null,
            "grid_auto_rows": null,
            "grid_column": null,
            "grid_gap": null,
            "grid_row": null,
            "grid_template_areas": null,
            "grid_template_columns": null,
            "grid_template_rows": null,
            "height": null,
            "justify_content": null,
            "justify_items": null,
            "left": null,
            "margin": null,
            "max_height": null,
            "max_width": null,
            "min_height": null,
            "min_width": null,
            "object_fit": null,
            "object_position": null,
            "order": null,
            "overflow": null,
            "overflow_x": null,
            "overflow_y": null,
            "padding": null,
            "right": null,
            "top": null,
            "visibility": null,
            "width": null
          }
        },
        "2333f7b3617e4545ab4be0acaf08156b": {
          "model_module": "@jupyter-widgets/base",
          "model_name": "LayoutModel",
          "model_module_version": "1.2.0",
          "state": {
            "_model_module": "@jupyter-widgets/base",
            "_model_module_version": "1.2.0",
            "_model_name": "LayoutModel",
            "_view_count": null,
            "_view_module": "@jupyter-widgets/base",
            "_view_module_version": "1.2.0",
            "_view_name": "LayoutView",
            "align_content": null,
            "align_items": null,
            "align_self": null,
            "border": null,
            "bottom": null,
            "display": null,
            "flex": null,
            "flex_flow": null,
            "grid_area": null,
            "grid_auto_columns": null,
            "grid_auto_flow": null,
            "grid_auto_rows": null,
            "grid_column": null,
            "grid_gap": null,
            "grid_row": null,
            "grid_template_areas": null,
            "grid_template_columns": null,
            "grid_template_rows": null,
            "height": null,
            "justify_content": null,
            "justify_items": null,
            "left": null,
            "margin": null,
            "max_height": null,
            "max_width": null,
            "min_height": null,
            "min_width": null,
            "object_fit": null,
            "object_position": null,
            "order": null,
            "overflow": null,
            "overflow_x": null,
            "overflow_y": null,
            "padding": null,
            "right": null,
            "top": null,
            "visibility": null,
            "width": null
          }
        },
        "c652c0412444429189e8a2101469bdb3": {
          "model_module": "@jupyter-widgets/controls",
          "model_name": "DescriptionStyleModel",
          "model_module_version": "1.5.0",
          "state": {
            "_model_module": "@jupyter-widgets/controls",
            "_model_module_version": "1.5.0",
            "_model_name": "DescriptionStyleModel",
            "_view_count": null,
            "_view_module": "@jupyter-widgets/base",
            "_view_module_version": "1.2.0",
            "_view_name": "StyleView",
            "description_width": ""
          }
        },
        "b2c866440b384492abf7dfd7e0f1a1ca": {
          "model_module": "@jupyter-widgets/base",
          "model_name": "LayoutModel",
          "model_module_version": "1.2.0",
          "state": {
            "_model_module": "@jupyter-widgets/base",
            "_model_module_version": "1.2.0",
            "_model_name": "LayoutModel",
            "_view_count": null,
            "_view_module": "@jupyter-widgets/base",
            "_view_module_version": "1.2.0",
            "_view_name": "LayoutView",
            "align_content": null,
            "align_items": null,
            "align_self": null,
            "border": null,
            "bottom": null,
            "display": null,
            "flex": null,
            "flex_flow": null,
            "grid_area": null,
            "grid_auto_columns": null,
            "grid_auto_flow": null,
            "grid_auto_rows": null,
            "grid_column": null,
            "grid_gap": null,
            "grid_row": null,
            "grid_template_areas": null,
            "grid_template_columns": null,
            "grid_template_rows": null,
            "height": null,
            "justify_content": null,
            "justify_items": null,
            "left": null,
            "margin": null,
            "max_height": null,
            "max_width": null,
            "min_height": null,
            "min_width": null,
            "object_fit": null,
            "object_position": null,
            "order": null,
            "overflow": null,
            "overflow_x": null,
            "overflow_y": null,
            "padding": null,
            "right": null,
            "top": null,
            "visibility": null,
            "width": null
          }
        },
        "ccd63d4372154062874d47875b5eb553": {
          "model_module": "@jupyter-widgets/controls",
          "model_name": "ProgressStyleModel",
          "model_module_version": "1.5.0",
          "state": {
            "_model_module": "@jupyter-widgets/controls",
            "_model_module_version": "1.5.0",
            "_model_name": "ProgressStyleModel",
            "_view_count": null,
            "_view_module": "@jupyter-widgets/base",
            "_view_module_version": "1.2.0",
            "_view_name": "StyleView",
            "bar_color": null,
            "description_width": ""
          }
        },
        "59c85a3a571b49798bfe5d70fd1379fd": {
          "model_module": "@jupyter-widgets/base",
          "model_name": "LayoutModel",
          "model_module_version": "1.2.0",
          "state": {
            "_model_module": "@jupyter-widgets/base",
            "_model_module_version": "1.2.0",
            "_model_name": "LayoutModel",
            "_view_count": null,
            "_view_module": "@jupyter-widgets/base",
            "_view_module_version": "1.2.0",
            "_view_name": "LayoutView",
            "align_content": null,
            "align_items": null,
            "align_self": null,
            "border": null,
            "bottom": null,
            "display": null,
            "flex": null,
            "flex_flow": null,
            "grid_area": null,
            "grid_auto_columns": null,
            "grid_auto_flow": null,
            "grid_auto_rows": null,
            "grid_column": null,
            "grid_gap": null,
            "grid_row": null,
            "grid_template_areas": null,
            "grid_template_columns": null,
            "grid_template_rows": null,
            "height": null,
            "justify_content": null,
            "justify_items": null,
            "left": null,
            "margin": null,
            "max_height": null,
            "max_width": null,
            "min_height": null,
            "min_width": null,
            "object_fit": null,
            "object_position": null,
            "order": null,
            "overflow": null,
            "overflow_x": null,
            "overflow_y": null,
            "padding": null,
            "right": null,
            "top": null,
            "visibility": null,
            "width": null
          }
        },
        "7a5fe816091643ce931496664ddf3cf4": {
          "model_module": "@jupyter-widgets/controls",
          "model_name": "DescriptionStyleModel",
          "model_module_version": "1.5.0",
          "state": {
            "_model_module": "@jupyter-widgets/controls",
            "_model_module_version": "1.5.0",
            "_model_name": "DescriptionStyleModel",
            "_view_count": null,
            "_view_module": "@jupyter-widgets/base",
            "_view_module_version": "1.2.0",
            "_view_name": "StyleView",
            "description_width": ""
          }
        },
        "3e17620b59f8452b8b6d77f584a64489": {
          "model_module": "@jupyter-widgets/controls",
          "model_name": "HBoxModel",
          "model_module_version": "1.5.0",
          "state": {
            "_dom_classes": [],
            "_model_module": "@jupyter-widgets/controls",
            "_model_module_version": "1.5.0",
            "_model_name": "HBoxModel",
            "_view_count": null,
            "_view_module": "@jupyter-widgets/controls",
            "_view_module_version": "1.5.0",
            "_view_name": "HBoxView",
            "box_style": "",
            "children": [
              "IPY_MODEL_1201821c49814209beba8de689673c63",
              "IPY_MODEL_876ba23e8a114f44b36c30b50035fb13",
              "IPY_MODEL_2af5202506d747d1bbcbc912ab28996e"
            ],
            "layout": "IPY_MODEL_f1a8160be4dd47ac88509e08efa4f0f2"
          }
        },
        "1201821c49814209beba8de689673c63": {
          "model_module": "@jupyter-widgets/controls",
          "model_name": "HTMLModel",
          "model_module_version": "1.5.0",
          "state": {
            "_dom_classes": [],
            "_model_module": "@jupyter-widgets/controls",
            "_model_module_version": "1.5.0",
            "_model_name": "HTMLModel",
            "_view_count": null,
            "_view_module": "@jupyter-widgets/controls",
            "_view_module_version": "1.5.0",
            "_view_name": "HTMLView",
            "description": "",
            "description_tooltip": null,
            "layout": "IPY_MODEL_5e68609b69b84a85956f0897ddad532d",
            "placeholder": "​",
            "style": "IPY_MODEL_f7a1c6f7077b487d8882be995f3c1d0f",
            "value": "100%"
          }
        },
        "876ba23e8a114f44b36c30b50035fb13": {
          "model_module": "@jupyter-widgets/controls",
          "model_name": "FloatProgressModel",
          "model_module_version": "1.5.0",
          "state": {
            "_dom_classes": [],
            "_model_module": "@jupyter-widgets/controls",
            "_model_module_version": "1.5.0",
            "_model_name": "FloatProgressModel",
            "_view_count": null,
            "_view_module": "@jupyter-widgets/controls",
            "_view_module_version": "1.5.0",
            "_view_name": "ProgressView",
            "bar_style": "success",
            "description": "",
            "description_tooltip": null,
            "layout": "IPY_MODEL_ff482c589d68452986f8ee70a619fee3",
            "max": 120,
            "min": 0,
            "orientation": "horizontal",
            "style": "IPY_MODEL_d5099ef47b5240bf8603b6c32938281f",
            "value": 120
          }
        },
        "2af5202506d747d1bbcbc912ab28996e": {
          "model_module": "@jupyter-widgets/controls",
          "model_name": "HTMLModel",
          "model_module_version": "1.5.0",
          "state": {
            "_dom_classes": [],
            "_model_module": "@jupyter-widgets/controls",
            "_model_module_version": "1.5.0",
            "_model_name": "HTMLModel",
            "_view_count": null,
            "_view_module": "@jupyter-widgets/controls",
            "_view_module_version": "1.5.0",
            "_view_name": "HTMLView",
            "description": "",
            "description_tooltip": null,
            "layout": "IPY_MODEL_6e31a47dcee84a21b2a06af85202134e",
            "placeholder": "​",
            "style": "IPY_MODEL_825528fb259e42ff835d37137249b665",
            "value": " 120/120 [00:22&lt;00:00,  2.43it/s]"
          }
        },
        "f1a8160be4dd47ac88509e08efa4f0f2": {
          "model_module": "@jupyter-widgets/base",
          "model_name": "LayoutModel",
          "model_module_version": "1.2.0",
          "state": {
            "_model_module": "@jupyter-widgets/base",
            "_model_module_version": "1.2.0",
            "_model_name": "LayoutModel",
            "_view_count": null,
            "_view_module": "@jupyter-widgets/base",
            "_view_module_version": "1.2.0",
            "_view_name": "LayoutView",
            "align_content": null,
            "align_items": null,
            "align_self": null,
            "border": null,
            "bottom": null,
            "display": null,
            "flex": null,
            "flex_flow": null,
            "grid_area": null,
            "grid_auto_columns": null,
            "grid_auto_flow": null,
            "grid_auto_rows": null,
            "grid_column": null,
            "grid_gap": null,
            "grid_row": null,
            "grid_template_areas": null,
            "grid_template_columns": null,
            "grid_template_rows": null,
            "height": null,
            "justify_content": null,
            "justify_items": null,
            "left": null,
            "margin": null,
            "max_height": null,
            "max_width": null,
            "min_height": null,
            "min_width": null,
            "object_fit": null,
            "object_position": null,
            "order": null,
            "overflow": null,
            "overflow_x": null,
            "overflow_y": null,
            "padding": null,
            "right": null,
            "top": null,
            "visibility": null,
            "width": null
          }
        },
        "5e68609b69b84a85956f0897ddad532d": {
          "model_module": "@jupyter-widgets/base",
          "model_name": "LayoutModel",
          "model_module_version": "1.2.0",
          "state": {
            "_model_module": "@jupyter-widgets/base",
            "_model_module_version": "1.2.0",
            "_model_name": "LayoutModel",
            "_view_count": null,
            "_view_module": "@jupyter-widgets/base",
            "_view_module_version": "1.2.0",
            "_view_name": "LayoutView",
            "align_content": null,
            "align_items": null,
            "align_self": null,
            "border": null,
            "bottom": null,
            "display": null,
            "flex": null,
            "flex_flow": null,
            "grid_area": null,
            "grid_auto_columns": null,
            "grid_auto_flow": null,
            "grid_auto_rows": null,
            "grid_column": null,
            "grid_gap": null,
            "grid_row": null,
            "grid_template_areas": null,
            "grid_template_columns": null,
            "grid_template_rows": null,
            "height": null,
            "justify_content": null,
            "justify_items": null,
            "left": null,
            "margin": null,
            "max_height": null,
            "max_width": null,
            "min_height": null,
            "min_width": null,
            "object_fit": null,
            "object_position": null,
            "order": null,
            "overflow": null,
            "overflow_x": null,
            "overflow_y": null,
            "padding": null,
            "right": null,
            "top": null,
            "visibility": null,
            "width": null
          }
        },
        "f7a1c6f7077b487d8882be995f3c1d0f": {
          "model_module": "@jupyter-widgets/controls",
          "model_name": "DescriptionStyleModel",
          "model_module_version": "1.5.0",
          "state": {
            "_model_module": "@jupyter-widgets/controls",
            "_model_module_version": "1.5.0",
            "_model_name": "DescriptionStyleModel",
            "_view_count": null,
            "_view_module": "@jupyter-widgets/base",
            "_view_module_version": "1.2.0",
            "_view_name": "StyleView",
            "description_width": ""
          }
        },
        "ff482c589d68452986f8ee70a619fee3": {
          "model_module": "@jupyter-widgets/base",
          "model_name": "LayoutModel",
          "model_module_version": "1.2.0",
          "state": {
            "_model_module": "@jupyter-widgets/base",
            "_model_module_version": "1.2.0",
            "_model_name": "LayoutModel",
            "_view_count": null,
            "_view_module": "@jupyter-widgets/base",
            "_view_module_version": "1.2.0",
            "_view_name": "LayoutView",
            "align_content": null,
            "align_items": null,
            "align_self": null,
            "border": null,
            "bottom": null,
            "display": null,
            "flex": null,
            "flex_flow": null,
            "grid_area": null,
            "grid_auto_columns": null,
            "grid_auto_flow": null,
            "grid_auto_rows": null,
            "grid_column": null,
            "grid_gap": null,
            "grid_row": null,
            "grid_template_areas": null,
            "grid_template_columns": null,
            "grid_template_rows": null,
            "height": null,
            "justify_content": null,
            "justify_items": null,
            "left": null,
            "margin": null,
            "max_height": null,
            "max_width": null,
            "min_height": null,
            "min_width": null,
            "object_fit": null,
            "object_position": null,
            "order": null,
            "overflow": null,
            "overflow_x": null,
            "overflow_y": null,
            "padding": null,
            "right": null,
            "top": null,
            "visibility": null,
            "width": null
          }
        },
        "d5099ef47b5240bf8603b6c32938281f": {
          "model_module": "@jupyter-widgets/controls",
          "model_name": "ProgressStyleModel",
          "model_module_version": "1.5.0",
          "state": {
            "_model_module": "@jupyter-widgets/controls",
            "_model_module_version": "1.5.0",
            "_model_name": "ProgressStyleModel",
            "_view_count": null,
            "_view_module": "@jupyter-widgets/base",
            "_view_module_version": "1.2.0",
            "_view_name": "StyleView",
            "bar_color": null,
            "description_width": ""
          }
        },
        "6e31a47dcee84a21b2a06af85202134e": {
          "model_module": "@jupyter-widgets/base",
          "model_name": "LayoutModel",
          "model_module_version": "1.2.0",
          "state": {
            "_model_module": "@jupyter-widgets/base",
            "_model_module_version": "1.2.0",
            "_model_name": "LayoutModel",
            "_view_count": null,
            "_view_module": "@jupyter-widgets/base",
            "_view_module_version": "1.2.0",
            "_view_name": "LayoutView",
            "align_content": null,
            "align_items": null,
            "align_self": null,
            "border": null,
            "bottom": null,
            "display": null,
            "flex": null,
            "flex_flow": null,
            "grid_area": null,
            "grid_auto_columns": null,
            "grid_auto_flow": null,
            "grid_auto_rows": null,
            "grid_column": null,
            "grid_gap": null,
            "grid_row": null,
            "grid_template_areas": null,
            "grid_template_columns": null,
            "grid_template_rows": null,
            "height": null,
            "justify_content": null,
            "justify_items": null,
            "left": null,
            "margin": null,
            "max_height": null,
            "max_width": null,
            "min_height": null,
            "min_width": null,
            "object_fit": null,
            "object_position": null,
            "order": null,
            "overflow": null,
            "overflow_x": null,
            "overflow_y": null,
            "padding": null,
            "right": null,
            "top": null,
            "visibility": null,
            "width": null
          }
        },
        "825528fb259e42ff835d37137249b665": {
          "model_module": "@jupyter-widgets/controls",
          "model_name": "DescriptionStyleModel",
          "model_module_version": "1.5.0",
          "state": {
            "_model_module": "@jupyter-widgets/controls",
            "_model_module_version": "1.5.0",
            "_model_name": "DescriptionStyleModel",
            "_view_count": null,
            "_view_module": "@jupyter-widgets/base",
            "_view_module_version": "1.2.0",
            "_view_name": "StyleView",
            "description_width": ""
          }
        },
        "a069bfe7c6f44f6098fe9e637942e523": {
          "model_module": "@jupyter-widgets/controls",
          "model_name": "HBoxModel",
          "model_module_version": "1.5.0",
          "state": {
            "_dom_classes": [],
            "_model_module": "@jupyter-widgets/controls",
            "_model_module_version": "1.5.0",
            "_model_name": "HBoxModel",
            "_view_count": null,
            "_view_module": "@jupyter-widgets/controls",
            "_view_module_version": "1.5.0",
            "_view_name": "HBoxView",
            "box_style": "",
            "children": [
              "IPY_MODEL_6f1fd2206aa54722ab995f36015d1690",
              "IPY_MODEL_4e9b02ca08f44017828692858ae248cd",
              "IPY_MODEL_2bedf965f097443eba77eb3268662a2e"
            ],
            "layout": "IPY_MODEL_48e04afe88144e81af3ad241c8f6b444"
          }
        },
        "6f1fd2206aa54722ab995f36015d1690": {
          "model_module": "@jupyter-widgets/controls",
          "model_name": "HTMLModel",
          "model_module_version": "1.5.0",
          "state": {
            "_dom_classes": [],
            "_model_module": "@jupyter-widgets/controls",
            "_model_module_version": "1.5.0",
            "_model_name": "HTMLModel",
            "_view_count": null,
            "_view_module": "@jupyter-widgets/controls",
            "_view_module_version": "1.5.0",
            "_view_name": "HTMLView",
            "description": "",
            "description_tooltip": null,
            "layout": "IPY_MODEL_a8cb3139c31641cdb2f67ea4c35e6532",
            "placeholder": "​",
            "style": "IPY_MODEL_1dcc054927a749438a623543e7e0e36a",
            "value": "100%"
          }
        },
        "4e9b02ca08f44017828692858ae248cd": {
          "model_module": "@jupyter-widgets/controls",
          "model_name": "FloatProgressModel",
          "model_module_version": "1.5.0",
          "state": {
            "_dom_classes": [],
            "_model_module": "@jupyter-widgets/controls",
            "_model_module_version": "1.5.0",
            "_model_name": "FloatProgressModel",
            "_view_count": null,
            "_view_module": "@jupyter-widgets/controls",
            "_view_module_version": "1.5.0",
            "_view_name": "ProgressView",
            "bar_style": "success",
            "description": "",
            "description_tooltip": null,
            "layout": "IPY_MODEL_ffedd257447c49dbbe60ba00e5fff5ea",
            "max": 120,
            "min": 0,
            "orientation": "horizontal",
            "style": "IPY_MODEL_5ef7d8fdac904c3f9c08c479617efbb9",
            "value": 120
          }
        },
        "2bedf965f097443eba77eb3268662a2e": {
          "model_module": "@jupyter-widgets/controls",
          "model_name": "HTMLModel",
          "model_module_version": "1.5.0",
          "state": {
            "_dom_classes": [],
            "_model_module": "@jupyter-widgets/controls",
            "_model_module_version": "1.5.0",
            "_model_name": "HTMLModel",
            "_view_count": null,
            "_view_module": "@jupyter-widgets/controls",
            "_view_module_version": "1.5.0",
            "_view_name": "HTMLView",
            "description": "",
            "description_tooltip": null,
            "layout": "IPY_MODEL_05ee884dd8864c35a258aa9c9b5681b9",
            "placeholder": "​",
            "style": "IPY_MODEL_cdedf6d49f244cb6adf82dcf9782ba3d",
            "value": " 120/120 [00:17&lt;00:00,  8.42it/s]"
          }
        },
        "48e04afe88144e81af3ad241c8f6b444": {
          "model_module": "@jupyter-widgets/base",
          "model_name": "LayoutModel",
          "model_module_version": "1.2.0",
          "state": {
            "_model_module": "@jupyter-widgets/base",
            "_model_module_version": "1.2.0",
            "_model_name": "LayoutModel",
            "_view_count": null,
            "_view_module": "@jupyter-widgets/base",
            "_view_module_version": "1.2.0",
            "_view_name": "LayoutView",
            "align_content": null,
            "align_items": null,
            "align_self": null,
            "border": null,
            "bottom": null,
            "display": null,
            "flex": null,
            "flex_flow": null,
            "grid_area": null,
            "grid_auto_columns": null,
            "grid_auto_flow": null,
            "grid_auto_rows": null,
            "grid_column": null,
            "grid_gap": null,
            "grid_row": null,
            "grid_template_areas": null,
            "grid_template_columns": null,
            "grid_template_rows": null,
            "height": null,
            "justify_content": null,
            "justify_items": null,
            "left": null,
            "margin": null,
            "max_height": null,
            "max_width": null,
            "min_height": null,
            "min_width": null,
            "object_fit": null,
            "object_position": null,
            "order": null,
            "overflow": null,
            "overflow_x": null,
            "overflow_y": null,
            "padding": null,
            "right": null,
            "top": null,
            "visibility": null,
            "width": null
          }
        },
        "a8cb3139c31641cdb2f67ea4c35e6532": {
          "model_module": "@jupyter-widgets/base",
          "model_name": "LayoutModel",
          "model_module_version": "1.2.0",
          "state": {
            "_model_module": "@jupyter-widgets/base",
            "_model_module_version": "1.2.0",
            "_model_name": "LayoutModel",
            "_view_count": null,
            "_view_module": "@jupyter-widgets/base",
            "_view_module_version": "1.2.0",
            "_view_name": "LayoutView",
            "align_content": null,
            "align_items": null,
            "align_self": null,
            "border": null,
            "bottom": null,
            "display": null,
            "flex": null,
            "flex_flow": null,
            "grid_area": null,
            "grid_auto_columns": null,
            "grid_auto_flow": null,
            "grid_auto_rows": null,
            "grid_column": null,
            "grid_gap": null,
            "grid_row": null,
            "grid_template_areas": null,
            "grid_template_columns": null,
            "grid_template_rows": null,
            "height": null,
            "justify_content": null,
            "justify_items": null,
            "left": null,
            "margin": null,
            "max_height": null,
            "max_width": null,
            "min_height": null,
            "min_width": null,
            "object_fit": null,
            "object_position": null,
            "order": null,
            "overflow": null,
            "overflow_x": null,
            "overflow_y": null,
            "padding": null,
            "right": null,
            "top": null,
            "visibility": null,
            "width": null
          }
        },
        "1dcc054927a749438a623543e7e0e36a": {
          "model_module": "@jupyter-widgets/controls",
          "model_name": "DescriptionStyleModel",
          "model_module_version": "1.5.0",
          "state": {
            "_model_module": "@jupyter-widgets/controls",
            "_model_module_version": "1.5.0",
            "_model_name": "DescriptionStyleModel",
            "_view_count": null,
            "_view_module": "@jupyter-widgets/base",
            "_view_module_version": "1.2.0",
            "_view_name": "StyleView",
            "description_width": ""
          }
        },
        "ffedd257447c49dbbe60ba00e5fff5ea": {
          "model_module": "@jupyter-widgets/base",
          "model_name": "LayoutModel",
          "model_module_version": "1.2.0",
          "state": {
            "_model_module": "@jupyter-widgets/base",
            "_model_module_version": "1.2.0",
            "_model_name": "LayoutModel",
            "_view_count": null,
            "_view_module": "@jupyter-widgets/base",
            "_view_module_version": "1.2.0",
            "_view_name": "LayoutView",
            "align_content": null,
            "align_items": null,
            "align_self": null,
            "border": null,
            "bottom": null,
            "display": null,
            "flex": null,
            "flex_flow": null,
            "grid_area": null,
            "grid_auto_columns": null,
            "grid_auto_flow": null,
            "grid_auto_rows": null,
            "grid_column": null,
            "grid_gap": null,
            "grid_row": null,
            "grid_template_areas": null,
            "grid_template_columns": null,
            "grid_template_rows": null,
            "height": null,
            "justify_content": null,
            "justify_items": null,
            "left": null,
            "margin": null,
            "max_height": null,
            "max_width": null,
            "min_height": null,
            "min_width": null,
            "object_fit": null,
            "object_position": null,
            "order": null,
            "overflow": null,
            "overflow_x": null,
            "overflow_y": null,
            "padding": null,
            "right": null,
            "top": null,
            "visibility": null,
            "width": null
          }
        },
        "5ef7d8fdac904c3f9c08c479617efbb9": {
          "model_module": "@jupyter-widgets/controls",
          "model_name": "ProgressStyleModel",
          "model_module_version": "1.5.0",
          "state": {
            "_model_module": "@jupyter-widgets/controls",
            "_model_module_version": "1.5.0",
            "_model_name": "ProgressStyleModel",
            "_view_count": null,
            "_view_module": "@jupyter-widgets/base",
            "_view_module_version": "1.2.0",
            "_view_name": "StyleView",
            "bar_color": null,
            "description_width": ""
          }
        },
        "05ee884dd8864c35a258aa9c9b5681b9": {
          "model_module": "@jupyter-widgets/base",
          "model_name": "LayoutModel",
          "model_module_version": "1.2.0",
          "state": {
            "_model_module": "@jupyter-widgets/base",
            "_model_module_version": "1.2.0",
            "_model_name": "LayoutModel",
            "_view_count": null,
            "_view_module": "@jupyter-widgets/base",
            "_view_module_version": "1.2.0",
            "_view_name": "LayoutView",
            "align_content": null,
            "align_items": null,
            "align_self": null,
            "border": null,
            "bottom": null,
            "display": null,
            "flex": null,
            "flex_flow": null,
            "grid_area": null,
            "grid_auto_columns": null,
            "grid_auto_flow": null,
            "grid_auto_rows": null,
            "grid_column": null,
            "grid_gap": null,
            "grid_row": null,
            "grid_template_areas": null,
            "grid_template_columns": null,
            "grid_template_rows": null,
            "height": null,
            "justify_content": null,
            "justify_items": null,
            "left": null,
            "margin": null,
            "max_height": null,
            "max_width": null,
            "min_height": null,
            "min_width": null,
            "object_fit": null,
            "object_position": null,
            "order": null,
            "overflow": null,
            "overflow_x": null,
            "overflow_y": null,
            "padding": null,
            "right": null,
            "top": null,
            "visibility": null,
            "width": null
          }
        },
        "cdedf6d49f244cb6adf82dcf9782ba3d": {
          "model_module": "@jupyter-widgets/controls",
          "model_name": "DescriptionStyleModel",
          "model_module_version": "1.5.0",
          "state": {
            "_model_module": "@jupyter-widgets/controls",
            "_model_module_version": "1.5.0",
            "_model_name": "DescriptionStyleModel",
            "_view_count": null,
            "_view_module": "@jupyter-widgets/base",
            "_view_module_version": "1.2.0",
            "_view_name": "StyleView",
            "description_width": ""
          }
        },
        "6d23a053883a4c66819ec430008f903f": {
          "model_module": "@jupyter-widgets/controls",
          "model_name": "HBoxModel",
          "model_module_version": "1.5.0",
          "state": {
            "_dom_classes": [],
            "_model_module": "@jupyter-widgets/controls",
            "_model_module_version": "1.5.0",
            "_model_name": "HBoxModel",
            "_view_count": null,
            "_view_module": "@jupyter-widgets/controls",
            "_view_module_version": "1.5.0",
            "_view_name": "HBoxView",
            "box_style": "",
            "children": [
              "IPY_MODEL_8b3e3f3f736845e69c812d74bc7463a9",
              "IPY_MODEL_a25a73ce6ec446d49dae6e875688f876",
              "IPY_MODEL_0e2a83c7817e48e4814e77ab9fe1b769"
            ],
            "layout": "IPY_MODEL_881cc47e5bad4ba4b1cbc72570f0760c"
          }
        },
        "8b3e3f3f736845e69c812d74bc7463a9": {
          "model_module": "@jupyter-widgets/controls",
          "model_name": "HTMLModel",
          "model_module_version": "1.5.0",
          "state": {
            "_dom_classes": [],
            "_model_module": "@jupyter-widgets/controls",
            "_model_module_version": "1.5.0",
            "_model_name": "HTMLModel",
            "_view_count": null,
            "_view_module": "@jupyter-widgets/controls",
            "_view_module_version": "1.5.0",
            "_view_name": "HTMLView",
            "description": "",
            "description_tooltip": null,
            "layout": "IPY_MODEL_fd975ffbb6394c57b8b9a381a73eb2d8",
            "placeholder": "​",
            "style": "IPY_MODEL_e9caad056efa4402851482ef8049990e",
            "value": "100%"
          }
        },
        "a25a73ce6ec446d49dae6e875688f876": {
          "model_module": "@jupyter-widgets/controls",
          "model_name": "FloatProgressModel",
          "model_module_version": "1.5.0",
          "state": {
            "_dom_classes": [],
            "_model_module": "@jupyter-widgets/controls",
            "_model_module_version": "1.5.0",
            "_model_name": "FloatProgressModel",
            "_view_count": null,
            "_view_module": "@jupyter-widgets/controls",
            "_view_module_version": "1.5.0",
            "_view_name": "ProgressView",
            "bar_style": "success",
            "description": "",
            "description_tooltip": null,
            "layout": "IPY_MODEL_e743d8676fa443549ea28fafc5e93ac4",
            "max": 120,
            "min": 0,
            "orientation": "horizontal",
            "style": "IPY_MODEL_6627514a872a4d16be37d6372d3530b3",
            "value": 120
          }
        },
        "0e2a83c7817e48e4814e77ab9fe1b769": {
          "model_module": "@jupyter-widgets/controls",
          "model_name": "HTMLModel",
          "model_module_version": "1.5.0",
          "state": {
            "_dom_classes": [],
            "_model_module": "@jupyter-widgets/controls",
            "_model_module_version": "1.5.0",
            "_model_name": "HTMLModel",
            "_view_count": null,
            "_view_module": "@jupyter-widgets/controls",
            "_view_module_version": "1.5.0",
            "_view_name": "HTMLView",
            "description": "",
            "description_tooltip": null,
            "layout": "IPY_MODEL_d9b6db40d3994534a0873f423f46d21b",
            "placeholder": "​",
            "style": "IPY_MODEL_4f79376977384ed089d626f32ada0609",
            "value": " 120/120 [00:14&lt;00:00,  8.09it/s]"
          }
        },
        "881cc47e5bad4ba4b1cbc72570f0760c": {
          "model_module": "@jupyter-widgets/base",
          "model_name": "LayoutModel",
          "model_module_version": "1.2.0",
          "state": {
            "_model_module": "@jupyter-widgets/base",
            "_model_module_version": "1.2.0",
            "_model_name": "LayoutModel",
            "_view_count": null,
            "_view_module": "@jupyter-widgets/base",
            "_view_module_version": "1.2.0",
            "_view_name": "LayoutView",
            "align_content": null,
            "align_items": null,
            "align_self": null,
            "border": null,
            "bottom": null,
            "display": null,
            "flex": null,
            "flex_flow": null,
            "grid_area": null,
            "grid_auto_columns": null,
            "grid_auto_flow": null,
            "grid_auto_rows": null,
            "grid_column": null,
            "grid_gap": null,
            "grid_row": null,
            "grid_template_areas": null,
            "grid_template_columns": null,
            "grid_template_rows": null,
            "height": null,
            "justify_content": null,
            "justify_items": null,
            "left": null,
            "margin": null,
            "max_height": null,
            "max_width": null,
            "min_height": null,
            "min_width": null,
            "object_fit": null,
            "object_position": null,
            "order": null,
            "overflow": null,
            "overflow_x": null,
            "overflow_y": null,
            "padding": null,
            "right": null,
            "top": null,
            "visibility": null,
            "width": null
          }
        },
        "fd975ffbb6394c57b8b9a381a73eb2d8": {
          "model_module": "@jupyter-widgets/base",
          "model_name": "LayoutModel",
          "model_module_version": "1.2.0",
          "state": {
            "_model_module": "@jupyter-widgets/base",
            "_model_module_version": "1.2.0",
            "_model_name": "LayoutModel",
            "_view_count": null,
            "_view_module": "@jupyter-widgets/base",
            "_view_module_version": "1.2.0",
            "_view_name": "LayoutView",
            "align_content": null,
            "align_items": null,
            "align_self": null,
            "border": null,
            "bottom": null,
            "display": null,
            "flex": null,
            "flex_flow": null,
            "grid_area": null,
            "grid_auto_columns": null,
            "grid_auto_flow": null,
            "grid_auto_rows": null,
            "grid_column": null,
            "grid_gap": null,
            "grid_row": null,
            "grid_template_areas": null,
            "grid_template_columns": null,
            "grid_template_rows": null,
            "height": null,
            "justify_content": null,
            "justify_items": null,
            "left": null,
            "margin": null,
            "max_height": null,
            "max_width": null,
            "min_height": null,
            "min_width": null,
            "object_fit": null,
            "object_position": null,
            "order": null,
            "overflow": null,
            "overflow_x": null,
            "overflow_y": null,
            "padding": null,
            "right": null,
            "top": null,
            "visibility": null,
            "width": null
          }
        },
        "e9caad056efa4402851482ef8049990e": {
          "model_module": "@jupyter-widgets/controls",
          "model_name": "DescriptionStyleModel",
          "model_module_version": "1.5.0",
          "state": {
            "_model_module": "@jupyter-widgets/controls",
            "_model_module_version": "1.5.0",
            "_model_name": "DescriptionStyleModel",
            "_view_count": null,
            "_view_module": "@jupyter-widgets/base",
            "_view_module_version": "1.2.0",
            "_view_name": "StyleView",
            "description_width": ""
          }
        },
        "e743d8676fa443549ea28fafc5e93ac4": {
          "model_module": "@jupyter-widgets/base",
          "model_name": "LayoutModel",
          "model_module_version": "1.2.0",
          "state": {
            "_model_module": "@jupyter-widgets/base",
            "_model_module_version": "1.2.0",
            "_model_name": "LayoutModel",
            "_view_count": null,
            "_view_module": "@jupyter-widgets/base",
            "_view_module_version": "1.2.0",
            "_view_name": "LayoutView",
            "align_content": null,
            "align_items": null,
            "align_self": null,
            "border": null,
            "bottom": null,
            "display": null,
            "flex": null,
            "flex_flow": null,
            "grid_area": null,
            "grid_auto_columns": null,
            "grid_auto_flow": null,
            "grid_auto_rows": null,
            "grid_column": null,
            "grid_gap": null,
            "grid_row": null,
            "grid_template_areas": null,
            "grid_template_columns": null,
            "grid_template_rows": null,
            "height": null,
            "justify_content": null,
            "justify_items": null,
            "left": null,
            "margin": null,
            "max_height": null,
            "max_width": null,
            "min_height": null,
            "min_width": null,
            "object_fit": null,
            "object_position": null,
            "order": null,
            "overflow": null,
            "overflow_x": null,
            "overflow_y": null,
            "padding": null,
            "right": null,
            "top": null,
            "visibility": null,
            "width": null
          }
        },
        "6627514a872a4d16be37d6372d3530b3": {
          "model_module": "@jupyter-widgets/controls",
          "model_name": "ProgressStyleModel",
          "model_module_version": "1.5.0",
          "state": {
            "_model_module": "@jupyter-widgets/controls",
            "_model_module_version": "1.5.0",
            "_model_name": "ProgressStyleModel",
            "_view_count": null,
            "_view_module": "@jupyter-widgets/base",
            "_view_module_version": "1.2.0",
            "_view_name": "StyleView",
            "bar_color": null,
            "description_width": ""
          }
        },
        "d9b6db40d3994534a0873f423f46d21b": {
          "model_module": "@jupyter-widgets/base",
          "model_name": "LayoutModel",
          "model_module_version": "1.2.0",
          "state": {
            "_model_module": "@jupyter-widgets/base",
            "_model_module_version": "1.2.0",
            "_model_name": "LayoutModel",
            "_view_count": null,
            "_view_module": "@jupyter-widgets/base",
            "_view_module_version": "1.2.0",
            "_view_name": "LayoutView",
            "align_content": null,
            "align_items": null,
            "align_self": null,
            "border": null,
            "bottom": null,
            "display": null,
            "flex": null,
            "flex_flow": null,
            "grid_area": null,
            "grid_auto_columns": null,
            "grid_auto_flow": null,
            "grid_auto_rows": null,
            "grid_column": null,
            "grid_gap": null,
            "grid_row": null,
            "grid_template_areas": null,
            "grid_template_columns": null,
            "grid_template_rows": null,
            "height": null,
            "justify_content": null,
            "justify_items": null,
            "left": null,
            "margin": null,
            "max_height": null,
            "max_width": null,
            "min_height": null,
            "min_width": null,
            "object_fit": null,
            "object_position": null,
            "order": null,
            "overflow": null,
            "overflow_x": null,
            "overflow_y": null,
            "padding": null,
            "right": null,
            "top": null,
            "visibility": null,
            "width": null
          }
        },
        "4f79376977384ed089d626f32ada0609": {
          "model_module": "@jupyter-widgets/controls",
          "model_name": "DescriptionStyleModel",
          "model_module_version": "1.5.0",
          "state": {
            "_model_module": "@jupyter-widgets/controls",
            "_model_module_version": "1.5.0",
            "_model_name": "DescriptionStyleModel",
            "_view_count": null,
            "_view_module": "@jupyter-widgets/base",
            "_view_module_version": "1.2.0",
            "_view_name": "StyleView",
            "description_width": ""
          }
        },
        "d63fa9d842b74c509aee405f39b5be35": {
          "model_module": "@jupyter-widgets/controls",
          "model_name": "HBoxModel",
          "model_module_version": "1.5.0",
          "state": {
            "_dom_classes": [],
            "_model_module": "@jupyter-widgets/controls",
            "_model_module_version": "1.5.0",
            "_model_name": "HBoxModel",
            "_view_count": null,
            "_view_module": "@jupyter-widgets/controls",
            "_view_module_version": "1.5.0",
            "_view_name": "HBoxView",
            "box_style": "",
            "children": [
              "IPY_MODEL_615c303700b04188985de97043e4ba00",
              "IPY_MODEL_429ab952f7a648e5a9a95d397a17ad04",
              "IPY_MODEL_ed6eb71b07cc481883deab211ef20bdf"
            ],
            "layout": "IPY_MODEL_40e763b216984ee68b8c83368fdc3f20"
          }
        },
        "615c303700b04188985de97043e4ba00": {
          "model_module": "@jupyter-widgets/controls",
          "model_name": "HTMLModel",
          "model_module_version": "1.5.0",
          "state": {
            "_dom_classes": [],
            "_model_module": "@jupyter-widgets/controls",
            "_model_module_version": "1.5.0",
            "_model_name": "HTMLModel",
            "_view_count": null,
            "_view_module": "@jupyter-widgets/controls",
            "_view_module_version": "1.5.0",
            "_view_name": "HTMLView",
            "description": "",
            "description_tooltip": null,
            "layout": "IPY_MODEL_9b963a5ee09a4148a86ec9f1e9b0116f",
            "placeholder": "​",
            "style": "IPY_MODEL_18134d2f0db74ae0946c95d72a2d1469",
            "value": "100%"
          }
        },
        "429ab952f7a648e5a9a95d397a17ad04": {
          "model_module": "@jupyter-widgets/controls",
          "model_name": "FloatProgressModel",
          "model_module_version": "1.5.0",
          "state": {
            "_dom_classes": [],
            "_model_module": "@jupyter-widgets/controls",
            "_model_module_version": "1.5.0",
            "_model_name": "FloatProgressModel",
            "_view_count": null,
            "_view_module": "@jupyter-widgets/controls",
            "_view_module_version": "1.5.0",
            "_view_name": "ProgressView",
            "bar_style": "success",
            "description": "",
            "description_tooltip": null,
            "layout": "IPY_MODEL_b6919952c9e5459ba185512ef6060139",
            "max": 120,
            "min": 0,
            "orientation": "horizontal",
            "style": "IPY_MODEL_edb0c4d8dc2a4937a18154298b638464",
            "value": 120
          }
        },
        "ed6eb71b07cc481883deab211ef20bdf": {
          "model_module": "@jupyter-widgets/controls",
          "model_name": "HTMLModel",
          "model_module_version": "1.5.0",
          "state": {
            "_dom_classes": [],
            "_model_module": "@jupyter-widgets/controls",
            "_model_module_version": "1.5.0",
            "_model_name": "HTMLModel",
            "_view_count": null,
            "_view_module": "@jupyter-widgets/controls",
            "_view_module_version": "1.5.0",
            "_view_name": "HTMLView",
            "description": "",
            "description_tooltip": null,
            "layout": "IPY_MODEL_557b39f82d1843438ff53729f7f9019e",
            "placeholder": "​",
            "style": "IPY_MODEL_3ef98c4f5702413c97f87b77c980e747",
            "value": " 120/120 [00:18&lt;00:00,  6.31it/s]"
          }
        },
        "40e763b216984ee68b8c83368fdc3f20": {
          "model_module": "@jupyter-widgets/base",
          "model_name": "LayoutModel",
          "model_module_version": "1.2.0",
          "state": {
            "_model_module": "@jupyter-widgets/base",
            "_model_module_version": "1.2.0",
            "_model_name": "LayoutModel",
            "_view_count": null,
            "_view_module": "@jupyter-widgets/base",
            "_view_module_version": "1.2.0",
            "_view_name": "LayoutView",
            "align_content": null,
            "align_items": null,
            "align_self": null,
            "border": null,
            "bottom": null,
            "display": null,
            "flex": null,
            "flex_flow": null,
            "grid_area": null,
            "grid_auto_columns": null,
            "grid_auto_flow": null,
            "grid_auto_rows": null,
            "grid_column": null,
            "grid_gap": null,
            "grid_row": null,
            "grid_template_areas": null,
            "grid_template_columns": null,
            "grid_template_rows": null,
            "height": null,
            "justify_content": null,
            "justify_items": null,
            "left": null,
            "margin": null,
            "max_height": null,
            "max_width": null,
            "min_height": null,
            "min_width": null,
            "object_fit": null,
            "object_position": null,
            "order": null,
            "overflow": null,
            "overflow_x": null,
            "overflow_y": null,
            "padding": null,
            "right": null,
            "top": null,
            "visibility": null,
            "width": null
          }
        },
        "9b963a5ee09a4148a86ec9f1e9b0116f": {
          "model_module": "@jupyter-widgets/base",
          "model_name": "LayoutModel",
          "model_module_version": "1.2.0",
          "state": {
            "_model_module": "@jupyter-widgets/base",
            "_model_module_version": "1.2.0",
            "_model_name": "LayoutModel",
            "_view_count": null,
            "_view_module": "@jupyter-widgets/base",
            "_view_module_version": "1.2.0",
            "_view_name": "LayoutView",
            "align_content": null,
            "align_items": null,
            "align_self": null,
            "border": null,
            "bottom": null,
            "display": null,
            "flex": null,
            "flex_flow": null,
            "grid_area": null,
            "grid_auto_columns": null,
            "grid_auto_flow": null,
            "grid_auto_rows": null,
            "grid_column": null,
            "grid_gap": null,
            "grid_row": null,
            "grid_template_areas": null,
            "grid_template_columns": null,
            "grid_template_rows": null,
            "height": null,
            "justify_content": null,
            "justify_items": null,
            "left": null,
            "margin": null,
            "max_height": null,
            "max_width": null,
            "min_height": null,
            "min_width": null,
            "object_fit": null,
            "object_position": null,
            "order": null,
            "overflow": null,
            "overflow_x": null,
            "overflow_y": null,
            "padding": null,
            "right": null,
            "top": null,
            "visibility": null,
            "width": null
          }
        },
        "18134d2f0db74ae0946c95d72a2d1469": {
          "model_module": "@jupyter-widgets/controls",
          "model_name": "DescriptionStyleModel",
          "model_module_version": "1.5.0",
          "state": {
            "_model_module": "@jupyter-widgets/controls",
            "_model_module_version": "1.5.0",
            "_model_name": "DescriptionStyleModel",
            "_view_count": null,
            "_view_module": "@jupyter-widgets/base",
            "_view_module_version": "1.2.0",
            "_view_name": "StyleView",
            "description_width": ""
          }
        },
        "b6919952c9e5459ba185512ef6060139": {
          "model_module": "@jupyter-widgets/base",
          "model_name": "LayoutModel",
          "model_module_version": "1.2.0",
          "state": {
            "_model_module": "@jupyter-widgets/base",
            "_model_module_version": "1.2.0",
            "_model_name": "LayoutModel",
            "_view_count": null,
            "_view_module": "@jupyter-widgets/base",
            "_view_module_version": "1.2.0",
            "_view_name": "LayoutView",
            "align_content": null,
            "align_items": null,
            "align_self": null,
            "border": null,
            "bottom": null,
            "display": null,
            "flex": null,
            "flex_flow": null,
            "grid_area": null,
            "grid_auto_columns": null,
            "grid_auto_flow": null,
            "grid_auto_rows": null,
            "grid_column": null,
            "grid_gap": null,
            "grid_row": null,
            "grid_template_areas": null,
            "grid_template_columns": null,
            "grid_template_rows": null,
            "height": null,
            "justify_content": null,
            "justify_items": null,
            "left": null,
            "margin": null,
            "max_height": null,
            "max_width": null,
            "min_height": null,
            "min_width": null,
            "object_fit": null,
            "object_position": null,
            "order": null,
            "overflow": null,
            "overflow_x": null,
            "overflow_y": null,
            "padding": null,
            "right": null,
            "top": null,
            "visibility": null,
            "width": null
          }
        },
        "edb0c4d8dc2a4937a18154298b638464": {
          "model_module": "@jupyter-widgets/controls",
          "model_name": "ProgressStyleModel",
          "model_module_version": "1.5.0",
          "state": {
            "_model_module": "@jupyter-widgets/controls",
            "_model_module_version": "1.5.0",
            "_model_name": "ProgressStyleModel",
            "_view_count": null,
            "_view_module": "@jupyter-widgets/base",
            "_view_module_version": "1.2.0",
            "_view_name": "StyleView",
            "bar_color": null,
            "description_width": ""
          }
        },
        "557b39f82d1843438ff53729f7f9019e": {
          "model_module": "@jupyter-widgets/base",
          "model_name": "LayoutModel",
          "model_module_version": "1.2.0",
          "state": {
            "_model_module": "@jupyter-widgets/base",
            "_model_module_version": "1.2.0",
            "_model_name": "LayoutModel",
            "_view_count": null,
            "_view_module": "@jupyter-widgets/base",
            "_view_module_version": "1.2.0",
            "_view_name": "LayoutView",
            "align_content": null,
            "align_items": null,
            "align_self": null,
            "border": null,
            "bottom": null,
            "display": null,
            "flex": null,
            "flex_flow": null,
            "grid_area": null,
            "grid_auto_columns": null,
            "grid_auto_flow": null,
            "grid_auto_rows": null,
            "grid_column": null,
            "grid_gap": null,
            "grid_row": null,
            "grid_template_areas": null,
            "grid_template_columns": null,
            "grid_template_rows": null,
            "height": null,
            "justify_content": null,
            "justify_items": null,
            "left": null,
            "margin": null,
            "max_height": null,
            "max_width": null,
            "min_height": null,
            "min_width": null,
            "object_fit": null,
            "object_position": null,
            "order": null,
            "overflow": null,
            "overflow_x": null,
            "overflow_y": null,
            "padding": null,
            "right": null,
            "top": null,
            "visibility": null,
            "width": null
          }
        },
        "3ef98c4f5702413c97f87b77c980e747": {
          "model_module": "@jupyter-widgets/controls",
          "model_name": "DescriptionStyleModel",
          "model_module_version": "1.5.0",
          "state": {
            "_model_module": "@jupyter-widgets/controls",
            "_model_module_version": "1.5.0",
            "_model_name": "DescriptionStyleModel",
            "_view_count": null,
            "_view_module": "@jupyter-widgets/base",
            "_view_module_version": "1.2.0",
            "_view_name": "StyleView",
            "description_width": ""
          }
        },
        "78e1b17e3ea547babef0c6570e8715b7": {
          "model_module": "@jupyter-widgets/controls",
          "model_name": "HBoxModel",
          "model_module_version": "1.5.0",
          "state": {
            "_dom_classes": [],
            "_model_module": "@jupyter-widgets/controls",
            "_model_module_version": "1.5.0",
            "_model_name": "HBoxModel",
            "_view_count": null,
            "_view_module": "@jupyter-widgets/controls",
            "_view_module_version": "1.5.0",
            "_view_name": "HBoxView",
            "box_style": "",
            "children": [
              "IPY_MODEL_55c5172a487d4c40acb740aacffe9ba8",
              "IPY_MODEL_b63942c49f064ddca597d2c0b96ec0cd",
              "IPY_MODEL_110c456025bd4665b70c8dd9c84efc0f"
            ],
            "layout": "IPY_MODEL_873ce111241544929d90ea94ea822fa3"
          }
        },
        "55c5172a487d4c40acb740aacffe9ba8": {
          "model_module": "@jupyter-widgets/controls",
          "model_name": "HTMLModel",
          "model_module_version": "1.5.0",
          "state": {
            "_dom_classes": [],
            "_model_module": "@jupyter-widgets/controls",
            "_model_module_version": "1.5.0",
            "_model_name": "HTMLModel",
            "_view_count": null,
            "_view_module": "@jupyter-widgets/controls",
            "_view_module_version": "1.5.0",
            "_view_name": "HTMLView",
            "description": "",
            "description_tooltip": null,
            "layout": "IPY_MODEL_71189b8e0f2149b88f09580efa35c85f",
            "placeholder": "​",
            "style": "IPY_MODEL_ad84672909934509bf8ef94578c4b10a",
            "value": "100%"
          }
        },
        "b63942c49f064ddca597d2c0b96ec0cd": {
          "model_module": "@jupyter-widgets/controls",
          "model_name": "FloatProgressModel",
          "model_module_version": "1.5.0",
          "state": {
            "_dom_classes": [],
            "_model_module": "@jupyter-widgets/controls",
            "_model_module_version": "1.5.0",
            "_model_name": "FloatProgressModel",
            "_view_count": null,
            "_view_module": "@jupyter-widgets/controls",
            "_view_module_version": "1.5.0",
            "_view_name": "ProgressView",
            "bar_style": "success",
            "description": "",
            "description_tooltip": null,
            "layout": "IPY_MODEL_33e6848e672840d9846e4e67a8073d3a",
            "max": 120,
            "min": 0,
            "orientation": "horizontal",
            "style": "IPY_MODEL_1d4820ced4934175ade894acb826c173",
            "value": 120
          }
        },
        "110c456025bd4665b70c8dd9c84efc0f": {
          "model_module": "@jupyter-widgets/controls",
          "model_name": "HTMLModel",
          "model_module_version": "1.5.0",
          "state": {
            "_dom_classes": [],
            "_model_module": "@jupyter-widgets/controls",
            "_model_module_version": "1.5.0",
            "_model_name": "HTMLModel",
            "_view_count": null,
            "_view_module": "@jupyter-widgets/controls",
            "_view_module_version": "1.5.0",
            "_view_name": "HTMLView",
            "description": "",
            "description_tooltip": null,
            "layout": "IPY_MODEL_46dd6d87b5314dee9d2a84701cf9949d",
            "placeholder": "​",
            "style": "IPY_MODEL_3ce716ec78bf46a89368a93e30340889",
            "value": " 120/120 [00:16&lt;00:00,  8.06it/s]"
          }
        },
        "873ce111241544929d90ea94ea822fa3": {
          "model_module": "@jupyter-widgets/base",
          "model_name": "LayoutModel",
          "model_module_version": "1.2.0",
          "state": {
            "_model_module": "@jupyter-widgets/base",
            "_model_module_version": "1.2.0",
            "_model_name": "LayoutModel",
            "_view_count": null,
            "_view_module": "@jupyter-widgets/base",
            "_view_module_version": "1.2.0",
            "_view_name": "LayoutView",
            "align_content": null,
            "align_items": null,
            "align_self": null,
            "border": null,
            "bottom": null,
            "display": null,
            "flex": null,
            "flex_flow": null,
            "grid_area": null,
            "grid_auto_columns": null,
            "grid_auto_flow": null,
            "grid_auto_rows": null,
            "grid_column": null,
            "grid_gap": null,
            "grid_row": null,
            "grid_template_areas": null,
            "grid_template_columns": null,
            "grid_template_rows": null,
            "height": null,
            "justify_content": null,
            "justify_items": null,
            "left": null,
            "margin": null,
            "max_height": null,
            "max_width": null,
            "min_height": null,
            "min_width": null,
            "object_fit": null,
            "object_position": null,
            "order": null,
            "overflow": null,
            "overflow_x": null,
            "overflow_y": null,
            "padding": null,
            "right": null,
            "top": null,
            "visibility": null,
            "width": null
          }
        },
        "71189b8e0f2149b88f09580efa35c85f": {
          "model_module": "@jupyter-widgets/base",
          "model_name": "LayoutModel",
          "model_module_version": "1.2.0",
          "state": {
            "_model_module": "@jupyter-widgets/base",
            "_model_module_version": "1.2.0",
            "_model_name": "LayoutModel",
            "_view_count": null,
            "_view_module": "@jupyter-widgets/base",
            "_view_module_version": "1.2.0",
            "_view_name": "LayoutView",
            "align_content": null,
            "align_items": null,
            "align_self": null,
            "border": null,
            "bottom": null,
            "display": null,
            "flex": null,
            "flex_flow": null,
            "grid_area": null,
            "grid_auto_columns": null,
            "grid_auto_flow": null,
            "grid_auto_rows": null,
            "grid_column": null,
            "grid_gap": null,
            "grid_row": null,
            "grid_template_areas": null,
            "grid_template_columns": null,
            "grid_template_rows": null,
            "height": null,
            "justify_content": null,
            "justify_items": null,
            "left": null,
            "margin": null,
            "max_height": null,
            "max_width": null,
            "min_height": null,
            "min_width": null,
            "object_fit": null,
            "object_position": null,
            "order": null,
            "overflow": null,
            "overflow_x": null,
            "overflow_y": null,
            "padding": null,
            "right": null,
            "top": null,
            "visibility": null,
            "width": null
          }
        },
        "ad84672909934509bf8ef94578c4b10a": {
          "model_module": "@jupyter-widgets/controls",
          "model_name": "DescriptionStyleModel",
          "model_module_version": "1.5.0",
          "state": {
            "_model_module": "@jupyter-widgets/controls",
            "_model_module_version": "1.5.0",
            "_model_name": "DescriptionStyleModel",
            "_view_count": null,
            "_view_module": "@jupyter-widgets/base",
            "_view_module_version": "1.2.0",
            "_view_name": "StyleView",
            "description_width": ""
          }
        },
        "33e6848e672840d9846e4e67a8073d3a": {
          "model_module": "@jupyter-widgets/base",
          "model_name": "LayoutModel",
          "model_module_version": "1.2.0",
          "state": {
            "_model_module": "@jupyter-widgets/base",
            "_model_module_version": "1.2.0",
            "_model_name": "LayoutModel",
            "_view_count": null,
            "_view_module": "@jupyter-widgets/base",
            "_view_module_version": "1.2.0",
            "_view_name": "LayoutView",
            "align_content": null,
            "align_items": null,
            "align_self": null,
            "border": null,
            "bottom": null,
            "display": null,
            "flex": null,
            "flex_flow": null,
            "grid_area": null,
            "grid_auto_columns": null,
            "grid_auto_flow": null,
            "grid_auto_rows": null,
            "grid_column": null,
            "grid_gap": null,
            "grid_row": null,
            "grid_template_areas": null,
            "grid_template_columns": null,
            "grid_template_rows": null,
            "height": null,
            "justify_content": null,
            "justify_items": null,
            "left": null,
            "margin": null,
            "max_height": null,
            "max_width": null,
            "min_height": null,
            "min_width": null,
            "object_fit": null,
            "object_position": null,
            "order": null,
            "overflow": null,
            "overflow_x": null,
            "overflow_y": null,
            "padding": null,
            "right": null,
            "top": null,
            "visibility": null,
            "width": null
          }
        },
        "1d4820ced4934175ade894acb826c173": {
          "model_module": "@jupyter-widgets/controls",
          "model_name": "ProgressStyleModel",
          "model_module_version": "1.5.0",
          "state": {
            "_model_module": "@jupyter-widgets/controls",
            "_model_module_version": "1.5.0",
            "_model_name": "ProgressStyleModel",
            "_view_count": null,
            "_view_module": "@jupyter-widgets/base",
            "_view_module_version": "1.2.0",
            "_view_name": "StyleView",
            "bar_color": null,
            "description_width": ""
          }
        },
        "46dd6d87b5314dee9d2a84701cf9949d": {
          "model_module": "@jupyter-widgets/base",
          "model_name": "LayoutModel",
          "model_module_version": "1.2.0",
          "state": {
            "_model_module": "@jupyter-widgets/base",
            "_model_module_version": "1.2.0",
            "_model_name": "LayoutModel",
            "_view_count": null,
            "_view_module": "@jupyter-widgets/base",
            "_view_module_version": "1.2.0",
            "_view_name": "LayoutView",
            "align_content": null,
            "align_items": null,
            "align_self": null,
            "border": null,
            "bottom": null,
            "display": null,
            "flex": null,
            "flex_flow": null,
            "grid_area": null,
            "grid_auto_columns": null,
            "grid_auto_flow": null,
            "grid_auto_rows": null,
            "grid_column": null,
            "grid_gap": null,
            "grid_row": null,
            "grid_template_areas": null,
            "grid_template_columns": null,
            "grid_template_rows": null,
            "height": null,
            "justify_content": null,
            "justify_items": null,
            "left": null,
            "margin": null,
            "max_height": null,
            "max_width": null,
            "min_height": null,
            "min_width": null,
            "object_fit": null,
            "object_position": null,
            "order": null,
            "overflow": null,
            "overflow_x": null,
            "overflow_y": null,
            "padding": null,
            "right": null,
            "top": null,
            "visibility": null,
            "width": null
          }
        },
        "3ce716ec78bf46a89368a93e30340889": {
          "model_module": "@jupyter-widgets/controls",
          "model_name": "DescriptionStyleModel",
          "model_module_version": "1.5.0",
          "state": {
            "_model_module": "@jupyter-widgets/controls",
            "_model_module_version": "1.5.0",
            "_model_name": "DescriptionStyleModel",
            "_view_count": null,
            "_view_module": "@jupyter-widgets/base",
            "_view_module_version": "1.2.0",
            "_view_name": "StyleView",
            "description_width": ""
          }
        },
        "3e11d988ead640479e1b597e82d179a4": {
          "model_module": "@jupyter-widgets/controls",
          "model_name": "HBoxModel",
          "model_module_version": "1.5.0",
          "state": {
            "_dom_classes": [],
            "_model_module": "@jupyter-widgets/controls",
            "_model_module_version": "1.5.0",
            "_model_name": "HBoxModel",
            "_view_count": null,
            "_view_module": "@jupyter-widgets/controls",
            "_view_module_version": "1.5.0",
            "_view_name": "HBoxView",
            "box_style": "",
            "children": [
              "IPY_MODEL_783df4d31d304fd4a0855ba29706039e",
              "IPY_MODEL_3e7647c9e4ba417287bf90e567a61533",
              "IPY_MODEL_444229e27b2d4f67b806afa5995594d1"
            ],
            "layout": "IPY_MODEL_d73f56d50c844e18a924e84585026c35"
          }
        },
        "783df4d31d304fd4a0855ba29706039e": {
          "model_module": "@jupyter-widgets/controls",
          "model_name": "HTMLModel",
          "model_module_version": "1.5.0",
          "state": {
            "_dom_classes": [],
            "_model_module": "@jupyter-widgets/controls",
            "_model_module_version": "1.5.0",
            "_model_name": "HTMLModel",
            "_view_count": null,
            "_view_module": "@jupyter-widgets/controls",
            "_view_module_version": "1.5.0",
            "_view_name": "HTMLView",
            "description": "",
            "description_tooltip": null,
            "layout": "IPY_MODEL_7fbe1ce81a574e3f9d6b341a7cde1756",
            "placeholder": "​",
            "style": "IPY_MODEL_3af7bd90455d4911b1b6c39c45c5727d",
            "value": "100%"
          }
        },
        "3e7647c9e4ba417287bf90e567a61533": {
          "model_module": "@jupyter-widgets/controls",
          "model_name": "FloatProgressModel",
          "model_module_version": "1.5.0",
          "state": {
            "_dom_classes": [],
            "_model_module": "@jupyter-widgets/controls",
            "_model_module_version": "1.5.0",
            "_model_name": "FloatProgressModel",
            "_view_count": null,
            "_view_module": "@jupyter-widgets/controls",
            "_view_module_version": "1.5.0",
            "_view_name": "ProgressView",
            "bar_style": "success",
            "description": "",
            "description_tooltip": null,
            "layout": "IPY_MODEL_a2522ce439004bdc876afc432f15519b",
            "max": 120,
            "min": 0,
            "orientation": "horizontal",
            "style": "IPY_MODEL_94de9c77edc44597acc23a4e7ebb4ad6",
            "value": 120
          }
        },
        "444229e27b2d4f67b806afa5995594d1": {
          "model_module": "@jupyter-widgets/controls",
          "model_name": "HTMLModel",
          "model_module_version": "1.5.0",
          "state": {
            "_dom_classes": [],
            "_model_module": "@jupyter-widgets/controls",
            "_model_module_version": "1.5.0",
            "_model_name": "HTMLModel",
            "_view_count": null,
            "_view_module": "@jupyter-widgets/controls",
            "_view_module_version": "1.5.0",
            "_view_name": "HTMLView",
            "description": "",
            "description_tooltip": null,
            "layout": "IPY_MODEL_3a418c3d3b314fb9a9ee8f3047d2c314",
            "placeholder": "​",
            "style": "IPY_MODEL_7673f849306549378184f8b6d012ed9d",
            "value": " 120/120 [00:20&lt;00:00,  5.57it/s]"
          }
        },
        "d73f56d50c844e18a924e84585026c35": {
          "model_module": "@jupyter-widgets/base",
          "model_name": "LayoutModel",
          "model_module_version": "1.2.0",
          "state": {
            "_model_module": "@jupyter-widgets/base",
            "_model_module_version": "1.2.0",
            "_model_name": "LayoutModel",
            "_view_count": null,
            "_view_module": "@jupyter-widgets/base",
            "_view_module_version": "1.2.0",
            "_view_name": "LayoutView",
            "align_content": null,
            "align_items": null,
            "align_self": null,
            "border": null,
            "bottom": null,
            "display": null,
            "flex": null,
            "flex_flow": null,
            "grid_area": null,
            "grid_auto_columns": null,
            "grid_auto_flow": null,
            "grid_auto_rows": null,
            "grid_column": null,
            "grid_gap": null,
            "grid_row": null,
            "grid_template_areas": null,
            "grid_template_columns": null,
            "grid_template_rows": null,
            "height": null,
            "justify_content": null,
            "justify_items": null,
            "left": null,
            "margin": null,
            "max_height": null,
            "max_width": null,
            "min_height": null,
            "min_width": null,
            "object_fit": null,
            "object_position": null,
            "order": null,
            "overflow": null,
            "overflow_x": null,
            "overflow_y": null,
            "padding": null,
            "right": null,
            "top": null,
            "visibility": null,
            "width": null
          }
        },
        "7fbe1ce81a574e3f9d6b341a7cde1756": {
          "model_module": "@jupyter-widgets/base",
          "model_name": "LayoutModel",
          "model_module_version": "1.2.0",
          "state": {
            "_model_module": "@jupyter-widgets/base",
            "_model_module_version": "1.2.0",
            "_model_name": "LayoutModel",
            "_view_count": null,
            "_view_module": "@jupyter-widgets/base",
            "_view_module_version": "1.2.0",
            "_view_name": "LayoutView",
            "align_content": null,
            "align_items": null,
            "align_self": null,
            "border": null,
            "bottom": null,
            "display": null,
            "flex": null,
            "flex_flow": null,
            "grid_area": null,
            "grid_auto_columns": null,
            "grid_auto_flow": null,
            "grid_auto_rows": null,
            "grid_column": null,
            "grid_gap": null,
            "grid_row": null,
            "grid_template_areas": null,
            "grid_template_columns": null,
            "grid_template_rows": null,
            "height": null,
            "justify_content": null,
            "justify_items": null,
            "left": null,
            "margin": null,
            "max_height": null,
            "max_width": null,
            "min_height": null,
            "min_width": null,
            "object_fit": null,
            "object_position": null,
            "order": null,
            "overflow": null,
            "overflow_x": null,
            "overflow_y": null,
            "padding": null,
            "right": null,
            "top": null,
            "visibility": null,
            "width": null
          }
        },
        "3af7bd90455d4911b1b6c39c45c5727d": {
          "model_module": "@jupyter-widgets/controls",
          "model_name": "DescriptionStyleModel",
          "model_module_version": "1.5.0",
          "state": {
            "_model_module": "@jupyter-widgets/controls",
            "_model_module_version": "1.5.0",
            "_model_name": "DescriptionStyleModel",
            "_view_count": null,
            "_view_module": "@jupyter-widgets/base",
            "_view_module_version": "1.2.0",
            "_view_name": "StyleView",
            "description_width": ""
          }
        },
        "a2522ce439004bdc876afc432f15519b": {
          "model_module": "@jupyter-widgets/base",
          "model_name": "LayoutModel",
          "model_module_version": "1.2.0",
          "state": {
            "_model_module": "@jupyter-widgets/base",
            "_model_module_version": "1.2.0",
            "_model_name": "LayoutModel",
            "_view_count": null,
            "_view_module": "@jupyter-widgets/base",
            "_view_module_version": "1.2.0",
            "_view_name": "LayoutView",
            "align_content": null,
            "align_items": null,
            "align_self": null,
            "border": null,
            "bottom": null,
            "display": null,
            "flex": null,
            "flex_flow": null,
            "grid_area": null,
            "grid_auto_columns": null,
            "grid_auto_flow": null,
            "grid_auto_rows": null,
            "grid_column": null,
            "grid_gap": null,
            "grid_row": null,
            "grid_template_areas": null,
            "grid_template_columns": null,
            "grid_template_rows": null,
            "height": null,
            "justify_content": null,
            "justify_items": null,
            "left": null,
            "margin": null,
            "max_height": null,
            "max_width": null,
            "min_height": null,
            "min_width": null,
            "object_fit": null,
            "object_position": null,
            "order": null,
            "overflow": null,
            "overflow_x": null,
            "overflow_y": null,
            "padding": null,
            "right": null,
            "top": null,
            "visibility": null,
            "width": null
          }
        },
        "94de9c77edc44597acc23a4e7ebb4ad6": {
          "model_module": "@jupyter-widgets/controls",
          "model_name": "ProgressStyleModel",
          "model_module_version": "1.5.0",
          "state": {
            "_model_module": "@jupyter-widgets/controls",
            "_model_module_version": "1.5.0",
            "_model_name": "ProgressStyleModel",
            "_view_count": null,
            "_view_module": "@jupyter-widgets/base",
            "_view_module_version": "1.2.0",
            "_view_name": "StyleView",
            "bar_color": null,
            "description_width": ""
          }
        },
        "3a418c3d3b314fb9a9ee8f3047d2c314": {
          "model_module": "@jupyter-widgets/base",
          "model_name": "LayoutModel",
          "model_module_version": "1.2.0",
          "state": {
            "_model_module": "@jupyter-widgets/base",
            "_model_module_version": "1.2.0",
            "_model_name": "LayoutModel",
            "_view_count": null,
            "_view_module": "@jupyter-widgets/base",
            "_view_module_version": "1.2.0",
            "_view_name": "LayoutView",
            "align_content": null,
            "align_items": null,
            "align_self": null,
            "border": null,
            "bottom": null,
            "display": null,
            "flex": null,
            "flex_flow": null,
            "grid_area": null,
            "grid_auto_columns": null,
            "grid_auto_flow": null,
            "grid_auto_rows": null,
            "grid_column": null,
            "grid_gap": null,
            "grid_row": null,
            "grid_template_areas": null,
            "grid_template_columns": null,
            "grid_template_rows": null,
            "height": null,
            "justify_content": null,
            "justify_items": null,
            "left": null,
            "margin": null,
            "max_height": null,
            "max_width": null,
            "min_height": null,
            "min_width": null,
            "object_fit": null,
            "object_position": null,
            "order": null,
            "overflow": null,
            "overflow_x": null,
            "overflow_y": null,
            "padding": null,
            "right": null,
            "top": null,
            "visibility": null,
            "width": null
          }
        },
        "7673f849306549378184f8b6d012ed9d": {
          "model_module": "@jupyter-widgets/controls",
          "model_name": "DescriptionStyleModel",
          "model_module_version": "1.5.0",
          "state": {
            "_model_module": "@jupyter-widgets/controls",
            "_model_module_version": "1.5.0",
            "_model_name": "DescriptionStyleModel",
            "_view_count": null,
            "_view_module": "@jupyter-widgets/base",
            "_view_module_version": "1.2.0",
            "_view_name": "StyleView",
            "description_width": ""
          }
        },
        "f556064d1f8a492d945ef60b480dfb1f": {
          "model_module": "@jupyter-widgets/controls",
          "model_name": "HBoxModel",
          "model_module_version": "1.5.0",
          "state": {
            "_dom_classes": [],
            "_model_module": "@jupyter-widgets/controls",
            "_model_module_version": "1.5.0",
            "_model_name": "HBoxModel",
            "_view_count": null,
            "_view_module": "@jupyter-widgets/controls",
            "_view_module_version": "1.5.0",
            "_view_name": "HBoxView",
            "box_style": "",
            "children": [
              "IPY_MODEL_2fe0e40b78214840bea693e5d3e4dcdb",
              "IPY_MODEL_016a3f2e0c754e5c8df6408030583679",
              "IPY_MODEL_4a4dd4bd448e4e1ebfc547963100a8cf"
            ],
            "layout": "IPY_MODEL_d37b048da53043db90304967d7e20836"
          }
        },
        "2fe0e40b78214840bea693e5d3e4dcdb": {
          "model_module": "@jupyter-widgets/controls",
          "model_name": "HTMLModel",
          "model_module_version": "1.5.0",
          "state": {
            "_dom_classes": [],
            "_model_module": "@jupyter-widgets/controls",
            "_model_module_version": "1.5.0",
            "_model_name": "HTMLModel",
            "_view_count": null,
            "_view_module": "@jupyter-widgets/controls",
            "_view_module_version": "1.5.0",
            "_view_name": "HTMLView",
            "description": "",
            "description_tooltip": null,
            "layout": "IPY_MODEL_b4c62d05e9c64485896b75c9183b7ecd",
            "placeholder": "​",
            "style": "IPY_MODEL_e8ab4a85ff90498fb3560276ed226170",
            "value": "100%"
          }
        },
        "016a3f2e0c754e5c8df6408030583679": {
          "model_module": "@jupyter-widgets/controls",
          "model_name": "FloatProgressModel",
          "model_module_version": "1.5.0",
          "state": {
            "_dom_classes": [],
            "_model_module": "@jupyter-widgets/controls",
            "_model_module_version": "1.5.0",
            "_model_name": "FloatProgressModel",
            "_view_count": null,
            "_view_module": "@jupyter-widgets/controls",
            "_view_module_version": "1.5.0",
            "_view_name": "ProgressView",
            "bar_style": "success",
            "description": "",
            "description_tooltip": null,
            "layout": "IPY_MODEL_b7e4d5f611634adb810de362aca6f390",
            "max": 120,
            "min": 0,
            "orientation": "horizontal",
            "style": "IPY_MODEL_e0bc24a1583e4b65bf13ed32e7230585",
            "value": 120
          }
        },
        "4a4dd4bd448e4e1ebfc547963100a8cf": {
          "model_module": "@jupyter-widgets/controls",
          "model_name": "HTMLModel",
          "model_module_version": "1.5.0",
          "state": {
            "_dom_classes": [],
            "_model_module": "@jupyter-widgets/controls",
            "_model_module_version": "1.5.0",
            "_model_name": "HTMLModel",
            "_view_count": null,
            "_view_module": "@jupyter-widgets/controls",
            "_view_module_version": "1.5.0",
            "_view_name": "HTMLView",
            "description": "",
            "description_tooltip": null,
            "layout": "IPY_MODEL_42e0048f69614edaac37ed5ec310f98f",
            "placeholder": "​",
            "style": "IPY_MODEL_e4c8daa884f74487b82834d55515e9c1",
            "value": " 120/120 [00:20&lt;00:00,  7.34it/s]"
          }
        },
        "d37b048da53043db90304967d7e20836": {
          "model_module": "@jupyter-widgets/base",
          "model_name": "LayoutModel",
          "model_module_version": "1.2.0",
          "state": {
            "_model_module": "@jupyter-widgets/base",
            "_model_module_version": "1.2.0",
            "_model_name": "LayoutModel",
            "_view_count": null,
            "_view_module": "@jupyter-widgets/base",
            "_view_module_version": "1.2.0",
            "_view_name": "LayoutView",
            "align_content": null,
            "align_items": null,
            "align_self": null,
            "border": null,
            "bottom": null,
            "display": null,
            "flex": null,
            "flex_flow": null,
            "grid_area": null,
            "grid_auto_columns": null,
            "grid_auto_flow": null,
            "grid_auto_rows": null,
            "grid_column": null,
            "grid_gap": null,
            "grid_row": null,
            "grid_template_areas": null,
            "grid_template_columns": null,
            "grid_template_rows": null,
            "height": null,
            "justify_content": null,
            "justify_items": null,
            "left": null,
            "margin": null,
            "max_height": null,
            "max_width": null,
            "min_height": null,
            "min_width": null,
            "object_fit": null,
            "object_position": null,
            "order": null,
            "overflow": null,
            "overflow_x": null,
            "overflow_y": null,
            "padding": null,
            "right": null,
            "top": null,
            "visibility": null,
            "width": null
          }
        },
        "b4c62d05e9c64485896b75c9183b7ecd": {
          "model_module": "@jupyter-widgets/base",
          "model_name": "LayoutModel",
          "model_module_version": "1.2.0",
          "state": {
            "_model_module": "@jupyter-widgets/base",
            "_model_module_version": "1.2.0",
            "_model_name": "LayoutModel",
            "_view_count": null,
            "_view_module": "@jupyter-widgets/base",
            "_view_module_version": "1.2.0",
            "_view_name": "LayoutView",
            "align_content": null,
            "align_items": null,
            "align_self": null,
            "border": null,
            "bottom": null,
            "display": null,
            "flex": null,
            "flex_flow": null,
            "grid_area": null,
            "grid_auto_columns": null,
            "grid_auto_flow": null,
            "grid_auto_rows": null,
            "grid_column": null,
            "grid_gap": null,
            "grid_row": null,
            "grid_template_areas": null,
            "grid_template_columns": null,
            "grid_template_rows": null,
            "height": null,
            "justify_content": null,
            "justify_items": null,
            "left": null,
            "margin": null,
            "max_height": null,
            "max_width": null,
            "min_height": null,
            "min_width": null,
            "object_fit": null,
            "object_position": null,
            "order": null,
            "overflow": null,
            "overflow_x": null,
            "overflow_y": null,
            "padding": null,
            "right": null,
            "top": null,
            "visibility": null,
            "width": null
          }
        },
        "e8ab4a85ff90498fb3560276ed226170": {
          "model_module": "@jupyter-widgets/controls",
          "model_name": "DescriptionStyleModel",
          "model_module_version": "1.5.0",
          "state": {
            "_model_module": "@jupyter-widgets/controls",
            "_model_module_version": "1.5.0",
            "_model_name": "DescriptionStyleModel",
            "_view_count": null,
            "_view_module": "@jupyter-widgets/base",
            "_view_module_version": "1.2.0",
            "_view_name": "StyleView",
            "description_width": ""
          }
        },
        "b7e4d5f611634adb810de362aca6f390": {
          "model_module": "@jupyter-widgets/base",
          "model_name": "LayoutModel",
          "model_module_version": "1.2.0",
          "state": {
            "_model_module": "@jupyter-widgets/base",
            "_model_module_version": "1.2.0",
            "_model_name": "LayoutModel",
            "_view_count": null,
            "_view_module": "@jupyter-widgets/base",
            "_view_module_version": "1.2.0",
            "_view_name": "LayoutView",
            "align_content": null,
            "align_items": null,
            "align_self": null,
            "border": null,
            "bottom": null,
            "display": null,
            "flex": null,
            "flex_flow": null,
            "grid_area": null,
            "grid_auto_columns": null,
            "grid_auto_flow": null,
            "grid_auto_rows": null,
            "grid_column": null,
            "grid_gap": null,
            "grid_row": null,
            "grid_template_areas": null,
            "grid_template_columns": null,
            "grid_template_rows": null,
            "height": null,
            "justify_content": null,
            "justify_items": null,
            "left": null,
            "margin": null,
            "max_height": null,
            "max_width": null,
            "min_height": null,
            "min_width": null,
            "object_fit": null,
            "object_position": null,
            "order": null,
            "overflow": null,
            "overflow_x": null,
            "overflow_y": null,
            "padding": null,
            "right": null,
            "top": null,
            "visibility": null,
            "width": null
          }
        },
        "e0bc24a1583e4b65bf13ed32e7230585": {
          "model_module": "@jupyter-widgets/controls",
          "model_name": "ProgressStyleModel",
          "model_module_version": "1.5.0",
          "state": {
            "_model_module": "@jupyter-widgets/controls",
            "_model_module_version": "1.5.0",
            "_model_name": "ProgressStyleModel",
            "_view_count": null,
            "_view_module": "@jupyter-widgets/base",
            "_view_module_version": "1.2.0",
            "_view_name": "StyleView",
            "bar_color": null,
            "description_width": ""
          }
        },
        "42e0048f69614edaac37ed5ec310f98f": {
          "model_module": "@jupyter-widgets/base",
          "model_name": "LayoutModel",
          "model_module_version": "1.2.0",
          "state": {
            "_model_module": "@jupyter-widgets/base",
            "_model_module_version": "1.2.0",
            "_model_name": "LayoutModel",
            "_view_count": null,
            "_view_module": "@jupyter-widgets/base",
            "_view_module_version": "1.2.0",
            "_view_name": "LayoutView",
            "align_content": null,
            "align_items": null,
            "align_self": null,
            "border": null,
            "bottom": null,
            "display": null,
            "flex": null,
            "flex_flow": null,
            "grid_area": null,
            "grid_auto_columns": null,
            "grid_auto_flow": null,
            "grid_auto_rows": null,
            "grid_column": null,
            "grid_gap": null,
            "grid_row": null,
            "grid_template_areas": null,
            "grid_template_columns": null,
            "grid_template_rows": null,
            "height": null,
            "justify_content": null,
            "justify_items": null,
            "left": null,
            "margin": null,
            "max_height": null,
            "max_width": null,
            "min_height": null,
            "min_width": null,
            "object_fit": null,
            "object_position": null,
            "order": null,
            "overflow": null,
            "overflow_x": null,
            "overflow_y": null,
            "padding": null,
            "right": null,
            "top": null,
            "visibility": null,
            "width": null
          }
        },
        "e4c8daa884f74487b82834d55515e9c1": {
          "model_module": "@jupyter-widgets/controls",
          "model_name": "DescriptionStyleModel",
          "model_module_version": "1.5.0",
          "state": {
            "_model_module": "@jupyter-widgets/controls",
            "_model_module_version": "1.5.0",
            "_model_name": "DescriptionStyleModel",
            "_view_count": null,
            "_view_module": "@jupyter-widgets/base",
            "_view_module_version": "1.2.0",
            "_view_name": "StyleView",
            "description_width": ""
          }
        },
        "cdd8e3abe9324734bd47e8fc538707e2": {
          "model_module": "@jupyter-widgets/controls",
          "model_name": "HBoxModel",
          "model_module_version": "1.5.0",
          "state": {
            "_dom_classes": [],
            "_model_module": "@jupyter-widgets/controls",
            "_model_module_version": "1.5.0",
            "_model_name": "HBoxModel",
            "_view_count": null,
            "_view_module": "@jupyter-widgets/controls",
            "_view_module_version": "1.5.0",
            "_view_name": "HBoxView",
            "box_style": "",
            "children": [
              "IPY_MODEL_57e27ed1da5943c78915a6c6653746c0",
              "IPY_MODEL_ef84703ea62c4a459b58e69414b10773",
              "IPY_MODEL_80cadc873f4c408d9292c7a48761a1ee"
            ],
            "layout": "IPY_MODEL_282d7cbcd1e0425289625738735c8e1d"
          }
        },
        "57e27ed1da5943c78915a6c6653746c0": {
          "model_module": "@jupyter-widgets/controls",
          "model_name": "HTMLModel",
          "model_module_version": "1.5.0",
          "state": {
            "_dom_classes": [],
            "_model_module": "@jupyter-widgets/controls",
            "_model_module_version": "1.5.0",
            "_model_name": "HTMLModel",
            "_view_count": null,
            "_view_module": "@jupyter-widgets/controls",
            "_view_module_version": "1.5.0",
            "_view_name": "HTMLView",
            "description": "",
            "description_tooltip": null,
            "layout": "IPY_MODEL_812d00141f574e9684098911d97e4297",
            "placeholder": "​",
            "style": "IPY_MODEL_968b9a277c44441c99281a5bda5c0e2e",
            "value": "100%"
          }
        },
        "ef84703ea62c4a459b58e69414b10773": {
          "model_module": "@jupyter-widgets/controls",
          "model_name": "FloatProgressModel",
          "model_module_version": "1.5.0",
          "state": {
            "_dom_classes": [],
            "_model_module": "@jupyter-widgets/controls",
            "_model_module_version": "1.5.0",
            "_model_name": "FloatProgressModel",
            "_view_count": null,
            "_view_module": "@jupyter-widgets/controls",
            "_view_module_version": "1.5.0",
            "_view_name": "ProgressView",
            "bar_style": "success",
            "description": "",
            "description_tooltip": null,
            "layout": "IPY_MODEL_d2cd713b443c4d84b7ea92c29611a67e",
            "max": 120,
            "min": 0,
            "orientation": "horizontal",
            "style": "IPY_MODEL_4856fedc7f494f3fbd388f35ff9b462b",
            "value": 120
          }
        },
        "80cadc873f4c408d9292c7a48761a1ee": {
          "model_module": "@jupyter-widgets/controls",
          "model_name": "HTMLModel",
          "model_module_version": "1.5.0",
          "state": {
            "_dom_classes": [],
            "_model_module": "@jupyter-widgets/controls",
            "_model_module_version": "1.5.0",
            "_model_name": "HTMLModel",
            "_view_count": null,
            "_view_module": "@jupyter-widgets/controls",
            "_view_module_version": "1.5.0",
            "_view_name": "HTMLView",
            "description": "",
            "description_tooltip": null,
            "layout": "IPY_MODEL_3367e7e99b824b078885271effad0001",
            "placeholder": "​",
            "style": "IPY_MODEL_cd59983c3c494168bb727e764890c6ac",
            "value": " 120/120 [00:20&lt;00:00,  8.03it/s]"
          }
        },
        "282d7cbcd1e0425289625738735c8e1d": {
          "model_module": "@jupyter-widgets/base",
          "model_name": "LayoutModel",
          "model_module_version": "1.2.0",
          "state": {
            "_model_module": "@jupyter-widgets/base",
            "_model_module_version": "1.2.0",
            "_model_name": "LayoutModel",
            "_view_count": null,
            "_view_module": "@jupyter-widgets/base",
            "_view_module_version": "1.2.0",
            "_view_name": "LayoutView",
            "align_content": null,
            "align_items": null,
            "align_self": null,
            "border": null,
            "bottom": null,
            "display": null,
            "flex": null,
            "flex_flow": null,
            "grid_area": null,
            "grid_auto_columns": null,
            "grid_auto_flow": null,
            "grid_auto_rows": null,
            "grid_column": null,
            "grid_gap": null,
            "grid_row": null,
            "grid_template_areas": null,
            "grid_template_columns": null,
            "grid_template_rows": null,
            "height": null,
            "justify_content": null,
            "justify_items": null,
            "left": null,
            "margin": null,
            "max_height": null,
            "max_width": null,
            "min_height": null,
            "min_width": null,
            "object_fit": null,
            "object_position": null,
            "order": null,
            "overflow": null,
            "overflow_x": null,
            "overflow_y": null,
            "padding": null,
            "right": null,
            "top": null,
            "visibility": null,
            "width": null
          }
        },
        "812d00141f574e9684098911d97e4297": {
          "model_module": "@jupyter-widgets/base",
          "model_name": "LayoutModel",
          "model_module_version": "1.2.0",
          "state": {
            "_model_module": "@jupyter-widgets/base",
            "_model_module_version": "1.2.0",
            "_model_name": "LayoutModel",
            "_view_count": null,
            "_view_module": "@jupyter-widgets/base",
            "_view_module_version": "1.2.0",
            "_view_name": "LayoutView",
            "align_content": null,
            "align_items": null,
            "align_self": null,
            "border": null,
            "bottom": null,
            "display": null,
            "flex": null,
            "flex_flow": null,
            "grid_area": null,
            "grid_auto_columns": null,
            "grid_auto_flow": null,
            "grid_auto_rows": null,
            "grid_column": null,
            "grid_gap": null,
            "grid_row": null,
            "grid_template_areas": null,
            "grid_template_columns": null,
            "grid_template_rows": null,
            "height": null,
            "justify_content": null,
            "justify_items": null,
            "left": null,
            "margin": null,
            "max_height": null,
            "max_width": null,
            "min_height": null,
            "min_width": null,
            "object_fit": null,
            "object_position": null,
            "order": null,
            "overflow": null,
            "overflow_x": null,
            "overflow_y": null,
            "padding": null,
            "right": null,
            "top": null,
            "visibility": null,
            "width": null
          }
        },
        "968b9a277c44441c99281a5bda5c0e2e": {
          "model_module": "@jupyter-widgets/controls",
          "model_name": "DescriptionStyleModel",
          "model_module_version": "1.5.0",
          "state": {
            "_model_module": "@jupyter-widgets/controls",
            "_model_module_version": "1.5.0",
            "_model_name": "DescriptionStyleModel",
            "_view_count": null,
            "_view_module": "@jupyter-widgets/base",
            "_view_module_version": "1.2.0",
            "_view_name": "StyleView",
            "description_width": ""
          }
        },
        "d2cd713b443c4d84b7ea92c29611a67e": {
          "model_module": "@jupyter-widgets/base",
          "model_name": "LayoutModel",
          "model_module_version": "1.2.0",
          "state": {
            "_model_module": "@jupyter-widgets/base",
            "_model_module_version": "1.2.0",
            "_model_name": "LayoutModel",
            "_view_count": null,
            "_view_module": "@jupyter-widgets/base",
            "_view_module_version": "1.2.0",
            "_view_name": "LayoutView",
            "align_content": null,
            "align_items": null,
            "align_self": null,
            "border": null,
            "bottom": null,
            "display": null,
            "flex": null,
            "flex_flow": null,
            "grid_area": null,
            "grid_auto_columns": null,
            "grid_auto_flow": null,
            "grid_auto_rows": null,
            "grid_column": null,
            "grid_gap": null,
            "grid_row": null,
            "grid_template_areas": null,
            "grid_template_columns": null,
            "grid_template_rows": null,
            "height": null,
            "justify_content": null,
            "justify_items": null,
            "left": null,
            "margin": null,
            "max_height": null,
            "max_width": null,
            "min_height": null,
            "min_width": null,
            "object_fit": null,
            "object_position": null,
            "order": null,
            "overflow": null,
            "overflow_x": null,
            "overflow_y": null,
            "padding": null,
            "right": null,
            "top": null,
            "visibility": null,
            "width": null
          }
        },
        "4856fedc7f494f3fbd388f35ff9b462b": {
          "model_module": "@jupyter-widgets/controls",
          "model_name": "ProgressStyleModel",
          "model_module_version": "1.5.0",
          "state": {
            "_model_module": "@jupyter-widgets/controls",
            "_model_module_version": "1.5.0",
            "_model_name": "ProgressStyleModel",
            "_view_count": null,
            "_view_module": "@jupyter-widgets/base",
            "_view_module_version": "1.2.0",
            "_view_name": "StyleView",
            "bar_color": null,
            "description_width": ""
          }
        },
        "3367e7e99b824b078885271effad0001": {
          "model_module": "@jupyter-widgets/base",
          "model_name": "LayoutModel",
          "model_module_version": "1.2.0",
          "state": {
            "_model_module": "@jupyter-widgets/base",
            "_model_module_version": "1.2.0",
            "_model_name": "LayoutModel",
            "_view_count": null,
            "_view_module": "@jupyter-widgets/base",
            "_view_module_version": "1.2.0",
            "_view_name": "LayoutView",
            "align_content": null,
            "align_items": null,
            "align_self": null,
            "border": null,
            "bottom": null,
            "display": null,
            "flex": null,
            "flex_flow": null,
            "grid_area": null,
            "grid_auto_columns": null,
            "grid_auto_flow": null,
            "grid_auto_rows": null,
            "grid_column": null,
            "grid_gap": null,
            "grid_row": null,
            "grid_template_areas": null,
            "grid_template_columns": null,
            "grid_template_rows": null,
            "height": null,
            "justify_content": null,
            "justify_items": null,
            "left": null,
            "margin": null,
            "max_height": null,
            "max_width": null,
            "min_height": null,
            "min_width": null,
            "object_fit": null,
            "object_position": null,
            "order": null,
            "overflow": null,
            "overflow_x": null,
            "overflow_y": null,
            "padding": null,
            "right": null,
            "top": null,
            "visibility": null,
            "width": null
          }
        },
        "cd59983c3c494168bb727e764890c6ac": {
          "model_module": "@jupyter-widgets/controls",
          "model_name": "DescriptionStyleModel",
          "model_module_version": "1.5.0",
          "state": {
            "_model_module": "@jupyter-widgets/controls",
            "_model_module_version": "1.5.0",
            "_model_name": "DescriptionStyleModel",
            "_view_count": null,
            "_view_module": "@jupyter-widgets/base",
            "_view_module_version": "1.2.0",
            "_view_name": "StyleView",
            "description_width": ""
          }
        },
        "07af375626b44c53bd2474ca83a1a78d": {
          "model_module": "@jupyter-widgets/controls",
          "model_name": "HBoxModel",
          "model_module_version": "1.5.0",
          "state": {
            "_dom_classes": [],
            "_model_module": "@jupyter-widgets/controls",
            "_model_module_version": "1.5.0",
            "_model_name": "HBoxModel",
            "_view_count": null,
            "_view_module": "@jupyter-widgets/controls",
            "_view_module_version": "1.5.0",
            "_view_name": "HBoxView",
            "box_style": "",
            "children": [
              "IPY_MODEL_663c1279d2be43d6a4b6788958507421",
              "IPY_MODEL_48b3cca16b824967ba58caba9c045e37",
              "IPY_MODEL_96bcc3952882492e854e125b7800a6a3"
            ],
            "layout": "IPY_MODEL_08926d62c52a45a6bc0fe6308dc49a55"
          }
        },
        "663c1279d2be43d6a4b6788958507421": {
          "model_module": "@jupyter-widgets/controls",
          "model_name": "HTMLModel",
          "model_module_version": "1.5.0",
          "state": {
            "_dom_classes": [],
            "_model_module": "@jupyter-widgets/controls",
            "_model_module_version": "1.5.0",
            "_model_name": "HTMLModel",
            "_view_count": null,
            "_view_module": "@jupyter-widgets/controls",
            "_view_module_version": "1.5.0",
            "_view_name": "HTMLView",
            "description": "",
            "description_tooltip": null,
            "layout": "IPY_MODEL_a62eabe152ad403fa43a02a0de6d9fff",
            "placeholder": "​",
            "style": "IPY_MODEL_b25b86be2cec46e98e4949cd527954e6",
            "value": "100%"
          }
        },
        "48b3cca16b824967ba58caba9c045e37": {
          "model_module": "@jupyter-widgets/controls",
          "model_name": "FloatProgressModel",
          "model_module_version": "1.5.0",
          "state": {
            "_dom_classes": [],
            "_model_module": "@jupyter-widgets/controls",
            "_model_module_version": "1.5.0",
            "_model_name": "FloatProgressModel",
            "_view_count": null,
            "_view_module": "@jupyter-widgets/controls",
            "_view_module_version": "1.5.0",
            "_view_name": "ProgressView",
            "bar_style": "success",
            "description": "",
            "description_tooltip": null,
            "layout": "IPY_MODEL_e3ab2040ddd3412cbce27cd6a065d00e",
            "max": 120,
            "min": 0,
            "orientation": "horizontal",
            "style": "IPY_MODEL_eadbbbd700f042ef9b1d44e83df86ea2",
            "value": 120
          }
        },
        "96bcc3952882492e854e125b7800a6a3": {
          "model_module": "@jupyter-widgets/controls",
          "model_name": "HTMLModel",
          "model_module_version": "1.5.0",
          "state": {
            "_dom_classes": [],
            "_model_module": "@jupyter-widgets/controls",
            "_model_module_version": "1.5.0",
            "_model_name": "HTMLModel",
            "_view_count": null,
            "_view_module": "@jupyter-widgets/controls",
            "_view_module_version": "1.5.0",
            "_view_name": "HTMLView",
            "description": "",
            "description_tooltip": null,
            "layout": "IPY_MODEL_db1257d898424a10b3d19c4e71263958",
            "placeholder": "​",
            "style": "IPY_MODEL_722da4d435484c6086522a669754e624",
            "value": " 120/120 [00:17&lt;00:00,  7.47it/s]"
          }
        },
        "08926d62c52a45a6bc0fe6308dc49a55": {
          "model_module": "@jupyter-widgets/base",
          "model_name": "LayoutModel",
          "model_module_version": "1.2.0",
          "state": {
            "_model_module": "@jupyter-widgets/base",
            "_model_module_version": "1.2.0",
            "_model_name": "LayoutModel",
            "_view_count": null,
            "_view_module": "@jupyter-widgets/base",
            "_view_module_version": "1.2.0",
            "_view_name": "LayoutView",
            "align_content": null,
            "align_items": null,
            "align_self": null,
            "border": null,
            "bottom": null,
            "display": null,
            "flex": null,
            "flex_flow": null,
            "grid_area": null,
            "grid_auto_columns": null,
            "grid_auto_flow": null,
            "grid_auto_rows": null,
            "grid_column": null,
            "grid_gap": null,
            "grid_row": null,
            "grid_template_areas": null,
            "grid_template_columns": null,
            "grid_template_rows": null,
            "height": null,
            "justify_content": null,
            "justify_items": null,
            "left": null,
            "margin": null,
            "max_height": null,
            "max_width": null,
            "min_height": null,
            "min_width": null,
            "object_fit": null,
            "object_position": null,
            "order": null,
            "overflow": null,
            "overflow_x": null,
            "overflow_y": null,
            "padding": null,
            "right": null,
            "top": null,
            "visibility": null,
            "width": null
          }
        },
        "a62eabe152ad403fa43a02a0de6d9fff": {
          "model_module": "@jupyter-widgets/base",
          "model_name": "LayoutModel",
          "model_module_version": "1.2.0",
          "state": {
            "_model_module": "@jupyter-widgets/base",
            "_model_module_version": "1.2.0",
            "_model_name": "LayoutModel",
            "_view_count": null,
            "_view_module": "@jupyter-widgets/base",
            "_view_module_version": "1.2.0",
            "_view_name": "LayoutView",
            "align_content": null,
            "align_items": null,
            "align_self": null,
            "border": null,
            "bottom": null,
            "display": null,
            "flex": null,
            "flex_flow": null,
            "grid_area": null,
            "grid_auto_columns": null,
            "grid_auto_flow": null,
            "grid_auto_rows": null,
            "grid_column": null,
            "grid_gap": null,
            "grid_row": null,
            "grid_template_areas": null,
            "grid_template_columns": null,
            "grid_template_rows": null,
            "height": null,
            "justify_content": null,
            "justify_items": null,
            "left": null,
            "margin": null,
            "max_height": null,
            "max_width": null,
            "min_height": null,
            "min_width": null,
            "object_fit": null,
            "object_position": null,
            "order": null,
            "overflow": null,
            "overflow_x": null,
            "overflow_y": null,
            "padding": null,
            "right": null,
            "top": null,
            "visibility": null,
            "width": null
          }
        },
        "b25b86be2cec46e98e4949cd527954e6": {
          "model_module": "@jupyter-widgets/controls",
          "model_name": "DescriptionStyleModel",
          "model_module_version": "1.5.0",
          "state": {
            "_model_module": "@jupyter-widgets/controls",
            "_model_module_version": "1.5.0",
            "_model_name": "DescriptionStyleModel",
            "_view_count": null,
            "_view_module": "@jupyter-widgets/base",
            "_view_module_version": "1.2.0",
            "_view_name": "StyleView",
            "description_width": ""
          }
        },
        "e3ab2040ddd3412cbce27cd6a065d00e": {
          "model_module": "@jupyter-widgets/base",
          "model_name": "LayoutModel",
          "model_module_version": "1.2.0",
          "state": {
            "_model_module": "@jupyter-widgets/base",
            "_model_module_version": "1.2.0",
            "_model_name": "LayoutModel",
            "_view_count": null,
            "_view_module": "@jupyter-widgets/base",
            "_view_module_version": "1.2.0",
            "_view_name": "LayoutView",
            "align_content": null,
            "align_items": null,
            "align_self": null,
            "border": null,
            "bottom": null,
            "display": null,
            "flex": null,
            "flex_flow": null,
            "grid_area": null,
            "grid_auto_columns": null,
            "grid_auto_flow": null,
            "grid_auto_rows": null,
            "grid_column": null,
            "grid_gap": null,
            "grid_row": null,
            "grid_template_areas": null,
            "grid_template_columns": null,
            "grid_template_rows": null,
            "height": null,
            "justify_content": null,
            "justify_items": null,
            "left": null,
            "margin": null,
            "max_height": null,
            "max_width": null,
            "min_height": null,
            "min_width": null,
            "object_fit": null,
            "object_position": null,
            "order": null,
            "overflow": null,
            "overflow_x": null,
            "overflow_y": null,
            "padding": null,
            "right": null,
            "top": null,
            "visibility": null,
            "width": null
          }
        },
        "eadbbbd700f042ef9b1d44e83df86ea2": {
          "model_module": "@jupyter-widgets/controls",
          "model_name": "ProgressStyleModel",
          "model_module_version": "1.5.0",
          "state": {
            "_model_module": "@jupyter-widgets/controls",
            "_model_module_version": "1.5.0",
            "_model_name": "ProgressStyleModel",
            "_view_count": null,
            "_view_module": "@jupyter-widgets/base",
            "_view_module_version": "1.2.0",
            "_view_name": "StyleView",
            "bar_color": null,
            "description_width": ""
          }
        },
        "db1257d898424a10b3d19c4e71263958": {
          "model_module": "@jupyter-widgets/base",
          "model_name": "LayoutModel",
          "model_module_version": "1.2.0",
          "state": {
            "_model_module": "@jupyter-widgets/base",
            "_model_module_version": "1.2.0",
            "_model_name": "LayoutModel",
            "_view_count": null,
            "_view_module": "@jupyter-widgets/base",
            "_view_module_version": "1.2.0",
            "_view_name": "LayoutView",
            "align_content": null,
            "align_items": null,
            "align_self": null,
            "border": null,
            "bottom": null,
            "display": null,
            "flex": null,
            "flex_flow": null,
            "grid_area": null,
            "grid_auto_columns": null,
            "grid_auto_flow": null,
            "grid_auto_rows": null,
            "grid_column": null,
            "grid_gap": null,
            "grid_row": null,
            "grid_template_areas": null,
            "grid_template_columns": null,
            "grid_template_rows": null,
            "height": null,
            "justify_content": null,
            "justify_items": null,
            "left": null,
            "margin": null,
            "max_height": null,
            "max_width": null,
            "min_height": null,
            "min_width": null,
            "object_fit": null,
            "object_position": null,
            "order": null,
            "overflow": null,
            "overflow_x": null,
            "overflow_y": null,
            "padding": null,
            "right": null,
            "top": null,
            "visibility": null,
            "width": null
          }
        },
        "722da4d435484c6086522a669754e624": {
          "model_module": "@jupyter-widgets/controls",
          "model_name": "DescriptionStyleModel",
          "model_module_version": "1.5.0",
          "state": {
            "_model_module": "@jupyter-widgets/controls",
            "_model_module_version": "1.5.0",
            "_model_name": "DescriptionStyleModel",
            "_view_count": null,
            "_view_module": "@jupyter-widgets/base",
            "_view_module_version": "1.2.0",
            "_view_name": "StyleView",
            "description_width": ""
          }
        },
        "7985645007294db1baa997ae4d9e4ebb": {
          "model_module": "@jupyter-widgets/controls",
          "model_name": "HBoxModel",
          "model_module_version": "1.5.0",
          "state": {
            "_dom_classes": [],
            "_model_module": "@jupyter-widgets/controls",
            "_model_module_version": "1.5.0",
            "_model_name": "HBoxModel",
            "_view_count": null,
            "_view_module": "@jupyter-widgets/controls",
            "_view_module_version": "1.5.0",
            "_view_name": "HBoxView",
            "box_style": "",
            "children": [
              "IPY_MODEL_c383f0aee4e24015a6bea39b473e2eb5",
              "IPY_MODEL_9dcce5f33a5343c895e07e643f426245",
              "IPY_MODEL_38ab01e62bff49678d4925016ff2d63b"
            ],
            "layout": "IPY_MODEL_7b4ed8a28cad48f2a3f3cd4680c3dfd8"
          }
        },
        "c383f0aee4e24015a6bea39b473e2eb5": {
          "model_module": "@jupyter-widgets/controls",
          "model_name": "HTMLModel",
          "model_module_version": "1.5.0",
          "state": {
            "_dom_classes": [],
            "_model_module": "@jupyter-widgets/controls",
            "_model_module_version": "1.5.0",
            "_model_name": "HTMLModel",
            "_view_count": null,
            "_view_module": "@jupyter-widgets/controls",
            "_view_module_version": "1.5.0",
            "_view_name": "HTMLView",
            "description": "",
            "description_tooltip": null,
            "layout": "IPY_MODEL_43edf7f9671540df84d9168bce518f8f",
            "placeholder": "​",
            "style": "IPY_MODEL_70005313fcc84d80aa2f21394aa91d63",
            "value": "100%"
          }
        },
        "9dcce5f33a5343c895e07e643f426245": {
          "model_module": "@jupyter-widgets/controls",
          "model_name": "FloatProgressModel",
          "model_module_version": "1.5.0",
          "state": {
            "_dom_classes": [],
            "_model_module": "@jupyter-widgets/controls",
            "_model_module_version": "1.5.0",
            "_model_name": "FloatProgressModel",
            "_view_count": null,
            "_view_module": "@jupyter-widgets/controls",
            "_view_module_version": "1.5.0",
            "_view_name": "ProgressView",
            "bar_style": "success",
            "description": "",
            "description_tooltip": null,
            "layout": "IPY_MODEL_36b81765f21649b5836bf959d562e36c",
            "max": 120,
            "min": 0,
            "orientation": "horizontal",
            "style": "IPY_MODEL_595ca92016b74c1db39a34cf296cba16",
            "value": 120
          }
        },
        "38ab01e62bff49678d4925016ff2d63b": {
          "model_module": "@jupyter-widgets/controls",
          "model_name": "HTMLModel",
          "model_module_version": "1.5.0",
          "state": {
            "_dom_classes": [],
            "_model_module": "@jupyter-widgets/controls",
            "_model_module_version": "1.5.0",
            "_model_name": "HTMLModel",
            "_view_count": null,
            "_view_module": "@jupyter-widgets/controls",
            "_view_module_version": "1.5.0",
            "_view_name": "HTMLView",
            "description": "",
            "description_tooltip": null,
            "layout": "IPY_MODEL_d3775189be77483eb2ff5d631224082f",
            "placeholder": "​",
            "style": "IPY_MODEL_253b01cf5a354ff295b4a1e54fe493d4",
            "value": " 120/120 [00:15&lt;00:00,  6.24it/s]"
          }
        },
        "7b4ed8a28cad48f2a3f3cd4680c3dfd8": {
          "model_module": "@jupyter-widgets/base",
          "model_name": "LayoutModel",
          "model_module_version": "1.2.0",
          "state": {
            "_model_module": "@jupyter-widgets/base",
            "_model_module_version": "1.2.0",
            "_model_name": "LayoutModel",
            "_view_count": null,
            "_view_module": "@jupyter-widgets/base",
            "_view_module_version": "1.2.0",
            "_view_name": "LayoutView",
            "align_content": null,
            "align_items": null,
            "align_self": null,
            "border": null,
            "bottom": null,
            "display": null,
            "flex": null,
            "flex_flow": null,
            "grid_area": null,
            "grid_auto_columns": null,
            "grid_auto_flow": null,
            "grid_auto_rows": null,
            "grid_column": null,
            "grid_gap": null,
            "grid_row": null,
            "grid_template_areas": null,
            "grid_template_columns": null,
            "grid_template_rows": null,
            "height": null,
            "justify_content": null,
            "justify_items": null,
            "left": null,
            "margin": null,
            "max_height": null,
            "max_width": null,
            "min_height": null,
            "min_width": null,
            "object_fit": null,
            "object_position": null,
            "order": null,
            "overflow": null,
            "overflow_x": null,
            "overflow_y": null,
            "padding": null,
            "right": null,
            "top": null,
            "visibility": null,
            "width": null
          }
        },
        "43edf7f9671540df84d9168bce518f8f": {
          "model_module": "@jupyter-widgets/base",
          "model_name": "LayoutModel",
          "model_module_version": "1.2.0",
          "state": {
            "_model_module": "@jupyter-widgets/base",
            "_model_module_version": "1.2.0",
            "_model_name": "LayoutModel",
            "_view_count": null,
            "_view_module": "@jupyter-widgets/base",
            "_view_module_version": "1.2.0",
            "_view_name": "LayoutView",
            "align_content": null,
            "align_items": null,
            "align_self": null,
            "border": null,
            "bottom": null,
            "display": null,
            "flex": null,
            "flex_flow": null,
            "grid_area": null,
            "grid_auto_columns": null,
            "grid_auto_flow": null,
            "grid_auto_rows": null,
            "grid_column": null,
            "grid_gap": null,
            "grid_row": null,
            "grid_template_areas": null,
            "grid_template_columns": null,
            "grid_template_rows": null,
            "height": null,
            "justify_content": null,
            "justify_items": null,
            "left": null,
            "margin": null,
            "max_height": null,
            "max_width": null,
            "min_height": null,
            "min_width": null,
            "object_fit": null,
            "object_position": null,
            "order": null,
            "overflow": null,
            "overflow_x": null,
            "overflow_y": null,
            "padding": null,
            "right": null,
            "top": null,
            "visibility": null,
            "width": null
          }
        },
        "70005313fcc84d80aa2f21394aa91d63": {
          "model_module": "@jupyter-widgets/controls",
          "model_name": "DescriptionStyleModel",
          "model_module_version": "1.5.0",
          "state": {
            "_model_module": "@jupyter-widgets/controls",
            "_model_module_version": "1.5.0",
            "_model_name": "DescriptionStyleModel",
            "_view_count": null,
            "_view_module": "@jupyter-widgets/base",
            "_view_module_version": "1.2.0",
            "_view_name": "StyleView",
            "description_width": ""
          }
        },
        "36b81765f21649b5836bf959d562e36c": {
          "model_module": "@jupyter-widgets/base",
          "model_name": "LayoutModel",
          "model_module_version": "1.2.0",
          "state": {
            "_model_module": "@jupyter-widgets/base",
            "_model_module_version": "1.2.0",
            "_model_name": "LayoutModel",
            "_view_count": null,
            "_view_module": "@jupyter-widgets/base",
            "_view_module_version": "1.2.0",
            "_view_name": "LayoutView",
            "align_content": null,
            "align_items": null,
            "align_self": null,
            "border": null,
            "bottom": null,
            "display": null,
            "flex": null,
            "flex_flow": null,
            "grid_area": null,
            "grid_auto_columns": null,
            "grid_auto_flow": null,
            "grid_auto_rows": null,
            "grid_column": null,
            "grid_gap": null,
            "grid_row": null,
            "grid_template_areas": null,
            "grid_template_columns": null,
            "grid_template_rows": null,
            "height": null,
            "justify_content": null,
            "justify_items": null,
            "left": null,
            "margin": null,
            "max_height": null,
            "max_width": null,
            "min_height": null,
            "min_width": null,
            "object_fit": null,
            "object_position": null,
            "order": null,
            "overflow": null,
            "overflow_x": null,
            "overflow_y": null,
            "padding": null,
            "right": null,
            "top": null,
            "visibility": null,
            "width": null
          }
        },
        "595ca92016b74c1db39a34cf296cba16": {
          "model_module": "@jupyter-widgets/controls",
          "model_name": "ProgressStyleModel",
          "model_module_version": "1.5.0",
          "state": {
            "_model_module": "@jupyter-widgets/controls",
            "_model_module_version": "1.5.0",
            "_model_name": "ProgressStyleModel",
            "_view_count": null,
            "_view_module": "@jupyter-widgets/base",
            "_view_module_version": "1.2.0",
            "_view_name": "StyleView",
            "bar_color": null,
            "description_width": ""
          }
        },
        "d3775189be77483eb2ff5d631224082f": {
          "model_module": "@jupyter-widgets/base",
          "model_name": "LayoutModel",
          "model_module_version": "1.2.0",
          "state": {
            "_model_module": "@jupyter-widgets/base",
            "_model_module_version": "1.2.0",
            "_model_name": "LayoutModel",
            "_view_count": null,
            "_view_module": "@jupyter-widgets/base",
            "_view_module_version": "1.2.0",
            "_view_name": "LayoutView",
            "align_content": null,
            "align_items": null,
            "align_self": null,
            "border": null,
            "bottom": null,
            "display": null,
            "flex": null,
            "flex_flow": null,
            "grid_area": null,
            "grid_auto_columns": null,
            "grid_auto_flow": null,
            "grid_auto_rows": null,
            "grid_column": null,
            "grid_gap": null,
            "grid_row": null,
            "grid_template_areas": null,
            "grid_template_columns": null,
            "grid_template_rows": null,
            "height": null,
            "justify_content": null,
            "justify_items": null,
            "left": null,
            "margin": null,
            "max_height": null,
            "max_width": null,
            "min_height": null,
            "min_width": null,
            "object_fit": null,
            "object_position": null,
            "order": null,
            "overflow": null,
            "overflow_x": null,
            "overflow_y": null,
            "padding": null,
            "right": null,
            "top": null,
            "visibility": null,
            "width": null
          }
        },
        "253b01cf5a354ff295b4a1e54fe493d4": {
          "model_module": "@jupyter-widgets/controls",
          "model_name": "DescriptionStyleModel",
          "model_module_version": "1.5.0",
          "state": {
            "_model_module": "@jupyter-widgets/controls",
            "_model_module_version": "1.5.0",
            "_model_name": "DescriptionStyleModel",
            "_view_count": null,
            "_view_module": "@jupyter-widgets/base",
            "_view_module_version": "1.2.0",
            "_view_name": "StyleView",
            "description_width": ""
          }
        },
        "129ef42561de4f2fa987414839b12eb1": {
          "model_module": "@jupyter-widgets/controls",
          "model_name": "HBoxModel",
          "model_module_version": "1.5.0",
          "state": {
            "_dom_classes": [],
            "_model_module": "@jupyter-widgets/controls",
            "_model_module_version": "1.5.0",
            "_model_name": "HBoxModel",
            "_view_count": null,
            "_view_module": "@jupyter-widgets/controls",
            "_view_module_version": "1.5.0",
            "_view_name": "HBoxView",
            "box_style": "",
            "children": [
              "IPY_MODEL_fb90fc6a013d4673a153809b492724b6",
              "IPY_MODEL_c0257b1119784ede9cb267c8e4d20c03",
              "IPY_MODEL_f4aacf3ed9014de5983fc605e0427dbb"
            ],
            "layout": "IPY_MODEL_17cdc1833a2a4349981decb5f5f2e3bf"
          }
        },
        "fb90fc6a013d4673a153809b492724b6": {
          "model_module": "@jupyter-widgets/controls",
          "model_name": "HTMLModel",
          "model_module_version": "1.5.0",
          "state": {
            "_dom_classes": [],
            "_model_module": "@jupyter-widgets/controls",
            "_model_module_version": "1.5.0",
            "_model_name": "HTMLModel",
            "_view_count": null,
            "_view_module": "@jupyter-widgets/controls",
            "_view_module_version": "1.5.0",
            "_view_name": "HTMLView",
            "description": "",
            "description_tooltip": null,
            "layout": "IPY_MODEL_e4912437da3046a2b7e993a4543d8f35",
            "placeholder": "​",
            "style": "IPY_MODEL_8edd70322c9d452b9d4ce46ad35d7cbb",
            "value": "100%"
          }
        },
        "c0257b1119784ede9cb267c8e4d20c03": {
          "model_module": "@jupyter-widgets/controls",
          "model_name": "FloatProgressModel",
          "model_module_version": "1.5.0",
          "state": {
            "_dom_classes": [],
            "_model_module": "@jupyter-widgets/controls",
            "_model_module_version": "1.5.0",
            "_model_name": "FloatProgressModel",
            "_view_count": null,
            "_view_module": "@jupyter-widgets/controls",
            "_view_module_version": "1.5.0",
            "_view_name": "ProgressView",
            "bar_style": "success",
            "description": "",
            "description_tooltip": null,
            "layout": "IPY_MODEL_47a0c6391f51454697f9dc5063212737",
            "max": 120,
            "min": 0,
            "orientation": "horizontal",
            "style": "IPY_MODEL_98f27da73a2e4f28a3c9d2d05244da13",
            "value": 120
          }
        },
        "f4aacf3ed9014de5983fc605e0427dbb": {
          "model_module": "@jupyter-widgets/controls",
          "model_name": "HTMLModel",
          "model_module_version": "1.5.0",
          "state": {
            "_dom_classes": [],
            "_model_module": "@jupyter-widgets/controls",
            "_model_module_version": "1.5.0",
            "_model_name": "HTMLModel",
            "_view_count": null,
            "_view_module": "@jupyter-widgets/controls",
            "_view_module_version": "1.5.0",
            "_view_name": "HTMLView",
            "description": "",
            "description_tooltip": null,
            "layout": "IPY_MODEL_e3cb6a710a7f43c18dcbb98995a62159",
            "placeholder": "​",
            "style": "IPY_MODEL_19badd3a6c0a495398ea7c5568e66c24",
            "value": " 120/120 [00:14&lt;00:00,  8.76it/s]"
          }
        },
        "17cdc1833a2a4349981decb5f5f2e3bf": {
          "model_module": "@jupyter-widgets/base",
          "model_name": "LayoutModel",
          "model_module_version": "1.2.0",
          "state": {
            "_model_module": "@jupyter-widgets/base",
            "_model_module_version": "1.2.0",
            "_model_name": "LayoutModel",
            "_view_count": null,
            "_view_module": "@jupyter-widgets/base",
            "_view_module_version": "1.2.0",
            "_view_name": "LayoutView",
            "align_content": null,
            "align_items": null,
            "align_self": null,
            "border": null,
            "bottom": null,
            "display": null,
            "flex": null,
            "flex_flow": null,
            "grid_area": null,
            "grid_auto_columns": null,
            "grid_auto_flow": null,
            "grid_auto_rows": null,
            "grid_column": null,
            "grid_gap": null,
            "grid_row": null,
            "grid_template_areas": null,
            "grid_template_columns": null,
            "grid_template_rows": null,
            "height": null,
            "justify_content": null,
            "justify_items": null,
            "left": null,
            "margin": null,
            "max_height": null,
            "max_width": null,
            "min_height": null,
            "min_width": null,
            "object_fit": null,
            "object_position": null,
            "order": null,
            "overflow": null,
            "overflow_x": null,
            "overflow_y": null,
            "padding": null,
            "right": null,
            "top": null,
            "visibility": null,
            "width": null
          }
        },
        "e4912437da3046a2b7e993a4543d8f35": {
          "model_module": "@jupyter-widgets/base",
          "model_name": "LayoutModel",
          "model_module_version": "1.2.0",
          "state": {
            "_model_module": "@jupyter-widgets/base",
            "_model_module_version": "1.2.0",
            "_model_name": "LayoutModel",
            "_view_count": null,
            "_view_module": "@jupyter-widgets/base",
            "_view_module_version": "1.2.0",
            "_view_name": "LayoutView",
            "align_content": null,
            "align_items": null,
            "align_self": null,
            "border": null,
            "bottom": null,
            "display": null,
            "flex": null,
            "flex_flow": null,
            "grid_area": null,
            "grid_auto_columns": null,
            "grid_auto_flow": null,
            "grid_auto_rows": null,
            "grid_column": null,
            "grid_gap": null,
            "grid_row": null,
            "grid_template_areas": null,
            "grid_template_columns": null,
            "grid_template_rows": null,
            "height": null,
            "justify_content": null,
            "justify_items": null,
            "left": null,
            "margin": null,
            "max_height": null,
            "max_width": null,
            "min_height": null,
            "min_width": null,
            "object_fit": null,
            "object_position": null,
            "order": null,
            "overflow": null,
            "overflow_x": null,
            "overflow_y": null,
            "padding": null,
            "right": null,
            "top": null,
            "visibility": null,
            "width": null
          }
        },
        "8edd70322c9d452b9d4ce46ad35d7cbb": {
          "model_module": "@jupyter-widgets/controls",
          "model_name": "DescriptionStyleModel",
          "model_module_version": "1.5.0",
          "state": {
            "_model_module": "@jupyter-widgets/controls",
            "_model_module_version": "1.5.0",
            "_model_name": "DescriptionStyleModel",
            "_view_count": null,
            "_view_module": "@jupyter-widgets/base",
            "_view_module_version": "1.2.0",
            "_view_name": "StyleView",
            "description_width": ""
          }
        },
        "47a0c6391f51454697f9dc5063212737": {
          "model_module": "@jupyter-widgets/base",
          "model_name": "LayoutModel",
          "model_module_version": "1.2.0",
          "state": {
            "_model_module": "@jupyter-widgets/base",
            "_model_module_version": "1.2.0",
            "_model_name": "LayoutModel",
            "_view_count": null,
            "_view_module": "@jupyter-widgets/base",
            "_view_module_version": "1.2.0",
            "_view_name": "LayoutView",
            "align_content": null,
            "align_items": null,
            "align_self": null,
            "border": null,
            "bottom": null,
            "display": null,
            "flex": null,
            "flex_flow": null,
            "grid_area": null,
            "grid_auto_columns": null,
            "grid_auto_flow": null,
            "grid_auto_rows": null,
            "grid_column": null,
            "grid_gap": null,
            "grid_row": null,
            "grid_template_areas": null,
            "grid_template_columns": null,
            "grid_template_rows": null,
            "height": null,
            "justify_content": null,
            "justify_items": null,
            "left": null,
            "margin": null,
            "max_height": null,
            "max_width": null,
            "min_height": null,
            "min_width": null,
            "object_fit": null,
            "object_position": null,
            "order": null,
            "overflow": null,
            "overflow_x": null,
            "overflow_y": null,
            "padding": null,
            "right": null,
            "top": null,
            "visibility": null,
            "width": null
          }
        },
        "98f27da73a2e4f28a3c9d2d05244da13": {
          "model_module": "@jupyter-widgets/controls",
          "model_name": "ProgressStyleModel",
          "model_module_version": "1.5.0",
          "state": {
            "_model_module": "@jupyter-widgets/controls",
            "_model_module_version": "1.5.0",
            "_model_name": "ProgressStyleModel",
            "_view_count": null,
            "_view_module": "@jupyter-widgets/base",
            "_view_module_version": "1.2.0",
            "_view_name": "StyleView",
            "bar_color": null,
            "description_width": ""
          }
        },
        "e3cb6a710a7f43c18dcbb98995a62159": {
          "model_module": "@jupyter-widgets/base",
          "model_name": "LayoutModel",
          "model_module_version": "1.2.0",
          "state": {
            "_model_module": "@jupyter-widgets/base",
            "_model_module_version": "1.2.0",
            "_model_name": "LayoutModel",
            "_view_count": null,
            "_view_module": "@jupyter-widgets/base",
            "_view_module_version": "1.2.0",
            "_view_name": "LayoutView",
            "align_content": null,
            "align_items": null,
            "align_self": null,
            "border": null,
            "bottom": null,
            "display": null,
            "flex": null,
            "flex_flow": null,
            "grid_area": null,
            "grid_auto_columns": null,
            "grid_auto_flow": null,
            "grid_auto_rows": null,
            "grid_column": null,
            "grid_gap": null,
            "grid_row": null,
            "grid_template_areas": null,
            "grid_template_columns": null,
            "grid_template_rows": null,
            "height": null,
            "justify_content": null,
            "justify_items": null,
            "left": null,
            "margin": null,
            "max_height": null,
            "max_width": null,
            "min_height": null,
            "min_width": null,
            "object_fit": null,
            "object_position": null,
            "order": null,
            "overflow": null,
            "overflow_x": null,
            "overflow_y": null,
            "padding": null,
            "right": null,
            "top": null,
            "visibility": null,
            "width": null
          }
        },
        "19badd3a6c0a495398ea7c5568e66c24": {
          "model_module": "@jupyter-widgets/controls",
          "model_name": "DescriptionStyleModel",
          "model_module_version": "1.5.0",
          "state": {
            "_model_module": "@jupyter-widgets/controls",
            "_model_module_version": "1.5.0",
            "_model_name": "DescriptionStyleModel",
            "_view_count": null,
            "_view_module": "@jupyter-widgets/base",
            "_view_module_version": "1.2.0",
            "_view_name": "StyleView",
            "description_width": ""
          }
        },
        "a4a79931f30f4878809f5c40668f53b2": {
          "model_module": "@jupyter-widgets/controls",
          "model_name": "HBoxModel",
          "model_module_version": "1.5.0",
          "state": {
            "_dom_classes": [],
            "_model_module": "@jupyter-widgets/controls",
            "_model_module_version": "1.5.0",
            "_model_name": "HBoxModel",
            "_view_count": null,
            "_view_module": "@jupyter-widgets/controls",
            "_view_module_version": "1.5.0",
            "_view_name": "HBoxView",
            "box_style": "",
            "children": [
              "IPY_MODEL_a0ca8c0644a04c6a9f086c9459aef0aa",
              "IPY_MODEL_a310d314e35c404aa0aad42bef27902f",
              "IPY_MODEL_413d354e742d46c2821e7e216b808919"
            ],
            "layout": "IPY_MODEL_7daa437a154b419f84f30a434a1c4894"
          }
        },
        "a0ca8c0644a04c6a9f086c9459aef0aa": {
          "model_module": "@jupyter-widgets/controls",
          "model_name": "HTMLModel",
          "model_module_version": "1.5.0",
          "state": {
            "_dom_classes": [],
            "_model_module": "@jupyter-widgets/controls",
            "_model_module_version": "1.5.0",
            "_model_name": "HTMLModel",
            "_view_count": null,
            "_view_module": "@jupyter-widgets/controls",
            "_view_module_version": "1.5.0",
            "_view_name": "HTMLView",
            "description": "",
            "description_tooltip": null,
            "layout": "IPY_MODEL_e73fc15fb7344e15b667133f13a7bee4",
            "placeholder": "​",
            "style": "IPY_MODEL_e021fcefbb7d47708a4c10304c412a7d",
            "value": "100%"
          }
        },
        "a310d314e35c404aa0aad42bef27902f": {
          "model_module": "@jupyter-widgets/controls",
          "model_name": "FloatProgressModel",
          "model_module_version": "1.5.0",
          "state": {
            "_dom_classes": [],
            "_model_module": "@jupyter-widgets/controls",
            "_model_module_version": "1.5.0",
            "_model_name": "FloatProgressModel",
            "_view_count": null,
            "_view_module": "@jupyter-widgets/controls",
            "_view_module_version": "1.5.0",
            "_view_name": "ProgressView",
            "bar_style": "success",
            "description": "",
            "description_tooltip": null,
            "layout": "IPY_MODEL_f504cb719ee94454b9752b6ec056837d",
            "max": 120,
            "min": 0,
            "orientation": "horizontal",
            "style": "IPY_MODEL_3846b75762fe4e169a62acab537e0e47",
            "value": 120
          }
        },
        "413d354e742d46c2821e7e216b808919": {
          "model_module": "@jupyter-widgets/controls",
          "model_name": "HTMLModel",
          "model_module_version": "1.5.0",
          "state": {
            "_dom_classes": [],
            "_model_module": "@jupyter-widgets/controls",
            "_model_module_version": "1.5.0",
            "_model_name": "HTMLModel",
            "_view_count": null,
            "_view_module": "@jupyter-widgets/controls",
            "_view_module_version": "1.5.0",
            "_view_name": "HTMLView",
            "description": "",
            "description_tooltip": null,
            "layout": "IPY_MODEL_7183861cc61f485d9054edc2345bf859",
            "placeholder": "​",
            "style": "IPY_MODEL_1ae98b593d8c4a0f947353c3be88661c",
            "value": " 120/120 [00:15&lt;00:00,  8.14it/s]"
          }
        },
        "7daa437a154b419f84f30a434a1c4894": {
          "model_module": "@jupyter-widgets/base",
          "model_name": "LayoutModel",
          "model_module_version": "1.2.0",
          "state": {
            "_model_module": "@jupyter-widgets/base",
            "_model_module_version": "1.2.0",
            "_model_name": "LayoutModel",
            "_view_count": null,
            "_view_module": "@jupyter-widgets/base",
            "_view_module_version": "1.2.0",
            "_view_name": "LayoutView",
            "align_content": null,
            "align_items": null,
            "align_self": null,
            "border": null,
            "bottom": null,
            "display": null,
            "flex": null,
            "flex_flow": null,
            "grid_area": null,
            "grid_auto_columns": null,
            "grid_auto_flow": null,
            "grid_auto_rows": null,
            "grid_column": null,
            "grid_gap": null,
            "grid_row": null,
            "grid_template_areas": null,
            "grid_template_columns": null,
            "grid_template_rows": null,
            "height": null,
            "justify_content": null,
            "justify_items": null,
            "left": null,
            "margin": null,
            "max_height": null,
            "max_width": null,
            "min_height": null,
            "min_width": null,
            "object_fit": null,
            "object_position": null,
            "order": null,
            "overflow": null,
            "overflow_x": null,
            "overflow_y": null,
            "padding": null,
            "right": null,
            "top": null,
            "visibility": null,
            "width": null
          }
        },
        "e73fc15fb7344e15b667133f13a7bee4": {
          "model_module": "@jupyter-widgets/base",
          "model_name": "LayoutModel",
          "model_module_version": "1.2.0",
          "state": {
            "_model_module": "@jupyter-widgets/base",
            "_model_module_version": "1.2.0",
            "_model_name": "LayoutModel",
            "_view_count": null,
            "_view_module": "@jupyter-widgets/base",
            "_view_module_version": "1.2.0",
            "_view_name": "LayoutView",
            "align_content": null,
            "align_items": null,
            "align_self": null,
            "border": null,
            "bottom": null,
            "display": null,
            "flex": null,
            "flex_flow": null,
            "grid_area": null,
            "grid_auto_columns": null,
            "grid_auto_flow": null,
            "grid_auto_rows": null,
            "grid_column": null,
            "grid_gap": null,
            "grid_row": null,
            "grid_template_areas": null,
            "grid_template_columns": null,
            "grid_template_rows": null,
            "height": null,
            "justify_content": null,
            "justify_items": null,
            "left": null,
            "margin": null,
            "max_height": null,
            "max_width": null,
            "min_height": null,
            "min_width": null,
            "object_fit": null,
            "object_position": null,
            "order": null,
            "overflow": null,
            "overflow_x": null,
            "overflow_y": null,
            "padding": null,
            "right": null,
            "top": null,
            "visibility": null,
            "width": null
          }
        },
        "e021fcefbb7d47708a4c10304c412a7d": {
          "model_module": "@jupyter-widgets/controls",
          "model_name": "DescriptionStyleModel",
          "model_module_version": "1.5.0",
          "state": {
            "_model_module": "@jupyter-widgets/controls",
            "_model_module_version": "1.5.0",
            "_model_name": "DescriptionStyleModel",
            "_view_count": null,
            "_view_module": "@jupyter-widgets/base",
            "_view_module_version": "1.2.0",
            "_view_name": "StyleView",
            "description_width": ""
          }
        },
        "f504cb719ee94454b9752b6ec056837d": {
          "model_module": "@jupyter-widgets/base",
          "model_name": "LayoutModel",
          "model_module_version": "1.2.0",
          "state": {
            "_model_module": "@jupyter-widgets/base",
            "_model_module_version": "1.2.0",
            "_model_name": "LayoutModel",
            "_view_count": null,
            "_view_module": "@jupyter-widgets/base",
            "_view_module_version": "1.2.0",
            "_view_name": "LayoutView",
            "align_content": null,
            "align_items": null,
            "align_self": null,
            "border": null,
            "bottom": null,
            "display": null,
            "flex": null,
            "flex_flow": null,
            "grid_area": null,
            "grid_auto_columns": null,
            "grid_auto_flow": null,
            "grid_auto_rows": null,
            "grid_column": null,
            "grid_gap": null,
            "grid_row": null,
            "grid_template_areas": null,
            "grid_template_columns": null,
            "grid_template_rows": null,
            "height": null,
            "justify_content": null,
            "justify_items": null,
            "left": null,
            "margin": null,
            "max_height": null,
            "max_width": null,
            "min_height": null,
            "min_width": null,
            "object_fit": null,
            "object_position": null,
            "order": null,
            "overflow": null,
            "overflow_x": null,
            "overflow_y": null,
            "padding": null,
            "right": null,
            "top": null,
            "visibility": null,
            "width": null
          }
        },
        "3846b75762fe4e169a62acab537e0e47": {
          "model_module": "@jupyter-widgets/controls",
          "model_name": "ProgressStyleModel",
          "model_module_version": "1.5.0",
          "state": {
            "_model_module": "@jupyter-widgets/controls",
            "_model_module_version": "1.5.0",
            "_model_name": "ProgressStyleModel",
            "_view_count": null,
            "_view_module": "@jupyter-widgets/base",
            "_view_module_version": "1.2.0",
            "_view_name": "StyleView",
            "bar_color": null,
            "description_width": ""
          }
        },
        "7183861cc61f485d9054edc2345bf859": {
          "model_module": "@jupyter-widgets/base",
          "model_name": "LayoutModel",
          "model_module_version": "1.2.0",
          "state": {
            "_model_module": "@jupyter-widgets/base",
            "_model_module_version": "1.2.0",
            "_model_name": "LayoutModel",
            "_view_count": null,
            "_view_module": "@jupyter-widgets/base",
            "_view_module_version": "1.2.0",
            "_view_name": "LayoutView",
            "align_content": null,
            "align_items": null,
            "align_self": null,
            "border": null,
            "bottom": null,
            "display": null,
            "flex": null,
            "flex_flow": null,
            "grid_area": null,
            "grid_auto_columns": null,
            "grid_auto_flow": null,
            "grid_auto_rows": null,
            "grid_column": null,
            "grid_gap": null,
            "grid_row": null,
            "grid_template_areas": null,
            "grid_template_columns": null,
            "grid_template_rows": null,
            "height": null,
            "justify_content": null,
            "justify_items": null,
            "left": null,
            "margin": null,
            "max_height": null,
            "max_width": null,
            "min_height": null,
            "min_width": null,
            "object_fit": null,
            "object_position": null,
            "order": null,
            "overflow": null,
            "overflow_x": null,
            "overflow_y": null,
            "padding": null,
            "right": null,
            "top": null,
            "visibility": null,
            "width": null
          }
        },
        "1ae98b593d8c4a0f947353c3be88661c": {
          "model_module": "@jupyter-widgets/controls",
          "model_name": "DescriptionStyleModel",
          "model_module_version": "1.5.0",
          "state": {
            "_model_module": "@jupyter-widgets/controls",
            "_model_module_version": "1.5.0",
            "_model_name": "DescriptionStyleModel",
            "_view_count": null,
            "_view_module": "@jupyter-widgets/base",
            "_view_module_version": "1.2.0",
            "_view_name": "StyleView",
            "description_width": ""
          }
        },
        "ef2678e3b9f9412d9e16f092b0986964": {
          "model_module": "@jupyter-widgets/controls",
          "model_name": "HBoxModel",
          "model_module_version": "1.5.0",
          "state": {
            "_dom_classes": [],
            "_model_module": "@jupyter-widgets/controls",
            "_model_module_version": "1.5.0",
            "_model_name": "HBoxModel",
            "_view_count": null,
            "_view_module": "@jupyter-widgets/controls",
            "_view_module_version": "1.5.0",
            "_view_name": "HBoxView",
            "box_style": "",
            "children": [
              "IPY_MODEL_3ad5dc745dff458eba1678cb06ad2442",
              "IPY_MODEL_4424847ff99e4ac2846876f1530a7aca",
              "IPY_MODEL_7bc5d5f4fdf649a2bd22ed10c1aaf632"
            ],
            "layout": "IPY_MODEL_0a49ad6341914681be069caad92d7662"
          }
        },
        "3ad5dc745dff458eba1678cb06ad2442": {
          "model_module": "@jupyter-widgets/controls",
          "model_name": "HTMLModel",
          "model_module_version": "1.5.0",
          "state": {
            "_dom_classes": [],
            "_model_module": "@jupyter-widgets/controls",
            "_model_module_version": "1.5.0",
            "_model_name": "HTMLModel",
            "_view_count": null,
            "_view_module": "@jupyter-widgets/controls",
            "_view_module_version": "1.5.0",
            "_view_name": "HTMLView",
            "description": "",
            "description_tooltip": null,
            "layout": "IPY_MODEL_9873665bfb0e4a8b96ddd4932fa057dc",
            "placeholder": "​",
            "style": "IPY_MODEL_aecaae8f1afa4bfbac61977735863b26",
            "value": "100%"
          }
        },
        "4424847ff99e4ac2846876f1530a7aca": {
          "model_module": "@jupyter-widgets/controls",
          "model_name": "FloatProgressModel",
          "model_module_version": "1.5.0",
          "state": {
            "_dom_classes": [],
            "_model_module": "@jupyter-widgets/controls",
            "_model_module_version": "1.5.0",
            "_model_name": "FloatProgressModel",
            "_view_count": null,
            "_view_module": "@jupyter-widgets/controls",
            "_view_module_version": "1.5.0",
            "_view_name": "ProgressView",
            "bar_style": "success",
            "description": "",
            "description_tooltip": null,
            "layout": "IPY_MODEL_4b1cc8d3fcea4c328a7b90e6054b9432",
            "max": 120,
            "min": 0,
            "orientation": "horizontal",
            "style": "IPY_MODEL_ddf99d74b101458ab6d6a16955636140",
            "value": 120
          }
        },
        "7bc5d5f4fdf649a2bd22ed10c1aaf632": {
          "model_module": "@jupyter-widgets/controls",
          "model_name": "HTMLModel",
          "model_module_version": "1.5.0",
          "state": {
            "_dom_classes": [],
            "_model_module": "@jupyter-widgets/controls",
            "_model_module_version": "1.5.0",
            "_model_name": "HTMLModel",
            "_view_count": null,
            "_view_module": "@jupyter-widgets/controls",
            "_view_module_version": "1.5.0",
            "_view_name": "HTMLView",
            "description": "",
            "description_tooltip": null,
            "layout": "IPY_MODEL_58c712714cea45eeace6de42e3456032",
            "placeholder": "​",
            "style": "IPY_MODEL_3694968f65f7458cb36727847ffdbb4a",
            "value": " 120/120 [00:15&lt;00:00,  8.50it/s]"
          }
        },
        "0a49ad6341914681be069caad92d7662": {
          "model_module": "@jupyter-widgets/base",
          "model_name": "LayoutModel",
          "model_module_version": "1.2.0",
          "state": {
            "_model_module": "@jupyter-widgets/base",
            "_model_module_version": "1.2.0",
            "_model_name": "LayoutModel",
            "_view_count": null,
            "_view_module": "@jupyter-widgets/base",
            "_view_module_version": "1.2.0",
            "_view_name": "LayoutView",
            "align_content": null,
            "align_items": null,
            "align_self": null,
            "border": null,
            "bottom": null,
            "display": null,
            "flex": null,
            "flex_flow": null,
            "grid_area": null,
            "grid_auto_columns": null,
            "grid_auto_flow": null,
            "grid_auto_rows": null,
            "grid_column": null,
            "grid_gap": null,
            "grid_row": null,
            "grid_template_areas": null,
            "grid_template_columns": null,
            "grid_template_rows": null,
            "height": null,
            "justify_content": null,
            "justify_items": null,
            "left": null,
            "margin": null,
            "max_height": null,
            "max_width": null,
            "min_height": null,
            "min_width": null,
            "object_fit": null,
            "object_position": null,
            "order": null,
            "overflow": null,
            "overflow_x": null,
            "overflow_y": null,
            "padding": null,
            "right": null,
            "top": null,
            "visibility": null,
            "width": null
          }
        },
        "9873665bfb0e4a8b96ddd4932fa057dc": {
          "model_module": "@jupyter-widgets/base",
          "model_name": "LayoutModel",
          "model_module_version": "1.2.0",
          "state": {
            "_model_module": "@jupyter-widgets/base",
            "_model_module_version": "1.2.0",
            "_model_name": "LayoutModel",
            "_view_count": null,
            "_view_module": "@jupyter-widgets/base",
            "_view_module_version": "1.2.0",
            "_view_name": "LayoutView",
            "align_content": null,
            "align_items": null,
            "align_self": null,
            "border": null,
            "bottom": null,
            "display": null,
            "flex": null,
            "flex_flow": null,
            "grid_area": null,
            "grid_auto_columns": null,
            "grid_auto_flow": null,
            "grid_auto_rows": null,
            "grid_column": null,
            "grid_gap": null,
            "grid_row": null,
            "grid_template_areas": null,
            "grid_template_columns": null,
            "grid_template_rows": null,
            "height": null,
            "justify_content": null,
            "justify_items": null,
            "left": null,
            "margin": null,
            "max_height": null,
            "max_width": null,
            "min_height": null,
            "min_width": null,
            "object_fit": null,
            "object_position": null,
            "order": null,
            "overflow": null,
            "overflow_x": null,
            "overflow_y": null,
            "padding": null,
            "right": null,
            "top": null,
            "visibility": null,
            "width": null
          }
        },
        "aecaae8f1afa4bfbac61977735863b26": {
          "model_module": "@jupyter-widgets/controls",
          "model_name": "DescriptionStyleModel",
          "model_module_version": "1.5.0",
          "state": {
            "_model_module": "@jupyter-widgets/controls",
            "_model_module_version": "1.5.0",
            "_model_name": "DescriptionStyleModel",
            "_view_count": null,
            "_view_module": "@jupyter-widgets/base",
            "_view_module_version": "1.2.0",
            "_view_name": "StyleView",
            "description_width": ""
          }
        },
        "4b1cc8d3fcea4c328a7b90e6054b9432": {
          "model_module": "@jupyter-widgets/base",
          "model_name": "LayoutModel",
          "model_module_version": "1.2.0",
          "state": {
            "_model_module": "@jupyter-widgets/base",
            "_model_module_version": "1.2.0",
            "_model_name": "LayoutModel",
            "_view_count": null,
            "_view_module": "@jupyter-widgets/base",
            "_view_module_version": "1.2.0",
            "_view_name": "LayoutView",
            "align_content": null,
            "align_items": null,
            "align_self": null,
            "border": null,
            "bottom": null,
            "display": null,
            "flex": null,
            "flex_flow": null,
            "grid_area": null,
            "grid_auto_columns": null,
            "grid_auto_flow": null,
            "grid_auto_rows": null,
            "grid_column": null,
            "grid_gap": null,
            "grid_row": null,
            "grid_template_areas": null,
            "grid_template_columns": null,
            "grid_template_rows": null,
            "height": null,
            "justify_content": null,
            "justify_items": null,
            "left": null,
            "margin": null,
            "max_height": null,
            "max_width": null,
            "min_height": null,
            "min_width": null,
            "object_fit": null,
            "object_position": null,
            "order": null,
            "overflow": null,
            "overflow_x": null,
            "overflow_y": null,
            "padding": null,
            "right": null,
            "top": null,
            "visibility": null,
            "width": null
          }
        },
        "ddf99d74b101458ab6d6a16955636140": {
          "model_module": "@jupyter-widgets/controls",
          "model_name": "ProgressStyleModel",
          "model_module_version": "1.5.0",
          "state": {
            "_model_module": "@jupyter-widgets/controls",
            "_model_module_version": "1.5.0",
            "_model_name": "ProgressStyleModel",
            "_view_count": null,
            "_view_module": "@jupyter-widgets/base",
            "_view_module_version": "1.2.0",
            "_view_name": "StyleView",
            "bar_color": null,
            "description_width": ""
          }
        },
        "58c712714cea45eeace6de42e3456032": {
          "model_module": "@jupyter-widgets/base",
          "model_name": "LayoutModel",
          "model_module_version": "1.2.0",
          "state": {
            "_model_module": "@jupyter-widgets/base",
            "_model_module_version": "1.2.0",
            "_model_name": "LayoutModel",
            "_view_count": null,
            "_view_module": "@jupyter-widgets/base",
            "_view_module_version": "1.2.0",
            "_view_name": "LayoutView",
            "align_content": null,
            "align_items": null,
            "align_self": null,
            "border": null,
            "bottom": null,
            "display": null,
            "flex": null,
            "flex_flow": null,
            "grid_area": null,
            "grid_auto_columns": null,
            "grid_auto_flow": null,
            "grid_auto_rows": null,
            "grid_column": null,
            "grid_gap": null,
            "grid_row": null,
            "grid_template_areas": null,
            "grid_template_columns": null,
            "grid_template_rows": null,
            "height": null,
            "justify_content": null,
            "justify_items": null,
            "left": null,
            "margin": null,
            "max_height": null,
            "max_width": null,
            "min_height": null,
            "min_width": null,
            "object_fit": null,
            "object_position": null,
            "order": null,
            "overflow": null,
            "overflow_x": null,
            "overflow_y": null,
            "padding": null,
            "right": null,
            "top": null,
            "visibility": null,
            "width": null
          }
        },
        "3694968f65f7458cb36727847ffdbb4a": {
          "model_module": "@jupyter-widgets/controls",
          "model_name": "DescriptionStyleModel",
          "model_module_version": "1.5.0",
          "state": {
            "_model_module": "@jupyter-widgets/controls",
            "_model_module_version": "1.5.0",
            "_model_name": "DescriptionStyleModel",
            "_view_count": null,
            "_view_module": "@jupyter-widgets/base",
            "_view_module_version": "1.2.0",
            "_view_name": "StyleView",
            "description_width": ""
          }
        },
        "dbd8a84c02f84f24ab5b5b3b23cf52f0": {
          "model_module": "@jupyter-widgets/controls",
          "model_name": "HBoxModel",
          "model_module_version": "1.5.0",
          "state": {
            "_dom_classes": [],
            "_model_module": "@jupyter-widgets/controls",
            "_model_module_version": "1.5.0",
            "_model_name": "HBoxModel",
            "_view_count": null,
            "_view_module": "@jupyter-widgets/controls",
            "_view_module_version": "1.5.0",
            "_view_name": "HBoxView",
            "box_style": "",
            "children": [
              "IPY_MODEL_1c5788dcffec4e97af2216f67145d0f6",
              "IPY_MODEL_a6cfd319eb234043bee32a5b5a511a66",
              "IPY_MODEL_63f07c2c0d324f29a72a8c6094047c02"
            ],
            "layout": "IPY_MODEL_a63bb5363ceb42e5a014ba750c2daa1f"
          }
        },
        "1c5788dcffec4e97af2216f67145d0f6": {
          "model_module": "@jupyter-widgets/controls",
          "model_name": "HTMLModel",
          "model_module_version": "1.5.0",
          "state": {
            "_dom_classes": [],
            "_model_module": "@jupyter-widgets/controls",
            "_model_module_version": "1.5.0",
            "_model_name": "HTMLModel",
            "_view_count": null,
            "_view_module": "@jupyter-widgets/controls",
            "_view_module_version": "1.5.0",
            "_view_name": "HTMLView",
            "description": "",
            "description_tooltip": null,
            "layout": "IPY_MODEL_8603f42f016f4ebc9e9024e0968cf4f4",
            "placeholder": "​",
            "style": "IPY_MODEL_dc05e3977ee44dffae05566b2f07ec9c",
            "value": "100%"
          }
        },
        "a6cfd319eb234043bee32a5b5a511a66": {
          "model_module": "@jupyter-widgets/controls",
          "model_name": "FloatProgressModel",
          "model_module_version": "1.5.0",
          "state": {
            "_dom_classes": [],
            "_model_module": "@jupyter-widgets/controls",
            "_model_module_version": "1.5.0",
            "_model_name": "FloatProgressModel",
            "_view_count": null,
            "_view_module": "@jupyter-widgets/controls",
            "_view_module_version": "1.5.0",
            "_view_name": "ProgressView",
            "bar_style": "success",
            "description": "",
            "description_tooltip": null,
            "layout": "IPY_MODEL_e89bcad924e14006af68fca15f1b2ac5",
            "max": 120,
            "min": 0,
            "orientation": "horizontal",
            "style": "IPY_MODEL_1704dc15a6dc4f83a7a7c73a61d60e9d",
            "value": 120
          }
        },
        "63f07c2c0d324f29a72a8c6094047c02": {
          "model_module": "@jupyter-widgets/controls",
          "model_name": "HTMLModel",
          "model_module_version": "1.5.0",
          "state": {
            "_dom_classes": [],
            "_model_module": "@jupyter-widgets/controls",
            "_model_module_version": "1.5.0",
            "_model_name": "HTMLModel",
            "_view_count": null,
            "_view_module": "@jupyter-widgets/controls",
            "_view_module_version": "1.5.0",
            "_view_name": "HTMLView",
            "description": "",
            "description_tooltip": null,
            "layout": "IPY_MODEL_150bac5312724a2fa26566461f2ea9cd",
            "placeholder": "​",
            "style": "IPY_MODEL_07261d31d0ca42ed938c72be5ecca54c",
            "value": " 120/120 [00:14&lt;00:00,  8.31it/s]"
          }
        },
        "a63bb5363ceb42e5a014ba750c2daa1f": {
          "model_module": "@jupyter-widgets/base",
          "model_name": "LayoutModel",
          "model_module_version": "1.2.0",
          "state": {
            "_model_module": "@jupyter-widgets/base",
            "_model_module_version": "1.2.0",
            "_model_name": "LayoutModel",
            "_view_count": null,
            "_view_module": "@jupyter-widgets/base",
            "_view_module_version": "1.2.0",
            "_view_name": "LayoutView",
            "align_content": null,
            "align_items": null,
            "align_self": null,
            "border": null,
            "bottom": null,
            "display": null,
            "flex": null,
            "flex_flow": null,
            "grid_area": null,
            "grid_auto_columns": null,
            "grid_auto_flow": null,
            "grid_auto_rows": null,
            "grid_column": null,
            "grid_gap": null,
            "grid_row": null,
            "grid_template_areas": null,
            "grid_template_columns": null,
            "grid_template_rows": null,
            "height": null,
            "justify_content": null,
            "justify_items": null,
            "left": null,
            "margin": null,
            "max_height": null,
            "max_width": null,
            "min_height": null,
            "min_width": null,
            "object_fit": null,
            "object_position": null,
            "order": null,
            "overflow": null,
            "overflow_x": null,
            "overflow_y": null,
            "padding": null,
            "right": null,
            "top": null,
            "visibility": null,
            "width": null
          }
        },
        "8603f42f016f4ebc9e9024e0968cf4f4": {
          "model_module": "@jupyter-widgets/base",
          "model_name": "LayoutModel",
          "model_module_version": "1.2.0",
          "state": {
            "_model_module": "@jupyter-widgets/base",
            "_model_module_version": "1.2.0",
            "_model_name": "LayoutModel",
            "_view_count": null,
            "_view_module": "@jupyter-widgets/base",
            "_view_module_version": "1.2.0",
            "_view_name": "LayoutView",
            "align_content": null,
            "align_items": null,
            "align_self": null,
            "border": null,
            "bottom": null,
            "display": null,
            "flex": null,
            "flex_flow": null,
            "grid_area": null,
            "grid_auto_columns": null,
            "grid_auto_flow": null,
            "grid_auto_rows": null,
            "grid_column": null,
            "grid_gap": null,
            "grid_row": null,
            "grid_template_areas": null,
            "grid_template_columns": null,
            "grid_template_rows": null,
            "height": null,
            "justify_content": null,
            "justify_items": null,
            "left": null,
            "margin": null,
            "max_height": null,
            "max_width": null,
            "min_height": null,
            "min_width": null,
            "object_fit": null,
            "object_position": null,
            "order": null,
            "overflow": null,
            "overflow_x": null,
            "overflow_y": null,
            "padding": null,
            "right": null,
            "top": null,
            "visibility": null,
            "width": null
          }
        },
        "dc05e3977ee44dffae05566b2f07ec9c": {
          "model_module": "@jupyter-widgets/controls",
          "model_name": "DescriptionStyleModel",
          "model_module_version": "1.5.0",
          "state": {
            "_model_module": "@jupyter-widgets/controls",
            "_model_module_version": "1.5.0",
            "_model_name": "DescriptionStyleModel",
            "_view_count": null,
            "_view_module": "@jupyter-widgets/base",
            "_view_module_version": "1.2.0",
            "_view_name": "StyleView",
            "description_width": ""
          }
        },
        "e89bcad924e14006af68fca15f1b2ac5": {
          "model_module": "@jupyter-widgets/base",
          "model_name": "LayoutModel",
          "model_module_version": "1.2.0",
          "state": {
            "_model_module": "@jupyter-widgets/base",
            "_model_module_version": "1.2.0",
            "_model_name": "LayoutModel",
            "_view_count": null,
            "_view_module": "@jupyter-widgets/base",
            "_view_module_version": "1.2.0",
            "_view_name": "LayoutView",
            "align_content": null,
            "align_items": null,
            "align_self": null,
            "border": null,
            "bottom": null,
            "display": null,
            "flex": null,
            "flex_flow": null,
            "grid_area": null,
            "grid_auto_columns": null,
            "grid_auto_flow": null,
            "grid_auto_rows": null,
            "grid_column": null,
            "grid_gap": null,
            "grid_row": null,
            "grid_template_areas": null,
            "grid_template_columns": null,
            "grid_template_rows": null,
            "height": null,
            "justify_content": null,
            "justify_items": null,
            "left": null,
            "margin": null,
            "max_height": null,
            "max_width": null,
            "min_height": null,
            "min_width": null,
            "object_fit": null,
            "object_position": null,
            "order": null,
            "overflow": null,
            "overflow_x": null,
            "overflow_y": null,
            "padding": null,
            "right": null,
            "top": null,
            "visibility": null,
            "width": null
          }
        },
        "1704dc15a6dc4f83a7a7c73a61d60e9d": {
          "model_module": "@jupyter-widgets/controls",
          "model_name": "ProgressStyleModel",
          "model_module_version": "1.5.0",
          "state": {
            "_model_module": "@jupyter-widgets/controls",
            "_model_module_version": "1.5.0",
            "_model_name": "ProgressStyleModel",
            "_view_count": null,
            "_view_module": "@jupyter-widgets/base",
            "_view_module_version": "1.2.0",
            "_view_name": "StyleView",
            "bar_color": null,
            "description_width": ""
          }
        },
        "150bac5312724a2fa26566461f2ea9cd": {
          "model_module": "@jupyter-widgets/base",
          "model_name": "LayoutModel",
          "model_module_version": "1.2.0",
          "state": {
            "_model_module": "@jupyter-widgets/base",
            "_model_module_version": "1.2.0",
            "_model_name": "LayoutModel",
            "_view_count": null,
            "_view_module": "@jupyter-widgets/base",
            "_view_module_version": "1.2.0",
            "_view_name": "LayoutView",
            "align_content": null,
            "align_items": null,
            "align_self": null,
            "border": null,
            "bottom": null,
            "display": null,
            "flex": null,
            "flex_flow": null,
            "grid_area": null,
            "grid_auto_columns": null,
            "grid_auto_flow": null,
            "grid_auto_rows": null,
            "grid_column": null,
            "grid_gap": null,
            "grid_row": null,
            "grid_template_areas": null,
            "grid_template_columns": null,
            "grid_template_rows": null,
            "height": null,
            "justify_content": null,
            "justify_items": null,
            "left": null,
            "margin": null,
            "max_height": null,
            "max_width": null,
            "min_height": null,
            "min_width": null,
            "object_fit": null,
            "object_position": null,
            "order": null,
            "overflow": null,
            "overflow_x": null,
            "overflow_y": null,
            "padding": null,
            "right": null,
            "top": null,
            "visibility": null,
            "width": null
          }
        },
        "07261d31d0ca42ed938c72be5ecca54c": {
          "model_module": "@jupyter-widgets/controls",
          "model_name": "DescriptionStyleModel",
          "model_module_version": "1.5.0",
          "state": {
            "_model_module": "@jupyter-widgets/controls",
            "_model_module_version": "1.5.0",
            "_model_name": "DescriptionStyleModel",
            "_view_count": null,
            "_view_module": "@jupyter-widgets/base",
            "_view_module_version": "1.2.0",
            "_view_name": "StyleView",
            "description_width": ""
          }
        },
        "4d61275b0a34456c8725f3e047f94fb7": {
          "model_module": "@jupyter-widgets/controls",
          "model_name": "HBoxModel",
          "model_module_version": "1.5.0",
          "state": {
            "_dom_classes": [],
            "_model_module": "@jupyter-widgets/controls",
            "_model_module_version": "1.5.0",
            "_model_name": "HBoxModel",
            "_view_count": null,
            "_view_module": "@jupyter-widgets/controls",
            "_view_module_version": "1.5.0",
            "_view_name": "HBoxView",
            "box_style": "",
            "children": [
              "IPY_MODEL_1e21aca8330b4ef3b95347694cc2c22b",
              "IPY_MODEL_971cf30faa6d4ca5848dbbe34bd50542",
              "IPY_MODEL_bdf750696f7c4d0cba050455ad2c344a"
            ],
            "layout": "IPY_MODEL_f9bcddbdd38a40888566086438647b13"
          }
        },
        "1e21aca8330b4ef3b95347694cc2c22b": {
          "model_module": "@jupyter-widgets/controls",
          "model_name": "HTMLModel",
          "model_module_version": "1.5.0",
          "state": {
            "_dom_classes": [],
            "_model_module": "@jupyter-widgets/controls",
            "_model_module_version": "1.5.0",
            "_model_name": "HTMLModel",
            "_view_count": null,
            "_view_module": "@jupyter-widgets/controls",
            "_view_module_version": "1.5.0",
            "_view_name": "HTMLView",
            "description": "",
            "description_tooltip": null,
            "layout": "IPY_MODEL_f8a003c50e404b83a12a65413ac54c51",
            "placeholder": "​",
            "style": "IPY_MODEL_b5e863fd246643bb82db7c74f26c2025",
            "value": "100%"
          }
        },
        "971cf30faa6d4ca5848dbbe34bd50542": {
          "model_module": "@jupyter-widgets/controls",
          "model_name": "FloatProgressModel",
          "model_module_version": "1.5.0",
          "state": {
            "_dom_classes": [],
            "_model_module": "@jupyter-widgets/controls",
            "_model_module_version": "1.5.0",
            "_model_name": "FloatProgressModel",
            "_view_count": null,
            "_view_module": "@jupyter-widgets/controls",
            "_view_module_version": "1.5.0",
            "_view_name": "ProgressView",
            "bar_style": "success",
            "description": "",
            "description_tooltip": null,
            "layout": "IPY_MODEL_cd3b1b7faa9f4d23a5b3ebf23c587742",
            "max": 120,
            "min": 0,
            "orientation": "horizontal",
            "style": "IPY_MODEL_1885e2213b144999baa8157b0184e1fa",
            "value": 120
          }
        },
        "bdf750696f7c4d0cba050455ad2c344a": {
          "model_module": "@jupyter-widgets/controls",
          "model_name": "HTMLModel",
          "model_module_version": "1.5.0",
          "state": {
            "_dom_classes": [],
            "_model_module": "@jupyter-widgets/controls",
            "_model_module_version": "1.5.0",
            "_model_name": "HTMLModel",
            "_view_count": null,
            "_view_module": "@jupyter-widgets/controls",
            "_view_module_version": "1.5.0",
            "_view_name": "HTMLView",
            "description": "",
            "description_tooltip": null,
            "layout": "IPY_MODEL_4e567f538730448f81dfedab1a8dc982",
            "placeholder": "​",
            "style": "IPY_MODEL_6a99188317f0402ab2cdae017a493d89",
            "value": " 120/120 [00:15&lt;00:00,  7.58it/s]"
          }
        },
        "f9bcddbdd38a40888566086438647b13": {
          "model_module": "@jupyter-widgets/base",
          "model_name": "LayoutModel",
          "model_module_version": "1.2.0",
          "state": {
            "_model_module": "@jupyter-widgets/base",
            "_model_module_version": "1.2.0",
            "_model_name": "LayoutModel",
            "_view_count": null,
            "_view_module": "@jupyter-widgets/base",
            "_view_module_version": "1.2.0",
            "_view_name": "LayoutView",
            "align_content": null,
            "align_items": null,
            "align_self": null,
            "border": null,
            "bottom": null,
            "display": null,
            "flex": null,
            "flex_flow": null,
            "grid_area": null,
            "grid_auto_columns": null,
            "grid_auto_flow": null,
            "grid_auto_rows": null,
            "grid_column": null,
            "grid_gap": null,
            "grid_row": null,
            "grid_template_areas": null,
            "grid_template_columns": null,
            "grid_template_rows": null,
            "height": null,
            "justify_content": null,
            "justify_items": null,
            "left": null,
            "margin": null,
            "max_height": null,
            "max_width": null,
            "min_height": null,
            "min_width": null,
            "object_fit": null,
            "object_position": null,
            "order": null,
            "overflow": null,
            "overflow_x": null,
            "overflow_y": null,
            "padding": null,
            "right": null,
            "top": null,
            "visibility": null,
            "width": null
          }
        },
        "f8a003c50e404b83a12a65413ac54c51": {
          "model_module": "@jupyter-widgets/base",
          "model_name": "LayoutModel",
          "model_module_version": "1.2.0",
          "state": {
            "_model_module": "@jupyter-widgets/base",
            "_model_module_version": "1.2.0",
            "_model_name": "LayoutModel",
            "_view_count": null,
            "_view_module": "@jupyter-widgets/base",
            "_view_module_version": "1.2.0",
            "_view_name": "LayoutView",
            "align_content": null,
            "align_items": null,
            "align_self": null,
            "border": null,
            "bottom": null,
            "display": null,
            "flex": null,
            "flex_flow": null,
            "grid_area": null,
            "grid_auto_columns": null,
            "grid_auto_flow": null,
            "grid_auto_rows": null,
            "grid_column": null,
            "grid_gap": null,
            "grid_row": null,
            "grid_template_areas": null,
            "grid_template_columns": null,
            "grid_template_rows": null,
            "height": null,
            "justify_content": null,
            "justify_items": null,
            "left": null,
            "margin": null,
            "max_height": null,
            "max_width": null,
            "min_height": null,
            "min_width": null,
            "object_fit": null,
            "object_position": null,
            "order": null,
            "overflow": null,
            "overflow_x": null,
            "overflow_y": null,
            "padding": null,
            "right": null,
            "top": null,
            "visibility": null,
            "width": null
          }
        },
        "b5e863fd246643bb82db7c74f26c2025": {
          "model_module": "@jupyter-widgets/controls",
          "model_name": "DescriptionStyleModel",
          "model_module_version": "1.5.0",
          "state": {
            "_model_module": "@jupyter-widgets/controls",
            "_model_module_version": "1.5.0",
            "_model_name": "DescriptionStyleModel",
            "_view_count": null,
            "_view_module": "@jupyter-widgets/base",
            "_view_module_version": "1.2.0",
            "_view_name": "StyleView",
            "description_width": ""
          }
        },
        "cd3b1b7faa9f4d23a5b3ebf23c587742": {
          "model_module": "@jupyter-widgets/base",
          "model_name": "LayoutModel",
          "model_module_version": "1.2.0",
          "state": {
            "_model_module": "@jupyter-widgets/base",
            "_model_module_version": "1.2.0",
            "_model_name": "LayoutModel",
            "_view_count": null,
            "_view_module": "@jupyter-widgets/base",
            "_view_module_version": "1.2.0",
            "_view_name": "LayoutView",
            "align_content": null,
            "align_items": null,
            "align_self": null,
            "border": null,
            "bottom": null,
            "display": null,
            "flex": null,
            "flex_flow": null,
            "grid_area": null,
            "grid_auto_columns": null,
            "grid_auto_flow": null,
            "grid_auto_rows": null,
            "grid_column": null,
            "grid_gap": null,
            "grid_row": null,
            "grid_template_areas": null,
            "grid_template_columns": null,
            "grid_template_rows": null,
            "height": null,
            "justify_content": null,
            "justify_items": null,
            "left": null,
            "margin": null,
            "max_height": null,
            "max_width": null,
            "min_height": null,
            "min_width": null,
            "object_fit": null,
            "object_position": null,
            "order": null,
            "overflow": null,
            "overflow_x": null,
            "overflow_y": null,
            "padding": null,
            "right": null,
            "top": null,
            "visibility": null,
            "width": null
          }
        },
        "1885e2213b144999baa8157b0184e1fa": {
          "model_module": "@jupyter-widgets/controls",
          "model_name": "ProgressStyleModel",
          "model_module_version": "1.5.0",
          "state": {
            "_model_module": "@jupyter-widgets/controls",
            "_model_module_version": "1.5.0",
            "_model_name": "ProgressStyleModel",
            "_view_count": null,
            "_view_module": "@jupyter-widgets/base",
            "_view_module_version": "1.2.0",
            "_view_name": "StyleView",
            "bar_color": null,
            "description_width": ""
          }
        },
        "4e567f538730448f81dfedab1a8dc982": {
          "model_module": "@jupyter-widgets/base",
          "model_name": "LayoutModel",
          "model_module_version": "1.2.0",
          "state": {
            "_model_module": "@jupyter-widgets/base",
            "_model_module_version": "1.2.0",
            "_model_name": "LayoutModel",
            "_view_count": null,
            "_view_module": "@jupyter-widgets/base",
            "_view_module_version": "1.2.0",
            "_view_name": "LayoutView",
            "align_content": null,
            "align_items": null,
            "align_self": null,
            "border": null,
            "bottom": null,
            "display": null,
            "flex": null,
            "flex_flow": null,
            "grid_area": null,
            "grid_auto_columns": null,
            "grid_auto_flow": null,
            "grid_auto_rows": null,
            "grid_column": null,
            "grid_gap": null,
            "grid_row": null,
            "grid_template_areas": null,
            "grid_template_columns": null,
            "grid_template_rows": null,
            "height": null,
            "justify_content": null,
            "justify_items": null,
            "left": null,
            "margin": null,
            "max_height": null,
            "max_width": null,
            "min_height": null,
            "min_width": null,
            "object_fit": null,
            "object_position": null,
            "order": null,
            "overflow": null,
            "overflow_x": null,
            "overflow_y": null,
            "padding": null,
            "right": null,
            "top": null,
            "visibility": null,
            "width": null
          }
        },
        "6a99188317f0402ab2cdae017a493d89": {
          "model_module": "@jupyter-widgets/controls",
          "model_name": "DescriptionStyleModel",
          "model_module_version": "1.5.0",
          "state": {
            "_model_module": "@jupyter-widgets/controls",
            "_model_module_version": "1.5.0",
            "_model_name": "DescriptionStyleModel",
            "_view_count": null,
            "_view_module": "@jupyter-widgets/base",
            "_view_module_version": "1.2.0",
            "_view_name": "StyleView",
            "description_width": ""
          }
        },
        "99fdc3b6059b4bd7964251563b415589": {
          "model_module": "@jupyter-widgets/controls",
          "model_name": "HBoxModel",
          "model_module_version": "1.5.0",
          "state": {
            "_dom_classes": [],
            "_model_module": "@jupyter-widgets/controls",
            "_model_module_version": "1.5.0",
            "_model_name": "HBoxModel",
            "_view_count": null,
            "_view_module": "@jupyter-widgets/controls",
            "_view_module_version": "1.5.0",
            "_view_name": "HBoxView",
            "box_style": "",
            "children": [
              "IPY_MODEL_c0ab0be7ca31420c80cfacb679588381",
              "IPY_MODEL_25a532c181e346eba91c4e05f7243f23",
              "IPY_MODEL_a6c9f8c23ce04827a2981fd521452298"
            ],
            "layout": "IPY_MODEL_dec69d7765ae450882e4d348e4015271"
          }
        },
        "c0ab0be7ca31420c80cfacb679588381": {
          "model_module": "@jupyter-widgets/controls",
          "model_name": "HTMLModel",
          "model_module_version": "1.5.0",
          "state": {
            "_dom_classes": [],
            "_model_module": "@jupyter-widgets/controls",
            "_model_module_version": "1.5.0",
            "_model_name": "HTMLModel",
            "_view_count": null,
            "_view_module": "@jupyter-widgets/controls",
            "_view_module_version": "1.5.0",
            "_view_name": "HTMLView",
            "description": "",
            "description_tooltip": null,
            "layout": "IPY_MODEL_cdbd6852e8514e8288904ae9e9826f14",
            "placeholder": "​",
            "style": "IPY_MODEL_0279468176a14e9bb97bbe774d0e44f8",
            "value": "100%"
          }
        },
        "25a532c181e346eba91c4e05f7243f23": {
          "model_module": "@jupyter-widgets/controls",
          "model_name": "FloatProgressModel",
          "model_module_version": "1.5.0",
          "state": {
            "_dom_classes": [],
            "_model_module": "@jupyter-widgets/controls",
            "_model_module_version": "1.5.0",
            "_model_name": "FloatProgressModel",
            "_view_count": null,
            "_view_module": "@jupyter-widgets/controls",
            "_view_module_version": "1.5.0",
            "_view_name": "ProgressView",
            "bar_style": "success",
            "description": "",
            "description_tooltip": null,
            "layout": "IPY_MODEL_6d77878c4d684728b3750203b1880ecb",
            "max": 120,
            "min": 0,
            "orientation": "horizontal",
            "style": "IPY_MODEL_d2590d2a70c4497e9200dad89d329b75",
            "value": 120
          }
        },
        "a6c9f8c23ce04827a2981fd521452298": {
          "model_module": "@jupyter-widgets/controls",
          "model_name": "HTMLModel",
          "model_module_version": "1.5.0",
          "state": {
            "_dom_classes": [],
            "_model_module": "@jupyter-widgets/controls",
            "_model_module_version": "1.5.0",
            "_model_name": "HTMLModel",
            "_view_count": null,
            "_view_module": "@jupyter-widgets/controls",
            "_view_module_version": "1.5.0",
            "_view_name": "HTMLView",
            "description": "",
            "description_tooltip": null,
            "layout": "IPY_MODEL_48bcc48562db410594503d528aa34629",
            "placeholder": "​",
            "style": "IPY_MODEL_06bff19874774c75b37647e43742e510",
            "value": " 120/120 [00:15&lt;00:00,  8.31it/s]"
          }
        },
        "dec69d7765ae450882e4d348e4015271": {
          "model_module": "@jupyter-widgets/base",
          "model_name": "LayoutModel",
          "model_module_version": "1.2.0",
          "state": {
            "_model_module": "@jupyter-widgets/base",
            "_model_module_version": "1.2.0",
            "_model_name": "LayoutModel",
            "_view_count": null,
            "_view_module": "@jupyter-widgets/base",
            "_view_module_version": "1.2.0",
            "_view_name": "LayoutView",
            "align_content": null,
            "align_items": null,
            "align_self": null,
            "border": null,
            "bottom": null,
            "display": null,
            "flex": null,
            "flex_flow": null,
            "grid_area": null,
            "grid_auto_columns": null,
            "grid_auto_flow": null,
            "grid_auto_rows": null,
            "grid_column": null,
            "grid_gap": null,
            "grid_row": null,
            "grid_template_areas": null,
            "grid_template_columns": null,
            "grid_template_rows": null,
            "height": null,
            "justify_content": null,
            "justify_items": null,
            "left": null,
            "margin": null,
            "max_height": null,
            "max_width": null,
            "min_height": null,
            "min_width": null,
            "object_fit": null,
            "object_position": null,
            "order": null,
            "overflow": null,
            "overflow_x": null,
            "overflow_y": null,
            "padding": null,
            "right": null,
            "top": null,
            "visibility": null,
            "width": null
          }
        },
        "cdbd6852e8514e8288904ae9e9826f14": {
          "model_module": "@jupyter-widgets/base",
          "model_name": "LayoutModel",
          "model_module_version": "1.2.0",
          "state": {
            "_model_module": "@jupyter-widgets/base",
            "_model_module_version": "1.2.0",
            "_model_name": "LayoutModel",
            "_view_count": null,
            "_view_module": "@jupyter-widgets/base",
            "_view_module_version": "1.2.0",
            "_view_name": "LayoutView",
            "align_content": null,
            "align_items": null,
            "align_self": null,
            "border": null,
            "bottom": null,
            "display": null,
            "flex": null,
            "flex_flow": null,
            "grid_area": null,
            "grid_auto_columns": null,
            "grid_auto_flow": null,
            "grid_auto_rows": null,
            "grid_column": null,
            "grid_gap": null,
            "grid_row": null,
            "grid_template_areas": null,
            "grid_template_columns": null,
            "grid_template_rows": null,
            "height": null,
            "justify_content": null,
            "justify_items": null,
            "left": null,
            "margin": null,
            "max_height": null,
            "max_width": null,
            "min_height": null,
            "min_width": null,
            "object_fit": null,
            "object_position": null,
            "order": null,
            "overflow": null,
            "overflow_x": null,
            "overflow_y": null,
            "padding": null,
            "right": null,
            "top": null,
            "visibility": null,
            "width": null
          }
        },
        "0279468176a14e9bb97bbe774d0e44f8": {
          "model_module": "@jupyter-widgets/controls",
          "model_name": "DescriptionStyleModel",
          "model_module_version": "1.5.0",
          "state": {
            "_model_module": "@jupyter-widgets/controls",
            "_model_module_version": "1.5.0",
            "_model_name": "DescriptionStyleModel",
            "_view_count": null,
            "_view_module": "@jupyter-widgets/base",
            "_view_module_version": "1.2.0",
            "_view_name": "StyleView",
            "description_width": ""
          }
        },
        "6d77878c4d684728b3750203b1880ecb": {
          "model_module": "@jupyter-widgets/base",
          "model_name": "LayoutModel",
          "model_module_version": "1.2.0",
          "state": {
            "_model_module": "@jupyter-widgets/base",
            "_model_module_version": "1.2.0",
            "_model_name": "LayoutModel",
            "_view_count": null,
            "_view_module": "@jupyter-widgets/base",
            "_view_module_version": "1.2.0",
            "_view_name": "LayoutView",
            "align_content": null,
            "align_items": null,
            "align_self": null,
            "border": null,
            "bottom": null,
            "display": null,
            "flex": null,
            "flex_flow": null,
            "grid_area": null,
            "grid_auto_columns": null,
            "grid_auto_flow": null,
            "grid_auto_rows": null,
            "grid_column": null,
            "grid_gap": null,
            "grid_row": null,
            "grid_template_areas": null,
            "grid_template_columns": null,
            "grid_template_rows": null,
            "height": null,
            "justify_content": null,
            "justify_items": null,
            "left": null,
            "margin": null,
            "max_height": null,
            "max_width": null,
            "min_height": null,
            "min_width": null,
            "object_fit": null,
            "object_position": null,
            "order": null,
            "overflow": null,
            "overflow_x": null,
            "overflow_y": null,
            "padding": null,
            "right": null,
            "top": null,
            "visibility": null,
            "width": null
          }
        },
        "d2590d2a70c4497e9200dad89d329b75": {
          "model_module": "@jupyter-widgets/controls",
          "model_name": "ProgressStyleModel",
          "model_module_version": "1.5.0",
          "state": {
            "_model_module": "@jupyter-widgets/controls",
            "_model_module_version": "1.5.0",
            "_model_name": "ProgressStyleModel",
            "_view_count": null,
            "_view_module": "@jupyter-widgets/base",
            "_view_module_version": "1.2.0",
            "_view_name": "StyleView",
            "bar_color": null,
            "description_width": ""
          }
        },
        "48bcc48562db410594503d528aa34629": {
          "model_module": "@jupyter-widgets/base",
          "model_name": "LayoutModel",
          "model_module_version": "1.2.0",
          "state": {
            "_model_module": "@jupyter-widgets/base",
            "_model_module_version": "1.2.0",
            "_model_name": "LayoutModel",
            "_view_count": null,
            "_view_module": "@jupyter-widgets/base",
            "_view_module_version": "1.2.0",
            "_view_name": "LayoutView",
            "align_content": null,
            "align_items": null,
            "align_self": null,
            "border": null,
            "bottom": null,
            "display": null,
            "flex": null,
            "flex_flow": null,
            "grid_area": null,
            "grid_auto_columns": null,
            "grid_auto_flow": null,
            "grid_auto_rows": null,
            "grid_column": null,
            "grid_gap": null,
            "grid_row": null,
            "grid_template_areas": null,
            "grid_template_columns": null,
            "grid_template_rows": null,
            "height": null,
            "justify_content": null,
            "justify_items": null,
            "left": null,
            "margin": null,
            "max_height": null,
            "max_width": null,
            "min_height": null,
            "min_width": null,
            "object_fit": null,
            "object_position": null,
            "order": null,
            "overflow": null,
            "overflow_x": null,
            "overflow_y": null,
            "padding": null,
            "right": null,
            "top": null,
            "visibility": null,
            "width": null
          }
        },
        "06bff19874774c75b37647e43742e510": {
          "model_module": "@jupyter-widgets/controls",
          "model_name": "DescriptionStyleModel",
          "model_module_version": "1.5.0",
          "state": {
            "_model_module": "@jupyter-widgets/controls",
            "_model_module_version": "1.5.0",
            "_model_name": "DescriptionStyleModel",
            "_view_count": null,
            "_view_module": "@jupyter-widgets/base",
            "_view_module_version": "1.2.0",
            "_view_name": "StyleView",
            "description_width": ""
          }
        },
        "165342d4b2824ce79979febdec3850ee": {
          "model_module": "@jupyter-widgets/controls",
          "model_name": "HBoxModel",
          "model_module_version": "1.5.0",
          "state": {
            "_dom_classes": [],
            "_model_module": "@jupyter-widgets/controls",
            "_model_module_version": "1.5.0",
            "_model_name": "HBoxModel",
            "_view_count": null,
            "_view_module": "@jupyter-widgets/controls",
            "_view_module_version": "1.5.0",
            "_view_name": "HBoxView",
            "box_style": "",
            "children": [
              "IPY_MODEL_256d00cc9c6b4311be588547dd1a1475",
              "IPY_MODEL_e8cf2420090b4769b4adccd694fa5d5a",
              "IPY_MODEL_62cdaa721ad647a6bc508cb34dcabdb3"
            ],
            "layout": "IPY_MODEL_07ad73857fb746c7b0c8d5b9362c093d"
          }
        },
        "256d00cc9c6b4311be588547dd1a1475": {
          "model_module": "@jupyter-widgets/controls",
          "model_name": "HTMLModel",
          "model_module_version": "1.5.0",
          "state": {
            "_dom_classes": [],
            "_model_module": "@jupyter-widgets/controls",
            "_model_module_version": "1.5.0",
            "_model_name": "HTMLModel",
            "_view_count": null,
            "_view_module": "@jupyter-widgets/controls",
            "_view_module_version": "1.5.0",
            "_view_name": "HTMLView",
            "description": "",
            "description_tooltip": null,
            "layout": "IPY_MODEL_6b2139497a0b429bb6749da4a54c03f6",
            "placeholder": "​",
            "style": "IPY_MODEL_b6ac3a70009141ee9e436e6de8922508",
            "value": "100%"
          }
        },
        "e8cf2420090b4769b4adccd694fa5d5a": {
          "model_module": "@jupyter-widgets/controls",
          "model_name": "FloatProgressModel",
          "model_module_version": "1.5.0",
          "state": {
            "_dom_classes": [],
            "_model_module": "@jupyter-widgets/controls",
            "_model_module_version": "1.5.0",
            "_model_name": "FloatProgressModel",
            "_view_count": null,
            "_view_module": "@jupyter-widgets/controls",
            "_view_module_version": "1.5.0",
            "_view_name": "ProgressView",
            "bar_style": "success",
            "description": "",
            "description_tooltip": null,
            "layout": "IPY_MODEL_73a56f1070074257b79a0774c39cfb28",
            "max": 120,
            "min": 0,
            "orientation": "horizontal",
            "style": "IPY_MODEL_e898851d97ed4c8fa0a71b95c71fc055",
            "value": 120
          }
        },
        "62cdaa721ad647a6bc508cb34dcabdb3": {
          "model_module": "@jupyter-widgets/controls",
          "model_name": "HTMLModel",
          "model_module_version": "1.5.0",
          "state": {
            "_dom_classes": [],
            "_model_module": "@jupyter-widgets/controls",
            "_model_module_version": "1.5.0",
            "_model_name": "HTMLModel",
            "_view_count": null,
            "_view_module": "@jupyter-widgets/controls",
            "_view_module_version": "1.5.0",
            "_view_name": "HTMLView",
            "description": "",
            "description_tooltip": null,
            "layout": "IPY_MODEL_0087bba09e6a484c83025f7f4a213c08",
            "placeholder": "​",
            "style": "IPY_MODEL_6a2679ac937049f1848e2b6b222af255",
            "value": " 120/120 [00:16&lt;00:00,  6.59it/s]"
          }
        },
        "07ad73857fb746c7b0c8d5b9362c093d": {
          "model_module": "@jupyter-widgets/base",
          "model_name": "LayoutModel",
          "model_module_version": "1.2.0",
          "state": {
            "_model_module": "@jupyter-widgets/base",
            "_model_module_version": "1.2.0",
            "_model_name": "LayoutModel",
            "_view_count": null,
            "_view_module": "@jupyter-widgets/base",
            "_view_module_version": "1.2.0",
            "_view_name": "LayoutView",
            "align_content": null,
            "align_items": null,
            "align_self": null,
            "border": null,
            "bottom": null,
            "display": null,
            "flex": null,
            "flex_flow": null,
            "grid_area": null,
            "grid_auto_columns": null,
            "grid_auto_flow": null,
            "grid_auto_rows": null,
            "grid_column": null,
            "grid_gap": null,
            "grid_row": null,
            "grid_template_areas": null,
            "grid_template_columns": null,
            "grid_template_rows": null,
            "height": null,
            "justify_content": null,
            "justify_items": null,
            "left": null,
            "margin": null,
            "max_height": null,
            "max_width": null,
            "min_height": null,
            "min_width": null,
            "object_fit": null,
            "object_position": null,
            "order": null,
            "overflow": null,
            "overflow_x": null,
            "overflow_y": null,
            "padding": null,
            "right": null,
            "top": null,
            "visibility": null,
            "width": null
          }
        },
        "6b2139497a0b429bb6749da4a54c03f6": {
          "model_module": "@jupyter-widgets/base",
          "model_name": "LayoutModel",
          "model_module_version": "1.2.0",
          "state": {
            "_model_module": "@jupyter-widgets/base",
            "_model_module_version": "1.2.0",
            "_model_name": "LayoutModel",
            "_view_count": null,
            "_view_module": "@jupyter-widgets/base",
            "_view_module_version": "1.2.0",
            "_view_name": "LayoutView",
            "align_content": null,
            "align_items": null,
            "align_self": null,
            "border": null,
            "bottom": null,
            "display": null,
            "flex": null,
            "flex_flow": null,
            "grid_area": null,
            "grid_auto_columns": null,
            "grid_auto_flow": null,
            "grid_auto_rows": null,
            "grid_column": null,
            "grid_gap": null,
            "grid_row": null,
            "grid_template_areas": null,
            "grid_template_columns": null,
            "grid_template_rows": null,
            "height": null,
            "justify_content": null,
            "justify_items": null,
            "left": null,
            "margin": null,
            "max_height": null,
            "max_width": null,
            "min_height": null,
            "min_width": null,
            "object_fit": null,
            "object_position": null,
            "order": null,
            "overflow": null,
            "overflow_x": null,
            "overflow_y": null,
            "padding": null,
            "right": null,
            "top": null,
            "visibility": null,
            "width": null
          }
        },
        "b6ac3a70009141ee9e436e6de8922508": {
          "model_module": "@jupyter-widgets/controls",
          "model_name": "DescriptionStyleModel",
          "model_module_version": "1.5.0",
          "state": {
            "_model_module": "@jupyter-widgets/controls",
            "_model_module_version": "1.5.0",
            "_model_name": "DescriptionStyleModel",
            "_view_count": null,
            "_view_module": "@jupyter-widgets/base",
            "_view_module_version": "1.2.0",
            "_view_name": "StyleView",
            "description_width": ""
          }
        },
        "73a56f1070074257b79a0774c39cfb28": {
          "model_module": "@jupyter-widgets/base",
          "model_name": "LayoutModel",
          "model_module_version": "1.2.0",
          "state": {
            "_model_module": "@jupyter-widgets/base",
            "_model_module_version": "1.2.0",
            "_model_name": "LayoutModel",
            "_view_count": null,
            "_view_module": "@jupyter-widgets/base",
            "_view_module_version": "1.2.0",
            "_view_name": "LayoutView",
            "align_content": null,
            "align_items": null,
            "align_self": null,
            "border": null,
            "bottom": null,
            "display": null,
            "flex": null,
            "flex_flow": null,
            "grid_area": null,
            "grid_auto_columns": null,
            "grid_auto_flow": null,
            "grid_auto_rows": null,
            "grid_column": null,
            "grid_gap": null,
            "grid_row": null,
            "grid_template_areas": null,
            "grid_template_columns": null,
            "grid_template_rows": null,
            "height": null,
            "justify_content": null,
            "justify_items": null,
            "left": null,
            "margin": null,
            "max_height": null,
            "max_width": null,
            "min_height": null,
            "min_width": null,
            "object_fit": null,
            "object_position": null,
            "order": null,
            "overflow": null,
            "overflow_x": null,
            "overflow_y": null,
            "padding": null,
            "right": null,
            "top": null,
            "visibility": null,
            "width": null
          }
        },
        "e898851d97ed4c8fa0a71b95c71fc055": {
          "model_module": "@jupyter-widgets/controls",
          "model_name": "ProgressStyleModel",
          "model_module_version": "1.5.0",
          "state": {
            "_model_module": "@jupyter-widgets/controls",
            "_model_module_version": "1.5.0",
            "_model_name": "ProgressStyleModel",
            "_view_count": null,
            "_view_module": "@jupyter-widgets/base",
            "_view_module_version": "1.2.0",
            "_view_name": "StyleView",
            "bar_color": null,
            "description_width": ""
          }
        },
        "0087bba09e6a484c83025f7f4a213c08": {
          "model_module": "@jupyter-widgets/base",
          "model_name": "LayoutModel",
          "model_module_version": "1.2.0",
          "state": {
            "_model_module": "@jupyter-widgets/base",
            "_model_module_version": "1.2.0",
            "_model_name": "LayoutModel",
            "_view_count": null,
            "_view_module": "@jupyter-widgets/base",
            "_view_module_version": "1.2.0",
            "_view_name": "LayoutView",
            "align_content": null,
            "align_items": null,
            "align_self": null,
            "border": null,
            "bottom": null,
            "display": null,
            "flex": null,
            "flex_flow": null,
            "grid_area": null,
            "grid_auto_columns": null,
            "grid_auto_flow": null,
            "grid_auto_rows": null,
            "grid_column": null,
            "grid_gap": null,
            "grid_row": null,
            "grid_template_areas": null,
            "grid_template_columns": null,
            "grid_template_rows": null,
            "height": null,
            "justify_content": null,
            "justify_items": null,
            "left": null,
            "margin": null,
            "max_height": null,
            "max_width": null,
            "min_height": null,
            "min_width": null,
            "object_fit": null,
            "object_position": null,
            "order": null,
            "overflow": null,
            "overflow_x": null,
            "overflow_y": null,
            "padding": null,
            "right": null,
            "top": null,
            "visibility": null,
            "width": null
          }
        },
        "6a2679ac937049f1848e2b6b222af255": {
          "model_module": "@jupyter-widgets/controls",
          "model_name": "DescriptionStyleModel",
          "model_module_version": "1.5.0",
          "state": {
            "_model_module": "@jupyter-widgets/controls",
            "_model_module_version": "1.5.0",
            "_model_name": "DescriptionStyleModel",
            "_view_count": null,
            "_view_module": "@jupyter-widgets/base",
            "_view_module_version": "1.2.0",
            "_view_name": "StyleView",
            "description_width": ""
          }
        },
        "55fc3931527b441e85057296e08e8013": {
          "model_module": "@jupyter-widgets/controls",
          "model_name": "HBoxModel",
          "model_module_version": "1.5.0",
          "state": {
            "_dom_classes": [],
            "_model_module": "@jupyter-widgets/controls",
            "_model_module_version": "1.5.0",
            "_model_name": "HBoxModel",
            "_view_count": null,
            "_view_module": "@jupyter-widgets/controls",
            "_view_module_version": "1.5.0",
            "_view_name": "HBoxView",
            "box_style": "",
            "children": [
              "IPY_MODEL_6a53f22461014cd2a59b984edb759161",
              "IPY_MODEL_9cebf3fc3468453ab4b017cfc1a48bc9",
              "IPY_MODEL_8d1cfb3e03b446168c5cc6d1f844fab8"
            ],
            "layout": "IPY_MODEL_06298ff658bd446e85e377051f6a69ff"
          }
        },
        "6a53f22461014cd2a59b984edb759161": {
          "model_module": "@jupyter-widgets/controls",
          "model_name": "HTMLModel",
          "model_module_version": "1.5.0",
          "state": {
            "_dom_classes": [],
            "_model_module": "@jupyter-widgets/controls",
            "_model_module_version": "1.5.0",
            "_model_name": "HTMLModel",
            "_view_count": null,
            "_view_module": "@jupyter-widgets/controls",
            "_view_module_version": "1.5.0",
            "_view_name": "HTMLView",
            "description": "",
            "description_tooltip": null,
            "layout": "IPY_MODEL_be59db196a5c44ef9cbce9766db9a95c",
            "placeholder": "​",
            "style": "IPY_MODEL_a4d24496f600454498e35aecd7d96db9",
            "value": "100%"
          }
        },
        "9cebf3fc3468453ab4b017cfc1a48bc9": {
          "model_module": "@jupyter-widgets/controls",
          "model_name": "FloatProgressModel",
          "model_module_version": "1.5.0",
          "state": {
            "_dom_classes": [],
            "_model_module": "@jupyter-widgets/controls",
            "_model_module_version": "1.5.0",
            "_model_name": "FloatProgressModel",
            "_view_count": null,
            "_view_module": "@jupyter-widgets/controls",
            "_view_module_version": "1.5.0",
            "_view_name": "ProgressView",
            "bar_style": "success",
            "description": "",
            "description_tooltip": null,
            "layout": "IPY_MODEL_84893d80053f4f61b69b9c1aee900ae6",
            "max": 120,
            "min": 0,
            "orientation": "horizontal",
            "style": "IPY_MODEL_34f4f9e85dfa41bba373875238a73b16",
            "value": 120
          }
        },
        "8d1cfb3e03b446168c5cc6d1f844fab8": {
          "model_module": "@jupyter-widgets/controls",
          "model_name": "HTMLModel",
          "model_module_version": "1.5.0",
          "state": {
            "_dom_classes": [],
            "_model_module": "@jupyter-widgets/controls",
            "_model_module_version": "1.5.0",
            "_model_name": "HTMLModel",
            "_view_count": null,
            "_view_module": "@jupyter-widgets/controls",
            "_view_module_version": "1.5.0",
            "_view_name": "HTMLView",
            "description": "",
            "description_tooltip": null,
            "layout": "IPY_MODEL_bf71c555b4e14f679164b6843e6a63c1",
            "placeholder": "​",
            "style": "IPY_MODEL_43ae83c8ea16445ab2a05e8da540e3b0",
            "value": " 120/120 [00:15&lt;00:00,  8.47it/s]"
          }
        },
        "06298ff658bd446e85e377051f6a69ff": {
          "model_module": "@jupyter-widgets/base",
          "model_name": "LayoutModel",
          "model_module_version": "1.2.0",
          "state": {
            "_model_module": "@jupyter-widgets/base",
            "_model_module_version": "1.2.0",
            "_model_name": "LayoutModel",
            "_view_count": null,
            "_view_module": "@jupyter-widgets/base",
            "_view_module_version": "1.2.0",
            "_view_name": "LayoutView",
            "align_content": null,
            "align_items": null,
            "align_self": null,
            "border": null,
            "bottom": null,
            "display": null,
            "flex": null,
            "flex_flow": null,
            "grid_area": null,
            "grid_auto_columns": null,
            "grid_auto_flow": null,
            "grid_auto_rows": null,
            "grid_column": null,
            "grid_gap": null,
            "grid_row": null,
            "grid_template_areas": null,
            "grid_template_columns": null,
            "grid_template_rows": null,
            "height": null,
            "justify_content": null,
            "justify_items": null,
            "left": null,
            "margin": null,
            "max_height": null,
            "max_width": null,
            "min_height": null,
            "min_width": null,
            "object_fit": null,
            "object_position": null,
            "order": null,
            "overflow": null,
            "overflow_x": null,
            "overflow_y": null,
            "padding": null,
            "right": null,
            "top": null,
            "visibility": null,
            "width": null
          }
        },
        "be59db196a5c44ef9cbce9766db9a95c": {
          "model_module": "@jupyter-widgets/base",
          "model_name": "LayoutModel",
          "model_module_version": "1.2.0",
          "state": {
            "_model_module": "@jupyter-widgets/base",
            "_model_module_version": "1.2.0",
            "_model_name": "LayoutModel",
            "_view_count": null,
            "_view_module": "@jupyter-widgets/base",
            "_view_module_version": "1.2.0",
            "_view_name": "LayoutView",
            "align_content": null,
            "align_items": null,
            "align_self": null,
            "border": null,
            "bottom": null,
            "display": null,
            "flex": null,
            "flex_flow": null,
            "grid_area": null,
            "grid_auto_columns": null,
            "grid_auto_flow": null,
            "grid_auto_rows": null,
            "grid_column": null,
            "grid_gap": null,
            "grid_row": null,
            "grid_template_areas": null,
            "grid_template_columns": null,
            "grid_template_rows": null,
            "height": null,
            "justify_content": null,
            "justify_items": null,
            "left": null,
            "margin": null,
            "max_height": null,
            "max_width": null,
            "min_height": null,
            "min_width": null,
            "object_fit": null,
            "object_position": null,
            "order": null,
            "overflow": null,
            "overflow_x": null,
            "overflow_y": null,
            "padding": null,
            "right": null,
            "top": null,
            "visibility": null,
            "width": null
          }
        },
        "a4d24496f600454498e35aecd7d96db9": {
          "model_module": "@jupyter-widgets/controls",
          "model_name": "DescriptionStyleModel",
          "model_module_version": "1.5.0",
          "state": {
            "_model_module": "@jupyter-widgets/controls",
            "_model_module_version": "1.5.0",
            "_model_name": "DescriptionStyleModel",
            "_view_count": null,
            "_view_module": "@jupyter-widgets/base",
            "_view_module_version": "1.2.0",
            "_view_name": "StyleView",
            "description_width": ""
          }
        },
        "84893d80053f4f61b69b9c1aee900ae6": {
          "model_module": "@jupyter-widgets/base",
          "model_name": "LayoutModel",
          "model_module_version": "1.2.0",
          "state": {
            "_model_module": "@jupyter-widgets/base",
            "_model_module_version": "1.2.0",
            "_model_name": "LayoutModel",
            "_view_count": null,
            "_view_module": "@jupyter-widgets/base",
            "_view_module_version": "1.2.0",
            "_view_name": "LayoutView",
            "align_content": null,
            "align_items": null,
            "align_self": null,
            "border": null,
            "bottom": null,
            "display": null,
            "flex": null,
            "flex_flow": null,
            "grid_area": null,
            "grid_auto_columns": null,
            "grid_auto_flow": null,
            "grid_auto_rows": null,
            "grid_column": null,
            "grid_gap": null,
            "grid_row": null,
            "grid_template_areas": null,
            "grid_template_columns": null,
            "grid_template_rows": null,
            "height": null,
            "justify_content": null,
            "justify_items": null,
            "left": null,
            "margin": null,
            "max_height": null,
            "max_width": null,
            "min_height": null,
            "min_width": null,
            "object_fit": null,
            "object_position": null,
            "order": null,
            "overflow": null,
            "overflow_x": null,
            "overflow_y": null,
            "padding": null,
            "right": null,
            "top": null,
            "visibility": null,
            "width": null
          }
        },
        "34f4f9e85dfa41bba373875238a73b16": {
          "model_module": "@jupyter-widgets/controls",
          "model_name": "ProgressStyleModel",
          "model_module_version": "1.5.0",
          "state": {
            "_model_module": "@jupyter-widgets/controls",
            "_model_module_version": "1.5.0",
            "_model_name": "ProgressStyleModel",
            "_view_count": null,
            "_view_module": "@jupyter-widgets/base",
            "_view_module_version": "1.2.0",
            "_view_name": "StyleView",
            "bar_color": null,
            "description_width": ""
          }
        },
        "bf71c555b4e14f679164b6843e6a63c1": {
          "model_module": "@jupyter-widgets/base",
          "model_name": "LayoutModel",
          "model_module_version": "1.2.0",
          "state": {
            "_model_module": "@jupyter-widgets/base",
            "_model_module_version": "1.2.0",
            "_model_name": "LayoutModel",
            "_view_count": null,
            "_view_module": "@jupyter-widgets/base",
            "_view_module_version": "1.2.0",
            "_view_name": "LayoutView",
            "align_content": null,
            "align_items": null,
            "align_self": null,
            "border": null,
            "bottom": null,
            "display": null,
            "flex": null,
            "flex_flow": null,
            "grid_area": null,
            "grid_auto_columns": null,
            "grid_auto_flow": null,
            "grid_auto_rows": null,
            "grid_column": null,
            "grid_gap": null,
            "grid_row": null,
            "grid_template_areas": null,
            "grid_template_columns": null,
            "grid_template_rows": null,
            "height": null,
            "justify_content": null,
            "justify_items": null,
            "left": null,
            "margin": null,
            "max_height": null,
            "max_width": null,
            "min_height": null,
            "min_width": null,
            "object_fit": null,
            "object_position": null,
            "order": null,
            "overflow": null,
            "overflow_x": null,
            "overflow_y": null,
            "padding": null,
            "right": null,
            "top": null,
            "visibility": null,
            "width": null
          }
        },
        "43ae83c8ea16445ab2a05e8da540e3b0": {
          "model_module": "@jupyter-widgets/controls",
          "model_name": "DescriptionStyleModel",
          "model_module_version": "1.5.0",
          "state": {
            "_model_module": "@jupyter-widgets/controls",
            "_model_module_version": "1.5.0",
            "_model_name": "DescriptionStyleModel",
            "_view_count": null,
            "_view_module": "@jupyter-widgets/base",
            "_view_module_version": "1.2.0",
            "_view_name": "StyleView",
            "description_width": ""
          }
        },
        "0a1f6da4457d401e987cda1a06a8a5fd": {
          "model_module": "@jupyter-widgets/controls",
          "model_name": "HBoxModel",
          "model_module_version": "1.5.0",
          "state": {
            "_dom_classes": [],
            "_model_module": "@jupyter-widgets/controls",
            "_model_module_version": "1.5.0",
            "_model_name": "HBoxModel",
            "_view_count": null,
            "_view_module": "@jupyter-widgets/controls",
            "_view_module_version": "1.5.0",
            "_view_name": "HBoxView",
            "box_style": "",
            "children": [
              "IPY_MODEL_16f56cda70994e9a90328e0fe7f0f9d7",
              "IPY_MODEL_59a98086bca54d8f9af320823db19415",
              "IPY_MODEL_01ec92bdece34225874115f5b1106984"
            ],
            "layout": "IPY_MODEL_cfd0f8616dec40fab6612d5ababad49b"
          }
        },
        "16f56cda70994e9a90328e0fe7f0f9d7": {
          "model_module": "@jupyter-widgets/controls",
          "model_name": "HTMLModel",
          "model_module_version": "1.5.0",
          "state": {
            "_dom_classes": [],
            "_model_module": "@jupyter-widgets/controls",
            "_model_module_version": "1.5.0",
            "_model_name": "HTMLModel",
            "_view_count": null,
            "_view_module": "@jupyter-widgets/controls",
            "_view_module_version": "1.5.0",
            "_view_name": "HTMLView",
            "description": "",
            "description_tooltip": null,
            "layout": "IPY_MODEL_6a4c661a2fb54c218e4a2129d8aff02c",
            "placeholder": "​",
            "style": "IPY_MODEL_3b8b838d99ea4877a6024b286b7ee13e",
            "value": "100%"
          }
        },
        "59a98086bca54d8f9af320823db19415": {
          "model_module": "@jupyter-widgets/controls",
          "model_name": "FloatProgressModel",
          "model_module_version": "1.5.0",
          "state": {
            "_dom_classes": [],
            "_model_module": "@jupyter-widgets/controls",
            "_model_module_version": "1.5.0",
            "_model_name": "FloatProgressModel",
            "_view_count": null,
            "_view_module": "@jupyter-widgets/controls",
            "_view_module_version": "1.5.0",
            "_view_name": "ProgressView",
            "bar_style": "success",
            "description": "",
            "description_tooltip": null,
            "layout": "IPY_MODEL_74aa4958886a41f09ad7c2667cf93e7b",
            "max": 120,
            "min": 0,
            "orientation": "horizontal",
            "style": "IPY_MODEL_0a25141361094756899b554c48b0f5bb",
            "value": 120
          }
        },
        "01ec92bdece34225874115f5b1106984": {
          "model_module": "@jupyter-widgets/controls",
          "model_name": "HTMLModel",
          "model_module_version": "1.5.0",
          "state": {
            "_dom_classes": [],
            "_model_module": "@jupyter-widgets/controls",
            "_model_module_version": "1.5.0",
            "_model_name": "HTMLModel",
            "_view_count": null,
            "_view_module": "@jupyter-widgets/controls",
            "_view_module_version": "1.5.0",
            "_view_name": "HTMLView",
            "description": "",
            "description_tooltip": null,
            "layout": "IPY_MODEL_5d196a6880894b6b90de4964acf90531",
            "placeholder": "​",
            "style": "IPY_MODEL_d993c5187b7c48d5aca8cd2fcadad83b",
            "value": " 120/120 [00:15&lt;00:00,  8.62it/s]"
          }
        },
        "cfd0f8616dec40fab6612d5ababad49b": {
          "model_module": "@jupyter-widgets/base",
          "model_name": "LayoutModel",
          "model_module_version": "1.2.0",
          "state": {
            "_model_module": "@jupyter-widgets/base",
            "_model_module_version": "1.2.0",
            "_model_name": "LayoutModel",
            "_view_count": null,
            "_view_module": "@jupyter-widgets/base",
            "_view_module_version": "1.2.0",
            "_view_name": "LayoutView",
            "align_content": null,
            "align_items": null,
            "align_self": null,
            "border": null,
            "bottom": null,
            "display": null,
            "flex": null,
            "flex_flow": null,
            "grid_area": null,
            "grid_auto_columns": null,
            "grid_auto_flow": null,
            "grid_auto_rows": null,
            "grid_column": null,
            "grid_gap": null,
            "grid_row": null,
            "grid_template_areas": null,
            "grid_template_columns": null,
            "grid_template_rows": null,
            "height": null,
            "justify_content": null,
            "justify_items": null,
            "left": null,
            "margin": null,
            "max_height": null,
            "max_width": null,
            "min_height": null,
            "min_width": null,
            "object_fit": null,
            "object_position": null,
            "order": null,
            "overflow": null,
            "overflow_x": null,
            "overflow_y": null,
            "padding": null,
            "right": null,
            "top": null,
            "visibility": null,
            "width": null
          }
        },
        "6a4c661a2fb54c218e4a2129d8aff02c": {
          "model_module": "@jupyter-widgets/base",
          "model_name": "LayoutModel",
          "model_module_version": "1.2.0",
          "state": {
            "_model_module": "@jupyter-widgets/base",
            "_model_module_version": "1.2.0",
            "_model_name": "LayoutModel",
            "_view_count": null,
            "_view_module": "@jupyter-widgets/base",
            "_view_module_version": "1.2.0",
            "_view_name": "LayoutView",
            "align_content": null,
            "align_items": null,
            "align_self": null,
            "border": null,
            "bottom": null,
            "display": null,
            "flex": null,
            "flex_flow": null,
            "grid_area": null,
            "grid_auto_columns": null,
            "grid_auto_flow": null,
            "grid_auto_rows": null,
            "grid_column": null,
            "grid_gap": null,
            "grid_row": null,
            "grid_template_areas": null,
            "grid_template_columns": null,
            "grid_template_rows": null,
            "height": null,
            "justify_content": null,
            "justify_items": null,
            "left": null,
            "margin": null,
            "max_height": null,
            "max_width": null,
            "min_height": null,
            "min_width": null,
            "object_fit": null,
            "object_position": null,
            "order": null,
            "overflow": null,
            "overflow_x": null,
            "overflow_y": null,
            "padding": null,
            "right": null,
            "top": null,
            "visibility": null,
            "width": null
          }
        },
        "3b8b838d99ea4877a6024b286b7ee13e": {
          "model_module": "@jupyter-widgets/controls",
          "model_name": "DescriptionStyleModel",
          "model_module_version": "1.5.0",
          "state": {
            "_model_module": "@jupyter-widgets/controls",
            "_model_module_version": "1.5.0",
            "_model_name": "DescriptionStyleModel",
            "_view_count": null,
            "_view_module": "@jupyter-widgets/base",
            "_view_module_version": "1.2.0",
            "_view_name": "StyleView",
            "description_width": ""
          }
        },
        "74aa4958886a41f09ad7c2667cf93e7b": {
          "model_module": "@jupyter-widgets/base",
          "model_name": "LayoutModel",
          "model_module_version": "1.2.0",
          "state": {
            "_model_module": "@jupyter-widgets/base",
            "_model_module_version": "1.2.0",
            "_model_name": "LayoutModel",
            "_view_count": null,
            "_view_module": "@jupyter-widgets/base",
            "_view_module_version": "1.2.0",
            "_view_name": "LayoutView",
            "align_content": null,
            "align_items": null,
            "align_self": null,
            "border": null,
            "bottom": null,
            "display": null,
            "flex": null,
            "flex_flow": null,
            "grid_area": null,
            "grid_auto_columns": null,
            "grid_auto_flow": null,
            "grid_auto_rows": null,
            "grid_column": null,
            "grid_gap": null,
            "grid_row": null,
            "grid_template_areas": null,
            "grid_template_columns": null,
            "grid_template_rows": null,
            "height": null,
            "justify_content": null,
            "justify_items": null,
            "left": null,
            "margin": null,
            "max_height": null,
            "max_width": null,
            "min_height": null,
            "min_width": null,
            "object_fit": null,
            "object_position": null,
            "order": null,
            "overflow": null,
            "overflow_x": null,
            "overflow_y": null,
            "padding": null,
            "right": null,
            "top": null,
            "visibility": null,
            "width": null
          }
        },
        "0a25141361094756899b554c48b0f5bb": {
          "model_module": "@jupyter-widgets/controls",
          "model_name": "ProgressStyleModel",
          "model_module_version": "1.5.0",
          "state": {
            "_model_module": "@jupyter-widgets/controls",
            "_model_module_version": "1.5.0",
            "_model_name": "ProgressStyleModel",
            "_view_count": null,
            "_view_module": "@jupyter-widgets/base",
            "_view_module_version": "1.2.0",
            "_view_name": "StyleView",
            "bar_color": null,
            "description_width": ""
          }
        },
        "5d196a6880894b6b90de4964acf90531": {
          "model_module": "@jupyter-widgets/base",
          "model_name": "LayoutModel",
          "model_module_version": "1.2.0",
          "state": {
            "_model_module": "@jupyter-widgets/base",
            "_model_module_version": "1.2.0",
            "_model_name": "LayoutModel",
            "_view_count": null,
            "_view_module": "@jupyter-widgets/base",
            "_view_module_version": "1.2.0",
            "_view_name": "LayoutView",
            "align_content": null,
            "align_items": null,
            "align_self": null,
            "border": null,
            "bottom": null,
            "display": null,
            "flex": null,
            "flex_flow": null,
            "grid_area": null,
            "grid_auto_columns": null,
            "grid_auto_flow": null,
            "grid_auto_rows": null,
            "grid_column": null,
            "grid_gap": null,
            "grid_row": null,
            "grid_template_areas": null,
            "grid_template_columns": null,
            "grid_template_rows": null,
            "height": null,
            "justify_content": null,
            "justify_items": null,
            "left": null,
            "margin": null,
            "max_height": null,
            "max_width": null,
            "min_height": null,
            "min_width": null,
            "object_fit": null,
            "object_position": null,
            "order": null,
            "overflow": null,
            "overflow_x": null,
            "overflow_y": null,
            "padding": null,
            "right": null,
            "top": null,
            "visibility": null,
            "width": null
          }
        },
        "d993c5187b7c48d5aca8cd2fcadad83b": {
          "model_module": "@jupyter-widgets/controls",
          "model_name": "DescriptionStyleModel",
          "model_module_version": "1.5.0",
          "state": {
            "_model_module": "@jupyter-widgets/controls",
            "_model_module_version": "1.5.0",
            "_model_name": "DescriptionStyleModel",
            "_view_count": null,
            "_view_module": "@jupyter-widgets/base",
            "_view_module_version": "1.2.0",
            "_view_name": "StyleView",
            "description_width": ""
          }
        }
      }
    }
  },
  "cells": [
    {
      "cell_type": "markdown",
      "metadata": {
        "id": "view-in-github",
        "colab_type": "text"
      },
      "source": [
        "<a href=\"https://colab.research.google.com/github/All4Nothing/pytorch-DL-programming/blob/main/Ch08_Mnist_Digit_Recognition.ipynb\" target=\"_parent\"><img src=\"https://colab.research.google.com/assets/colab-badge.svg\" alt=\"Open In Colab\"/></a>"
      ]
    },
    {
      "cell_type": "code",
      "source": [
        "!sudo apt-get install -y fonts-nanum* | tail -n 1\n",
        "!sudo fc-cache -fv\n",
        "!rm -rf ~/.cache/matplotlib"
      ],
      "metadata": {
        "colab": {
          "base_uri": "https://localhost:8080/"
        },
        "id": "Rus_Cg07B2e6",
        "outputId": "a428ebcd-c972-417d-c1cf-84dcbac8e659"
      },
      "execution_count": 4,
      "outputs": [
        {
          "output_type": "stream",
          "name": "stdout",
          "text": [
            "debconf: unable to initialize frontend: Dialog\n",
            "debconf: (No usable dialog-like program is installed, so the dialog based frontend cannot be used. at /usr/share/perl5/Debconf/FrontEnd/Dialog.pm line 76, <> line 4.)\n",
            "debconf: falling back to frontend: Readline\n",
            "debconf: unable to initialize frontend: Readline\n",
            "debconf: (This frontend requires a controlling tty.)\n",
            "debconf: falling back to frontend: Teletype\n",
            "dpkg-preconfigure: unable to re-open stdin: \n",
            "Processing triggers for fontconfig (2.13.1-2ubuntu3) ...\n",
            "/usr/share/fonts: caching, new cache contents: 0 fonts, 1 dirs\n",
            "/usr/share/fonts/truetype: caching, new cache contents: 0 fonts, 3 dirs\n",
            "/usr/share/fonts/truetype/humor-sans: caching, new cache contents: 1 fonts, 0 dirs\n",
            "/usr/share/fonts/truetype/liberation: caching, new cache contents: 16 fonts, 0 dirs\n",
            "/usr/share/fonts/truetype/nanum: caching, new cache contents: 31 fonts, 0 dirs\n",
            "/usr/local/share/fonts: caching, new cache contents: 0 fonts, 0 dirs\n",
            "/root/.local/share/fonts: skipping, no such directory\n",
            "/root/.fonts: skipping, no such directory\n",
            "/usr/share/fonts/truetype: skipping, looped directory detected\n",
            "/usr/share/fonts/truetype/humor-sans: skipping, looped directory detected\n",
            "/usr/share/fonts/truetype/liberation: skipping, looped directory detected\n",
            "/usr/share/fonts/truetype/nanum: skipping, looped directory detected\n",
            "/var/cache/fontconfig: cleaning cache directory\n",
            "/root/.cache/fontconfig: not cleaning non-existent cache directory\n",
            "/root/.fontconfig: not cleaning non-existent cache directory\n",
            "fc-cache: succeeded\n"
          ]
        }
      ]
    },
    {
      "cell_type": "code",
      "source": [
        "# 필요 라이브러리 설치\n",
        "\n",
        "!pip install torchviz | tail -n 1\n",
        "!pip install torchinfo | tail -n 1"
      ],
      "metadata": {
        "colab": {
          "base_uri": "https://localhost:8080/"
        },
        "id": "Tgf4gBIpB84q",
        "outputId": "9ade5b61-69a8-49e7-84d2-8be7361fc97d"
      },
      "execution_count": 5,
      "outputs": [
        {
          "output_type": "stream",
          "name": "stdout",
          "text": [
            "Successfully installed torchviz-0.0.2\n",
            "Successfully installed torchinfo-1.8.0\n"
          ]
        }
      ]
    },
    {
      "cell_type": "code",
      "source": [
        "# 라이브러리 임포트\n",
        "\n",
        "%matplotlib inline\n",
        "import numpy as np\n",
        "import matplotlib.pyplot as plt\n",
        "from IPython.display import display\n",
        "\n",
        "# 폰트 관련 용도\n",
        "import matplotlib.font_manager as fm\n",
        "\n",
        "# 나눔 고딕 폰트의 경로 명시\n",
        "path = '/usr/share/fonts/truetype/nanum/NanumGothic.ttf'\n",
        "font_name = fm.FontProperties(fname=path, size=10).get_name()"
      ],
      "metadata": {
        "id": "-Rjh-BVECNTU"
      },
      "execution_count": 1,
      "outputs": []
    },
    {
      "cell_type": "code",
      "source": [
        "# 파이토치 관련 라이브러리\n",
        "\n",
        "import torch\n",
        "import torch.nn as nn\n",
        "import torch.optim as optim\n",
        "from torchinfo import summary\n",
        "from torchviz import make_dot"
      ],
      "metadata": {
        "id": "db7PgVIcCN9r"
      },
      "execution_count": 2,
      "outputs": []
    },
    {
      "cell_type": "code",
      "source": [
        "# 기본 폰트 설정\n",
        "plt.rcParams['font.family'] = font_name\n",
        "\n",
        "# 기본 폰트 사이즈 변경\n",
        "plt.rcParams['font.size'] = 14\n",
        "\n",
        "# 기본 그래프 사이즈 변경\n",
        "plt.rcParams['figure.figsize'] = (6,6)\n",
        "\n",
        "# 기본 그리드 표시\n",
        "# 필요에 따라 설정할 때는, plt.grid()\n",
        "plt.rcParams['axes.grid'] = True\n",
        "\n",
        "# 마이너스 기호 정상 출력\n",
        "plt.rcParams['axes.unicode_minus'] = False\n",
        "\n",
        "# 넘파이 부동소수점 자릿수 표시\n",
        "np.set_printoptions(suppress=True, precision=4)"
      ],
      "metadata": {
        "id": "gUe8_1xHCPyb"
      },
      "execution_count": 3,
      "outputs": []
    },
    {
      "cell_type": "markdown",
      "source": [
        "# 08. MNIST를 활용한 숫자 인식"
      ],
      "metadata": {
        "id": "uUcNCxwyBoY0"
      }
    },
    {
      "cell_type": "markdown",
      "source": [
        "## 8.3 신경망과 딥러닝"
      ],
      "metadata": {
        "id": "1PhsbwmcCbpW"
      }
    },
    {
      "cell_type": "markdown",
      "source": [
        "2개 층 이상의 선형 함수로 이뤄진 모델이 딥러닝의 출발점"
      ],
      "metadata": {
        "id": "IYlALTfACfrb"
      }
    },
    {
      "cell_type": "markdown",
      "source": [
        "## 8.4 활성화 함수와 ReLU 함수"
      ],
      "metadata": {
        "id": "J9ZurqwmCpET"
      }
    },
    {
      "cell_type": "markdown",
      "source": [
        "층이 깊은 신경망에 관해, 단지 선형 함수의 결과를 이어지는 은닉층으로 입력하는 것만으로는, 아무리 층이 깊을지라도, 하나의 층으로 이뤄진 모델과 수학적으로 차이가 없다.\n",
        "층이 깊은 신경망이 유의미하기 위해서는 선형 함수를 통한 계산 결과에 '비선형 함수'로 불리는 함수를 적용시켜야 한다."
      ],
      "metadata": {
        "id": "QCQ2s1ViCs1y"
      }
    },
    {
      "cell_type": "code",
      "execution_count": 4,
      "metadata": {
        "colab": {
          "base_uri": "https://localhost:8080/",
          "height": 554
        },
        "id": "q_onujXJBRMK",
        "outputId": "55398ffe-d4cd-4780-b521-a4a423ace933"
      },
      "outputs": [
        {
          "output_type": "display_data",
          "data": {
            "text/plain": [
              "<Figure size 600x600 with 1 Axes>"
            ],
            "image/png": "[encoded data removed]"
          },
          "metadata": {}
        }
      ],
      "source": [
        "# ReLU 함수의 그래프\n",
        "\n",
        "relu = nn.ReLU()\n",
        "x_np = np.arange(-2, 2.1, 0.25)\n",
        "x = torch.tensor(x_np).float()\n",
        "y = relu(x)\n",
        "\n",
        "plt.plot(x.data, y.data)\n",
        "plt.title('ReLU 함수')\n",
        "plt.show()"
      ]
    },
    {
      "cell_type": "markdown",
      "source": [
        "## 8.5 GPU 사용하기"
      ],
      "metadata": {
        "id": "1aCR_1beC96i"
      }
    },
    {
      "cell_type": "markdown",
      "source": [
        "런타임 - 런타임 유형 변경 - GPU"
      ],
      "metadata": {
        "id": "Rz7S7ZOSDIFp"
      }
    },
    {
      "cell_type": "markdown",
      "source": [
        "케라스의 경우, GPU 사용 여부는 시스템(프레임워크)이 체크해서 사용 가능하다면 프로그램을 의식하지 않고, 자동적으로 GPU를 사용한다.\n",
        "파이토치는 프로그램에서 항상 GPU를 인식시켜줘야 한다."
      ],
      "metadata": {
        "id": "8sA4B_Q-DMit"
      }
    },
    {
      "cell_type": "markdown",
      "source": [
        "### GPU 디바이스 확인"
      ],
      "metadata": {
        "id": "6EuKZJo6Dh-f"
      }
    },
    {
      "cell_type": "code",
      "source": [
        "# 디바이스 할당\n",
        "device = torch.device(\"cuda:0\" if torch.cuda.is_available() else \"cpu\")\n",
        "print(device)"
      ],
      "metadata": {
        "colab": {
          "base_uri": "https://localhost:8080/"
        },
        "id": "_6hrPiajC84C",
        "outputId": "6d6679f7-2781-41a3-88df-ffc776cceb31"
      },
      "execution_count": 5,
      "outputs": [
        {
          "output_type": "stream",
          "name": "stdout",
          "text": [
            "cuda:0\n"
          ]
        }
      ]
    },
    {
      "cell_type": "markdown",
      "source": [
        "### GPU 사용 규칙\n",
        "1. 텐서 변수는 데이터가 CPU와 GPU 중 어디에 속해 있는지를 속성으로 갖는다.\n",
        "2. CPU와 GPU 사이에서 데이터는 to 함수로 전송한다.\n",
        "3. 두 개의 변수가 모두 GPU에 올라가 있는 경우, 연산은 GPU로 수행한다.\n",
        "4. 두 변수 중 한쪽이 CPU, 다른 한쪽이 GPU에 올라가 있는 경우, 연산은 에러를 발생시킨다."
      ],
      "metadata": {
        "id": "cXDvZOwQEBHf"
      }
    },
    {
      "cell_type": "code",
      "source": [
        "# 텐서 변수 x, y\n",
        "x_np = np.arange(-2.0, 2.1, 0.25)\n",
        "y_np = np.arange(-1.0, 3.1, 0.25)\n",
        "x = torch.tensor(x_np).float()\n",
        "y = torch.tensor(y_np).float()\n",
        "\n",
        "# x와 y 사이의 연산\n",
        "z = x * y\n",
        "print(z)"
      ],
      "metadata": {
        "colab": {
          "base_uri": "https://localhost:8080/"
        },
        "id": "doCNpXIEDkl_",
        "outputId": "d822ac4f-dbf4-4ddc-f5a2-25c2f88f012d"
      },
      "execution_count": 6,
      "outputs": [
        {
          "output_type": "stream",
          "name": "stdout",
          "text": [
            "tensor([ 2.0000,  1.3125,  0.7500,  0.3125, -0.0000, -0.1875, -0.2500, -0.1875,\n",
            "         0.0000,  0.3125,  0.7500,  1.3125,  2.0000,  2.8125,  3.7500,  4.8125,\n",
            "         6.0000])\n"
          ]
        }
      ]
    },
    {
      "cell_type": "code",
      "source": [
        "# 변수 x를 GPU로 보냄\n",
        "x = x.to(device)\n",
        "\n",
        "# 변수 x와 y의 디바이스 속성 확인\n",
        "print('x: ', x.device)\n",
        "print('y: ', y.device)"
      ],
      "metadata": {
        "colab": {
          "base_uri": "https://localhost:8080/"
        },
        "id": "YYaikIpwD5Uf",
        "outputId": "61e29bad-30fa-4b1c-9c8c-143e926cf365"
      },
      "execution_count": 7,
      "outputs": [
        {
          "output_type": "stream",
          "name": "stdout",
          "text": [
            "x:  cuda:0\n",
            "y:  cpu\n"
          ]
        }
      ]
    },
    {
      "cell_type": "code",
      "source": [
        "# 이 상태에서 x와 y의 연산을 수행하면...\n",
        "\n",
        "z = x * y"
      ],
      "metadata": {
        "colab": {
          "base_uri": "https://localhost:8080/",
          "height": 229
        },
        "id": "X8pr5RgXD6JP",
        "outputId": "fcc23068-0c9e-4bbd-c7b4-53f0a8390add"
      },
      "execution_count": 8,
      "outputs": [
        {
          "output_type": "error",
          "ename": "RuntimeError",
          "evalue": "ignored",
          "traceback": [
            "\u001b[0;31m---------------------------------------------------------------------------\u001b[0m",
            "\u001b[0;31mRuntimeError\u001b[0m                              Traceback (most recent call last)",
            "\u001b[0;32m<ipython-input-8-60ca28ef103a>\u001b[0m in \u001b[0;36m<cell line: 3>\u001b[0;34m()\u001b[0m\n\u001b[1;32m      1\u001b[0m \u001b[0;31m# 이 상태에서 x와 y의 연산을 수행하면...\u001b[0m\u001b[0;34m\u001b[0m\u001b[0;34m\u001b[0m\u001b[0m\n\u001b[1;32m      2\u001b[0m \u001b[0;34m\u001b[0m\u001b[0m\n\u001b[0;32m----> 3\u001b[0;31m \u001b[0mz\u001b[0m \u001b[0;34m=\u001b[0m \u001b[0mx\u001b[0m \u001b[0;34m*\u001b[0m \u001b[0my\u001b[0m\u001b[0;34m\u001b[0m\u001b[0;34m\u001b[0m\u001b[0m\n\u001b[0m",
            "\u001b[0;31mRuntimeError\u001b[0m: Expected all tensors to be on the same device, but found at least two devices, cuda:0 and cpu!"
          ]
        }
      ]
    },
    {
      "cell_type": "code",
      "source": [
        "# y도 GPU로 보냄\n",
        "y = y.to(device)\n",
        "\n",
        "# 연산이 가능해짐\n",
        "z = x * y\n",
        "print(z)"
      ],
      "metadata": {
        "colab": {
          "base_uri": "https://localhost:8080/"
        },
        "id": "9WIHLQbVD7YP",
        "outputId": "476fac5e-4d8c-4a09-9ba1-f4f63856f919"
      },
      "execution_count": 9,
      "outputs": [
        {
          "output_type": "stream",
          "name": "stdout",
          "text": [
            "tensor([ 2.0000,  1.3125,  0.7500,  0.3125, -0.0000, -0.1875, -0.2500, -0.1875,\n",
            "         0.0000,  0.3125,  0.7500,  1.3125,  2.0000,  2.8125,  3.7500,  4.8125,\n",
            "         6.0000], device='cuda:0')\n"
          ]
        }
      ]
    },
    {
      "cell_type": "markdown",
      "source": [
        "## 8.7 미니 배치 학습법"
      ],
      "metadata": {
        "id": "wHgEsok9EV6t"
      }
    },
    {
      "cell_type": "markdown",
      "source": [
        "- 배치 학습법 : 원래의 학습 데이터 전체 건수로 한 번에 경사 계산을 하는 방식\n",
        "- 미니 배치 학습법 : 사전에 합의된 건 수만큼 그룹을 만들어, 그룹 단위로 경사를 계산하는 방법\n",
        "파이토치에서는 간단하게 미니 배치 학습법을 사용할 수 있도록 Data Loader 라는 장치가 있다."
      ],
      "metadata": {
        "id": "Bj5zcVlyEfZN"
      }
    },
    {
      "cell_type": "markdown",
      "source": [
        "## 8.8 데이터 준비 1 (Dataset을 활용해 불러오기)"
      ],
      "metadata": {
        "id": "YqT1pb36EyhR"
      }
    },
    {
      "cell_type": "markdown",
      "source": [
        "학습용 데이터 준비를 위한 파이토치 도구들\n",
        "- 데이터 입수 : Dataset\n",
        "- 데이터 전처리 : Transforms\n",
        "- 미니 배치용 데이터셋 생성 : DataLoader"
      ],
      "metadata": {
        "id": "f7MAFrIwE3VB"
      }
    },
    {
      "cell_type": "markdown",
      "source": [
        "### 데이터 입수"
      ],
      "metadata": {
        "id": "TGnTikT9FBwx"
      }
    },
    {
      "cell_type": "code",
      "source": [
        "# 라이브러리 임포트\n",
        "import torchvision.datasets as datasets\n",
        "\n",
        "# 다운로드받을 디렉터리명\n",
        "data_root = './data'\n",
        "\n",
        "train_set0 = datasets.MNIST(\n",
        "    # 원본 데이터를 다운로드받을 디렉터리 지정\n",
        "    root = data_root,\n",
        "    # 훈련 데이터인지 또는 검증 데이터인지\n",
        "    train = True,\n",
        "    # 원본 데이터가 없는 경우, 다운로드를 실행하는지 여부\n",
        "    download = True)"
      ],
      "metadata": {
        "colab": {
          "base_uri": "https://localhost:8080/"
        },
        "id": "QJnG2fElD_Dn",
        "outputId": "0b8795dc-2de2-4966-999d-da62cd61e997"
      },
      "execution_count": 10,
      "outputs": [
        {
          "output_type": "stream",
          "name": "stdout",
          "text": [
            "Downloading http://yann.lecun.com/exdb/mnist/train-images-idx3-ubyte.gz\n",
            "Downloading http://yann.lecun.com/exdb/mnist/train-images-idx3-ubyte.gz to ./data/MNIST/raw/train-images-idx3-ubyte.gz\n"
          ]
        },
        {
          "output_type": "stream",
          "name": "stderr",
          "text": [
            "100%|██████████| 9912422/9912422 [00:00<00:00, 115139788.93it/s]\n"
          ]
        },
        {
          "output_type": "stream",
          "name": "stdout",
          "text": [
            "Extracting ./data/MNIST/raw/train-images-idx3-ubyte.gz to ./data/MNIST/raw\n",
            "\n",
            "Downloading http://yann.lecun.com/exdb/mnist/train-labels-idx1-ubyte.gz\n",
            "Downloading http://yann.lecun.com/exdb/mnist/train-labels-idx1-ubyte.gz to ./data/MNIST/raw/train-labels-idx1-ubyte.gz\n"
          ]
        },
        {
          "output_type": "stream",
          "name": "stderr",
          "text": [
            "100%|██████████| 28881/28881 [00:00<00:00, 114171247.71it/s]\n"
          ]
        },
        {
          "output_type": "stream",
          "name": "stdout",
          "text": [
            "Extracting ./data/MNIST/raw/train-labels-idx1-ubyte.gz to ./data/MNIST/raw\n",
            "\n",
            "Downloading http://yann.lecun.com/exdb/mnist/t10k-images-idx3-ubyte.gz\n",
            "Downloading http://yann.lecun.com/exdb/mnist/t10k-images-idx3-ubyte.gz to ./data/MNIST/raw/t10k-images-idx3-ubyte.gz\n"
          ]
        },
        {
          "output_type": "stream",
          "name": "stderr",
          "text": [
            "100%|██████████| 1648877/1648877 [00:00<00:00, 35989526.64it/s]\n"
          ]
        },
        {
          "output_type": "stream",
          "name": "stdout",
          "text": [
            "Extracting ./data/MNIST/raw/t10k-images-idx3-ubyte.gz to ./data/MNIST/raw\n",
            "\n",
            "Downloading http://yann.lecun.com/exdb/mnist/t10k-labels-idx1-ubyte.gz\n",
            "Downloading http://yann.lecun.com/exdb/mnist/t10k-labels-idx1-ubyte.gz to ./data/MNIST/raw/t10k-labels-idx1-ubyte.gz\n"
          ]
        },
        {
          "output_type": "stream",
          "name": "stderr",
          "text": [
            "100%|██████████| 4542/4542 [00:00<00:00, 21623755.70it/s]"
          ]
        },
        {
          "output_type": "stream",
          "name": "stdout",
          "text": [
            "Extracting ./data/MNIST/raw/t10k-labels-idx1-ubyte.gz to ./data/MNIST/raw\n",
            "\n"
          ]
        },
        {
          "output_type": "stream",
          "name": "stderr",
          "text": [
            "\n"
          ]
        }
      ]
    },
    {
      "cell_type": "code",
      "source": [
        "# 다운로드한 파일 확인\n",
        "\n",
        "!ls -lR ./data/MNIST"
      ],
      "metadata": {
        "colab": {
          "base_uri": "https://localhost:8080/"
        },
        "id": "pN-7RszMFMk5",
        "outputId": "2c537a7a-e9f0-41c6-e860-c8cd25f6895c"
      },
      "execution_count": 11,
      "outputs": [
        {
          "output_type": "stream",
          "name": "stdout",
          "text": [
            "./data/MNIST:\n",
            "total 4\n",
            "drwxr-xr-x 2 root root 4096 Jun 19 14:35 raw\n",
            "\n",
            "./data/MNIST/raw:\n",
            "total 65008\n",
            "-rw-r--r-- 1 root root  7840016 Jun 19 14:35 t10k-images-idx3-ubyte\n",
            "-rw-r--r-- 1 root root  1648877 Jun 19 14:35 t10k-images-idx3-ubyte.gz\n",
            "-rw-r--r-- 1 root root    10008 Jun 19 14:35 t10k-labels-idx1-ubyte\n",
            "-rw-r--r-- 1 root root     4542 Jun 19 14:35 t10k-labels-idx1-ubyte.gz\n",
            "-rw-r--r-- 1 root root 47040016 Jun 19 14:35 train-images-idx3-ubyte\n",
            "-rw-r--r-- 1 root root  9912422 Jun 19 14:35 train-images-idx3-ubyte.gz\n",
            "-rw-r--r-- 1 root root    60008 Jun 19 14:35 train-labels-idx1-ubyte\n",
            "-rw-r--r-- 1 root root    28881 Jun 19 14:35 train-labels-idx1-ubyte.gz\n"
          ]
        }
      ]
    },
    {
      "cell_type": "code",
      "source": [
        "# 데이터 건수 확인\n",
        "print('데이터 건수: ', len(train_set0))\n",
        "\n",
        "# 첫번째 요소 가져오기\n",
        "image, label = train_set0[0]\n",
        "\n",
        "# 데이터 타입 확인\n",
        "print('입력 데이터 타입 : ', type(image))\n",
        "print('정답 데이터 타입 : ', type(label))"
      ],
      "metadata": {
        "colab": {
          "base_uri": "https://localhost:8080/"
        },
        "id": "QjDoQ4jfFP9Z",
        "outputId": "9b86fe4d-8d06-4443-d29e-f69f7261c763"
      },
      "execution_count": 12,
      "outputs": [
        {
          "output_type": "stream",
          "name": "stdout",
          "text": [
            "데이터 건수:  60000\n",
            "입력 데이터 타입 :  <class 'PIL.Image.Image'>\n",
            "정답 데이터 타입 :  <class 'int'>\n"
          ]
        }
      ]
    },
    {
      "cell_type": "code",
      "source": [
        "# 입력 데이터를 이미지로 출력\n",
        "\n",
        "plt.figure(figsize=(1,1))\n",
        "plt.title(f'{label}')\n",
        "plt.imshow(image, cmap='gray_r')\n",
        "plt.axis('off')\n",
        "plt.show()"
      ],
      "metadata": {
        "colab": {
          "base_uri": "https://localhost:8080/",
          "height": 140
        },
        "id": "3NNnMFdVFUZI",
        "outputId": "7734085a-8214-4c6c-c8fd-f5fb3f02e469"
      },
      "execution_count": 13,
      "outputs": [
        {
          "output_type": "display_data",
          "data": {
            "text/plain": [
              "<Figure size 100x100 with 1 Axes>"
            ],
            "image/png": "[encoded data removed]"
          },
          "metadata": {}
        }
      ]
    },
    {
      "cell_type": "code",
      "source": [
        "# 정답 데이터와 함께 처음 20개 데이터를 이미지로 출력\n",
        "\n",
        "plt.figure(figsize=(10, 3))\n",
        "for i in range(20):\n",
        "    ax = plt.subplot(2, 10, i + 1)\n",
        "\n",
        "    # image와 label 취득\n",
        "    image, label = train_set0[i]\n",
        "\n",
        "    # 이미지 출력\n",
        "    plt.imshow(image, cmap='gray_r')\n",
        "    ax.set_title(f'{label}')\n",
        "    ax.get_xaxis().set_visible(False)\n",
        "    ax.get_yaxis().set_visible(False)\n",
        "plt.show()"
      ],
      "metadata": {
        "colab": {
          "base_uri": "https://localhost:8080/",
          "height": 232
        },
        "id": "ntt7ZAX_FZZZ",
        "outputId": "073a20ff-8db3-46c7-d60c-11157e455862"
      },
      "execution_count": 14,
      "outputs": [
        {
          "output_type": "display_data",
          "data": {
            "text/plain": [
              "<Figure size 1000x300 with 20 Axes>"
            ],
            "image/png": "[encoded data removed]"
          },
          "metadata": {}
        }
      ]
    },
    {
      "cell_type": "markdown",
      "source": [
        "라이브러리로 준비된 dataset.MNIST 클래스의 인스턴스 변수인 train_set0가, 원본 데이터 파일을 감춘채 파이썬으로 사용하기 간편한리스트 형태의 인터페이스를 제공하고 있다."
      ],
      "metadata": {
        "id": "EIc8kW2oFkFj"
      }
    },
    {
      "cell_type": "markdown",
      "source": [
        "## 8.9 데이터 준비 2 (Transforms를 활용한 데이터 전처리)"
      ],
      "metadata": {
        "id": "HMwWO97XFtTE"
      }
    },
    {
      "cell_type": "markdown",
      "source": [
        "### 스텝 1. ToTensor 사용하기"
      ],
      "metadata": {
        "id": "Wtjjn7D1Fxgs"
      }
    },
    {
      "cell_type": "code",
      "source": [
        "# 라이브러리 임포트\n",
        "import torchvision.transforms as transforms\n",
        "\n",
        "transform1 = transforms.Compose([\n",
        "    # 데이터를 텐서로 변환\n",
        "    # image 변수가 텐서 변수로 변환됨\n",
        "    transforms.ToTensor(),\n",
        "])\n",
        "\n",
        "train_set1 = datasets.MNIST(\n",
        "    root=data_root,  train=True,  download=True,\n",
        "    transform = transform1)"
      ],
      "metadata": {
        "id": "CcuzBQXkFb58"
      },
      "execution_count": 17,
      "outputs": []
    },
    {
      "cell_type": "code",
      "source": [
        "# 변환 결과 확인\n",
        "\n",
        "image, label = train_set1[0]\n",
        "print('입력 데이터 타입 : ', type(image))\n",
        "print('입력 데이터 shape : ', image.shape)\n",
        "print('최솟값 : ', image.data.min())\n",
        "print('최댓값 : ', image.data.max())"
      ],
      "metadata": {
        "colab": {
          "base_uri": "https://localhost:8080/"
        },
        "id": "wo3muYcTF67G",
        "outputId": "226de1f5-fb87-46a0-9bea-569a5aec8ff1"
      },
      "execution_count": 18,
      "outputs": [
        {
          "output_type": "stream",
          "name": "stdout",
          "text": [
            "입력 데이터 타입 :  <class 'torch.Tensor'>\n",
            "입력 데이터 shape :  torch.Size([1, 28, 28])\n",
            "최솟값 :  tensor(0.)\n",
            "최댓값 :  tensor(1.)\n"
          ]
        }
      ]
    },
    {
      "cell_type": "markdown",
      "source": [
        "### 스텝 2. Normalize 사용하기"
      ],
      "metadata": {
        "id": "nxZRBzPTGIxN"
      }
    },
    {
      "cell_type": "markdown",
      "source": [
        "Normalize 클래스를 사용해서 데이터를 정규화한다.\n",
        "Normalize$(μ,σ)로 원본 데이터 𝒳 는 𝐗=(𝒳-μ)/σ에 따라 변환된다."
      ],
      "metadata": {
        "id": "Vil2zF4NGQCb"
      }
    },
    {
      "cell_type": "code",
      "source": [
        "transform2 = transforms.Compose([\n",
        "    # 데이터를 텐서로 변환\n",
        "    transforms.ToTensor(),\n",
        "\n",
        "    # 데이터 정규화\n",
        "    transforms.Normalize(0.5,  0.5), # 범위 [0,1] -> [-1,1]\n",
        "])\n",
        "\n",
        "train_set2 = datasets.MNIST(\n",
        "    root = data_root,  train = True,  download = True,\n",
        "    transform = transform2)"
      ],
      "metadata": {
        "id": "w_XM9MOQGADi"
      },
      "execution_count": 20,
      "outputs": []
    },
    {
      "cell_type": "code",
      "source": [
        "# 변환 결과 확인\n",
        "\n",
        "image, label = train_set2[0]\n",
        "print('shape : ', image.shape)\n",
        "print('최솟값 : ', image.data.min())\n",
        "print('최댓값 : ', image.data.max())"
      ],
      "metadata": {
        "colab": {
          "base_uri": "https://localhost:8080/"
        },
        "id": "6GWFjYClHJKg",
        "outputId": "f5b1afe2-d22e-4e69-c356-29231b1dc360"
      },
      "execution_count": 21,
      "outputs": [
        {
          "output_type": "stream",
          "name": "stdout",
          "text": [
            "shape :  torch.Size([1, 28, 28])\n",
            "최솟값 :  tensor(-1.)\n",
            "최댓값 :  tensor(1.)\n"
          ]
        }
      ]
    },
    {
      "cell_type": "markdown",
      "source": [
        "### 스텝 3. Lambda 클래스를 사용해 1차원으로 텐서 변환하기"
      ],
      "metadata": {
        "id": "uTPA2U9jHXxL"
      }
    },
    {
      "cell_type": "markdown",
      "source": [
        "FCNN 신경망에 입력하기 위해, 입력 변수의 shape를 원본 [1, 28, 28]에서 [784]로 변경"
      ],
      "metadata": {
        "id": "TDzkORx2Hfmd"
      }
    },
    {
      "cell_type": "code",
      "source": [
        "transform3 = transforms.Compose([\n",
        "    # 데이터를 텐서로 변환\n",
        "    transforms.ToTensor(),\n",
        "\n",
        "    # 데이터 정규화\n",
        "    transforms.Normalize(0.5, 0.5),\n",
        "\n",
        "    # 현재 텐서를 1계 텐서로 변환\n",
        "    transforms.Lambda(lambda x: x.view(-1)),\n",
        "])\n",
        "\n",
        "train_set3 = datasets.MNIST(\n",
        "    root = data_root,  train = True,\n",
        "    download=True, transform = transform3)"
      ],
      "metadata": {
        "id": "3vbgJ1p7HVuy"
      },
      "execution_count": 23,
      "outputs": []
    },
    {
      "cell_type": "code",
      "source": [
        "# 변환 결과 확인\n",
        "\n",
        "image, label = train_set3[0]\n",
        "print('shape : ', image.shape)\n",
        "print('최솟값 : ', image.data.min())\n",
        "print('최댓값 : ', image.data.max())"
      ],
      "metadata": {
        "colab": {
          "base_uri": "https://localhost:8080/"
        },
        "id": "NBU6LfOZHcNS",
        "outputId": "bac0b476-6a4c-4a66-f335-3b9f9586a535"
      },
      "execution_count": 25,
      "outputs": [
        {
          "output_type": "stream",
          "name": "stdout",
          "text": [
            "shape :  torch.Size([784])\n",
            "최솟값 :  tensor(-1.)\n",
            "최댓값 :  tensor(1.)\n"
          ]
        }
      ]
    },
    {
      "cell_type": "markdown",
      "source": [
        "Transforms 최종 구현 형태"
      ],
      "metadata": {
        "id": "Btgxg6aoH94S"
      }
    },
    {
      "cell_type": "code",
      "source": [
        "# 데이터 변환용 함수 Transforms\n",
        "# (1) Image를 텐서화\n",
        "# (2) [0, 1] 범위의 값을 [-1, 1] 범위로 조정\n",
        "# (3) 데이터의 shape을 [1, 28, 28] 에서 [784] 로 변환\n",
        "\n",
        "transform = transforms.Compose([\n",
        "    # (1) 데이터를 텐서로 변환\n",
        "    transforms.ToTensor(),\n",
        "\n",
        "    # (2) 데이터 정규화\n",
        "    transforms.Normalize(0.5, 0.5),\n",
        "\n",
        "    # (3) 1계 텐서로 변환\n",
        "    transforms.Lambda(lambda x: x.view(-1)),\n",
        "])"
      ],
      "metadata": {
        "id": "3Heg4soVH1st"
      },
      "execution_count": 26,
      "outputs": []
    },
    {
      "cell_type": "code",
      "source": [
        "# 데이터 입수를 위한 Dataset 함수\n",
        "\n",
        "# 훈련용 데이터셋 정의\n",
        "train_set = datasets.MNIST(\n",
        "    root = data_root, train = True,\n",
        "    download = True, transform = transform)\n",
        "\n",
        "# 검증용 데이터셋 정의\n",
        "test_set = datasets.MNIST(\n",
        "    root = data_root, train = False,\n",
        "    download = True, transform = transform)"
      ],
      "metadata": {
        "id": "KSDQORVWIBoR"
      },
      "execution_count": 27,
      "outputs": []
    },
    {
      "cell_type": "markdown",
      "source": [
        "## 8.10 데이터 준비 3 (데이터로더를 활용한 미니 배치 데이터 생성"
      ],
      "metadata": {
        "id": "_8hGS8_KIOwo"
      }
    },
    {
      "cell_type": "code",
      "source": [
        "# 라이브러리 임포트\n",
        "from torch.utils.data import DataLoader\n",
        "\n",
        "# 미니 배치 사이즈 지정\n",
        "## batch_size : 미니 배치 처리 한 번당 얼마나 많은 분량의 데이터를 취할 것인가\n",
        "batch_size = 500\n",
        "\n",
        "# 훈련용 데이터로더\n",
        "# 훈련용이므로, 셔플을 적용함\n",
        "train_loader = DataLoader(\n",
        "    train_set, batch_size = batch_size,\n",
        "    shuffle = True)\n",
        "\n",
        "# 검증용 데이터로더\n",
        "# 검증시에는 셔플을 필요로하지 않음\n",
        "## shuffle : 난수로 데이터를 섞을지 여부\n",
        "test_loader = DataLoader(\n",
        "    test_set,  batch_size = batch_size,\n",
        "    shuffle = False)"
      ],
      "metadata": {
        "id": "zJu6Z7_oIGbx"
      },
      "execution_count": 29,
      "outputs": []
    },
    {
      "cell_type": "code",
      "source": [
        "# 몇 개의 그룹으로 데이터를 가져올 수 있는가\n",
        "print(len(train_loader)) # == 60000/500\n",
        "\n",
        "# 데이터로더로부터 가장 처음 한 세트를 가져옴\n",
        "for images, labels in train_loader:\n",
        "    break\n",
        "\n",
        "print(images.shape)\n",
        "print(labels.shape)"
      ],
      "metadata": {
        "colab": {
          "base_uri": "https://localhost:8080/"
        },
        "id": "V2Te-LAQIc_v",
        "outputId": "5dbfe3b8-a389-42a6-dd37-a1ea374086b0"
      },
      "execution_count": 31,
      "outputs": [
        {
          "output_type": "stream",
          "name": "stdout",
          "text": [
            "120\n",
            "torch.Size([500, 784])\n",
            "torch.Size([500])\n"
          ]
        }
      ]
    },
    {
      "cell_type": "code",
      "source": [
        "# 이미지 출력\n",
        "plt.figure(figsize=(10, 3))\n",
        "for i in range(20):\n",
        "    ax = plt.subplot(2, 10, i + 1)\n",
        "\n",
        "    # 넘파이로 배열로 변환\n",
        "    image = images[i].numpy()\n",
        "    label = labels[i]\n",
        "\n",
        "    # 이미지의 범위를 [0, 1] 로 되돌림\n",
        "    image2 = (image + 1)/ 2\n",
        "\n",
        "    # 이미지 출력\n",
        "    plt.imshow(image2.reshape(28, 28),cmap='gray_r')\n",
        "    ax.set_title(f'{label}')\n",
        "    ax.get_xaxis().set_visible(False)\n",
        "    ax.get_yaxis().set_visible(False)\n",
        "plt.show()"
      ],
      "metadata": {
        "colab": {
          "base_uri": "https://localhost:8080/",
          "height": 232
        },
        "id": "GbrJB2GZIly9",
        "outputId": "551ef95c-1a7c-41f9-a77e-eb53aa0f7dff"
      },
      "execution_count": 32,
      "outputs": [
        {
          "output_type": "display_data",
          "data": {
            "text/plain": [
              "<Figure size 1000x300 with 20 Axes>"
            ],
            "image/png": "[encoded data removed]"
          },
          "metadata": {}
        }
      ]
    },
    {
      "cell_type": "markdown",
      "source": [
        "## 8.11 모델 정의"
      ],
      "metadata": {
        "id": "lnj3xu2LI4FF"
      }
    },
    {
      "cell_type": "code",
      "source": [
        "# 입력 차원수\n",
        "n_input = image.shape[0]\n",
        "\n",
        "# 출력 차원수\n",
        "# 분류 클래스 수는 10\n",
        "n_output = len(list(set(labels.data.numpy())))\n",
        "\n",
        "# 은닉층의 노드 수\n",
        "n_hidden = 128\n",
        "\n",
        "# 결과 확인\n",
        "print(f'n_input: {n_input}  n_hidden: {n_hidden} n_output: {n_output}')"
      ],
      "metadata": {
        "colab": {
          "base_uri": "https://localhost:8080/"
        },
        "id": "foyUzkLkI2KF",
        "outputId": "24c55f53-109b-45ba-dfcf-3b7dd325e432"
      },
      "execution_count": 36,
      "outputs": [
        {
          "output_type": "stream",
          "name": "stdout",
          "text": [
            "n_input: 784  n_hidden: 128 n_output: 10\n"
          ]
        }
      ]
    },
    {
      "cell_type": "code",
      "source": [
        "# 모델 정의\n",
        "# 784입력 10출력 1은닉층의 신경망 모델\n",
        "\n",
        "class Net(nn.Module):\n",
        "    def __init__(self, n_input, n_output, n_hidden):\n",
        "        super().__init__()\n",
        "\n",
        "        # 은닉층 정의(은닉층 노드 수 : n_hidden)\n",
        "        self.l1 = nn.Linear(n_input, n_hidden)\n",
        "\n",
        "        # 출력층 정의\n",
        "        self.l2 = nn.Linear(n_hidden, n_output)\n",
        "\n",
        "        # ReLU 함수 정의\n",
        "        self.relu = nn.ReLU(inplace=True)\n",
        "\n",
        "    def forward(self, x):\n",
        "        x1 = self.l1(x)\n",
        "        x2 = self.relu(x1)\n",
        "        x3 = self.l2(x2)\n",
        "        return x3"
      ],
      "metadata": {
        "id": "_3XD2EP7JSRF"
      },
      "execution_count": 37,
      "outputs": []
    },
    {
      "cell_type": "markdown",
      "source": [
        "두번째(출력층) 선형 함수의 출력에 대해서 활성화 함수가 없는 것은, 손실 함수 쪽에 소프트맥스 함수를 포함할 예정이기 때문"
      ],
      "metadata": {
        "id": "OKMBp2QGJpqR"
      }
    },
    {
      "cell_type": "markdown",
      "source": [
        "지금까지의 구현과 달리, 파라미터의 초깃값을 모두 1.0으로 설정했던 부분이 없다.\n",
        "모든 요소의 값을 1.0으로 설정하면, 모델의 파라미터 수가 방대한 탓에 학습이 잘 이뤄지지 않는다.\n",
        "따라서, 난수를 사용한 가장 적합한 초깃값 설정을 그대로 사용하는 방침을 취한 것"
      ],
      "metadata": {
        "id": "Hp-zueeRJso5"
      }
    },
    {
      "cell_type": "code",
      "source": [
        "# 난수 고정\n",
        "torch.manual_seed(123)\n",
        "torch.cuda.manual_seed(123)\n",
        "\n",
        "# 모델 인스턴스 생성\n",
        "net = Net(n_input, n_output, n_hidden)\n",
        "\n",
        "# 모델을 GPU로 전송\n",
        "net = net.to(device)"
      ],
      "metadata": {
        "id": "J-hY_ZbHJeT8"
      },
      "execution_count": 38,
      "outputs": []
    },
    {
      "cell_type": "markdown",
      "source": [
        "### 최적화 알고리즘과 손실 함수"
      ],
      "metadata": {
        "id": "U93NtgklKEo_"
      }
    },
    {
      "cell_type": "code",
      "source": [
        "# 학습률\n",
        "lr = 0.01\n",
        "\n",
        "# 최적화 알고리즘: 경사 하강법\n",
        "optimizer = torch.optim.SGD(net.parameters(), lr=lr)\n",
        "\n",
        "# 손실 함수： 교차 엔트로피 함수\n",
        "criterion = nn.CrossEntropyLoss()"
      ],
      "metadata": {
        "id": "eQ1abooRKDp2"
      },
      "execution_count": 39,
      "outputs": []
    },
    {
      "cell_type": "markdown",
      "source": [
        "### 모델 확인\n"
      ],
      "metadata": {
        "id": "O7O56fd9KG2A"
      }
    },
    {
      "cell_type": "code",
      "source": [
        "# 모델 내부 파라미터 확인\n",
        "# l1.weight, l1.bias, l2.weight, l2.bias를 확인할 수 있음\n",
        "\n",
        "for parameter in net.named_parameters():\n",
        "    print(parameter)"
      ],
      "metadata": {
        "colab": {
          "base_uri": "https://localhost:8080/"
        },
        "id": "FTzKaJYiJ-cB",
        "outputId": "f891726c-20a2-4faf-aca4-ae1a55a2a2be"
      },
      "execution_count": 40,
      "outputs": [
        {
          "output_type": "stream",
          "name": "stdout",
          "text": [
            "('l1.weight', Parameter containing:\n",
            "tensor([[-0.0146,  0.0012, -0.0177,  ...,  0.0277,  0.0200,  0.0315],\n",
            "        [ 0.0184, -0.0322,  0.0175,  ...,  0.0089, -0.0028, -0.0033],\n",
            "        [ 0.0092,  0.0261,  0.0075,  ...,  0.0061,  0.0267, -0.0258],\n",
            "        ...,\n",
            "        [ 0.0235, -0.0026, -0.0129,  ...,  0.0322, -0.0059, -0.0169],\n",
            "        [-0.0328, -0.0258,  0.0124,  ..., -0.0049,  0.0006,  0.0334],\n",
            "        [ 0.0187, -0.0076, -0.0202,  ...,  0.0325, -0.0159, -0.0240]],\n",
            "       device='cuda:0', requires_grad=True))\n",
            "('l1.bias', Parameter containing:\n",
            "tensor([ 0.0325, -0.0298,  0.0013,  0.0199,  0.0268, -0.0248, -0.0172, -0.0355,\n",
            "         0.0122, -0.0048,  0.0214,  0.0202, -0.0243,  0.0015, -0.0276,  0.0296,\n",
            "         0.0341, -0.0228,  0.0230,  0.0347, -0.0091, -0.0346,  0.0206, -0.0060,\n",
            "         0.0329,  0.0047,  0.0180,  0.0101,  0.0177, -0.0309,  0.0228, -0.0224,\n",
            "         0.0321,  0.0179,  0.0321,  0.0184,  0.0219, -0.0089,  0.0310, -0.0039,\n",
            "        -0.0074, -0.0317,  0.0192, -0.0021,  0.0190,  0.0038,  0.0334, -0.0027,\n",
            "        -0.0127,  0.0229, -0.0265,  0.0023, -0.0162, -0.0134, -0.0027,  0.0212,\n",
            "        -0.0205, -0.0144,  0.0121,  0.0001,  0.0086,  0.0033,  0.0123,  0.0213,\n",
            "        -0.0177,  0.0247, -0.0109, -0.0222,  0.0228, -0.0110, -0.0074, -0.0089,\n",
            "        -0.0205,  0.0323, -0.0207, -0.0205, -0.0028, -0.0341, -0.0304,  0.0144,\n",
            "         0.0072,  0.0326, -0.0342, -0.0329, -0.0032, -0.0200, -0.0029, -0.0098,\n",
            "         0.0220, -0.0160,  0.0099,  0.0033, -0.0289,  0.0110,  0.0199,  0.0131,\n",
            "        -0.0279,  0.0122,  0.0237,  0.0126, -0.0055, -0.0088, -0.0057, -0.0048,\n",
            "         0.0007, -0.0017, -0.0324,  0.0048, -0.0134,  0.0334,  0.0298, -0.0060,\n",
            "         0.0263,  0.0113, -0.0113,  0.0150,  0.0091, -0.0311, -0.0079,  0.0002,\n",
            "        -0.0282, -0.0016,  0.0304, -0.0237, -0.0157, -0.0255,  0.0006,  0.0100],\n",
            "       device='cuda:0', requires_grad=True))\n",
            "('l2.weight', Parameter containing:\n",
            "tensor([[ 0.0107,  0.0714,  0.0153,  ...,  0.0704,  0.0505, -0.0382],\n",
            "        [-0.0066,  0.0348,  0.0143,  ..., -0.0039, -0.0141,  0.0130],\n",
            "        [-0.0251, -0.0654,  0.0567,  ..., -0.0435,  0.0154,  0.0256],\n",
            "        ...,\n",
            "        [-0.0131,  0.0147, -0.0452,  ...,  0.0344, -0.0539,  0.0466],\n",
            "        [ 0.0771, -0.0510,  0.0769,  ..., -0.0257, -0.0351,  0.0670],\n",
            "        [ 0.0456,  0.0628, -0.0649,  ..., -0.0804,  0.0707,  0.0119]],\n",
            "       device='cuda:0', requires_grad=True))\n",
            "('l2.bias', Parameter containing:\n",
            "tensor([-0.0787, -0.0282, -0.0108,  0.0021, -0.0330, -0.0162, -0.0825,  0.0590,\n",
            "         0.0566, -0.0631], device='cuda:0', requires_grad=True))\n"
          ]
        }
      ]
    },
    {
      "cell_type": "code",
      "source": [
        "# 모델 개요 표시 1\n",
        "\n",
        "print(net)"
      ],
      "metadata": {
        "colab": {
          "base_uri": "https://localhost:8080/"
        },
        "id": "aWpzq9bqKGMW",
        "outputId": "3b65f984-644c-4ddd-9b20-010140292b6a"
      },
      "execution_count": 41,
      "outputs": [
        {
          "output_type": "stream",
          "name": "stdout",
          "text": [
            "Net(\n",
            "  (l1): Linear(in_features=784, out_features=128, bias=True)\n",
            "  (l2): Linear(in_features=128, out_features=10, bias=True)\n",
            "  (relu): ReLU(inplace=True)\n",
            ")\n"
          ]
        }
      ]
    },
    {
      "cell_type": "code",
      "source": [
        "# 모델 개요 표시 2\n",
        "\n",
        "summary(net, (784,))"
      ],
      "metadata": {
        "colab": {
          "base_uri": "https://localhost:8080/"
        },
        "id": "UTOazATdKJt-",
        "outputId": "027d6459-37c7-407c-baf3-9f77e487509b"
      },
      "execution_count": 42,
      "outputs": [
        {
          "output_type": "execute_result",
          "data": {
            "text/plain": [
              "==========================================================================================\n",
              "Layer (type:depth-idx)                   Output Shape              Param #\n",
              "==========================================================================================\n",
              "Net                                      [10]                      --\n",
              "├─Linear: 1-1                            [128]                     100,480\n",
              "├─ReLU: 1-2                              [128]                     --\n",
              "├─Linear: 1-3                            [10]                      1,290\n",
              "==========================================================================================\n",
              "Total params: 101,770\n",
              "Trainable params: 101,770\n",
              "Non-trainable params: 0\n",
              "Total mult-adds (M): 12.87\n",
              "==========================================================================================\n",
              "Input size (MB): 0.00\n",
              "Forward/backward pass size (MB): 0.00\n",
              "Params size (MB): 0.41\n",
              "Estimated Total Size (MB): 0.41\n",
              "=========================================================================================="
            ]
          },
          "metadata": {},
          "execution_count": 42
        }
      ]
    },
    {
      "cell_type": "markdown",
      "source": [
        "## 8.12 경사 하강법"
      ],
      "metadata": {
        "id": "epaTg0q6KRGW"
      }
    },
    {
      "cell_type": "markdown",
      "source": [
        "### 예측 계산"
      ],
      "metadata": {
        "id": "tACIcqfdKT1G"
      }
    },
    {
      "cell_type": "code",
      "source": [
        "# 훈련 데이터셋의 가장 처음 항목을 취득\n",
        "# 데이터로더에서 가장 처음 항목을 취득\n",
        "for images, labels in train_loader:\n",
        "    break"
      ],
      "metadata": {
        "id": "RMJy5MMsKK6G"
      },
      "execution_count": 43,
      "outputs": []
    },
    {
      "cell_type": "code",
      "source": [
        "# 데이터로더에서 취득한 데이터를 GPU로 보냄\n",
        "inputs = images.to(device)\n",
        "labels = labels.to(device)"
      ],
      "metadata": {
        "id": "QvLXZVFHKVpG"
      },
      "execution_count": 45,
      "outputs": []
    },
    {
      "cell_type": "code",
      "source": [
        "# 예측 계산\n",
        "outputs = net(inputs)\n",
        "\n",
        "# 결과 확인\n",
        "print(outputs)"
      ],
      "metadata": {
        "colab": {
          "base_uri": "https://localhost:8080/"
        },
        "id": "7Tz3we5_KWo_",
        "outputId": "c2754a70-8dad-41df-81cf-3f9aab3654d6"
      },
      "execution_count": 46,
      "outputs": [
        {
          "output_type": "stream",
          "name": "stdout",
          "text": [
            "tensor([[-0.3622, -0.1927, -0.0179,  ...,  0.1073,  0.1025, -0.0615],\n",
            "        [-0.4072, -0.1814,  0.0716,  ...,  0.1866,  0.1975,  0.1161],\n",
            "        [-0.3221, -0.0547, -0.2868,  ...,  0.1967, -0.0103,  0.1591],\n",
            "        ...,\n",
            "        [-0.2091, -0.1058,  0.2365,  ...,  0.1360,  0.0665,  0.0987],\n",
            "        [-0.2756, -0.2012,  0.1703,  ...,  0.1223,  0.2388,  0.0233],\n",
            "        [-0.3045, -0.2458,  0.1416,  ...,  0.1012,  0.0820, -0.1457]],\n",
            "       device='cuda:0', grad_fn=<AddmmBackward0>)\n"
          ]
        }
      ]
    },
    {
      "cell_type": "markdown",
      "source": [
        "### 손실 계산"
      ],
      "metadata": {
        "id": "t7Ipde9hKa2e"
      }
    },
    {
      "cell_type": "code",
      "source": [
        "#  손실 계산\n",
        "loss = criterion(outputs, labels)\n",
        "\n",
        "# 손실값 가져오기\n",
        "print(loss.item())\n",
        "\n",
        "# 손실 계산 그래프 시각화\n",
        "g = make_dot(loss, params=dict(net.named_parameters()))\n",
        "display(g)"
      ],
      "metadata": {
        "colab": {
          "base_uri": "https://localhost:8080/",
          "height": 736
        },
        "id": "Dx8vNtxqKX3W",
        "outputId": "fca6f786-95b2-44e1-b827-ba8b9dd8980b"
      },
      "execution_count": 47,
      "outputs": [
        {
          "output_type": "stream",
          "name": "stdout",
          "text": [
            "2.3328874111175537\n"
          ]
        },
        {
          "output_type": "display_data",
          "data": {
            "image/svg+xml": "<?xml version=\"1.0\" encoding=\"UTF-8\" standalone=\"no\"?>\n<!DOCTYPE svg PUBLIC \"-//W3C//DTD SVG 1.1//EN\"\n \"http://www.w3.org/Graphics/SVG/1.1/DTD/svg11.dtd\">\n<!-- Generated by graphviz version 2.43.0 (0)\n -->\n<!-- Title: %3 Pages: 1 -->\n<svg width=\"340pt\" height=\"523pt\"\n viewBox=\"0.00 0.00 340.00 523.00\" xmlns=\"http://www.w3.org/2000/svg\" xmlns:xlink=\"http://www.w3.org/1999/xlink\">\n<g id=\"graph0\" class=\"graph\" transform=\"scale(1 1) rotate(0) translate(4 519)\">\n<title>%3</title>\n<polygon fill=\"white\" stroke=\"transparent\" points=\"-4,4 -4,-519 336,-519 336,4 -4,4\"/>\n<!-- 140533659470560 -->\n<g id=\"node1\" class=\"node\">\n<title>140533659470560</title>\n<polygon fill=\"#caff70\" stroke=\"black\" points=\"193.5,-31 139.5,-31 139.5,0 193.5,0 193.5,-31\"/>\n<text text-anchor=\"middle\" x=\"166.5\" y=\"-7\" font-family=\"monospace\" font-size=\"10.00\"> ()</text>\n</g>\n<!-- 140533661185744 -->\n<g id=\"node2\" class=\"node\">\n<title>140533661185744</title>\n<polygon fill=\"lightgrey\" stroke=\"black\" points=\"223,-86 110,-86 110,-67 223,-67 223,-86\"/>\n<text text-anchor=\"middle\" x=\"166.5\" y=\"-74\" font-family=\"monospace\" font-size=\"10.00\">NllLossBackward0</text>\n</g>\n<!-- 140533661185744&#45;&gt;140533659470560 -->\n<g id=\"edge15\" class=\"edge\">\n<title>140533661185744&#45;&gt;140533659470560</title>\n<path fill=\"none\" stroke=\"black\" d=\"M166.5,-66.79C166.5,-60.07 166.5,-50.4 166.5,-41.34\"/>\n<polygon fill=\"black\" stroke=\"black\" points=\"170,-41.19 166.5,-31.19 163,-41.19 170,-41.19\"/>\n</g>\n<!-- 140533661180992 -->\n<g id=\"node3\" class=\"node\">\n<title>140533661180992</title>\n<polygon fill=\"lightgrey\" stroke=\"black\" points=\"232,-141 101,-141 101,-122 232,-122 232,-141\"/>\n<text text-anchor=\"middle\" x=\"166.5\" y=\"-129\" font-family=\"monospace\" font-size=\"10.00\">LogSoftmaxBackward0</text>\n</g>\n<!-- 140533661180992&#45;&gt;140533661185744 -->\n<g id=\"edge1\" class=\"edge\">\n<title>140533661180992&#45;&gt;140533661185744</title>\n<path fill=\"none\" stroke=\"black\" d=\"M166.5,-121.75C166.5,-114.8 166.5,-104.85 166.5,-96.13\"/>\n<polygon fill=\"black\" stroke=\"black\" points=\"170,-96.09 166.5,-86.09 163,-96.09 170,-96.09\"/>\n</g>\n<!-- 140533661185888 -->\n<g id=\"node4\" class=\"node\">\n<title>140533661185888</title>\n<polygon fill=\"lightgrey\" stroke=\"black\" points=\"217,-196 116,-196 116,-177 217,-177 217,-196\"/>\n<text text-anchor=\"middle\" x=\"166.5\" y=\"-184\" font-family=\"monospace\" font-size=\"10.00\">AddmmBackward0</text>\n</g>\n<!-- 140533661185888&#45;&gt;140533661180992 -->\n<g id=\"edge2\" class=\"edge\">\n<title>140533661185888&#45;&gt;140533661180992</title>\n<path fill=\"none\" stroke=\"black\" d=\"M166.5,-176.75C166.5,-169.8 166.5,-159.85 166.5,-151.13\"/>\n<polygon fill=\"black\" stroke=\"black\" points=\"170,-151.09 166.5,-141.09 163,-151.09 170,-151.09\"/>\n</g>\n<!-- 140533661186752 -->\n<g id=\"node5\" class=\"node\">\n<title>140533661186752</title>\n<polygon fill=\"lightgrey\" stroke=\"black\" points=\"101,-251 0,-251 0,-232 101,-232 101,-251\"/>\n<text text-anchor=\"middle\" x=\"50.5\" y=\"-239\" font-family=\"monospace\" font-size=\"10.00\">AccumulateGrad</text>\n</g>\n<!-- 140533661186752&#45;&gt;140533661185888 -->\n<g id=\"edge3\" class=\"edge\">\n<title>140533661186752&#45;&gt;140533661185888</title>\n<path fill=\"none\" stroke=\"black\" d=\"M69.14,-231.98C87.8,-223.46 116.75,-210.23 138.24,-200.41\"/>\n<polygon fill=\"black\" stroke=\"black\" points=\"139.88,-203.51 147.52,-196.17 136.97,-197.14 139.88,-203.51\"/>\n</g>\n<!-- 140533756154384 -->\n<g id=\"node6\" class=\"node\">\n<title>140533756154384</title>\n<polygon fill=\"lightblue\" stroke=\"black\" points=\"80,-317 21,-317 21,-287 80,-287 80,-317\"/>\n<text text-anchor=\"middle\" x=\"50.5\" y=\"-305\" font-family=\"monospace\" font-size=\"10.00\">l2.bias</text>\n<text text-anchor=\"middle\" x=\"50.5\" y=\"-294\" font-family=\"monospace\" font-size=\"10.00\"> (10)</text>\n</g>\n<!-- 140533756154384&#45;&gt;140533661186752 -->\n<g id=\"edge4\" class=\"edge\">\n<title>140533756154384&#45;&gt;140533661186752</title>\n<path fill=\"none\" stroke=\"black\" d=\"M50.5,-286.84C50.5,-279.21 50.5,-269.7 50.5,-261.45\"/>\n<polygon fill=\"black\" stroke=\"black\" points=\"54,-261.27 50.5,-251.27 47,-261.27 54,-261.27\"/>\n</g>\n<!-- 140533661174224 -->\n<g id=\"node7\" class=\"node\">\n<title>140533661174224</title>\n<polygon fill=\"lightgrey\" stroke=\"black\" points=\"214,-251 119,-251 119,-232 214,-232 214,-251\"/>\n<text text-anchor=\"middle\" x=\"166.5\" y=\"-239\" font-family=\"monospace\" font-size=\"10.00\">ReluBackward0</text>\n</g>\n<!-- 140533661174224&#45;&gt;140533661185888 -->\n<g id=\"edge5\" class=\"edge\">\n<title>140533661174224&#45;&gt;140533661185888</title>\n<path fill=\"none\" stroke=\"black\" d=\"M166.5,-231.75C166.5,-224.8 166.5,-214.85 166.5,-206.13\"/>\n<polygon fill=\"black\" stroke=\"black\" points=\"170,-206.09 166.5,-196.09 163,-206.09 170,-206.09\"/>\n</g>\n<!-- 140533661173840 -->\n<g id=\"node8\" class=\"node\">\n<title>140533661173840</title>\n<polygon fill=\"lightgrey\" stroke=\"black\" points=\"213,-311.5 112,-311.5 112,-292.5 213,-292.5 213,-311.5\"/>\n<text text-anchor=\"middle\" x=\"162.5\" y=\"-299.5\" font-family=\"monospace\" font-size=\"10.00\">AddmmBackward0</text>\n</g>\n<!-- 140533661173840&#45;&gt;140533661174224 -->\n<g id=\"edge6\" class=\"edge\">\n<title>140533661173840&#45;&gt;140533661174224</title>\n<path fill=\"none\" stroke=\"black\" d=\"M163.09,-292.37C163.65,-284.25 164.5,-271.81 165.21,-261.39\"/>\n<polygon fill=\"black\" stroke=\"black\" points=\"168.72,-261.38 165.91,-251.17 161.73,-260.91 168.72,-261.38\"/>\n</g>\n<!-- 140533661179120 -->\n<g id=\"node9\" class=\"node\">\n<title>140533661179120</title>\n<polygon fill=\"lightgrey\" stroke=\"black\" points=\"118,-377.5 17,-377.5 17,-358.5 118,-358.5 118,-377.5\"/>\n<text text-anchor=\"middle\" x=\"67.5\" y=\"-365.5\" font-family=\"monospace\" font-size=\"10.00\">AccumulateGrad</text>\n</g>\n<!-- 140533661179120&#45;&gt;140533661173840 -->\n<g id=\"edge7\" class=\"edge\">\n<title>140533661179120&#45;&gt;140533661173840</title>\n<path fill=\"none\" stroke=\"black\" d=\"M80.31,-358.37C95.89,-347.87 122.43,-330 141.12,-317.4\"/>\n<polygon fill=\"black\" stroke=\"black\" points=\"143.25,-320.19 149.59,-311.7 139.34,-314.38 143.25,-320.19\"/>\n</g>\n<!-- 140533756154624 -->\n<g id=\"node10\" class=\"node\">\n<title>140533756154624</title>\n<polygon fill=\"lightblue\" stroke=\"black\" points=\"97,-449 38,-449 38,-419 97,-419 97,-449\"/>\n<text text-anchor=\"middle\" x=\"67.5\" y=\"-437\" font-family=\"monospace\" font-size=\"10.00\">l1.bias</text>\n<text text-anchor=\"middle\" x=\"67.5\" y=\"-426\" font-family=\"monospace\" font-size=\"10.00\"> (128)</text>\n</g>\n<!-- 140533756154624&#45;&gt;140533661179120 -->\n<g id=\"edge8\" class=\"edge\">\n<title>140533756154624&#45;&gt;140533661179120</title>\n<path fill=\"none\" stroke=\"black\" d=\"M67.5,-418.8C67.5,-409.7 67.5,-397.79 67.5,-387.9\"/>\n<polygon fill=\"black\" stroke=\"black\" points=\"71,-387.84 67.5,-377.84 64,-387.84 71,-387.84\"/>\n</g>\n<!-- 140533661174656 -->\n<g id=\"node11\" class=\"node\">\n<title>140533661174656</title>\n<polygon fill=\"lightgrey\" stroke=\"black\" points=\"213,-377.5 136,-377.5 136,-358.5 213,-358.5 213,-377.5\"/>\n<text text-anchor=\"middle\" x=\"174.5\" y=\"-365.5\" font-family=\"monospace\" font-size=\"10.00\">TBackward0</text>\n</g>\n<!-- 140533661174656&#45;&gt;140533661173840 -->\n<g id=\"edge9\" class=\"edge\">\n<title>140533661174656&#45;&gt;140533661173840</title>\n<path fill=\"none\" stroke=\"black\" d=\"M172.88,-358.37C171.14,-349.07 168.31,-333.98 166.04,-321.9\"/>\n<polygon fill=\"black\" stroke=\"black\" points=\"169.45,-321.09 164.17,-311.91 162.57,-322.38 169.45,-321.09\"/>\n</g>\n<!-- 140533661173024 -->\n<g id=\"node12\" class=\"node\">\n<title>140533661173024</title>\n<polygon fill=\"lightgrey\" stroke=\"black\" points=\"225,-443.5 124,-443.5 124,-424.5 225,-424.5 225,-443.5\"/>\n<text text-anchor=\"middle\" x=\"174.5\" y=\"-431.5\" font-family=\"monospace\" font-size=\"10.00\">AccumulateGrad</text>\n</g>\n<!-- 140533661173024&#45;&gt;140533661174656 -->\n<g id=\"edge10\" class=\"edge\">\n<title>140533661173024&#45;&gt;140533661174656</title>\n<path fill=\"none\" stroke=\"black\" d=\"M174.5,-424.37C174.5,-415.16 174.5,-400.29 174.5,-388.27\"/>\n<polygon fill=\"black\" stroke=\"black\" points=\"178,-387.91 174.5,-377.91 171,-387.91 178,-387.91\"/>\n</g>\n<!-- 140534284293104 -->\n<g id=\"node13\" class=\"node\">\n<title>140534284293104</title>\n<polygon fill=\"lightblue\" stroke=\"black\" points=\"216,-515 133,-515 133,-485 216,-485 216,-515\"/>\n<text text-anchor=\"middle\" x=\"174.5\" y=\"-503\" font-family=\"monospace\" font-size=\"10.00\">l1.weight</text>\n<text text-anchor=\"middle\" x=\"174.5\" y=\"-492\" font-family=\"monospace\" font-size=\"10.00\"> (128, 784)</text>\n</g>\n<!-- 140534284293104&#45;&gt;140533661173024 -->\n<g id=\"edge11\" class=\"edge\">\n<title>140534284293104&#45;&gt;140533661173024</title>\n<path fill=\"none\" stroke=\"black\" d=\"M174.5,-484.8C174.5,-475.7 174.5,-463.79 174.5,-453.9\"/>\n<polygon fill=\"black\" stroke=\"black\" points=\"178,-453.84 174.5,-443.84 171,-453.84 178,-453.84\"/>\n</g>\n<!-- 140533661175328 -->\n<g id=\"node14\" class=\"node\">\n<title>140533661175328</title>\n<polygon fill=\"lightgrey\" stroke=\"black\" points=\"313,-251 236,-251 236,-232 313,-232 313,-251\"/>\n<text text-anchor=\"middle\" x=\"274.5\" y=\"-239\" font-family=\"monospace\" font-size=\"10.00\">TBackward0</text>\n</g>\n<!-- 140533661175328&#45;&gt;140533661185888 -->\n<g id=\"edge12\" class=\"edge\">\n<title>140533661175328&#45;&gt;140533661185888</title>\n<path fill=\"none\" stroke=\"black\" d=\"M257.15,-231.98C239.93,-223.54 213.3,-210.47 193.35,-200.68\"/>\n<polygon fill=\"black\" stroke=\"black\" points=\"194.69,-197.43 184.17,-196.17 191.6,-203.72 194.69,-197.43\"/>\n</g>\n<!-- 140533661180896 -->\n<g id=\"node15\" class=\"node\">\n<title>140533661180896</title>\n<polygon fill=\"lightgrey\" stroke=\"black\" points=\"332,-311.5 231,-311.5 231,-292.5 332,-292.5 332,-311.5\"/>\n<text text-anchor=\"middle\" x=\"281.5\" y=\"-299.5\" font-family=\"monospace\" font-size=\"10.00\">AccumulateGrad</text>\n</g>\n<!-- 140533661180896&#45;&gt;140533661175328 -->\n<g id=\"edge13\" class=\"edge\">\n<title>140533661180896&#45;&gt;140533661175328</title>\n<path fill=\"none\" stroke=\"black\" d=\"M280.47,-292.37C279.5,-284.25 278.01,-271.81 276.76,-261.39\"/>\n<polygon fill=\"black\" stroke=\"black\" points=\"280.2,-260.68 275.54,-251.17 273.25,-261.51 280.2,-260.68\"/>\n</g>\n<!-- 140533661436720 -->\n<g id=\"node16\" class=\"node\">\n<title>140533661436720</title>\n<polygon fill=\"lightblue\" stroke=\"black\" points=\"320,-383 243,-383 243,-353 320,-353 320,-383\"/>\n<text text-anchor=\"middle\" x=\"281.5\" y=\"-371\" font-family=\"monospace\" font-size=\"10.00\">l2.weight</text>\n<text text-anchor=\"middle\" x=\"281.5\" y=\"-360\" font-family=\"monospace\" font-size=\"10.00\"> (10, 128)</text>\n</g>\n<!-- 140533661436720&#45;&gt;140533661180896 -->\n<g id=\"edge14\" class=\"edge\">\n<title>140533661436720&#45;&gt;140533661180896</title>\n<path fill=\"none\" stroke=\"black\" d=\"M281.5,-352.8C281.5,-343.7 281.5,-331.79 281.5,-321.9\"/>\n<polygon fill=\"black\" stroke=\"black\" points=\"285,-321.84 281.5,-311.84 278,-321.84 285,-321.84\"/>\n</g>\n</g>\n</svg>\n",
            "text/plain": [
              "<graphviz.graphs.Digraph at 0x7fd08af41810>"
            ]
          },
          "metadata": {}
        }
      ]
    },
    {
      "cell_type": "markdown",
      "source": [
        "weight와 bias가 두개인 것은, 선형 함수를 모델에 두 개 사용한 것(=은닉층이 포함한 모델을 작성했음)을 의미"
      ],
      "metadata": {
        "id": "LzOjkHSsKg4X"
      }
    },
    {
      "cell_type": "markdown",
      "source": [
        "### 경사 계산"
      ],
      "metadata": {
        "id": "5YYyWaJEKtwX"
      }
    },
    {
      "cell_type": "code",
      "source": [
        "# 경사 계산 실행\n",
        "loss.backward()"
      ],
      "metadata": {
        "id": "NIb98GbsKdR-"
      },
      "execution_count": 48,
      "outputs": []
    },
    {
      "cell_type": "code",
      "source": [
        "# 경사 계산 결과\n",
        "w = net.to('cpu')\n",
        "print(w.l1.weight.grad.numpy())\n",
        "print(w.l1.bias.grad.numpy())\n",
        "print(w.l2.weight.grad.numpy())\n",
        "print(w.l2.bias.grad.numpy())"
      ],
      "metadata": {
        "colab": {
          "base_uri": "https://localhost:8080/"
        },
        "id": "ZrVM12gbKu_P",
        "outputId": "bd3b759e-3e03-4ffd-8893-e52b07685d11"
      },
      "execution_count": 49,
      "outputs": [
        {
          "output_type": "stream",
          "name": "stdout",
          "text": [
            "[[-0.0007 -0.0007 -0.0007 ... -0.0007 -0.0007 -0.0007]\n",
            " [ 0.0077  0.0077  0.0077 ...  0.0077  0.0077  0.0077]\n",
            " [-0.0018 -0.0018 -0.0018 ... -0.0018 -0.0018 -0.0018]\n",
            " ...\n",
            " [-0.0008 -0.0008 -0.0008 ... -0.0008 -0.0008 -0.0008]\n",
            " [ 0.0011  0.0011  0.0011 ...  0.0011  0.0011  0.0011]\n",
            " [-0.0001 -0.0001 -0.0001 ... -0.0001 -0.0001 -0.0001]]\n",
            "[ 0.0007 -0.0077  0.0018  0.0008 -0.      0.      0.0014 -0.0008  0.0025\n",
            " -0.0016  0.0009 -0.002   0.0006  0.0025 -0.0026  0.0008  0.0061 -0.0011\n",
            " -0.0018  0.008   0.0063  0.0026 -0.0036  0.0056 -0.0006 -0.0038  0.0034\n",
            "  0.     -0.0026 -0.0032 -0.0006  0.0034  0.0018  0.      0.0001  0.0002\n",
            "  0.0047 -0.0012  0.0022  0.0018  0.0037 -0.0061  0.0011  0.0097 -0.0017\n",
            " -0.0012 -0.0004 -0.001  -0.0031 -0.0003 -0.0008  0.0004  0.0001 -0.0016\n",
            " -0.002  -0.0001 -0.0006 -0.0024 -0.0004  0.0029  0.0013 -0.0085  0.0013\n",
            "  0.0015  0.     -0.0006  0.004  -0.0016 -0.0052  0.0003 -0.0031  0.0001\n",
            "  0.0009 -0.0017 -0.0069 -0.0028  0.0017 -0.003   0.0012  0.0024  0.0011\n",
            " -0.002   0.0053 -0.0001  0.007   0.0024  0.003   0.0038 -0.0001 -0.0017\n",
            " -0.0006 -0.0021  0.0026  0.      0.0045  0.0037  0.0058 -0.0032 -0.\n",
            " -0.0003 -0.0006  0.      0.0029  0.0017  0.0022 -0.0034 -0.0001  0.0006\n",
            " -0.0015 -0.0035  0.0017 -0.0021 -0.0022  0.0013 -0.0002  0.0035 -0.0027\n",
            "  0.0006 -0.002   0.002  -0.0036  0.0004  0.0006  0.0006 -0.0011  0.0008\n",
            " -0.0011  0.0001]\n",
            "[[-0.0198 -0.0018 -0.02   ... -0.0068 -0.0056 -0.0021]\n",
            " [ 0.0061 -0.0106  0.0044 ... -0.0123  0.0017  0.0009]\n",
            " [-0.0059  0.0061  0.0035 ...  0.002   0.0012 -0.0008]\n",
            " ...\n",
            " [ 0.0067 -0.0137  0.0041 ...  0.0053 -0.0006  0.0019]\n",
            " [-0.0066 -0.0007  0.0034 ...  0.0073 -0.0021 -0.0036]\n",
            " [ 0.0088  0.0024 -0.0002 ... -0.0002  0.0019  0.0012]]\n",
            "[-0.053  -0.033   0.0125 -0.005   0.0229  0.0163  0.0168  0.0102  0.0214\n",
            " -0.0091]\n"
          ]
        }
      ]
    },
    {
      "cell_type": "markdown",
      "source": [
        "### 파라미터 수정"
      ],
      "metadata": {
        "id": "KyNgfZ5sKxUX"
      }
    },
    {
      "cell_type": "code",
      "source": [
        "# 경사 하강법 적용\n",
        "optimizer.step()"
      ],
      "metadata": {
        "id": "jJbKIRxEKwCn"
      },
      "execution_count": 50,
      "outputs": []
    },
    {
      "cell_type": "code",
      "source": [
        "# 파라미터 값 출력\n",
        "print(net.l1.weight)\n",
        "print(net.l1.bias)"
      ],
      "metadata": {
        "colab": {
          "base_uri": "https://localhost:8080/"
        },
        "id": "JsIMgZBvKytf",
        "outputId": "680fcb40-40d8-432e-b74c-78cdd977c7a1"
      },
      "execution_count": 51,
      "outputs": [
        {
          "output_type": "stream",
          "name": "stdout",
          "text": [
            "Parameter containing:\n",
            "tensor([[-0.0146,  0.0012, -0.0177,  ...,  0.0278,  0.0200,  0.0316],\n",
            "        [ 0.0183, -0.0322,  0.0174,  ...,  0.0088, -0.0029, -0.0034],\n",
            "        [ 0.0092,  0.0261,  0.0075,  ...,  0.0061,  0.0267, -0.0258],\n",
            "        ...,\n",
            "        [ 0.0235, -0.0026, -0.0129,  ...,  0.0323, -0.0059, -0.0169],\n",
            "        [-0.0329, -0.0258,  0.0124,  ..., -0.0049,  0.0006,  0.0334],\n",
            "        [ 0.0187, -0.0076, -0.0202,  ...,  0.0325, -0.0159, -0.0240]],\n",
            "       requires_grad=True)\n",
            "Parameter containing:\n",
            "tensor([ 3.2475e-02, -2.9682e-02,  1.2742e-03,  1.9874e-02,  2.6836e-02,\n",
            "        -2.4759e-02, -1.7201e-02, -3.5517e-02,  1.2199e-02, -4.7449e-03,\n",
            "         2.1379e-02,  2.0187e-02, -2.4297e-02,  1.4928e-03, -2.7613e-02,\n",
            "         2.9618e-02,  3.4051e-02, -2.2777e-02,  2.2983e-02,  3.4580e-02,\n",
            "        -9.1870e-03, -3.4619e-02,  2.0599e-02, -6.0632e-03,  3.2937e-02,\n",
            "         4.7784e-03,  1.7949e-02,  1.0102e-02,  1.7700e-02, -3.0853e-02,\n",
            "         2.2817e-02, -2.2391e-02,  3.2049e-02,  1.7890e-02,  3.2113e-02,\n",
            "         1.8418e-02,  2.1852e-02, -8.8597e-03,  3.0939e-02, -3.9572e-03,\n",
            "        -7.4435e-03, -3.1608e-02,  1.9150e-02, -2.2176e-03,  1.9040e-02,\n",
            "         3.7815e-03,  3.3376e-02, -2.7366e-03, -1.2678e-02,  2.2926e-02,\n",
            "        -2.6499e-02,  2.2708e-03, -1.6189e-02, -1.3415e-02, -2.7006e-03,\n",
            "         2.1242e-02, -2.0511e-02, -1.4376e-02,  1.2089e-02,  9.8037e-05,\n",
            "         8.5776e-03,  3.3507e-03,  1.2323e-02,  2.1314e-02, -1.7690e-02,\n",
            "         2.4736e-02, -1.0986e-02, -2.2139e-02,  2.2898e-02, -1.1038e-02,\n",
            "        -7.4188e-03, -8.9315e-03, -2.0528e-02,  3.2279e-02, -2.0665e-02,\n",
            "        -2.0434e-02, -2.7932e-03, -3.4027e-02, -3.0392e-02,  1.4364e-02,\n",
            "         7.1700e-03,  3.2612e-02, -3.4299e-02, -3.2920e-02, -3.2781e-03,\n",
            "        -2.0019e-02, -2.9709e-03, -9.8261e-03,  2.1964e-02, -1.5987e-02,\n",
            "         9.8720e-03,  3.2919e-03, -2.8945e-02,  1.0965e-02,  1.9866e-02,\n",
            "         1.3074e-02, -2.7974e-02,  1.2213e-02,  2.3668e-02,  1.2602e-02,\n",
            "        -5.4937e-03, -8.7514e-03, -5.7194e-03, -4.8619e-03,  6.6892e-04,\n",
            "        -1.7088e-03, -3.2382e-02,  4.8306e-03, -1.3428e-02,  3.3444e-02,\n",
            "         2.9813e-02, -5.9374e-03,  2.6309e-02,  1.1309e-02, -1.1252e-02,\n",
            "         1.4970e-02,  9.1236e-03, -3.1057e-02, -7.8487e-03,  1.3641e-04,\n",
            "        -2.8135e-02, -1.6511e-03,  3.0365e-02, -2.3754e-02, -1.5655e-02,\n",
            "        -2.5556e-02,  6.5686e-04,  9.9645e-03], requires_grad=True)\n"
          ]
        }
      ]
    },
    {
      "cell_type": "markdown",
      "source": [
        "### 반복 계산"
      ],
      "metadata": {
        "id": "sW4413VHK2E_"
      }
    },
    {
      "cell_type": "code",
      "source": [
        "# 난수 고정\n",
        "torch.manual_seed(123)\n",
        "torch.cuda.manual_seed(123)\n",
        "torch.backends.cudnn.deterministic = True\n",
        "torch.use_deterministic_algorithms = True\n",
        "\n",
        "# 학습률\n",
        "lr = 0.01\n",
        "\n",
        "# 모델 초기화\n",
        "net = Net(n_input, n_output, n_hidden).to(device)\n",
        "\n",
        "# 손실 함수： 교차 엔트로피 함수\n",
        "criterion = nn.CrossEntropyLoss()\n",
        "\n",
        "# 최적화 함수: 경사 하강법\n",
        "optimizer = optim.SGD(net.parameters(), lr=lr)\n",
        "\n",
        "# 반복 횟수\n",
        "num_epochs = 10\n",
        "\n",
        "# 평가 결과 기록\n",
        "history = np.zeros((0,5))"
      ],
      "metadata": {
        "id": "n0v_MW-iKzaQ"
      },
      "execution_count": 55,
      "outputs": []
    },
    {
      "cell_type": "code",
      "source": [
        "# tqdm 라이브러리 임포트\n",
        "from tqdm.notebook import tqdm\n",
        "\n",
        "# 반복 계산 메인 루프\n",
        "for epoch in range(num_epochs):\n",
        "    train_acc, train_loss = 0, 0\n",
        "    val_acc, val_loss = 0, 0\n",
        "    n_train, n_test = 0, 0\n",
        "\n",
        "    # 훈련 페이즈\n",
        "    for inputs, labels in tqdm(train_loader):\n",
        "        n_train += len(labels)\n",
        "\n",
        "        # GPU로 전송\n",
        "        inputs = inputs.to(device)\n",
        "        labels = labels.to(device)\n",
        "\n",
        "        # 경사 초기화\n",
        "        optimizer.zero_grad()\n",
        "\n",
        "        # 예측 계산\n",
        "        outputs = net(inputs)\n",
        "\n",
        "        # 손실 계산\n",
        "        loss = criterion(outputs, labels)\n",
        "\n",
        "        # 경사 계산\n",
        "        loss.backward()\n",
        "\n",
        "        # 파라미터 수정\n",
        "        optimizer.step()\n",
        "\n",
        "        # 예측 라벨 산출\n",
        "        predicted = torch.max(outputs, 1)[1]\n",
        "\n",
        "        # 손실과 정확도 계산\n",
        "        train_loss += loss.item()\n",
        "        train_acc += (predicted == labels).sum().item()\n",
        "\n",
        "    # 예측 페이즈\n",
        "    for inputs_test, labels_test in test_loader:\n",
        "        n_test += len(labels_test)\n",
        "\n",
        "        inputs_test = inputs_test.to(device)\n",
        "        labels_test = labels_test.to(device)\n",
        "\n",
        "\n",
        "        # 예측 계산\n",
        "        outputs_test = net(inputs_test)\n",
        "\n",
        "        # 손실 계산\n",
        "        loss_test = criterion(outputs_test, labels_test)\n",
        "\n",
        "        # 예측 라벨 산출\n",
        "        predicted_test = torch.max(outputs_test, 1)[1]\n",
        "\n",
        "        # 손실과 정확도 계산\n",
        "        val_loss +=  loss_test.item()\n",
        "        val_acc +=  (predicted_test == labels_test).sum().item()\n",
        "\n",
        "    # 평가 결과 산출, 기록\n",
        "    train_acc = train_acc / n_train\n",
        "    val_acc = val_acc / n_test\n",
        "    train_loss = train_loss * batch_size / n_train\n",
        "    val_loss = val_loss * batch_size / n_test\n",
        "    print (f'Epoch [{epoch+1}/{num_epochs}], loss: {train_loss:.5f} acc: {train_acc:.5f} val_loss: {val_loss:.5f}, val_acc: {val_acc:.5f}')\n",
        "    item = np.array([epoch+1 , train_loss, train_acc, val_loss, val_acc])\n",
        "    history = np.vstack((history, item))"
      ],
      "metadata": {
        "colab": {
          "base_uri": "https://localhost:8080/",
          "height": 521,
          "referenced_widgets": [
            "47ef65d72a1144b3bf9ee08b7dcdd286",
            "ab559175631e4a1fa9f8a0e6b7b0a40d",
            "b1200431ab784899ac39cc195e1efa07",
            "2fa584b9566b4fd29bbb815dce76892a",
            "9f5ba30ca2a547068bccf8502ac649c9",
            "2333f7b3617e4545ab4be0acaf08156b",
            "c652c0412444429189e8a2101469bdb3",
            "b2c866440b384492abf7dfd7e0f1a1ca",
            "ccd63d4372154062874d47875b5eb553",
            "59c85a3a571b49798bfe5d70fd1379fd",
            "7a5fe816091643ce931496664ddf3cf4",
            "3e17620b59f8452b8b6d77f584a64489",
            "1201821c49814209beba8de689673c63",
            "876ba23e8a114f44b36c30b50035fb13",
            "2af5202506d747d1bbcbc912ab28996e",
            "f1a8160be4dd47ac88509e08efa4f0f2",
            "5e68609b69b84a85956f0897ddad532d",
            "f7a1c6f7077b487d8882be995f3c1d0f",
            "ff482c589d68452986f8ee70a619fee3",
            "d5099ef47b5240bf8603b6c32938281f",
            "6e31a47dcee84a21b2a06af85202134e",
            "825528fb259e42ff835d37137249b665",
            "a069bfe7c6f44f6098fe9e637942e523",
            "6f1fd2206aa54722ab995f36015d1690",
            "4e9b02ca08f44017828692858ae248cd",
            "2bedf965f097443eba77eb3268662a2e",
            "48e04afe88144e81af3ad241c8f6b444",
            "a8cb3139c31641cdb2f67ea4c35e6532",
            "1dcc054927a749438a623543e7e0e36a",
            "ffedd257447c49dbbe60ba00e5fff5ea",
            "5ef7d8fdac904c3f9c08c479617efbb9",
            "05ee884dd8864c35a258aa9c9b5681b9",
            "cdedf6d49f244cb6adf82dcf9782ba3d",
            "6d23a053883a4c66819ec430008f903f",
            "8b3e3f3f736845e69c812d74bc7463a9",
            "a25a73ce6ec446d49dae6e875688f876",
            "0e2a83c7817e48e4814e77ab9fe1b769",
            "881cc47e5bad4ba4b1cbc72570f0760c",
            "fd975ffbb6394c57b8b9a381a73eb2d8",
            "e9caad056efa4402851482ef8049990e",
            "e743d8676fa443549ea28fafc5e93ac4",
            "6627514a872a4d16be37d6372d3530b3",
            "d9b6db40d3994534a0873f423f46d21b",
            "4f79376977384ed089d626f32ada0609",
            "d63fa9d842b74c509aee405f39b5be35",
            "615c303700b04188985de97043e4ba00",
            "429ab952f7a648e5a9a95d397a17ad04",
            "ed6eb71b07cc481883deab211ef20bdf",
            "40e763b216984ee68b8c83368fdc3f20",
            "9b963a5ee09a4148a86ec9f1e9b0116f",
            "18134d2f0db74ae0946c95d72a2d1469",
            "b6919952c9e5459ba185512ef6060139",
            "edb0c4d8dc2a4937a18154298b638464",
            "557b39f82d1843438ff53729f7f9019e",
            "3ef98c4f5702413c97f87b77c980e747",
            "78e1b17e3ea547babef0c6570e8715b7",
            "55c5172a487d4c40acb740aacffe9ba8",
            "b63942c49f064ddca597d2c0b96ec0cd",
            "110c456025bd4665b70c8dd9c84efc0f",
            "873ce111241544929d90ea94ea822fa3",
            "71189b8e0f2149b88f09580efa35c85f",
            "ad84672909934509bf8ef94578c4b10a",
            "33e6848e672840d9846e4e67a8073d3a",
            "1d4820ced4934175ade894acb826c173",
            "46dd6d87b5314dee9d2a84701cf9949d",
            "3ce716ec78bf46a89368a93e30340889",
            "3e11d988ead640479e1b597e82d179a4",
            "783df4d31d304fd4a0855ba29706039e",
            "3e7647c9e4ba417287bf90e567a61533",
            "444229e27b2d4f67b806afa5995594d1",
            "d73f56d50c844e18a924e84585026c35",
            "7fbe1ce81a574e3f9d6b341a7cde1756",
            "3af7bd90455d4911b1b6c39c45c5727d",
            "a2522ce439004bdc876afc432f15519b",
            "94de9c77edc44597acc23a4e7ebb4ad6",
            "3a418c3d3b314fb9a9ee8f3047d2c314",
            "7673f849306549378184f8b6d012ed9d",
            "f556064d1f8a492d945ef60b480dfb1f",
            "2fe0e40b78214840bea693e5d3e4dcdb",
            "016a3f2e0c754e5c8df6408030583679",
            "4a4dd4bd448e4e1ebfc547963100a8cf",
            "d37b048da53043db90304967d7e20836",
            "b4c62d05e9c64485896b75c9183b7ecd",
            "e8ab4a85ff90498fb3560276ed226170",
            "b7e4d5f611634adb810de362aca6f390",
            "e0bc24a1583e4b65bf13ed32e7230585",
            "42e0048f69614edaac37ed5ec310f98f",
            "e4c8daa884f74487b82834d55515e9c1",
            "cdd8e3abe9324734bd47e8fc538707e2",
            "57e27ed1da5943c78915a6c6653746c0",
            "ef84703ea62c4a459b58e69414b10773",
            "80cadc873f4c408d9292c7a48761a1ee",
            "282d7cbcd1e0425289625738735c8e1d",
            "812d00141f574e9684098911d97e4297",
            "968b9a277c44441c99281a5bda5c0e2e",
            "d2cd713b443c4d84b7ea92c29611a67e",
            "4856fedc7f494f3fbd388f35ff9b462b",
            "3367e7e99b824b078885271effad0001",
            "cd59983c3c494168bb727e764890c6ac",
            "07af375626b44c53bd2474ca83a1a78d",
            "663c1279d2be43d6a4b6788958507421",
            "48b3cca16b824967ba58caba9c045e37",
            "96bcc3952882492e854e125b7800a6a3",
            "08926d62c52a45a6bc0fe6308dc49a55",
            "a62eabe152ad403fa43a02a0de6d9fff",
            "b25b86be2cec46e98e4949cd527954e6",
            "e3ab2040ddd3412cbce27cd6a065d00e",
            "eadbbbd700f042ef9b1d44e83df86ea2",
            "db1257d898424a10b3d19c4e71263958",
            "722da4d435484c6086522a669754e624"
          ]
        },
        "id": "z1uJIJl3K5Q4",
        "outputId": "7eb67602-84d8-42ea-d8ec-7d2fc8184f42"
      },
      "execution_count": 56,
      "outputs": [
        {
          "output_type": "display_data",
          "data": {
            "text/plain": [
              "  0%|          | 0/120 [00:00<?, ?it/s]"
            ],
            "application/vnd.jupyter.widget-view+json": {
              "version_major": 2,
              "version_minor": 0,
              "model_id": "47ef65d72a1144b3bf9ee08b7dcdd286"
            }
          },
          "metadata": {}
        },
        {
          "output_type": "stream",
          "name": "stdout",
          "text": [
            "Epoch [1/10], loss: 1.82932 acc: 0.56958 val_loss: 1.32629, val_acc: 0.74660\n"
          ]
        },
        {
          "output_type": "display_data",
          "data": {
            "text/plain": [
              "  0%|          | 0/120 [00:00<?, ?it/s]"
            ],
            "application/vnd.jupyter.widget-view+json": {
              "version_major": 2,
              "version_minor": 0,
              "model_id": "3e17620b59f8452b8b6d77f584a64489"
            }
          },
          "metadata": {}
        },
        {
          "output_type": "stream",
          "name": "stdout",
          "text": [
            "Epoch [2/10], loss: 1.03888 acc: 0.79537 val_loss: 0.79661, val_acc: 0.83180\n"
          ]
        },
        {
          "output_type": "display_data",
          "data": {
            "text/plain": [
              "  0%|          | 0/120 [00:00<?, ?it/s]"
            ],
            "application/vnd.jupyter.widget-view+json": {
              "version_major": 2,
              "version_minor": 0,
              "model_id": "a069bfe7c6f44f6098fe9e637942e523"
            }
          },
          "metadata": {}
        },
        {
          "output_type": "stream",
          "name": "stdout",
          "text": [
            "Epoch [3/10], loss: 0.70809 acc: 0.84110 val_loss: 0.60256, val_acc: 0.85850\n"
          ]
        },
        {
          "output_type": "display_data",
          "data": {
            "text/plain": [
              "  0%|          | 0/120 [00:00<?, ?it/s]"
            ],
            "application/vnd.jupyter.widget-view+json": {
              "version_major": 2,
              "version_minor": 0,
              "model_id": "6d23a053883a4c66819ec430008f903f"
            }
          },
          "metadata": {}
        },
        {
          "output_type": "stream",
          "name": "stdout",
          "text": [
            "Epoch [4/10], loss: 0.57300 acc: 0.86057 val_loss: 0.51192, val_acc: 0.87140\n"
          ]
        },
        {
          "output_type": "display_data",
          "data": {
            "text/plain": [
              "  0%|          | 0/120 [00:00<?, ?it/s]"
            ],
            "application/vnd.jupyter.widget-view+json": {
              "version_major": 2,
              "version_minor": 0,
              "model_id": "d63fa9d842b74c509aee405f39b5be35"
            }
          },
          "metadata": {}
        },
        {
          "output_type": "stream",
          "name": "stdout",
          "text": [
            "Epoch [5/10], loss: 0.50223 acc: 0.87102 val_loss: 0.45827, val_acc: 0.87920\n"
          ]
        },
        {
          "output_type": "display_data",
          "data": {
            "text/plain": [
              "  0%|          | 0/120 [00:00<?, ?it/s]"
            ],
            "application/vnd.jupyter.widget-view+json": {
              "version_major": 2,
              "version_minor": 0,
              "model_id": "78e1b17e3ea547babef0c6570e8715b7"
            }
          },
          "metadata": {}
        },
        {
          "output_type": "stream",
          "name": "stdout",
          "text": [
            "Epoch [6/10], loss: 0.45883 acc: 0.87878 val_loss: 0.42422, val_acc: 0.88650\n"
          ]
        },
        {
          "output_type": "display_data",
          "data": {
            "text/plain": [
              "  0%|          | 0/120 [00:00<?, ?it/s]"
            ],
            "application/vnd.jupyter.widget-view+json": {
              "version_major": 2,
              "version_minor": 0,
              "model_id": "3e11d988ead640479e1b597e82d179a4"
            }
          },
          "metadata": {}
        },
        {
          "output_type": "stream",
          "name": "stdout",
          "text": [
            "Epoch [7/10], loss: 0.42938 acc: 0.88327 val_loss: 0.40076, val_acc: 0.88970\n"
          ]
        },
        {
          "output_type": "display_data",
          "data": {
            "text/plain": [
              "  0%|          | 0/120 [00:00<?, ?it/s]"
            ],
            "application/vnd.jupyter.widget-view+json": {
              "version_major": 2,
              "version_minor": 0,
              "model_id": "f556064d1f8a492d945ef60b480dfb1f"
            }
          },
          "metadata": {}
        },
        {
          "output_type": "stream",
          "name": "stdout",
          "text": [
            "Epoch [8/10], loss: 0.40813 acc: 0.88743 val_loss: 0.38285, val_acc: 0.89370\n"
          ]
        },
        {
          "output_type": "display_data",
          "data": {
            "text/plain": [
              "  0%|          | 0/120 [00:00<?, ?it/s]"
            ],
            "application/vnd.jupyter.widget-view+json": {
              "version_major": 2,
              "version_minor": 0,
              "model_id": "cdd8e3abe9324734bd47e8fc538707e2"
            }
          },
          "metadata": {}
        },
        {
          "output_type": "stream",
          "name": "stdout",
          "text": [
            "Epoch [9/10], loss: 0.39176 acc: 0.89065 val_loss: 0.36857, val_acc: 0.89680\n"
          ]
        },
        {
          "output_type": "display_data",
          "data": {
            "text/plain": [
              "  0%|          | 0/120 [00:00<?, ?it/s]"
            ],
            "application/vnd.jupyter.widget-view+json": {
              "version_major": 2,
              "version_minor": 0,
              "model_id": "07af375626b44c53bd2474ca83a1a78d"
            }
          },
          "metadata": {}
        },
        {
          "output_type": "stream",
          "name": "stdout",
          "text": [
            "Epoch [10/10], loss: 0.37876 acc: 0.89313 val_loss: 0.35741, val_acc: 0.89930\n"
          ]
        }
      ]
    },
    {
      "cell_type": "markdown",
      "source": [
        "이전 코드들과 달리, 미니 배치 처리에서는 2중 반복 루프를 구현하고 있다.\n",
        "또한, 미니 배치 처리를 위한 루프가 돌 때마다 tqdm 함수를 거쳐, 프로그레스 바가 출력된다."
      ],
      "metadata": {
        "id": "eX5JuosrLOkb"
      }
    },
    {
      "cell_type": "markdown",
      "source": [
        "## 8.13 결과 확인"
      ],
      "metadata": {
        "id": "_SI-tSzeLwZW"
      }
    },
    {
      "cell_type": "code",
      "source": [
        "# 손실과 정확도 확인\n",
        "\n",
        "print(f'초기상태 : 손실 : {history[0,3]:.5f}  정확도 : {history[0,4]:.5f}' )\n",
        "print(f'최종상태 : 손실 : {history[-1,3]:.5f}  정확도 : {history[-1,4]:.5f}' )"
      ],
      "metadata": {
        "colab": {
          "base_uri": "https://localhost:8080/"
        },
        "id": "QaIanzMVLHHz",
        "outputId": "73a46cbb-e3c0-4533-c018-ee380f309405"
      },
      "execution_count": 57,
      "outputs": [
        {
          "output_type": "stream",
          "name": "stdout",
          "text": [
            "초기상태 : 손실 : 1.32629  정확도 : 0.74660\n",
            "최종상태 : 손실 : 0.35741  정확도 : 0.89930\n"
          ]
        }
      ]
    },
    {
      "cell_type": "code",
      "source": [
        "# 학습 곡선 출력(손실)\n",
        "\n",
        "plt.plot(history[:,0], history[:,1], 'b', label='훈련')\n",
        "plt.plot(history[:,0], history[:,3], 'k', label='검증')\n",
        "plt.xlabel('반복 횟수')\n",
        "plt.ylabel('손실')\n",
        "plt.title('학습 곡선(손실)')\n",
        "plt.legend()\n",
        "plt.show()"
      ],
      "metadata": {
        "colab": {
          "base_uri": "https://localhost:8080/",
          "height": 578
        },
        "id": "WO24lXpgLx4d",
        "outputId": "39647641-b605-4b0c-e396-e2df4c357843"
      },
      "execution_count": 58,
      "outputs": [
        {
          "output_type": "display_data",
          "data": {
            "text/plain": [
              "<Figure size 600x600 with 1 Axes>"
            ],
            "image/png": "[encoded data removed]"
          },
          "metadata": {}
        }
      ]
    },
    {
      "cell_type": "code",
      "source": [
        "# 학습 곡선 출력(정확도)\n",
        "\n",
        "plt.plot(history[:,0], history[:,2], 'b', label='훈련')\n",
        "plt.plot(history[:,0], history[:,4], 'k', label='검증')\n",
        "plt.xlabel('반복 횟수')\n",
        "plt.ylabel('정확도')\n",
        "plt.title('학습 곡선(정확도)')\n",
        "plt.legend()\n",
        "plt.show()"
      ],
      "metadata": {
        "colab": {
          "base_uri": "https://localhost:8080/",
          "height": 578
        },
        "id": "QSjdNHTKLy8k",
        "outputId": "aa1b808d-f1f8-4b54-d973-b362b134f41f"
      },
      "execution_count": 59,
      "outputs": [
        {
          "output_type": "display_data",
          "data": {
            "text/plain": [
              "<Figure size 600x600 with 1 Axes>"
            ],
            "image/png": "[encoded data removed]"
          },
          "metadata": {}
        }
      ]
    },
    {
      "cell_type": "markdown",
      "source": [
        "### 이미지 출력 확인"
      ],
      "metadata": {
        "id": "RgHlxXo9L1j1"
      }
    },
    {
      "cell_type": "code",
      "source": [
        "# 데이터로더에서 처음 한 세트 가져오기\n",
        "for images, labels in test_loader:\n",
        "    break\n",
        "\n",
        "# 예측 결과 가져오기\n",
        "inputs = images.to(device)\n",
        "labels = labels.to(device)\n",
        "outputs = net(inputs)\n",
        "predicted = torch.max(outputs, 1)[1]"
      ],
      "metadata": {
        "id": "XXhGG8jKL0HF"
      },
      "execution_count": 60,
      "outputs": []
    },
    {
      "cell_type": "code",
      "source": [
        "# 처음 50건의 이미지에 대해 \"정답:예측\"으로 출력\n",
        "\n",
        "plt.figure(figsize=(10, 8))\n",
        "for i in range(50):\n",
        "  ax = plt.subplot(5, 10, i + 1)\n",
        "\n",
        "  # 넘파이 배열로 변환\n",
        "  image = images[i]\n",
        "  label = labels[i]\n",
        "  pred = predicted[i]\n",
        "  if (pred == label):\n",
        "    c = 'k'\n",
        "  else:\n",
        "    c = 'b'\n",
        "\n",
        "  # 이미지의 범위를 [0, 1] 로 되돌림\n",
        "  image2 = (image + 1)/ 2\n",
        "\n",
        "  # 이미지 출력\n",
        "  plt.imshow(image2.reshape(28, 28),cmap='gray_r')\n",
        "  ax.set_title(f'{label}:{pred}', c=c)\n",
        "  ax.get_xaxis().set_visible(False)\n",
        "  ax.get_yaxis().set_visible(False)\n",
        "plt.show()"
      ],
      "metadata": {
        "colab": {
          "base_uri": "https://localhost:8080/",
          "height": 579
        },
        "id": "ac9yD8PoL2_4",
        "outputId": "c11c99da-24e8-4cf9-cb0f-3621f77af29f"
      },
      "execution_count": 61,
      "outputs": [
        {
          "output_type": "display_data",
          "data": {
            "text/plain": [
              "<Figure size 1000x800 with 50 Axes>"
            ],
            "image/png": "[encoded data removed]"
          },
          "metadata": {}
        }
      ]
    },
    {
      "cell_type": "markdown",
      "source": [
        "## 8.14 은닉층 추가하기"
      ],
      "metadata": {
        "id": "x9DYQ4gNMBTn"
      }
    },
    {
      "cell_type": "code",
      "source": [
        "# 모델 정의\n",
        "# 784입력 10출력을 갖는 2개의 은닉층을 포함한 신경망\n",
        "\n",
        "class Net2(nn.Module):\n",
        "    def __init__(self, n_input, n_output, n_hidden):\n",
        "        super().__init__()\n",
        "\n",
        "        # 첫번째 은닉층 정의(은닉층 노드 수: n_hidden)\n",
        "        self.l1 = nn.Linear(n_input, n_hidden)\n",
        "\n",
        "        # 두번째 은닉층 정의(은닉층 노드 수: n_hidden)\n",
        "        self.l2 = nn.Linear(n_hidden, n_hidden)\n",
        "\n",
        "        # 출력층 정의\n",
        "        self.l3 = nn.Linear(n_hidden, n_output)\n",
        "\n",
        "        # ReLU 함수 정의\n",
        "        self.relu = nn.ReLU(inplace=True)\n",
        "\n",
        "    def forward(self, x):\n",
        "        x1 = self.l1(x)\n",
        "        x2 = self.relu(x1)\n",
        "        x3 = self.l2(x2)\n",
        "        x4 = self.relu(x3)\n",
        "        x5 = self.l3(x4)\n",
        "        return x5"
      ],
      "metadata": {
        "id": "Qv1_6h-wL4ga"
      },
      "execution_count": 62,
      "outputs": []
    },
    {
      "cell_type": "code",
      "source": [
        "# 난수 고정\n",
        "torch.manual_seed(123)\n",
        "torch.cuda.manual_seed(123)\n",
        "\n",
        "# 모델 초기화\n",
        "net = Net2(n_input, n_output, n_hidden).to(device)\n",
        "\n",
        "# 손실 함수： 교차 엔트로피 함수\n",
        "criterion = nn.CrossEntropyLoss()\n",
        "\n",
        "# 최적화 함수: 경사 하강법\n",
        "optimizer = torch.optim.SGD(net.parameters(), lr=lr)"
      ],
      "metadata": {
        "id": "5jYq75nRMHpq"
      },
      "execution_count": 63,
      "outputs": []
    },
    {
      "cell_type": "code",
      "source": [
        "# 모델 개요 표시 1\n",
        "\n",
        "print(net)"
      ],
      "metadata": {
        "colab": {
          "base_uri": "https://localhost:8080/"
        },
        "id": "7HbXHgNIMLDB",
        "outputId": "4f8132a0-1437-4e5b-f678-a990a37d0d7d"
      },
      "execution_count": 64,
      "outputs": [
        {
          "output_type": "stream",
          "name": "stdout",
          "text": [
            "Net2(\n",
            "  (l1): Linear(in_features=784, out_features=128, bias=True)\n",
            "  (l2): Linear(in_features=128, out_features=128, bias=True)\n",
            "  (l3): Linear(in_features=128, out_features=10, bias=True)\n",
            "  (relu): ReLU(inplace=True)\n",
            ")\n"
          ]
        }
      ]
    },
    {
      "cell_type": "code",
      "source": [
        "# 모델 개요 표시 2\n",
        "\n",
        "summary(net, (784,))"
      ],
      "metadata": {
        "colab": {
          "base_uri": "https://localhost:8080/"
        },
        "id": "hNfv74TwMMGZ",
        "outputId": "498890ea-451f-4bcf-c603-264fc12840f0"
      },
      "execution_count": 65,
      "outputs": [
        {
          "output_type": "execute_result",
          "data": {
            "text/plain": [
              "==========================================================================================\n",
              "Layer (type:depth-idx)                   Output Shape              Param #\n",
              "==========================================================================================\n",
              "Net2                                     [10]                      --\n",
              "├─Linear: 1-1                            [128]                     100,480\n",
              "├─ReLU: 1-2                              [128]                     --\n",
              "├─Linear: 1-3                            [128]                     16,512\n",
              "├─ReLU: 1-4                              [128]                     --\n",
              "├─Linear: 1-5                            [10]                      1,290\n",
              "==========================================================================================\n",
              "Total params: 118,282\n",
              "Trainable params: 118,282\n",
              "Non-trainable params: 0\n",
              "Total mult-adds (M): 14.99\n",
              "==========================================================================================\n",
              "Input size (MB): 0.00\n",
              "Forward/backward pass size (MB): 0.00\n",
              "Params size (MB): 0.47\n",
              "Estimated Total Size (MB): 0.48\n",
              "=========================================================================================="
            ]
          },
          "metadata": {},
          "execution_count": 65
        }
      ]
    },
    {
      "cell_type": "code",
      "source": [
        "# 데이터로더에서 처음 한 세트 가져오기\n",
        "for images, labels in test_loader:\n",
        "    break\n",
        "\n",
        "# 예측 결과 가져오기\n",
        "inputs = images.to(device)\n",
        "labels = labels.to(device)"
      ],
      "metadata": {
        "id": "bGKPPeQrMNu5"
      },
      "execution_count": 66,
      "outputs": []
    },
    {
      "cell_type": "code",
      "source": [
        "# 예측 계산\n",
        "outputs = net(inputs)\n",
        "\n",
        "# 손실 계산\n",
        "loss = criterion(outputs, labels)\n",
        "\n",
        "# 손실 계산 그래프 시각화\n",
        "make_dot(loss, params=dict(net.named_parameters()))"
      ],
      "metadata": {
        "colab": {
          "base_uri": "https://localhost:8080/",
          "height": 894
        },
        "id": "-hHiuTGJMPWR",
        "outputId": "42b476b9-3927-4d50-da32-94868284f0d5"
      },
      "execution_count": 67,
      "outputs": [
        {
          "output_type": "execute_result",
          "data": {
            "image/svg+xml": "<?xml version=\"1.0\" encoding=\"UTF-8\" standalone=\"no\"?>\n<!DOCTYPE svg PUBLIC \"-//W3C//DTD SVG 1.1//EN\"\n \"http://www.w3.org/Graphics/SVG/1.1/DTD/svg11.dtd\">\n<!-- Generated by graphviz version 2.43.0 (0)\n -->\n<!-- Title: %3 Pages: 1 -->\n<svg width=\"414pt\" height=\"655pt\"\n viewBox=\"0.00 0.00 414.00 655.00\" xmlns=\"http://www.w3.org/2000/svg\" xmlns:xlink=\"http://www.w3.org/1999/xlink\">\n<g id=\"graph0\" class=\"graph\" transform=\"scale(1 1) rotate(0) translate(4 651)\">\n<title>%3</title>\n<polygon fill=\"white\" stroke=\"transparent\" points=\"-4,4 -4,-651 410,-651 410,4 -4,4\"/>\n<!-- 140533767235728 -->\n<g id=\"node1\" class=\"node\">\n<title>140533767235728</title>\n<polygon fill=\"#caff70\" stroke=\"black\" points=\"229.5,-31 175.5,-31 175.5,0 229.5,0 229.5,-31\"/>\n<text text-anchor=\"middle\" x=\"202.5\" y=\"-7\" font-family=\"monospace\" font-size=\"10.00\"> ()</text>\n</g>\n<!-- 140533767824208 -->\n<g id=\"node2\" class=\"node\">\n<title>140533767824208</title>\n<polygon fill=\"lightgrey\" stroke=\"black\" points=\"259,-86 146,-86 146,-67 259,-67 259,-86\"/>\n<text text-anchor=\"middle\" x=\"202.5\" y=\"-74\" font-family=\"monospace\" font-size=\"10.00\">NllLossBackward0</text>\n</g>\n<!-- 140533767824208&#45;&gt;140533767235728 -->\n<g id=\"edge22\" class=\"edge\">\n<title>140533767824208&#45;&gt;140533767235728</title>\n<path fill=\"none\" stroke=\"black\" d=\"M202.5,-66.79C202.5,-60.07 202.5,-50.4 202.5,-41.34\"/>\n<polygon fill=\"black\" stroke=\"black\" points=\"206,-41.19 202.5,-31.19 199,-41.19 206,-41.19\"/>\n</g>\n<!-- 140533767820944 -->\n<g id=\"node3\" class=\"node\">\n<title>140533767820944</title>\n<polygon fill=\"lightgrey\" stroke=\"black\" points=\"268,-141 137,-141 137,-122 268,-122 268,-141\"/>\n<text text-anchor=\"middle\" x=\"202.5\" y=\"-129\" font-family=\"monospace\" font-size=\"10.00\">LogSoftmaxBackward0</text>\n</g>\n<!-- 140533767820944&#45;&gt;140533767824208 -->\n<g id=\"edge1\" class=\"edge\">\n<title>140533767820944&#45;&gt;140533767824208</title>\n<path fill=\"none\" stroke=\"black\" d=\"M202.5,-121.75C202.5,-114.8 202.5,-104.85 202.5,-96.13\"/>\n<polygon fill=\"black\" stroke=\"black\" points=\"206,-96.09 202.5,-86.09 199,-96.09 206,-96.09\"/>\n</g>\n<!-- 140533767818400 -->\n<g id=\"node4\" class=\"node\">\n<title>140533767818400</title>\n<polygon fill=\"lightgrey\" stroke=\"black\" points=\"253,-196 152,-196 152,-177 253,-177 253,-196\"/>\n<text text-anchor=\"middle\" x=\"202.5\" y=\"-184\" font-family=\"monospace\" font-size=\"10.00\">AddmmBackward0</text>\n</g>\n<!-- 140533767818400&#45;&gt;140533767820944 -->\n<g id=\"edge2\" class=\"edge\">\n<title>140533767818400&#45;&gt;140533767820944</title>\n<path fill=\"none\" stroke=\"black\" d=\"M202.5,-176.75C202.5,-169.8 202.5,-159.85 202.5,-151.13\"/>\n<polygon fill=\"black\" stroke=\"black\" points=\"206,-151.09 202.5,-141.09 199,-151.09 206,-151.09\"/>\n</g>\n<!-- 140533767818496 -->\n<g id=\"node5\" class=\"node\">\n<title>140533767818496</title>\n<polygon fill=\"lightgrey\" stroke=\"black\" points=\"137,-251 36,-251 36,-232 137,-232 137,-251\"/>\n<text text-anchor=\"middle\" x=\"86.5\" y=\"-239\" font-family=\"monospace\" font-size=\"10.00\">AccumulateGrad</text>\n</g>\n<!-- 140533767818496&#45;&gt;140533767818400 -->\n<g id=\"edge3\" class=\"edge\">\n<title>140533767818496&#45;&gt;140533767818400</title>\n<path fill=\"none\" stroke=\"black\" d=\"M105.14,-231.98C123.8,-223.46 152.75,-210.23 174.24,-200.41\"/>\n<polygon fill=\"black\" stroke=\"black\" points=\"175.88,-203.51 183.52,-196.17 172.97,-197.14 175.88,-203.51\"/>\n</g>\n<!-- 140533646961744 -->\n<g id=\"node6\" class=\"node\">\n<title>140533646961744</title>\n<polygon fill=\"lightblue\" stroke=\"black\" points=\"116,-317 57,-317 57,-287 116,-287 116,-317\"/>\n<text text-anchor=\"middle\" x=\"86.5\" y=\"-305\" font-family=\"monospace\" font-size=\"10.00\">l3.bias</text>\n<text text-anchor=\"middle\" x=\"86.5\" y=\"-294\" font-family=\"monospace\" font-size=\"10.00\"> (10)</text>\n</g>\n<!-- 140533646961744&#45;&gt;140533767818496 -->\n<g id=\"edge4\" class=\"edge\">\n<title>140533646961744&#45;&gt;140533767818496</title>\n<path fill=\"none\" stroke=\"black\" d=\"M86.5,-286.84C86.5,-279.21 86.5,-269.7 86.5,-261.45\"/>\n<polygon fill=\"black\" stroke=\"black\" points=\"90,-261.27 86.5,-251.27 83,-261.27 90,-261.27\"/>\n</g>\n<!-- 140533767818256 -->\n<g id=\"node7\" class=\"node\">\n<title>140533767818256</title>\n<polygon fill=\"lightgrey\" stroke=\"black\" points=\"250,-251 155,-251 155,-232 250,-232 250,-251\"/>\n<text text-anchor=\"middle\" x=\"202.5\" y=\"-239\" font-family=\"monospace\" font-size=\"10.00\">ReluBackward0</text>\n</g>\n<!-- 140533767818256&#45;&gt;140533767818400 -->\n<g id=\"edge5\" class=\"edge\">\n<title>140533767818256&#45;&gt;140533767818400</title>\n<path fill=\"none\" stroke=\"black\" d=\"M202.5,-231.75C202.5,-224.8 202.5,-214.85 202.5,-206.13\"/>\n<polygon fill=\"black\" stroke=\"black\" points=\"206,-206.09 202.5,-196.09 199,-206.09 206,-206.09\"/>\n</g>\n<!-- 140533767820800 -->\n<g id=\"node8\" class=\"node\">\n<title>140533767820800</title>\n<polygon fill=\"lightgrey\" stroke=\"black\" points=\"236,-311.5 135,-311.5 135,-292.5 236,-292.5 236,-311.5\"/>\n<text text-anchor=\"middle\" x=\"185.5\" y=\"-299.5\" font-family=\"monospace\" font-size=\"10.00\">AddmmBackward0</text>\n</g>\n<!-- 140533767820800&#45;&gt;140533767818256 -->\n<g id=\"edge6\" class=\"edge\">\n<title>140533767820800&#45;&gt;140533767818256</title>\n<path fill=\"none\" stroke=\"black\" d=\"M188.01,-292.37C190.39,-284.16 194.06,-271.54 197.11,-261.05\"/>\n<polygon fill=\"black\" stroke=\"black\" points=\"200.55,-261.75 199.98,-251.17 193.83,-259.79 200.55,-261.75\"/>\n</g>\n<!-- 140533767825552 -->\n<g id=\"node9\" class=\"node\">\n<title>140533767825552</title>\n<polygon fill=\"lightgrey\" stroke=\"black\" points=\"101,-377.5 0,-377.5 0,-358.5 101,-358.5 101,-377.5\"/>\n<text text-anchor=\"middle\" x=\"50.5\" y=\"-365.5\" font-family=\"monospace\" font-size=\"10.00\">AccumulateGrad</text>\n</g>\n<!-- 140533767825552&#45;&gt;140533767820800 -->\n<g id=\"edge7\" class=\"edge\">\n<title>140533767825552&#45;&gt;140533767820800</title>\n<path fill=\"none\" stroke=\"black\" d=\"M68.71,-358.37C91.65,-347.49 131.31,-328.69 157.97,-316.05\"/>\n<polygon fill=\"black\" stroke=\"black\" points=\"159.61,-319.15 167.15,-311.7 156.62,-312.82 159.61,-319.15\"/>\n</g>\n<!-- 140533360066784 -->\n<g id=\"node10\" class=\"node\">\n<title>140533360066784</title>\n<polygon fill=\"lightblue\" stroke=\"black\" points=\"80,-449 21,-449 21,-419 80,-419 80,-449\"/>\n<text text-anchor=\"middle\" x=\"50.5\" y=\"-437\" font-family=\"monospace\" font-size=\"10.00\">l2.bias</text>\n<text text-anchor=\"middle\" x=\"50.5\" y=\"-426\" font-family=\"monospace\" font-size=\"10.00\"> (128)</text>\n</g>\n<!-- 140533360066784&#45;&gt;140533767825552 -->\n<g id=\"edge8\" class=\"edge\">\n<title>140533360066784&#45;&gt;140533767825552</title>\n<path fill=\"none\" stroke=\"black\" d=\"M50.5,-418.8C50.5,-409.7 50.5,-397.79 50.5,-387.9\"/>\n<polygon fill=\"black\" stroke=\"black\" points=\"54,-387.84 50.5,-377.84 47,-387.84 54,-387.84\"/>\n</g>\n<!-- 140533767820704 -->\n<g id=\"node11\" class=\"node\">\n<title>140533767820704</title>\n<polygon fill=\"lightgrey\" stroke=\"black\" points=\"214,-377.5 119,-377.5 119,-358.5 214,-358.5 214,-377.5\"/>\n<text text-anchor=\"middle\" x=\"166.5\" y=\"-365.5\" font-family=\"monospace\" font-size=\"10.00\">ReluBackward0</text>\n</g>\n<!-- 140533767820704&#45;&gt;140533767820800 -->\n<g id=\"edge9\" class=\"edge\">\n<title>140533767820704&#45;&gt;140533767820800</title>\n<path fill=\"none\" stroke=\"black\" d=\"M169.06,-358.37C171.85,-348.97 176.39,-333.67 180,-321.53\"/>\n<polygon fill=\"black\" stroke=\"black\" points=\"183.37,-322.49 182.86,-311.91 176.65,-320.5 183.37,-322.49\"/>\n</g>\n<!-- 140533767823440 -->\n<g id=\"node12\" class=\"node\">\n<title>140533767823440</title>\n<polygon fill=\"lightgrey\" stroke=\"black\" points=\"209,-443.5 108,-443.5 108,-424.5 209,-424.5 209,-443.5\"/>\n<text text-anchor=\"middle\" x=\"158.5\" y=\"-431.5\" font-family=\"monospace\" font-size=\"10.00\">AddmmBackward0</text>\n</g>\n<!-- 140533767823440&#45;&gt;140533767820704 -->\n<g id=\"edge10\" class=\"edge\">\n<title>140533767823440&#45;&gt;140533767820704</title>\n<path fill=\"none\" stroke=\"black\" d=\"M159.58,-424.37C160.74,-415.07 162.63,-399.98 164.14,-387.9\"/>\n<polygon fill=\"black\" stroke=\"black\" points=\"167.62,-388.26 165.39,-377.91 160.67,-387.39 167.62,-388.26\"/>\n</g>\n<!-- 140533767827664 -->\n<g id=\"node13\" class=\"node\">\n<title>140533767827664</title>\n<polygon fill=\"lightgrey\" stroke=\"black\" points=\"112,-509.5 11,-509.5 11,-490.5 112,-490.5 112,-509.5\"/>\n<text text-anchor=\"middle\" x=\"61.5\" y=\"-497.5\" font-family=\"monospace\" font-size=\"10.00\">AccumulateGrad</text>\n</g>\n<!-- 140533767827664&#45;&gt;140533767823440 -->\n<g id=\"edge11\" class=\"edge\">\n<title>140533767827664&#45;&gt;140533767823440</title>\n<path fill=\"none\" stroke=\"black\" d=\"M74.58,-490.37C90.56,-479.82 117.83,-461.84 136.93,-449.23\"/>\n<polygon fill=\"black\" stroke=\"black\" points=\"138.9,-452.13 145.32,-443.7 135.04,-446.28 138.9,-452.13\"/>\n</g>\n<!-- 140533645509232 -->\n<g id=\"node14\" class=\"node\">\n<title>140533645509232</title>\n<polygon fill=\"lightblue\" stroke=\"black\" points=\"91,-581 32,-581 32,-551 91,-551 91,-581\"/>\n<text text-anchor=\"middle\" x=\"61.5\" y=\"-569\" font-family=\"monospace\" font-size=\"10.00\">l1.bias</text>\n<text text-anchor=\"middle\" x=\"61.5\" y=\"-558\" font-family=\"monospace\" font-size=\"10.00\"> (128)</text>\n</g>\n<!-- 140533645509232&#45;&gt;140533767827664 -->\n<g id=\"edge12\" class=\"edge\">\n<title>140533645509232&#45;&gt;140533767827664</title>\n<path fill=\"none\" stroke=\"black\" d=\"M61.5,-550.8C61.5,-541.7 61.5,-529.79 61.5,-519.9\"/>\n<polygon fill=\"black\" stroke=\"black\" points=\"65,-519.84 61.5,-509.84 58,-519.84 65,-519.84\"/>\n</g>\n<!-- 140533767816048 -->\n<g id=\"node15\" class=\"node\">\n<title>140533767816048</title>\n<polygon fill=\"lightgrey\" stroke=\"black\" points=\"207,-509.5 130,-509.5 130,-490.5 207,-490.5 207,-509.5\"/>\n<text text-anchor=\"middle\" x=\"168.5\" y=\"-497.5\" font-family=\"monospace\" font-size=\"10.00\">TBackward0</text>\n</g>\n<!-- 140533767816048&#45;&gt;140533767823440 -->\n<g id=\"edge13\" class=\"edge\">\n<title>140533767816048&#45;&gt;140533767823440</title>\n<path fill=\"none\" stroke=\"black\" d=\"M167.15,-490.37C165.7,-481.07 163.34,-465.98 161.45,-453.9\"/>\n<polygon fill=\"black\" stroke=\"black\" points=\"164.89,-453.25 159.89,-443.91 157.98,-454.33 164.89,-453.25\"/>\n</g>\n<!-- 140533767818544 -->\n<g id=\"node16\" class=\"node\">\n<title>140533767818544</title>\n<polygon fill=\"lightgrey\" stroke=\"black\" points=\"219,-575.5 118,-575.5 118,-556.5 219,-556.5 219,-575.5\"/>\n<text text-anchor=\"middle\" x=\"168.5\" y=\"-563.5\" font-family=\"monospace\" font-size=\"10.00\">AccumulateGrad</text>\n</g>\n<!-- 140533767818544&#45;&gt;140533767816048 -->\n<g id=\"edge14\" class=\"edge\">\n<title>140533767818544&#45;&gt;140533767816048</title>\n<path fill=\"none\" stroke=\"black\" d=\"M168.5,-556.37C168.5,-547.16 168.5,-532.29 168.5,-520.27\"/>\n<polygon fill=\"black\" stroke=\"black\" points=\"172,-519.91 168.5,-509.91 165,-519.91 172,-519.91\"/>\n</g>\n<!-- 140533354073360 -->\n<g id=\"node17\" class=\"node\">\n<title>140533354073360</title>\n<polygon fill=\"lightblue\" stroke=\"black\" points=\"210,-647 127,-647 127,-617 210,-617 210,-647\"/>\n<text text-anchor=\"middle\" x=\"168.5\" y=\"-635\" font-family=\"monospace\" font-size=\"10.00\">l1.weight</text>\n<text text-anchor=\"middle\" x=\"168.5\" y=\"-624\" font-family=\"monospace\" font-size=\"10.00\"> (128, 784)</text>\n</g>\n<!-- 140533354073360&#45;&gt;140533767818544 -->\n<g id=\"edge15\" class=\"edge\">\n<title>140533354073360&#45;&gt;140533767818544</title>\n<path fill=\"none\" stroke=\"black\" d=\"M168.5,-616.8C168.5,-607.7 168.5,-595.79 168.5,-585.9\"/>\n<polygon fill=\"black\" stroke=\"black\" points=\"172,-585.84 168.5,-575.84 165,-585.84 172,-585.84\"/>\n</g>\n<!-- 140533767823632 -->\n<g id=\"node18\" class=\"node\">\n<title>140533767823632</title>\n<polygon fill=\"lightgrey\" stroke=\"black\" points=\"309,-377.5 232,-377.5 232,-358.5 309,-358.5 309,-377.5\"/>\n<text text-anchor=\"middle\" x=\"270.5\" y=\"-365.5\" font-family=\"monospace\" font-size=\"10.00\">TBackward0</text>\n</g>\n<!-- 140533767823632&#45;&gt;140533767820800 -->\n<g id=\"edge16\" class=\"edge\">\n<title>140533767823632&#45;&gt;140533767820800</title>\n<path fill=\"none\" stroke=\"black\" d=\"M259.04,-358.37C245.22,-347.97 221.79,-330.32 205.09,-317.75\"/>\n<polygon fill=\"black\" stroke=\"black\" points=\"207.15,-314.92 197.05,-311.7 202.94,-320.51 207.15,-314.92\"/>\n</g>\n<!-- 140533767828624 -->\n<g id=\"node19\" class=\"node\">\n<title>140533767828624</title>\n<polygon fill=\"lightgrey\" stroke=\"black\" points=\"328,-443.5 227,-443.5 227,-424.5 328,-424.5 328,-443.5\"/>\n<text text-anchor=\"middle\" x=\"277.5\" y=\"-431.5\" font-family=\"monospace\" font-size=\"10.00\">AccumulateGrad</text>\n</g>\n<!-- 140533767828624&#45;&gt;140533767823632 -->\n<g id=\"edge17\" class=\"edge\">\n<title>140533767828624&#45;&gt;140533767823632</title>\n<path fill=\"none\" stroke=\"black\" d=\"M276.56,-424.37C275.54,-415.07 273.89,-399.98 272.57,-387.9\"/>\n<polygon fill=\"black\" stroke=\"black\" points=\"276.04,-387.47 271.47,-377.91 269.08,-388.23 276.04,-387.47\"/>\n</g>\n<!-- 140533647364864 -->\n<g id=\"node20\" class=\"node\">\n<title>140533647364864</title>\n<polygon fill=\"lightblue\" stroke=\"black\" points=\"319,-515 236,-515 236,-485 319,-485 319,-515\"/>\n<text text-anchor=\"middle\" x=\"277.5\" y=\"-503\" font-family=\"monospace\" font-size=\"10.00\">l2.weight</text>\n<text text-anchor=\"middle\" x=\"277.5\" y=\"-492\" font-family=\"monospace\" font-size=\"10.00\"> (128, 128)</text>\n</g>\n<!-- 140533647364864&#45;&gt;140533767828624 -->\n<g id=\"edge18\" class=\"edge\">\n<title>140533647364864&#45;&gt;140533767828624</title>\n<path fill=\"none\" stroke=\"black\" d=\"M277.5,-484.8C277.5,-475.7 277.5,-463.79 277.5,-453.9\"/>\n<polygon fill=\"black\" stroke=\"black\" points=\"281,-453.84 277.5,-443.84 274,-453.84 281,-453.84\"/>\n</g>\n<!-- 140533767820512 -->\n<g id=\"node21\" class=\"node\">\n<title>140533767820512</title>\n<polygon fill=\"lightgrey\" stroke=\"black\" points=\"384,-251 307,-251 307,-232 384,-232 384,-251\"/>\n<text text-anchor=\"middle\" x=\"345.5\" y=\"-239\" font-family=\"monospace\" font-size=\"10.00\">TBackward0</text>\n</g>\n<!-- 140533767820512&#45;&gt;140533767818400 -->\n<g id=\"edge19\" class=\"edge\">\n<title>140533767820512&#45;&gt;140533767818400</title>\n<path fill=\"none\" stroke=\"black\" d=\"M322.52,-231.98C299,-223.27 262.21,-209.63 235.56,-199.75\"/>\n<polygon fill=\"black\" stroke=\"black\" points=\"236.49,-196.36 225.89,-196.17 234.05,-202.93 236.49,-196.36\"/>\n</g>\n<!-- 140533767824064 -->\n<g id=\"node22\" class=\"node\">\n<title>140533767824064</title>\n<polygon fill=\"lightgrey\" stroke=\"black\" points=\"406,-311.5 305,-311.5 305,-292.5 406,-292.5 406,-311.5\"/>\n<text text-anchor=\"middle\" x=\"355.5\" y=\"-299.5\" font-family=\"monospace\" font-size=\"10.00\">AccumulateGrad</text>\n</g>\n<!-- 140533767824064&#45;&gt;140533767820512 -->\n<g id=\"edge20\" class=\"edge\">\n<title>140533767824064&#45;&gt;140533767820512</title>\n<path fill=\"none\" stroke=\"black\" d=\"M354.02,-292.37C352.62,-284.16 350.46,-271.54 348.67,-261.05\"/>\n<polygon fill=\"black\" stroke=\"black\" points=\"352.12,-260.43 346.98,-251.17 345.22,-261.61 352.12,-260.43\"/>\n</g>\n<!-- 140533356056304 -->\n<g id=\"node23\" class=\"node\">\n<title>140533356056304</title>\n<polygon fill=\"lightblue\" stroke=\"black\" points=\"404,-383 327,-383 327,-353 404,-353 404,-383\"/>\n<text text-anchor=\"middle\" x=\"365.5\" y=\"-371\" font-family=\"monospace\" font-size=\"10.00\">l3.weight</text>\n<text text-anchor=\"middle\" x=\"365.5\" y=\"-360\" font-family=\"monospace\" font-size=\"10.00\"> (10, 128)</text>\n</g>\n<!-- 140533356056304&#45;&gt;140533767824064 -->\n<g id=\"edge21\" class=\"edge\">\n<title>140533356056304&#45;&gt;140533767824064</title>\n<path fill=\"none\" stroke=\"black\" d=\"M363.28,-352.8C361.86,-343.7 360,-331.79 358.45,-321.9\"/>\n<polygon fill=\"black\" stroke=\"black\" points=\"361.88,-321.18 356.88,-311.84 354.97,-322.26 361.88,-321.18\"/>\n</g>\n</g>\n</svg>\n",
            "text/plain": [
              "<graphviz.graphs.Digraph at 0x7fd0914f6ef0>"
            ]
          },
          "metadata": {},
          "execution_count": 67
        }
      ]
    },
    {
      "cell_type": "markdown",
      "source": [
        "### 경사 계산"
      ],
      "metadata": {
        "id": "ItTjQBJ8MRkA"
      }
    },
    {
      "cell_type": "code",
      "source": [
        "# 경사 계산\n",
        "loss.backward()\n",
        "\n",
        "# 경사 계산 결과 일부\n",
        "w = net.to('cpu').l1.weight.grad.numpy()\n",
        "print(w)\n",
        "\n",
        "# 각 요소의 절댓값 평균\n",
        "print(np.abs(w).mean())"
      ],
      "metadata": {
        "colab": {
          "base_uri": "https://localhost:8080/"
        },
        "id": "y1w5hjQsMQZR",
        "outputId": "135add82-1820-4c2e-83ec-e5e92ac9e35c"
      },
      "execution_count": 68,
      "outputs": [
        {
          "output_type": "stream",
          "name": "stdout",
          "text": [
            "[[-0.0007 -0.0007 -0.0007 ... -0.0007 -0.0007 -0.0007]\n",
            " [-0.0001 -0.0001 -0.0001 ... -0.0001 -0.0001 -0.0001]\n",
            " [-0.0005 -0.0005 -0.0005 ... -0.0005 -0.0005 -0.0005]\n",
            " ...\n",
            " [ 0.0015  0.0015  0.0015 ...  0.0015  0.0015  0.0015]\n",
            " [ 0.0002  0.0002  0.0002 ...  0.0002  0.0002  0.0002]\n",
            " [ 0.0003  0.0003  0.0003 ...  0.0003  0.0003  0.0003]]\n",
            "0.0008487979\n"
          ]
        }
      ]
    },
    {
      "cell_type": "markdown",
      "source": [
        "### 반복 계산"
      ],
      "metadata": {
        "id": "s3HtTwMpMUKG"
      }
    },
    {
      "cell_type": "code",
      "source": [
        "# 난수 고정\n",
        "torch.manual_seed(123)\n",
        "torch.backends.cudnn.deterministic = True\n",
        "torch.use_deterministic_algorithms = True\n",
        "\n",
        "\n",
        "# 모델 초기화\n",
        "net = Net2(n_input, n_output, n_hidden).to(device)\n",
        "\n",
        "# 손실 함수： 교차 엔트로피 함수\n",
        "criterion = nn.CrossEntropyLoss()\n",
        "\n",
        "# 최적화 함수: 경사 하강법\n",
        "optimizer = optim.SGD(net.parameters(), lr=lr)\n",
        "\n",
        "# 반복 횟수\n",
        "num_epochs = 10\n",
        "\n",
        "# 평가 결과 기록\n",
        "history2 = np.zeros((0,5))"
      ],
      "metadata": {
        "id": "qcltZdx6MS7J"
      },
      "execution_count": 71,
      "outputs": []
    },
    {
      "cell_type": "code",
      "source": [
        "# 반복 계산 메인 루프\n",
        "\n",
        "for epoch in range(num_epochs):\n",
        "    train_acc = 0\n",
        "    train_loss = 0\n",
        "    val_acc = 0\n",
        "    val_loss = 0\n",
        "    n_train = 0\n",
        "    n_test = 0\n",
        "\n",
        "    # 훈련 페이즈\n",
        "    for inputs, labels in tqdm(train_loader):\n",
        "        n_train += len(labels)\n",
        "\n",
        "        # GPU로 전송\n",
        "        inputs = inputs.to(device)\n",
        "        labels = labels.to(device)\n",
        "\n",
        "        # 경사 초기화\n",
        "        optimizer.zero_grad()\n",
        "\n",
        "        # 예측 계산\n",
        "        outputs = net(inputs)\n",
        "\n",
        "        # 손실 계산\n",
        "        loss = criterion(outputs, labels)\n",
        "\n",
        "        # 경사 계산\n",
        "        loss.backward()\n",
        "\n",
        "        # 파라미터 수정\n",
        "        optimizer.step()\n",
        "\n",
        "        # 예측 라벨 산출\n",
        "        predicted = torch.max(outputs, 1)[1]\n",
        "\n",
        "        # 손실과 정확도 계산\n",
        "        train_loss += loss.item()\n",
        "        train_acc += (predicted == labels).sum().item()\n",
        "\n",
        "    # 예측 페이즈\n",
        "    for inputs_test, labels_test in test_loader:\n",
        "        n_test += len(labels_test)\n",
        "\n",
        "        inputs_test = inputs_test.to(device)\n",
        "        labels_test = labels_test.to(device)\n",
        "\n",
        "        # 예측 계산\n",
        "        outputs_test = net(inputs_test)\n",
        "\n",
        "        # 손실 계산\n",
        "        loss_test = criterion(outputs_test, labels_test)\n",
        "\n",
        "        # 예측 라벨 산출\n",
        "        predicted_test = torch.max(outputs_test, 1)[1]\n",
        "\n",
        "        # 손실과 정확도 계산\n",
        "        val_loss +=  loss_test.item()\n",
        "        val_acc +=  (predicted_test == labels_test).sum().item()\n",
        "\n",
        "    # 평가 결과 산출, 기록\n",
        "    train_acc = train_acc / n_train\n",
        "    val_acc = val_acc / n_test\n",
        "    train_loss = train_loss * batch_size / n_train\n",
        "    val_loss = val_loss * batch_size / n_test\n",
        "    print (f'Epoch [{epoch+1}/{num_epochs}], loss: {train_loss:.5f} acc: {train_acc:.5f} val_loss: {val_loss:.5f}, val_acc: {val_acc:.5f}')\n",
        "    item = np.array([epoch+1 , train_loss, train_acc, val_loss, val_acc])\n",
        "    history2 = np.vstack((history2, item))"
      ],
      "metadata": {
        "colab": {
          "base_uri": "https://localhost:8080/",
          "height": 521,
          "referenced_widgets": [
            "7985645007294db1baa997ae4d9e4ebb",
            "c383f0aee4e24015a6bea39b473e2eb5",
            "9dcce5f33a5343c895e07e643f426245",
            "38ab01e62bff49678d4925016ff2d63b",
            "7b4ed8a28cad48f2a3f3cd4680c3dfd8",
            "43edf7f9671540df84d9168bce518f8f",
            "70005313fcc84d80aa2f21394aa91d63",
            "36b81765f21649b5836bf959d562e36c",
            "595ca92016b74c1db39a34cf296cba16",
            "d3775189be77483eb2ff5d631224082f",
            "253b01cf5a354ff295b4a1e54fe493d4",
            "129ef42561de4f2fa987414839b12eb1",
            "fb90fc6a013d4673a153809b492724b6",
            "c0257b1119784ede9cb267c8e4d20c03",
            "f4aacf3ed9014de5983fc605e0427dbb",
            "17cdc1833a2a4349981decb5f5f2e3bf",
            "e4912437da3046a2b7e993a4543d8f35",
            "8edd70322c9d452b9d4ce46ad35d7cbb",
            "47a0c6391f51454697f9dc5063212737",
            "98f27da73a2e4f28a3c9d2d05244da13",
            "e3cb6a710a7f43c18dcbb98995a62159",
            "19badd3a6c0a495398ea7c5568e66c24",
            "a4a79931f30f4878809f5c40668f53b2",
            "a0ca8c0644a04c6a9f086c9459aef0aa",
            "a310d314e35c404aa0aad42bef27902f",
            "413d354e742d46c2821e7e216b808919",
            "7daa437a154b419f84f30a434a1c4894",
            "e73fc15fb7344e15b667133f13a7bee4",
            "e021fcefbb7d47708a4c10304c412a7d",
            "f504cb719ee94454b9752b6ec056837d",
            "3846b75762fe4e169a62acab537e0e47",
            "7183861cc61f485d9054edc2345bf859",
            "1ae98b593d8c4a0f947353c3be88661c",
            "ef2678e3b9f9412d9e16f092b0986964",
            "3ad5dc745dff458eba1678cb06ad2442",
            "4424847ff99e4ac2846876f1530a7aca",
            "7bc5d5f4fdf649a2bd22ed10c1aaf632",
            "0a49ad6341914681be069caad92d7662",
            "9873665bfb0e4a8b96ddd4932fa057dc",
            "aecaae8f1afa4bfbac61977735863b26",
            "4b1cc8d3fcea4c328a7b90e6054b9432",
            "ddf99d74b101458ab6d6a16955636140",
            "58c712714cea45eeace6de42e3456032",
            "3694968f65f7458cb36727847ffdbb4a",
            "dbd8a84c02f84f24ab5b5b3b23cf52f0",
            "1c5788dcffec4e97af2216f67145d0f6",
            "a6cfd319eb234043bee32a5b5a511a66",
            "63f07c2c0d324f29a72a8c6094047c02",
            "a63bb5363ceb42e5a014ba750c2daa1f",
            "8603f42f016f4ebc9e9024e0968cf4f4",
            "dc05e3977ee44dffae05566b2f07ec9c",
            "e89bcad924e14006af68fca15f1b2ac5",
            "1704dc15a6dc4f83a7a7c73a61d60e9d",
            "150bac5312724a2fa26566461f2ea9cd",
            "07261d31d0ca42ed938c72be5ecca54c",
            "4d61275b0a34456c8725f3e047f94fb7",
            "1e21aca8330b4ef3b95347694cc2c22b",
            "971cf30faa6d4ca5848dbbe34bd50542",
            "bdf750696f7c4d0cba050455ad2c344a",
            "f9bcddbdd38a40888566086438647b13",
            "f8a003c50e404b83a12a65413ac54c51",
            "b5e863fd246643bb82db7c74f26c2025",
            "cd3b1b7faa9f4d23a5b3ebf23c587742",
            "1885e2213b144999baa8157b0184e1fa",
            "4e567f538730448f81dfedab1a8dc982",
            "6a99188317f0402ab2cdae017a493d89",
            "99fdc3b6059b4bd7964251563b415589",
            "c0ab0be7ca31420c80cfacb679588381",
            "25a532c181e346eba91c4e05f7243f23",
            "a6c9f8c23ce04827a2981fd521452298",
            "dec69d7765ae450882e4d348e4015271",
            "cdbd6852e8514e8288904ae9e9826f14",
            "0279468176a14e9bb97bbe774d0e44f8",
            "6d77878c4d684728b3750203b1880ecb",
            "d2590d2a70c4497e9200dad89d329b75",
            "48bcc48562db410594503d528aa34629",
            "06bff19874774c75b37647e43742e510",
            "165342d4b2824ce79979febdec3850ee",
            "256d00cc9c6b4311be588547dd1a1475",
            "e8cf2420090b4769b4adccd694fa5d5a",
            "62cdaa721ad647a6bc508cb34dcabdb3",
            "07ad73857fb746c7b0c8d5b9362c093d",
            "6b2139497a0b429bb6749da4a54c03f6",
            "b6ac3a70009141ee9e436e6de8922508",
            "73a56f1070074257b79a0774c39cfb28",
            "e898851d97ed4c8fa0a71b95c71fc055",
            "0087bba09e6a484c83025f7f4a213c08",
            "6a2679ac937049f1848e2b6b222af255",
            "55fc3931527b441e85057296e08e8013",
            "6a53f22461014cd2a59b984edb759161",
            "9cebf3fc3468453ab4b017cfc1a48bc9",
            "8d1cfb3e03b446168c5cc6d1f844fab8",
            "06298ff658bd446e85e377051f6a69ff",
            "be59db196a5c44ef9cbce9766db9a95c",
            "a4d24496f600454498e35aecd7d96db9",
            "84893d80053f4f61b69b9c1aee900ae6",
            "34f4f9e85dfa41bba373875238a73b16",
            "bf71c555b4e14f679164b6843e6a63c1",
            "43ae83c8ea16445ab2a05e8da540e3b0",
            "0a1f6da4457d401e987cda1a06a8a5fd",
            "16f56cda70994e9a90328e0fe7f0f9d7",
            "59a98086bca54d8f9af320823db19415",
            "01ec92bdece34225874115f5b1106984",
            "cfd0f8616dec40fab6612d5ababad49b",
            "6a4c661a2fb54c218e4a2129d8aff02c",
            "3b8b838d99ea4877a6024b286b7ee13e",
            "74aa4958886a41f09ad7c2667cf93e7b",
            "0a25141361094756899b554c48b0f5bb",
            "5d196a6880894b6b90de4964acf90531",
            "d993c5187b7c48d5aca8cd2fcadad83b"
          ]
        },
        "id": "ytfJ2gkSMVue",
        "outputId": "1fb991db-0bb9-480d-ee49-88d71bdbfbd3"
      },
      "execution_count": 72,
      "outputs": [
        {
          "output_type": "display_data",
          "data": {
            "text/plain": [
              "  0%|          | 0/120 [00:00<?, ?it/s]"
            ],
            "application/vnd.jupyter.widget-view+json": {
              "version_major": 2,
              "version_minor": 0,
              "model_id": "7985645007294db1baa997ae4d9e4ebb"
            }
          },
          "metadata": {}
        },
        {
          "output_type": "stream",
          "name": "stdout",
          "text": [
            "Epoch [1/10], loss: 2.20163 acc: 0.25380 val_loss: 2.04576, val_acc: 0.49800\n"
          ]
        },
        {
          "output_type": "display_data",
          "data": {
            "text/plain": [
              "  0%|          | 0/120 [00:00<?, ?it/s]"
            ],
            "application/vnd.jupyter.widget-view+json": {
              "version_major": 2,
              "version_minor": 0,
              "model_id": "129ef42561de4f2fa987414839b12eb1"
            }
          },
          "metadata": {}
        },
        {
          "output_type": "stream",
          "name": "stdout",
          "text": [
            "Epoch [2/10], loss: 1.75820 acc: 0.60443 val_loss: 1.39272, val_acc: 0.68680\n"
          ]
        },
        {
          "output_type": "display_data",
          "data": {
            "text/plain": [
              "  0%|          | 0/120 [00:00<?, ?it/s]"
            ],
            "application/vnd.jupyter.widget-view+json": {
              "version_major": 2,
              "version_minor": 0,
              "model_id": "a4a79931f30f4878809f5c40668f53b2"
            }
          },
          "metadata": {}
        },
        {
          "output_type": "stream",
          "name": "stdout",
          "text": [
            "Epoch [3/10], loss: 1.11284 acc: 0.75645 val_loss: 0.86510, val_acc: 0.80810\n"
          ]
        },
        {
          "output_type": "display_data",
          "data": {
            "text/plain": [
              "  0%|          | 0/120 [00:00<?, ?it/s]"
            ],
            "application/vnd.jupyter.widget-view+json": {
              "version_major": 2,
              "version_minor": 0,
              "model_id": "ef2678e3b9f9412d9e16f092b0986964"
            }
          },
          "metadata": {}
        },
        {
          "output_type": "stream",
          "name": "stdout",
          "text": [
            "Epoch [4/10], loss: 0.75170 acc: 0.82300 val_loss: 0.63477, val_acc: 0.84380\n"
          ]
        },
        {
          "output_type": "display_data",
          "data": {
            "text/plain": [
              "  0%|          | 0/120 [00:00<?, ?it/s]"
            ],
            "application/vnd.jupyter.widget-view+json": {
              "version_major": 2,
              "version_minor": 0,
              "model_id": "dbd8a84c02f84f24ab5b5b3b23cf52f0"
            }
          },
          "metadata": {}
        },
        {
          "output_type": "stream",
          "name": "stdout",
          "text": [
            "Epoch [5/10], loss: 0.59030 acc: 0.84983 val_loss: 0.52462, val_acc: 0.86370\n"
          ]
        },
        {
          "output_type": "display_data",
          "data": {
            "text/plain": [
              "  0%|          | 0/120 [00:00<?, ?it/s]"
            ],
            "application/vnd.jupyter.widget-view+json": {
              "version_major": 2,
              "version_minor": 0,
              "model_id": "4d61275b0a34456c8725f3e047f94fb7"
            }
          },
          "metadata": {}
        },
        {
          "output_type": "stream",
          "name": "stdout",
          "text": [
            "Epoch [6/10], loss: 0.50672 acc: 0.86653 val_loss: 0.46400, val_acc: 0.87440\n"
          ]
        },
        {
          "output_type": "display_data",
          "data": {
            "text/plain": [
              "  0%|          | 0/120 [00:00<?, ?it/s]"
            ],
            "application/vnd.jupyter.widget-view+json": {
              "version_major": 2,
              "version_minor": 0,
              "model_id": "99fdc3b6059b4bd7964251563b415589"
            }
          },
          "metadata": {}
        },
        {
          "output_type": "stream",
          "name": "stdout",
          "text": [
            "Epoch [7/10], loss: 0.45680 acc: 0.87540 val_loss: 0.42148, val_acc: 0.88560\n"
          ]
        },
        {
          "output_type": "display_data",
          "data": {
            "text/plain": [
              "  0%|          | 0/120 [00:00<?, ?it/s]"
            ],
            "application/vnd.jupyter.widget-view+json": {
              "version_major": 2,
              "version_minor": 0,
              "model_id": "165342d4b2824ce79979febdec3850ee"
            }
          },
          "metadata": {}
        },
        {
          "output_type": "stream",
          "name": "stdout",
          "text": [
            "Epoch [8/10], loss: 0.42335 acc: 0.88195 val_loss: 0.39551, val_acc: 0.89020\n"
          ]
        },
        {
          "output_type": "display_data",
          "data": {
            "text/plain": [
              "  0%|          | 0/120 [00:00<?, ?it/s]"
            ],
            "application/vnd.jupyter.widget-view+json": {
              "version_major": 2,
              "version_minor": 0,
              "model_id": "55fc3931527b441e85057296e08e8013"
            }
          },
          "metadata": {}
        },
        {
          "output_type": "stream",
          "name": "stdout",
          "text": [
            "Epoch [9/10], loss: 0.39965 acc: 0.88768 val_loss: 0.37600, val_acc: 0.89350\n"
          ]
        },
        {
          "output_type": "display_data",
          "data": {
            "text/plain": [
              "  0%|          | 0/120 [00:00<?, ?it/s]"
            ],
            "application/vnd.jupyter.widget-view+json": {
              "version_major": 2,
              "version_minor": 0,
              "model_id": "0a1f6da4457d401e987cda1a06a8a5fd"
            }
          },
          "metadata": {}
        },
        {
          "output_type": "stream",
          "name": "stdout",
          "text": [
            "Epoch [10/10], loss: 0.38195 acc: 0.89183 val_loss: 0.35886, val_acc: 0.89880\n"
          ]
        }
      ]
    },
    {
      "cell_type": "code",
      "source": [
        "# 손실과 정확도 확인\n",
        "\n",
        "print(f'초기상태 : 손실 : {history2[0,3]:.5f}  정확도 : {history2[0,4]:.5f}' )\n",
        "print(f'최종상태 : 손실 : {history2[-1,3]:.5f}  정확도 : {history2[-1,4]:.5f}' )"
      ],
      "metadata": {
        "colab": {
          "base_uri": "https://localhost:8080/"
        },
        "id": "POXGzH5MMYJG",
        "outputId": "0f21704b-39c6-47a1-a9ad-b67faa53a915"
      },
      "execution_count": 73,
      "outputs": [
        {
          "output_type": "stream",
          "name": "stdout",
          "text": [
            "초기상태 : 손실 : 2.04576  정확도 : 0.49800\n",
            "최종상태 : 손실 : 0.35886  정확도 : 0.89880\n"
          ]
        }
      ]
    },
    {
      "cell_type": "code",
      "source": [
        "# 학습 곡선 출력(손실)\n",
        "plt.plot(history2[:,0], history2[:,1], 'b', label='훈련')\n",
        "plt.plot(history2[:,0], history2[:,3], 'k', label='검증')\n",
        "plt.xlabel('반복 횟수')\n",
        "plt.ylabel('손실')\n",
        "plt.title('학습 곡선(손실)')\n",
        "plt.legend()\n",
        "plt.show()"
      ],
      "metadata": {
        "colab": {
          "base_uri": "https://localhost:8080/",
          "height": 578
        },
        "id": "8qh2Ctt0MaQg",
        "outputId": "150c52b3-788f-4010-b84e-13289de1152f"
      },
      "execution_count": 74,
      "outputs": [
        {
          "output_type": "display_data",
          "data": {
            "text/plain": [
              "<Figure size 600x600 with 1 Axes>"
            ],
            "image/png": "[encoded data removed]"
          },
          "metadata": {}
        }
      ]
    },
    {
      "cell_type": "code",
      "source": [
        "# 학습 곡선 출력(정확도)\n",
        "\n",
        "plt.plot(history2[:,0], history2[:,2], 'b', label='훈련')\n",
        "plt.plot(history2[:,0], history2[:,4], 'k', label='검증')\n",
        "plt.xlabel('반복 횟수')\n",
        "plt.ylabel('정확도')\n",
        "plt.title('학습 곡선(정확도)')\n",
        "plt.legend()\n",
        "plt.show()"
      ],
      "metadata": {
        "colab": {
          "base_uri": "https://localhost:8080/",
          "height": 578
        },
        "id": "dTTVFECBMbEt",
        "outputId": "d65d27bb-8026-42e5-efa4-d4b03f0e8ac9"
      },
      "execution_count": 75,
      "outputs": [
        {
          "output_type": "display_data",
          "data": {
            "text/plain": [
              "<Figure size 600x600 with 1 Axes>"
            ],
            "image/png": "[encoded data removed]"
          },
          "metadata": {}
        }
      ]
    },
    {
      "cell_type": "markdown",
      "source": [
        "### 칼럼 경사 손실과 ReLU 함수"
      ],
      "metadata": {
        "id": "dgDO0xgOMlrA"
      }
    },
    {
      "cell_type": "code",
      "source": [
        "# 모델 정의 -　시그모이드 함수 버전\n",
        "# 784입력 10출력을 갖는 2개의 은닉층을 포함한 신경망\n",
        "\n",
        "class Net3(nn.Module):\n",
        "    def __init__(self, n_input, n_output, n_hidden):\n",
        "        super().__init__()\n",
        "\n",
        "        # 첫번째 은닉층 정의(은닉층 노드 수: n_hidden)\n",
        "        self.l1 = nn.Linear(n_input, n_hidden)\n",
        "\n",
        "        # 두번째 은닉층 정의(은닉층 노드 수: n_hidden)\n",
        "        self.l2 = nn.Linear(n_hidden, n_hidden)\n",
        "\n",
        "        # 출력층 정의\n",
        "        self.l3 = nn.Linear(n_hidden, n_output)\n",
        "\n",
        "        # 시그모이드 함수 정의\n",
        "        self.sigmoid = nn.Sigmoid()\n",
        "\n",
        "    def forward(self, x):\n",
        "        x1 = self.l1(x)\n",
        "        x2 = self.sigmoid(x1)\n",
        "        x3 = self.l2(x2)\n",
        "        x4 = self.sigmoid(x3)\n",
        "        x5 = self.l3(x4)\n",
        "        return x5"
      ],
      "metadata": {
        "id": "tCNKKeKIMcJu"
      },
      "execution_count": 76,
      "outputs": []
    },
    {
      "cell_type": "code",
      "source": [
        "# 난수 고정\n",
        "torch.manual_seed(123)\n",
        "torch.cuda.manual_seed(123)\n",
        "\n",
        "# 모델 초기화\n",
        "net = Net3(n_input, n_output, n_hidden).to(device)\n",
        "\n",
        "# 손실 함수： 교차 엔트로피 함수\n",
        "criterion = nn.CrossEntropyLoss()\n",
        "\n",
        "# 최적화 함수: 경사 하강법\n",
        "optimizer = torch.optim.SGD(net.parameters(), lr=lr)"
      ],
      "metadata": {
        "id": "Ofd4c4fBMpbP"
      },
      "execution_count": 77,
      "outputs": []
    },
    {
      "cell_type": "code",
      "source": [
        "# 데이터로더에서 처음 한 세트 가져오기\n",
        "for images, labels in test_loader:\n",
        "    break\n",
        "\n",
        "# 예측 결과 가져오기\n",
        "inputs = images.to(device)\n",
        "labels = labels.to(device)"
      ],
      "metadata": {
        "id": "_v_UsBT1Mqb2"
      },
      "execution_count": 78,
      "outputs": []
    },
    {
      "cell_type": "code",
      "source": [
        "# 예측 계산\n",
        "outputs = net(inputs)\n",
        "\n",
        "# 손실 계산\n",
        "loss = criterion(outputs, labels)\n",
        "\n",
        "# 손실 계산 그래프 시각화\n",
        "make_dot(loss, params=dict(net.named_parameters()))"
      ],
      "metadata": {
        "colab": {
          "base_uri": "https://localhost:8080/",
          "height": 894
        },
        "id": "M4sl-lAbMra2",
        "outputId": "848e3255-e112-47ff-fb13-d525afd08c38"
      },
      "execution_count": 79,
      "outputs": [
        {
          "output_type": "execute_result",
          "data": {
            "image/svg+xml": "<?xml version=\"1.0\" encoding=\"UTF-8\" standalone=\"no\"?>\n<!DOCTYPE svg PUBLIC \"-//W3C//DTD SVG 1.1//EN\"\n \"http://www.w3.org/Graphics/SVG/1.1/DTD/svg11.dtd\">\n<!-- Generated by graphviz version 2.43.0 (0)\n -->\n<!-- Title: %3 Pages: 1 -->\n<svg width=\"432pt\" height=\"655pt\"\n viewBox=\"0.00 0.00 432.00 655.00\" xmlns=\"http://www.w3.org/2000/svg\" xmlns:xlink=\"http://www.w3.org/1999/xlink\">\n<g id=\"graph0\" class=\"graph\" transform=\"scale(1 1) rotate(0) translate(4 651)\">\n<title>%3</title>\n<polygon fill=\"white\" stroke=\"transparent\" points=\"-4,4 -4,-651 428,-651 428,4 -4,4\"/>\n<!-- 140533659585328 -->\n<g id=\"node1\" class=\"node\">\n<title>140533659585328</title>\n<polygon fill=\"#caff70\" stroke=\"black\" points=\"238.5,-31 184.5,-31 184.5,0 238.5,0 238.5,-31\"/>\n<text text-anchor=\"middle\" x=\"211.5\" y=\"-7\" font-family=\"monospace\" font-size=\"10.00\"> ()</text>\n</g>\n<!-- 140533767639808 -->\n<g id=\"node2\" class=\"node\">\n<title>140533767639808</title>\n<polygon fill=\"lightgrey\" stroke=\"black\" points=\"268,-86 155,-86 155,-67 268,-67 268,-86\"/>\n<text text-anchor=\"middle\" x=\"211.5\" y=\"-74\" font-family=\"monospace\" font-size=\"10.00\">NllLossBackward0</text>\n</g>\n<!-- 140533767639808&#45;&gt;140533659585328 -->\n<g id=\"edge22\" class=\"edge\">\n<title>140533767639808&#45;&gt;140533659585328</title>\n<path fill=\"none\" stroke=\"black\" d=\"M211.5,-66.79C211.5,-60.07 211.5,-50.4 211.5,-41.34\"/>\n<polygon fill=\"black\" stroke=\"black\" points=\"215,-41.19 211.5,-31.19 208,-41.19 215,-41.19\"/>\n</g>\n<!-- 140533767647680 -->\n<g id=\"node3\" class=\"node\">\n<title>140533767647680</title>\n<polygon fill=\"lightgrey\" stroke=\"black\" points=\"277,-141 146,-141 146,-122 277,-122 277,-141\"/>\n<text text-anchor=\"middle\" x=\"211.5\" y=\"-129\" font-family=\"monospace\" font-size=\"10.00\">LogSoftmaxBackward0</text>\n</g>\n<!-- 140533767647680&#45;&gt;140533767639808 -->\n<g id=\"edge1\" class=\"edge\">\n<title>140533767647680&#45;&gt;140533767639808</title>\n<path fill=\"none\" stroke=\"black\" d=\"M211.5,-121.75C211.5,-114.8 211.5,-104.85 211.5,-96.13\"/>\n<polygon fill=\"black\" stroke=\"black\" points=\"215,-96.09 211.5,-86.09 208,-96.09 215,-96.09\"/>\n</g>\n<!-- 140533767646768 -->\n<g id=\"node4\" class=\"node\">\n<title>140533767646768</title>\n<polygon fill=\"lightgrey\" stroke=\"black\" points=\"262,-196 161,-196 161,-177 262,-177 262,-196\"/>\n<text text-anchor=\"middle\" x=\"211.5\" y=\"-184\" font-family=\"monospace\" font-size=\"10.00\">AddmmBackward0</text>\n</g>\n<!-- 140533767646768&#45;&gt;140533767647680 -->\n<g id=\"edge2\" class=\"edge\">\n<title>140533767646768&#45;&gt;140533767647680</title>\n<path fill=\"none\" stroke=\"black\" d=\"M211.5,-176.75C211.5,-169.8 211.5,-159.85 211.5,-151.13\"/>\n<polygon fill=\"black\" stroke=\"black\" points=\"215,-151.09 211.5,-141.09 208,-151.09 215,-151.09\"/>\n</g>\n<!-- 140533767647104 -->\n<g id=\"node5\" class=\"node\">\n<title>140533767647104</title>\n<polygon fill=\"lightgrey\" stroke=\"black\" points=\"137,-251 36,-251 36,-232 137,-232 137,-251\"/>\n<text text-anchor=\"middle\" x=\"86.5\" y=\"-239\" font-family=\"monospace\" font-size=\"10.00\">AccumulateGrad</text>\n</g>\n<!-- 140533767647104&#45;&gt;140533767646768 -->\n<g id=\"edge3\" class=\"edge\">\n<title>140533767647104&#45;&gt;140533767646768</title>\n<path fill=\"none\" stroke=\"black\" d=\"M106.58,-231.98C126.87,-223.38 158.46,-209.99 181.67,-200.15\"/>\n<polygon fill=\"black\" stroke=\"black\" points=\"183.21,-203.3 191.05,-196.17 180.48,-196.85 183.21,-203.3\"/>\n</g>\n<!-- 140533765965600 -->\n<g id=\"node6\" class=\"node\">\n<title>140533765965600</title>\n<polygon fill=\"lightblue\" stroke=\"black\" points=\"116,-317 57,-317 57,-287 116,-287 116,-317\"/>\n<text text-anchor=\"middle\" x=\"86.5\" y=\"-305\" font-family=\"monospace\" font-size=\"10.00\">l3.bias</text>\n<text text-anchor=\"middle\" x=\"86.5\" y=\"-294\" font-family=\"monospace\" font-size=\"10.00\"> (10)</text>\n</g>\n<!-- 140533765965600&#45;&gt;140533767647104 -->\n<g id=\"edge4\" class=\"edge\">\n<title>140533765965600&#45;&gt;140533767647104</title>\n<path fill=\"none\" stroke=\"black\" d=\"M86.5,-286.84C86.5,-279.21 86.5,-269.7 86.5,-261.45\"/>\n<polygon fill=\"black\" stroke=\"black\" points=\"90,-261.27 86.5,-251.27 83,-261.27 90,-261.27\"/>\n</g>\n<!-- 140533767649936 -->\n<g id=\"node7\" class=\"node\">\n<title>140533767649936</title>\n<polygon fill=\"lightgrey\" stroke=\"black\" points=\"268,-251 155,-251 155,-232 268,-232 268,-251\"/>\n<text text-anchor=\"middle\" x=\"211.5\" y=\"-239\" font-family=\"monospace\" font-size=\"10.00\">SigmoidBackward0</text>\n</g>\n<!-- 140533767649936&#45;&gt;140533767646768 -->\n<g id=\"edge5\" class=\"edge\">\n<title>140533767649936&#45;&gt;140533767646768</title>\n<path fill=\"none\" stroke=\"black\" d=\"M211.5,-231.75C211.5,-224.8 211.5,-214.85 211.5,-206.13\"/>\n<polygon fill=\"black\" stroke=\"black\" points=\"215,-206.09 211.5,-196.09 208,-206.09 215,-206.09\"/>\n</g>\n<!-- 140533767643360 -->\n<g id=\"node8\" class=\"node\">\n<title>140533767643360</title>\n<polygon fill=\"lightgrey\" stroke=\"black\" points=\"245,-311.5 144,-311.5 144,-292.5 245,-292.5 245,-311.5\"/>\n<text text-anchor=\"middle\" x=\"194.5\" y=\"-299.5\" font-family=\"monospace\" font-size=\"10.00\">AddmmBackward0</text>\n</g>\n<!-- 140533767643360&#45;&gt;140533767649936 -->\n<g id=\"edge6\" class=\"edge\">\n<title>140533767643360&#45;&gt;140533767649936</title>\n<path fill=\"none\" stroke=\"black\" d=\"M197.01,-292.37C199.39,-284.16 203.06,-271.54 206.11,-261.05\"/>\n<polygon fill=\"black\" stroke=\"black\" points=\"209.55,-261.75 208.98,-251.17 202.83,-259.79 209.55,-261.75\"/>\n</g>\n<!-- 140533767637600 -->\n<g id=\"node9\" class=\"node\">\n<title>140533767637600</title>\n<polygon fill=\"lightgrey\" stroke=\"black\" points=\"101,-377.5 0,-377.5 0,-358.5 101,-358.5 101,-377.5\"/>\n<text text-anchor=\"middle\" x=\"50.5\" y=\"-365.5\" font-family=\"monospace\" font-size=\"10.00\">AccumulateGrad</text>\n</g>\n<!-- 140533767637600&#45;&gt;140533767643360 -->\n<g id=\"edge7\" class=\"edge\">\n<title>140533767637600&#45;&gt;140533767643360</title>\n<path fill=\"none\" stroke=\"black\" d=\"M69.92,-358.37C94.51,-347.44 137.07,-328.52 165.51,-315.88\"/>\n<polygon fill=\"black\" stroke=\"black\" points=\"167.21,-318.96 174.93,-311.7 164.37,-312.56 167.21,-318.96\"/>\n</g>\n<!-- 140533756278352 -->\n<g id=\"node10\" class=\"node\">\n<title>140533756278352</title>\n<polygon fill=\"lightblue\" stroke=\"black\" points=\"80,-449 21,-449 21,-419 80,-419 80,-449\"/>\n<text text-anchor=\"middle\" x=\"50.5\" y=\"-437\" font-family=\"monospace\" font-size=\"10.00\">l2.bias</text>\n<text text-anchor=\"middle\" x=\"50.5\" y=\"-426\" font-family=\"monospace\" font-size=\"10.00\"> (128)</text>\n</g>\n<!-- 140533756278352&#45;&gt;140533767637600 -->\n<g id=\"edge8\" class=\"edge\">\n<title>140533756278352&#45;&gt;140533767637600</title>\n<path fill=\"none\" stroke=\"black\" d=\"M50.5,-418.8C50.5,-409.7 50.5,-397.79 50.5,-387.9\"/>\n<polygon fill=\"black\" stroke=\"black\" points=\"54,-387.84 50.5,-377.84 47,-387.84 54,-387.84\"/>\n</g>\n<!-- 140533767638992 -->\n<g id=\"node11\" class=\"node\">\n<title>140533767638992</title>\n<polygon fill=\"lightgrey\" stroke=\"black\" points=\"232,-377.5 119,-377.5 119,-358.5 232,-358.5 232,-377.5\"/>\n<text text-anchor=\"middle\" x=\"175.5\" y=\"-365.5\" font-family=\"monospace\" font-size=\"10.00\">SigmoidBackward0</text>\n</g>\n<!-- 140533767638992&#45;&gt;140533767643360 -->\n<g id=\"edge9\" class=\"edge\">\n<title>140533767638992&#45;&gt;140533767643360</title>\n<path fill=\"none\" stroke=\"black\" d=\"M178.06,-358.37C180.85,-348.97 185.39,-333.67 189,-321.53\"/>\n<polygon fill=\"black\" stroke=\"black\" points=\"192.37,-322.49 191.86,-311.91 185.65,-320.5 192.37,-322.49\"/>\n</g>\n<!-- 140533767644608 -->\n<g id=\"node12\" class=\"node\">\n<title>140533767644608</title>\n<polygon fill=\"lightgrey\" stroke=\"black\" points=\"223,-443.5 122,-443.5 122,-424.5 223,-424.5 223,-443.5\"/>\n<text text-anchor=\"middle\" x=\"172.5\" y=\"-431.5\" font-family=\"monospace\" font-size=\"10.00\">AddmmBackward0</text>\n</g>\n<!-- 140533767644608&#45;&gt;140533767638992 -->\n<g id=\"edge10\" class=\"edge\">\n<title>140533767644608&#45;&gt;140533767638992</title>\n<path fill=\"none\" stroke=\"black\" d=\"M172.9,-424.37C173.34,-415.07 174.05,-399.98 174.61,-387.9\"/>\n<polygon fill=\"black\" stroke=\"black\" points=\"178.11,-388.06 175.08,-377.91 171.12,-387.73 178.11,-388.06\"/>\n</g>\n<!-- 140533767638896 -->\n<g id=\"node13\" class=\"node\">\n<title>140533767638896</title>\n<polygon fill=\"lightgrey\" stroke=\"black\" points=\"126,-509.5 25,-509.5 25,-490.5 126,-490.5 126,-509.5\"/>\n<text text-anchor=\"middle\" x=\"75.5\" y=\"-497.5\" font-family=\"monospace\" font-size=\"10.00\">AccumulateGrad</text>\n</g>\n<!-- 140533767638896&#45;&gt;140533767644608 -->\n<g id=\"edge11\" class=\"edge\">\n<title>140533767638896&#45;&gt;140533767644608</title>\n<path fill=\"none\" stroke=\"black\" d=\"M88.58,-490.37C104.56,-479.82 131.83,-461.84 150.93,-449.23\"/>\n<polygon fill=\"black\" stroke=\"black\" points=\"152.9,-452.13 159.32,-443.7 149.04,-446.28 152.9,-452.13\"/>\n</g>\n<!-- 140533659660704 -->\n<g id=\"node14\" class=\"node\">\n<title>140533659660704</title>\n<polygon fill=\"lightblue\" stroke=\"black\" points=\"105,-581 46,-581 46,-551 105,-551 105,-581\"/>\n<text text-anchor=\"middle\" x=\"75.5\" y=\"-569\" font-family=\"monospace\" font-size=\"10.00\">l1.bias</text>\n<text text-anchor=\"middle\" x=\"75.5\" y=\"-558\" font-family=\"monospace\" font-size=\"10.00\"> (128)</text>\n</g>\n<!-- 140533659660704&#45;&gt;140533767638896 -->\n<g id=\"edge12\" class=\"edge\">\n<title>140533659660704&#45;&gt;140533767638896</title>\n<path fill=\"none\" stroke=\"black\" d=\"M75.5,-550.8C75.5,-541.7 75.5,-529.79 75.5,-519.9\"/>\n<polygon fill=\"black\" stroke=\"black\" points=\"79,-519.84 75.5,-509.84 72,-519.84 79,-519.84\"/>\n</g>\n<!-- 140533767650560 -->\n<g id=\"node15\" class=\"node\">\n<title>140533767650560</title>\n<polygon fill=\"lightgrey\" stroke=\"black\" points=\"221,-509.5 144,-509.5 144,-490.5 221,-490.5 221,-509.5\"/>\n<text text-anchor=\"middle\" x=\"182.5\" y=\"-497.5\" font-family=\"monospace\" font-size=\"10.00\">TBackward0</text>\n</g>\n<!-- 140533767650560&#45;&gt;140533767644608 -->\n<g id=\"edge13\" class=\"edge\">\n<title>140533767650560&#45;&gt;140533767644608</title>\n<path fill=\"none\" stroke=\"black\" d=\"M181.15,-490.37C179.7,-481.07 177.34,-465.98 175.45,-453.9\"/>\n<polygon fill=\"black\" stroke=\"black\" points=\"178.89,-453.25 173.89,-443.91 171.98,-454.33 178.89,-453.25\"/>\n</g>\n<!-- 140533767645424 -->\n<g id=\"node16\" class=\"node\">\n<title>140533767645424</title>\n<polygon fill=\"lightgrey\" stroke=\"black\" points=\"233,-575.5 132,-575.5 132,-556.5 233,-556.5 233,-575.5\"/>\n<text text-anchor=\"middle\" x=\"182.5\" y=\"-563.5\" font-family=\"monospace\" font-size=\"10.00\">AccumulateGrad</text>\n</g>\n<!-- 140533767645424&#45;&gt;140533767650560 -->\n<g id=\"edge14\" class=\"edge\">\n<title>140533767645424&#45;&gt;140533767650560</title>\n<path fill=\"none\" stroke=\"black\" d=\"M182.5,-556.37C182.5,-547.16 182.5,-532.29 182.5,-520.27\"/>\n<polygon fill=\"black\" stroke=\"black\" points=\"186,-519.91 182.5,-509.91 179,-519.91 186,-519.91\"/>\n</g>\n<!-- 140533756191552 -->\n<g id=\"node17\" class=\"node\">\n<title>140533756191552</title>\n<polygon fill=\"lightblue\" stroke=\"black\" points=\"224,-647 141,-647 141,-617 224,-617 224,-647\"/>\n<text text-anchor=\"middle\" x=\"182.5\" y=\"-635\" font-family=\"monospace\" font-size=\"10.00\">l1.weight</text>\n<text text-anchor=\"middle\" x=\"182.5\" y=\"-624\" font-family=\"monospace\" font-size=\"10.00\"> (128, 784)</text>\n</g>\n<!-- 140533756191552&#45;&gt;140533767645424 -->\n<g id=\"edge15\" class=\"edge\">\n<title>140533756191552&#45;&gt;140533767645424</title>\n<path fill=\"none\" stroke=\"black\" d=\"M182.5,-616.8C182.5,-607.7 182.5,-595.79 182.5,-585.9\"/>\n<polygon fill=\"black\" stroke=\"black\" points=\"186,-585.84 182.5,-575.84 179,-585.84 186,-585.84\"/>\n</g>\n<!-- 140533767650704 -->\n<g id=\"node18\" class=\"node\">\n<title>140533767650704</title>\n<polygon fill=\"lightgrey\" stroke=\"black\" points=\"327,-377.5 250,-377.5 250,-358.5 327,-358.5 327,-377.5\"/>\n<text text-anchor=\"middle\" x=\"288.5\" y=\"-365.5\" font-family=\"monospace\" font-size=\"10.00\">TBackward0</text>\n</g>\n<!-- 140533767650704&#45;&gt;140533767643360 -->\n<g id=\"edge16\" class=\"edge\">\n<title>140533767650704&#45;&gt;140533767643360</title>\n<path fill=\"none\" stroke=\"black\" d=\"M275.82,-358.37C260.41,-347.87 234.15,-330 215.65,-317.4\"/>\n<polygon fill=\"black\" stroke=\"black\" points=\"217.51,-314.43 207.28,-311.7 213.57,-320.22 217.51,-314.43\"/>\n</g>\n<!-- 140533767638032 -->\n<g id=\"node19\" class=\"node\">\n<title>140533767638032</title>\n<polygon fill=\"lightgrey\" stroke=\"black\" points=\"342,-443.5 241,-443.5 241,-424.5 342,-424.5 342,-443.5\"/>\n<text text-anchor=\"middle\" x=\"291.5\" y=\"-431.5\" font-family=\"monospace\" font-size=\"10.00\">AccumulateGrad</text>\n</g>\n<!-- 140533767638032&#45;&gt;140533767650704 -->\n<g id=\"edge17\" class=\"edge\">\n<title>140533767638032&#45;&gt;140533767650704</title>\n<path fill=\"none\" stroke=\"black\" d=\"M291.1,-424.37C290.66,-415.07 289.95,-399.98 289.39,-387.9\"/>\n<polygon fill=\"black\" stroke=\"black\" points=\"292.88,-387.73 288.92,-377.91 285.89,-388.06 292.88,-387.73\"/>\n</g>\n<!-- 140533646894928 -->\n<g id=\"node20\" class=\"node\">\n<title>140533646894928</title>\n<polygon fill=\"lightblue\" stroke=\"black\" points=\"333,-515 250,-515 250,-485 333,-485 333,-515\"/>\n<text text-anchor=\"middle\" x=\"291.5\" y=\"-503\" font-family=\"monospace\" font-size=\"10.00\">l2.weight</text>\n<text text-anchor=\"middle\" x=\"291.5\" y=\"-492\" font-family=\"monospace\" font-size=\"10.00\"> (128, 128)</text>\n</g>\n<!-- 140533646894928&#45;&gt;140533767638032 -->\n<g id=\"edge18\" class=\"edge\">\n<title>140533646894928&#45;&gt;140533767638032</title>\n<path fill=\"none\" stroke=\"black\" d=\"M291.5,-484.8C291.5,-475.7 291.5,-463.79 291.5,-453.9\"/>\n<polygon fill=\"black\" stroke=\"black\" points=\"295,-453.84 291.5,-443.84 288,-453.84 295,-453.84\"/>\n</g>\n<!-- 140533767648064 -->\n<g id=\"node21\" class=\"node\">\n<title>140533767648064</title>\n<polygon fill=\"lightgrey\" stroke=\"black\" points=\"402,-251 325,-251 325,-232 402,-232 402,-251\"/>\n<text text-anchor=\"middle\" x=\"363.5\" y=\"-239\" font-family=\"monospace\" font-size=\"10.00\">TBackward0</text>\n</g>\n<!-- 140533767648064&#45;&gt;140533767646768 -->\n<g id=\"edge19\" class=\"edge\">\n<title>140533767648064&#45;&gt;140533767646768</title>\n<path fill=\"none\" stroke=\"black\" d=\"M339.08,-231.98C313.78,-223.16 274.05,-209.31 245.64,-199.41\"/>\n<polygon fill=\"black\" stroke=\"black\" points=\"246.71,-196.07 236.11,-196.08 244.4,-202.68 246.71,-196.07\"/>\n</g>\n<!-- 140533767651088 -->\n<g id=\"node22\" class=\"node\">\n<title>140533767651088</title>\n<polygon fill=\"lightgrey\" stroke=\"black\" points=\"424,-311.5 323,-311.5 323,-292.5 424,-292.5 424,-311.5\"/>\n<text text-anchor=\"middle\" x=\"373.5\" y=\"-299.5\" font-family=\"monospace\" font-size=\"10.00\">AccumulateGrad</text>\n</g>\n<!-- 140533767651088&#45;&gt;140533767648064 -->\n<g id=\"edge20\" class=\"edge\">\n<title>140533767651088&#45;&gt;140533767648064</title>\n<path fill=\"none\" stroke=\"black\" d=\"M372.02,-292.37C370.62,-284.16 368.46,-271.54 366.67,-261.05\"/>\n<polygon fill=\"black\" stroke=\"black\" points=\"370.12,-260.43 364.98,-251.17 363.22,-261.61 370.12,-260.43\"/>\n</g>\n<!-- 140533356058384 -->\n<g id=\"node23\" class=\"node\">\n<title>140533356058384</title>\n<polygon fill=\"lightblue\" stroke=\"black\" points=\"422,-383 345,-383 345,-353 422,-353 422,-383\"/>\n<text text-anchor=\"middle\" x=\"383.5\" y=\"-371\" font-family=\"monospace\" font-size=\"10.00\">l3.weight</text>\n<text text-anchor=\"middle\" x=\"383.5\" y=\"-360\" font-family=\"monospace\" font-size=\"10.00\"> (10, 128)</text>\n</g>\n<!-- 140533356058384&#45;&gt;140533767651088 -->\n<g id=\"edge21\" class=\"edge\">\n<title>140533356058384&#45;&gt;140533767651088</title>\n<path fill=\"none\" stroke=\"black\" d=\"M381.28,-352.8C379.86,-343.7 378,-331.79 376.45,-321.9\"/>\n<polygon fill=\"black\" stroke=\"black\" points=\"379.88,-321.18 374.88,-311.84 372.97,-322.26 379.88,-321.18\"/>\n</g>\n</g>\n</svg>\n",
            "text/plain": [
              "<graphviz.graphs.Digraph at 0x7fd0914c9d50>"
            ]
          },
          "metadata": {},
          "execution_count": 79
        }
      ]
    },
    {
      "cell_type": "code",
      "source": [
        "# 경사 계산\n",
        "loss.backward()\n",
        "\n",
        "# 경사 계산 결과의 일부\n",
        "w = net.to('cpu').l1.weight.grad.numpy()\n",
        "print(w)\n",
        "\n",
        "# 각 요소의 절댓값 평균\n",
        "print(np.abs(w).mean())"
      ],
      "metadata": {
        "colab": {
          "base_uri": "https://localhost:8080/"
        },
        "id": "8BqHtFHPMsee",
        "outputId": "70cf159d-5d24-4497-d9ca-8009e9094776"
      },
      "execution_count": 80,
      "outputs": [
        {
          "output_type": "stream",
          "name": "stdout",
          "text": [
            "[[ 0.0001  0.0001  0.0001 ...  0.0001  0.0001  0.0001]\n",
            " [ 0.0001  0.0001  0.0001 ...  0.0001  0.0001  0.0001]\n",
            " [-0.0001 -0.0001 -0.0001 ... -0.0001 -0.0001 -0.0001]\n",
            " ...\n",
            " [-0.0001 -0.0001 -0.0001 ... -0.0001 -0.0001 -0.0001]\n",
            " [ 0.0002  0.0002  0.0002 ...  0.0002  0.0002  0.0002]\n",
            " [-0.0001 -0.0001 -0.0001 ... -0.0001 -0.0001 -0.0001]]\n",
            "0.00017514593\n"
          ]
        }
      ]
    },
    {
      "cell_type": "markdown",
      "source": [
        "**딥러닝에서의 경사 손실**\n",
        "ReLU 함수의 경우 l1.weight의 각 요소의 절댓값 평균을 계산한 결과 0.000848이었고, 이에 반해 시그모이드 함수의 경우, 0.000175로 상당히 작은 값을 얻었다.\n",
        "은닉층이 두꺼워질 수록 이 차이는 커진다. 복잡한 합성 함수의 경사 값은 도중의 함수의 미분 결과를 전부 곱한 것이 된다.\n",
        "그런데 시그모이드 함수의 경우, 입력 값이 0으로부터 멀리 떨어질수록 기울기(=경사값)는 0에 가까워진다. 합성 함수 내부에서 시그모이드 함수를 여러번 거치게 되면, 값은 점차 0으로 수렴해간다.\n",
        "학습은 경사 값을 기반으로 이뤄지는 처리이므로, 경사 값이 0에 가까워진 경우, 학습은 극한으로 어려워지게 된다.\n",
        "ReLU 함수는 입력값이 +이기만 하면, x값에 상관없이 경사 값은 항상 일정하다. 즉, 경사 소실이 일어나기 힘들다."
      ],
      "metadata": {
        "id": "PdDyRKvGMuPJ"
      }
    },
    {
      "cell_type": "markdown",
      "source": [
        "### 칼럼 람다 표현식을 활용한 함수 정의"
      ],
      "metadata": {
        "id": "G00B5ysRNsw6"
      }
    },
    {
      "cell_type": "code",
      "source": [
        "# 일반적인 함수의 정의\n",
        "\n",
        "def f(x):\n",
        "    return (2 * x**2 + 2)"
      ],
      "metadata": {
        "id": "WELkuqRoMtmm"
      },
      "execution_count": 81,
      "outputs": []
    },
    {
      "cell_type": "code",
      "source": [
        "x = np.arange(-2, 2.1, 0.25)\n",
        "y = f(x)\n",
        "print(y)"
      ],
      "metadata": {
        "colab": {
          "base_uri": "https://localhost:8080/"
        },
        "id": "AkFtl7FfNuG1",
        "outputId": "5a25777f-e1a1-4462-a7bc-70698f6b2ab3"
      },
      "execution_count": 82,
      "outputs": [
        {
          "output_type": "stream",
          "name": "stdout",
          "text": [
            "[10.     8.125  6.5    5.125  4.     3.125  2.5    2.125  2.     2.125\n",
            "  2.5    3.125  4.     5.125  6.5    8.125 10.   ]\n"
          ]
        }
      ]
    },
    {
      "cell_type": "code",
      "source": [
        "# 람다 표현식으로 함수 정의\n",
        "\n",
        "g = lambda x: 2 * x**2 + 2"
      ],
      "metadata": {
        "id": "pI8yBTWvNuxy"
      },
      "execution_count": 83,
      "outputs": []
    },
    {
      "cell_type": "code",
      "source": [
        "y = g(x)\n",
        "print(y)"
      ],
      "metadata": {
        "colab": {
          "base_uri": "https://localhost:8080/"
        },
        "id": "qHPyqljfNvlS",
        "outputId": "05bc341b-5939-4505-ab1d-9928ceeb8997"
      },
      "execution_count": 84,
      "outputs": [
        {
          "output_type": "stream",
          "name": "stdout",
          "text": [
            "[10.     8.125  6.5    5.125  4.     3.125  2.5    2.125  2.     2.125\n",
            "  2.5    3.125  4.     5.125  6.5    8.125 10.   ]\n"
          ]
        }
      ]
    },
    {
      "cell_type": "markdown",
      "source": [
        "Lamda 클래스를 호출함과 동시에 함수의 정의가 가능하다.\n",
        "함수를 따로 정의하고, 호출할 필요가 없다"
      ],
      "metadata": {
        "id": "2sRq7ZZKODsl"
      }
    },
    {
      "cell_type": "markdown",
      "source": [
        "### 칼럼 배치 사이즈와 정확도의 관계"
      ],
      "metadata": {
        "id": "HTZz8byTOHMl"
      }
    },
    {
      "cell_type": "markdown",
      "source": [
        "배치 사이즈를 작게 하면 정확도가 향상된다.\n",
        "미니 배치 학습법에서 배치 사이즈는 매우 중요한 튜닝 파라미터이다."
      ],
      "metadata": {
        "id": "gpDgDboMOMWs"
      }
    }
  ]
}
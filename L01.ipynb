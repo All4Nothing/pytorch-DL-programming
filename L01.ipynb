{
  "nbformat": 4,
  "nbformat_minor": 0,
  "metadata": {
    "colab": {
      "provenance": [],
      "authorship_tag": "ABX9TyM44gu4Fw3R/DhgIxsKFJn3",
      "include_colab_link": true
    },
    "kernelspec": {
      "name": "python3",
      "display_name": "Python 3"
    },
    "language_info": {
      "name": "python"
    }
  },
  "cells": [
    {
      "cell_type": "markdown",
      "metadata": {
        "id": "view-in-github",
        "colab_type": "text"
      },
      "source": [
        "<a href=\"https://colab.research.google.com/github/All4Nothing/pytorch-DL-programming/blob/main/L01.ipynb\" target=\"_parent\"><img src=\"https://colab.research.google.com/assets/colab-badge.svg\" alt=\"Open In Colab\"/></a>"
      ]
    },
    {
      "cell_type": "markdown",
      "source": [
        "# 부록1 파이썬 입문\n"
      ],
      "metadata": {
        "id": "chVbW2mqaKXS"
      }
    },
    {
      "cell_type": "markdown",
      "source": [
        "## L1.1 자료형의 기본"
      ],
      "metadata": {
        "id": "7c9iQiNEaee6"
      }
    },
    {
      "cell_type": "markdown",
      "source": [
        "- **정수형** : 정수(integer)를 표현할 때 씀.\n",
        "- **부동소수점형** : 부동소수점수(floating-point number)를 표현할 때 씀.\n",
        "- **문자열형** : 문자열(string)을 표현할 때 씀.\n",
        "- **논리형** : True 또는 False의 논리(boolean) 값만을 취하는 변수에 씀."
      ],
      "metadata": {
        "id": "26VHNSQGarfQ"
      }
    },
    {
      "cell_type": "code",
      "execution_count": 2,
      "metadata": {
        "id": "ks0GjwbZZ2Uk"
      },
      "outputs": [],
      "source": [
        "# 정수형\n",
        "# 수치 표현이 정수인 경우, 이를 대입한 변수는 자동으로 정수형이 됨\n",
        "a = 1\n",
        "\n",
        "# 부동소수점 수형\n",
        "# 수치 표현에 소수점이 포함되면, 이를 대입한 변수는 자동적으로 부동소수점 수형이 됨\n",
        "b = 2.0\n",
        "\n",
        "# 문자열형\n",
        "# 문자열은 싱글 쿼트(')로 감싸서 표현함\n",
        "# 또는 더블 쿼트(\")로 감싸도 상관 없음\n",
        "c = 'abc'\n",
        "\n",
        "# 논리형\n",
        "# True 또는 False 중 하나를 취하는 변수형\n",
        "d = True"
      ]
    },
    {
      "cell_type": "markdown",
      "source": [
        "###  print 함수와 type 함수"
      ],
      "metadata": {
        "id": "euSZT9QWaJox"
      }
    },
    {
      "cell_type": "code",
      "source": [
        "# 정수형 변수 a의 값과 형\n",
        "print(a)\n",
        "print(type(a))"
      ],
      "metadata": {
        "colab": {
          "base_uri": "https://localhost:8080/"
        },
        "id": "Y5vU5_2VbD9N",
        "outputId": "73d5e683-6cce-4ddc-9db7-39091b925e3d"
      },
      "execution_count": 3,
      "outputs": [
        {
          "output_type": "stream",
          "name": "stdout",
          "text": [
            "1\n",
            "<class 'int'>\n"
          ]
        }
      ]
    },
    {
      "cell_type": "code",
      "source": [
        "# 부동소수점 수형 변수 b의 값과 형\n",
        "print(b)\n",
        "print(type(b))"
      ],
      "metadata": {
        "colab": {
          "base_uri": "https://localhost:8080/"
        },
        "id": "Zh_o0R61bJhA",
        "outputId": "a51d0491-a41f-4b00-ae7e-5619c560863f"
      },
      "execution_count": 4,
      "outputs": [
        {
          "output_type": "stream",
          "name": "stdout",
          "text": [
            "2.0\n",
            "<class 'float'>\n"
          ]
        }
      ]
    },
    {
      "cell_type": "code",
      "source": [
        "# 문자열형 변수 c의 값과 형\n",
        "print(c)\n",
        "print(type(c))"
      ],
      "metadata": {
        "colab": {
          "base_uri": "https://localhost:8080/"
        },
        "id": "-KSrnKxvbL4A",
        "outputId": "cdaa60a2-7510-4ba5-c80c-146363009af0"
      },
      "execution_count": 5,
      "outputs": [
        {
          "output_type": "stream",
          "name": "stdout",
          "text": [
            "abc\n",
            "<class 'str'>\n"
          ]
        }
      ]
    },
    {
      "cell_type": "code",
      "source": [
        "# 논리형 변수 d의 값과 형\n",
        "print(d)\n",
        "print(type(d))"
      ],
      "metadata": {
        "colab": {
          "base_uri": "https://localhost:8080/"
        },
        "id": "87refhB_bNa4",
        "outputId": "4fc1058a-0176-4801-ae4a-301dd3fdfcb9"
      },
      "execution_count": 6,
      "outputs": [
        {
          "output_type": "stream",
          "name": "stdout",
          "text": [
            "True\n",
            "<class 'bool'>\n"
          ]
        }
      ]
    },
    {
      "cell_type": "markdown",
      "source": [
        "## L1.2 연산"
      ],
      "metadata": {
        "id": "rDNAvyqEbZuu"
      }
    },
    {
      "cell_type": "markdown",
      "source": [
        "### 2항 연산"
      ],
      "metadata": {
        "id": "vhYt7BOObjQW"
      }
    },
    {
      "cell_type": "code",
      "source": [
        "# 덧셈\n",
        "a1 = 1 + 2\n",
        "print(a1)\n",
        "\n",
        "# 뺄셈\n",
        "a2 = 3 - 2\n",
        "print(a2)\n",
        "\n",
        "# 곱셈\n",
        "a3 = 3 * 5\n",
        "print(a3)\n",
        "\n",
        "# 나눗셈\n",
        "a4 = 13 / 5\n",
        "print(a4)\n",
        "\n",
        "# 나머지 연산\n",
        "a5 = 13 % 5\n",
        "print(a5)\n",
        "\n",
        "# 몫 연산\n",
        "a6 = 13 // 5\n",
        "print(a6)\n",
        "\n",
        "# 거듭 제곱\n",
        "a7 = 2 ** 5\n",
        "print(a7)"
      ],
      "metadata": {
        "colab": {
          "base_uri": "https://localhost:8080/"
        },
        "id": "izD8bCGfbhNf",
        "outputId": "adbe4e7d-7283-457b-808d-7f98b7b11bec"
      },
      "execution_count": 7,
      "outputs": [
        {
          "output_type": "stream",
          "name": "stdout",
          "text": [
            "3\n",
            "1\n",
            "15\n",
            "2.6\n",
            "3\n",
            "2\n",
            "32\n"
          ]
        }
      ]
    },
    {
      "cell_type": "markdown",
      "source": [
        "### 논리 연산"
      ],
      "metadata": {
        "id": "ZlQNeGyhbsHC"
      }
    },
    {
      "cell_type": "code",
      "source": [
        "t1 = True\n",
        "t2 = True\n",
        "f1 = False\n",
        "f2 = False\n",
        "\n",
        "# AND 연산 \n",
        "b1 = t1 and t2\n",
        "print(b1)\n",
        "\n",
        "# OR 연산\n",
        "b2 = t1 or f1\n",
        "print(b2)\n",
        "\n",
        "# NOT 연산\n",
        "b3 = not f1\n",
        "print(b3)"
      ],
      "metadata": {
        "colab": {
          "base_uri": "https://localhost:8080/"
        },
        "id": "ifLRoFprbvOH",
        "outputId": "3e6e7dfd-80a7-4fc4-edb7-8e0ec4a0f119"
      },
      "execution_count": 9,
      "outputs": [
        {
          "output_type": "stream",
          "name": "stdout",
          "text": [
            "True\n",
            "True\n",
            "True\n"
          ]
        }
      ]
    },
    {
      "cell_type": "markdown",
      "source": [
        "### 대입 연산"
      ],
      "metadata": {
        "id": "OErZmwWKb5c_"
      }
    },
    {
      "cell_type": "code",
      "source": [
        "c1 = 5\n",
        "\n",
        "# c1 = c1 + 2와 같음\n",
        "c1 += 2\n",
        "print(c1)\n",
        "\n",
        "# c1 = c1 - 3과 같음\n",
        "c1 -= 3\n",
        "print(c1)"
      ],
      "metadata": {
        "colab": {
          "base_uri": "https://localhost:8080/"
        },
        "id": "e2_3ibo1b1tl",
        "outputId": "af88b093-0c82-42fb-b058-414b093dcc5f"
      },
      "execution_count": 10,
      "outputs": [
        {
          "output_type": "stream",
          "name": "stdout",
          "text": [
            "7\n",
            "4\n"
          ]
        }
      ]
    },
    {
      "cell_type": "markdown",
      "source": [
        "## L1.3 리스트"
      ],
      "metadata": {
        "id": "vjnzumFUb52E"
      }
    },
    {
      "cell_type": "markdown",
      "source": [
        "List는 데이터 구조 중 하나로 []를 사용하여 나타낸다.  \n",
        "'-'와 ':' 활용이 중요하다."
      ],
      "metadata": {
        "id": "b2CBO0g-cmS4"
      }
    },
    {
      "cell_type": "code",
      "source": [
        "# 리스트의 정의\n",
        "l = [1, 2, 3, 5, 8, 13]\n",
        "\n",
        "# 리스트의 값 과 형\n",
        "print(l)\n",
        "print(type(l))"
      ],
      "metadata": {
        "colab": {
          "base_uri": "https://localhost:8080/"
        },
        "id": "gTqo-DBrb-Mf",
        "outputId": "ccd6d077-2c80-40b8-d328-ae55644cdbb8"
      },
      "execution_count": 11,
      "outputs": [
        {
          "output_type": "stream",
          "name": "stdout",
          "text": [
            "[1, 2, 3, 5, 8, 13]\n",
            "<class 'list'>\n"
          ]
        }
      ]
    },
    {
      "cell_type": "markdown",
      "source": [
        "### 리스트의 요소 수"
      ],
      "metadata": {
        "id": "zV-fYow5cBEH"
      }
    },
    {
      "cell_type": "code",
      "source": [
        "# 리스트의 요소 수\n",
        "print(len(l))"
      ],
      "metadata": {
        "colab": {
          "base_uri": "https://localhost:8080/"
        },
        "id": "jVVNt7u6cZZV",
        "outputId": "8e0e4fe2-2929-4468-9f49-fc38ec8f17ce"
      },
      "execution_count": 12,
      "outputs": [
        {
          "output_type": "stream",
          "name": "stdout",
          "text": [
            "6\n"
          ]
        }
      ]
    },
    {
      "cell_type": "markdown",
      "source": [
        "### 리스트의 요소 참조"
      ],
      "metadata": {
        "id": "j17Tgqpfcayp"
      }
    },
    {
      "cell_type": "code",
      "source": [
        "# 리스트의 요소 참조\n",
        "\n",
        "# 가장 첫번째 요소\n",
        "print(l[0])\n",
        "\n",
        "# 3번째 요소\n",
        "print(l[2])\n",
        "\n",
        "# 마지막 요소(이와 같은 지정 방식도 가능함)\n",
        "print(l[-1])"
      ],
      "metadata": {
        "colab": {
          "base_uri": "https://localhost:8080/"
        },
        "id": "79JUka5tcaGA",
        "outputId": "6edc0d76-5fb2-47dc-c882-569e4e4c0575"
      },
      "execution_count": 13,
      "outputs": [
        {
          "output_type": "stream",
          "name": "stdout",
          "text": [
            "1\n",
            "3\n",
            "13\n"
          ]
        }
      ]
    },
    {
      "cell_type": "markdown",
      "source": [
        "### 부분 리스트 참조 1"
      ],
      "metadata": {
        "id": "j-aqRSrvcfQ_"
      }
    },
    {
      "cell_type": "code",
      "source": [
        "# 부분 리스트, 인덱스 : 2 이상 인덱스 : 5 미만\n",
        "print(l[2:5])\n",
        "\n",
        "# 부분 리스트, 인덱스 : 0 이상 인덱스 : 3 미만\n",
        "print(l[0:3])\n",
        "\n",
        "# 시작하는 인덱스가 0인 경우, 생략 가능\n",
        "print(l[:3])"
      ],
      "metadata": {
        "colab": {
          "base_uri": "https://localhost:8080/"
        },
        "id": "5ywa0E-dcdJY",
        "outputId": "18650407-7554-4d36-a1dc-0d3eadc472dc"
      },
      "execution_count": 14,
      "outputs": [
        {
          "output_type": "stream",
          "name": "stdout",
          "text": [
            "[3, 5, 8]\n",
            "[1, 2, 3]\n",
            "[1, 2, 3]\n"
          ]
        }
      ]
    },
    {
      "cell_type": "markdown",
      "source": [
        "### 부분 리스트 참조 2"
      ],
      "metadata": {
        "id": "Db8Lp-ULciDA"
      }
    },
    {
      "cell_type": "code",
      "source": [
        "# 부분 리스트, 인덱스 : 4 이상 마지막 까지\n",
        "# 리스트의 길이(요소 수)를 구함\n",
        "n = len(l) \n",
        "print(l[4:n])\n",
        "\n",
        "# 마지막 요소는 인덱스 생략 가능\n",
        "print(l[4:])\n",
        "\n",
        "# 마지막에서 2개 요소\n",
        "print(l[-2:])\n",
        "\n",
        "# 처음과 마지막 인덱스를 생략하면, 리스트 전체를 참조\n",
        "print(l[:])"
      ],
      "metadata": {
        "colab": {
          "base_uri": "https://localhost:8080/"
        },
        "id": "gASl0YMzcg4o",
        "outputId": "d6244bb8-3189-459e-bbc3-0cb14124915c"
      },
      "execution_count": 15,
      "outputs": [
        {
          "output_type": "stream",
          "name": "stdout",
          "text": [
            "[8, 13]\n",
            "[8, 13]\n",
            "[8, 13]\n",
            "[1, 2, 3, 5, 8, 13]\n"
          ]
        }
      ]
    },
    {
      "cell_type": "markdown",
      "source": [
        "## L1.4 튜플"
      ],
      "metadata": {
        "id": "g13UUhKNdEoU"
      }
    },
    {
      "cell_type": "markdown",
      "source": [
        "데이터 구조 중 하나로 () 사용"
      ],
      "metadata": {
        "id": "cb2UOnckdlxV"
      }
    },
    {
      "cell_type": "code",
      "source": [
        "# 튜플의 정의\n",
        "t = (1, 2, 3, 5, 8, 13)\n",
        "\n",
        "# 튜플의 값 출력\n",
        "print(t)\n",
        "\n",
        "# 튜플의 형 출력\n",
        "print(type(t))\n",
        "\n",
        "# 튜플의 요소 수\n",
        "print(len(t))\n",
        "\n",
        "# 튜플의 요소 참조\n",
        "print(t[1])"
      ],
      "metadata": {
        "colab": {
          "base_uri": "https://localhost:8080/"
        },
        "id": "Np1A_uSEcjxY",
        "outputId": "721d00e7-eedd-4a85-ddf9-85aaff30f37a"
      },
      "execution_count": 16,
      "outputs": [
        {
          "output_type": "stream",
          "name": "stdout",
          "text": [
            "(1, 2, 3, 5, 8, 13)\n",
            "<class 'tuple'>\n",
            "6\n",
            "2\n"
          ]
        }
      ]
    },
    {
      "cell_type": "code",
      "source": [
        "# 튜플의 요소에는 대입이 불가능하다\n",
        "t[1] = 1"
      ],
      "metadata": {
        "colab": {
          "base_uri": "https://localhost:8080/",
          "height": 202
        },
        "id": "ubfhqhpVdJT6",
        "outputId": "70d9328a-39a2-46a9-f1dd-0a119e850798"
      },
      "execution_count": 18,
      "outputs": [
        {
          "output_type": "error",
          "ename": "TypeError",
          "evalue": "ignored",
          "traceback": [
            "\u001b[0;31m---------------------------------------------------------------------------\u001b[0m",
            "\u001b[0;31mTypeError\u001b[0m                                 Traceback (most recent call last)",
            "\u001b[0;32m<ipython-input-18-204b63dd74d4>\u001b[0m in \u001b[0;36m<cell line: 2>\u001b[0;34m()\u001b[0m\n\u001b[1;32m      1\u001b[0m \u001b[0;31m# 튜플의 요소에는 대입이 불가능하다\u001b[0m\u001b[0;34m\u001b[0m\u001b[0;34m\u001b[0m\u001b[0m\n\u001b[0;32m----> 2\u001b[0;31m \u001b[0mt\u001b[0m\u001b[0;34m[\u001b[0m\u001b[0;36m1\u001b[0m\u001b[0;34m]\u001b[0m \u001b[0;34m=\u001b[0m \u001b[0;36m1\u001b[0m\u001b[0;34m\u001b[0m\u001b[0;34m\u001b[0m\u001b[0m\n\u001b[0m",
            "\u001b[0;31mTypeError\u001b[0m: 'tuple' object does not support item assignment"
          ]
        }
      ]
    },
    {
      "cell_type": "code",
      "source": [
        "x = 1\n",
        "y = 2\n",
        "z = (x, y)\n",
        "print(type(z))"
      ],
      "metadata": {
        "colab": {
          "base_uri": "https://localhost:8080/"
        },
        "id": "YncKcgV3dLZo",
        "outputId": "ac075260-cfa6-48da-81b1-440ab6c85319"
      },
      "execution_count": 19,
      "outputs": [
        {
          "output_type": "stream",
          "name": "stdout",
          "text": [
            "<class 'tuple'>\n"
          ]
        }
      ]
    },
    {
      "cell_type": "code",
      "source": [
        "# 'a, b' 처럼 적으면 이 식도 튜플이 된다. 따라서 a와 b 변수에 동시에 값이 대입이 된다.\n",
        "a, b = z\n",
        "print(a)\n",
        "print(b)"
      ],
      "metadata": {
        "colab": {
          "base_uri": "https://localhost:8080/"
        },
        "id": "uC9dyyM0dR_I",
        "outputId": "1ee0727f-f53f-4243-a962-a867b6aab29d"
      },
      "execution_count": 21,
      "outputs": [
        {
          "output_type": "stream",
          "name": "stdout",
          "text": [
            "1\n",
            "2\n"
          ]
        }
      ]
    },
    {
      "cell_type": "markdown",
      "source": [
        "## L1.5 사전"
      ],
      "metadata": {
        "id": "FMFje_F2di_o"
      }
    },
    {
      "cell_type": "markdown",
      "source": [
        "데이터 구조 중 하나로 key와 value로 구성되어 있다.  \n",
        "JSON  포맷과 동일하다"
      ],
      "metadata": {
        "id": "048dXoukdoSA"
      }
    },
    {
      "cell_type": "markdown",
      "source": [
        "### 사전의 정의"
      ],
      "metadata": {
        "id": "YcYW6JuJdzj5"
      }
    },
    {
      "cell_type": "code",
      "source": [
        "# 사전의 정의\n",
        "my_dict = {'yes': 1, 'no': 0}\n",
        "\n",
        "# print문 출력 결과\n",
        "print(my_dict)\n",
        "\n",
        "# type 함수 출력 결과\n",
        "print(type(my_dict))"
      ],
      "metadata": {
        "colab": {
          "base_uri": "https://localhost:8080/"
        },
        "id": "AAJyZGXudWM4",
        "outputId": "4788628a-9cab-42a0-a81f-2e60c78ef047"
      },
      "execution_count": 22,
      "outputs": [
        {
          "output_type": "stream",
          "name": "stdout",
          "text": [
            "{'yes': 1, 'no': 0}\n",
            "<class 'dict'>\n"
          ]
        }
      ]
    },
    {
      "cell_type": "markdown",
      "source": [
        "### 사전의 참조"
      ],
      "metadata": {
        "id": "H4y3CQ1Pd2KB"
      }
    },
    {
      "cell_type": "code",
      "source": [
        "# key로부터 값을 참조\n",
        "\n",
        "# key= 'yes' 로 검색\n",
        "value1 = my_dict['yes']\n",
        "print(value1)\n",
        "\n",
        "# key='no' 로 검색\n",
        "value2 = my_dict['no']\n",
        "print(value2)\n",
        "\n",
        "# 사전의 참조는 list 참조와 닮았지만, 사전의 참조는 []안이 문자열, list의 참조는 정수이다. "
      ],
      "metadata": {
        "colab": {
          "base_uri": "https://localhost:8080/"
        },
        "id": "8VijQ69Yd1qK",
        "outputId": "4f118289-8504-4bb7-c7b0-fd1d6618600a"
      },
      "execution_count": 27,
      "outputs": [
        {
          "output_type": "stream",
          "name": "stdout",
          "text": [
            "1\n",
            "0\n"
          ]
        }
      ]
    },
    {
      "cell_type": "markdown",
      "source": [
        "### 사전에 새로운 항목 추가"
      ],
      "metadata": {
        "id": "HUIwft5Rd5kk"
      }
    },
    {
      "cell_type": "code",
      "source": [
        "# 사전에 새로운 항목 추가\n",
        "my_dict['neutral'] = 2\n",
        "\n",
        "# 결과 확인\n",
        "print(my_dict)"
      ],
      "metadata": {
        "colab": {
          "base_uri": "https://localhost:8080/"
        },
        "id": "sh7px5wBd4BA",
        "outputId": "149f49aa-d304-48a0-fbfa-55b31490ee1a"
      },
      "execution_count": 24,
      "outputs": [
        {
          "output_type": "stream",
          "name": "stdout",
          "text": [
            "{'yes': 1, 'no': 0, 'neutral': 2}\n"
          ]
        }
      ]
    },
    {
      "cell_type": "markdown",
      "source": [
        "## L1.6 제어 구조"
      ],
      "metadata": {
        "id": "EHChjHLceRLq"
      }
    },
    {
      "cell_type": "markdown",
      "source": [
        "파이썬의 제어 구조(루프, 분기, 함수) 내부는 행의 들여스기(indent)에 따라 규정된다는 규칙이 있다.  \n",
        "즉, 제어 구조의 내부를 나타내는 데 필요한 괄호가 파이썬에는 필요없다."
      ],
      "metadata": {
        "id": "DEwt0roRejDe"
      }
    },
    {
      "cell_type": "markdown",
      "source": [
        "### 루프 처리"
      ],
      "metadata": {
        "id": "wv2L84O5edi9"
      }
    },
    {
      "cell_type": "code",
      "source": [
        "# 루프 처리\n",
        "\n",
        "# 리스트 정의\n",
        "list4 = ['One', 'Two', 'Three', 'Four']\n",
        "\n",
        "# 루프 처리\n",
        "for item in list4:\n",
        "    print(item)"
      ],
      "metadata": {
        "colab": {
          "base_uri": "https://localhost:8080/"
        },
        "id": "xBXEAZxId8dg",
        "outputId": "ae74a083-43e1-4d81-ab96-c9be91eb0c79"
      },
      "execution_count": 28,
      "outputs": [
        {
          "output_type": "stream",
          "name": "stdout",
          "text": [
            "One\n",
            "Two\n",
            "Three\n",
            "Four\n"
          ]
        }
      ]
    },
    {
      "cell_type": "code",
      "source": [
        "# range 함수를 사용한 루프 처리\n",
        "\n",
        "for item in range(4):\n",
        "    print(item)\n",
        "\n",
        "## range(4)는 [0,1,2,3] 인 리스트로 작용한다.\n",
        "### 즉, range 함수는 이런식으로 리스트를 자동 생성해주는 함수이다."
      ],
      "metadata": {
        "colab": {
          "base_uri": "https://localhost:8080/"
        },
        "id": "S6o-GAO3eg4I",
        "outputId": "df332f9a-98ef-4d46-fb5c-d1ba7a9f8a9b"
      },
      "execution_count": 37,
      "outputs": [
        {
          "output_type": "stream",
          "name": "stdout",
          "text": [
            "0\n",
            "1\n",
            "2\n",
            "3\n"
          ]
        }
      ]
    },
    {
      "cell_type": "code",
      "source": [
        "# 2개의 인수를 취하는 range 함수\n",
        "\n",
        "for item in range(1, 5):\n",
        "    print(item)"
      ],
      "metadata": {
        "colab": {
          "base_uri": "https://localhost:8080/"
        },
        "id": "c_zxGI24eyQ3",
        "outputId": "6cbbce15-4c72-4a65-f87d-1ad8d0f2ffce"
      },
      "execution_count": 31,
      "outputs": [
        {
          "output_type": "stream",
          "name": "stdout",
          "text": [
            "1\n",
            "2\n",
            "3\n",
            "4\n"
          ]
        }
      ]
    },
    {
      "cell_type": "markdown",
      "source": [
        "### 사전의 items 함수를 사용한 루프 처리"
      ],
      "metadata": {
        "id": "Kqo5bG-TfIC9"
      }
    },
    {
      "cell_type": "code",
      "source": [
        "# 사전과 루프 처리\n",
        "\n",
        "# items 함수\n",
        "print(my_dict.items())\n",
        "\n",
        "# items 함수를 사용한 루프 처리\n",
        "\n",
        "for key, value in my_dict.items():\n",
        "    print(key, ':', value )"
      ],
      "metadata": {
        "colab": {
          "base_uri": "https://localhost:8080/"
        },
        "id": "UBEdk_8IfFs4",
        "outputId": "3b9ee268-4065-4d7b-f97a-76cf67c36275"
      },
      "execution_count": 32,
      "outputs": [
        {
          "output_type": "stream",
          "name": "stdout",
          "text": [
            "dict_items([('yes', 1), ('no', 0), ('neutral', 2)])\n",
            "yes : 1\n",
            "no : 0\n",
            "neutral : 2\n"
          ]
        }
      ]
    },
    {
      "cell_type": "markdown",
      "source": [
        "### 조건 분기(if문)"
      ],
      "metadata": {
        "id": "579EK_iHfPad"
      }
    },
    {
      "cell_type": "code",
      "source": [
        "# if 문 예시\n",
        "for i in range(1, 5):\n",
        "    if i % 2 == 0:\n",
        "        print(i, '  짝수입니다')\n",
        "    else:\n",
        "        print(i, '  홀수입니다')"
      ],
      "metadata": {
        "colab": {
          "base_uri": "https://localhost:8080/"
        },
        "id": "gYbxD13WfM2Q",
        "outputId": "ea5f0a9d-4ef9-4864-e063-3be5aee00ad1"
      },
      "execution_count": 33,
      "outputs": [
        {
          "output_type": "stream",
          "name": "stdout",
          "text": [
            "1   홀수입니다\n",
            "2   짝수입니다\n",
            "3   홀수입니다\n",
            "4   짝수입니다\n"
          ]
        }
      ]
    },
    {
      "cell_type": "markdown",
      "source": [
        "### 함수"
      ],
      "metadata": {
        "id": "NtZCW9WWfSll"
      }
    },
    {
      "cell_type": "code",
      "source": [
        "# 함수의 정의 예시 1\n",
        "def square(x):\n",
        "    p2 = x * x\n",
        "    return p2\n",
        "\n",
        "# 함수의 호출 예시 1\n",
        "x1 = 13\n",
        "r1 = square(x1)\n",
        "print(x1, r1)"
      ],
      "metadata": {
        "colab": {
          "base_uri": "https://localhost:8080/"
        },
        "id": "LVgXzmnVfV3I",
        "outputId": "54213165-f3c6-437e-cce4-b52fce2c2766"
      },
      "execution_count": 34,
      "outputs": [
        {
          "output_type": "stream",
          "name": "stdout",
          "text": [
            "13 169\n"
          ]
        }
      ]
    },
    {
      "cell_type": "code",
      "source": [
        "#  함수의 정의 예시 2\n",
        "def squares(x):\n",
        "    p2 = x * x\n",
        "    p3= x * x * x\n",
        "    return (p2, p3)\n",
        "\n",
        "# 함수의 호출 예시 2\n",
        "x1 = 13\n",
        "p2, p3 = squares(x1)\n",
        "print(x1, p2, p3)"
      ],
      "metadata": {
        "colab": {
          "base_uri": "https://localhost:8080/"
        },
        "id": "RfY1p8myfW9I",
        "outputId": "4c87ceb7-4bef-4a8f-8eaf-f3d11efbdad7"
      },
      "execution_count": 35,
      "outputs": [
        {
          "output_type": "stream",
          "name": "stdout",
          "text": [
            "13 169 2197\n"
          ]
        }
      ]
    },
    {
      "cell_type": "markdown",
      "source": [
        "## L1.7 그 외의 기능"
      ],
      "metadata": {
        "id": "dgWfzpRJfYbA"
      }
    },
    {
      "cell_type": "markdown",
      "source": [
        "### 라이브러리 설치"
      ],
      "metadata": {
        "id": "4oeKKh4lfcYH"
      }
    },
    {
      "cell_type": "code",
      "source": [
        "# 라이브러리 설치\n",
        "!pip install matplotlib | tail -n 1\n",
        "\n",
        "## '!'는 노트북 안에서 OS 커맨드를 실행하기 위한 규칙이다.\n",
        "## '| tail -n 1' : 유닉스/리눅스 만의 독특한 파이프라인 처리이다. 설치 커맨드의 마지막 한 행만을 표시하기 위해 사용한다."
      ],
      "metadata": {
        "colab": {
          "base_uri": "https://localhost:8080/"
        },
        "id": "0O1kiS6cfeF0",
        "outputId": "fd1a4631-149e-41b3-e95b-a7aada3c11f3"
      },
      "execution_count": 39,
      "outputs": [
        {
          "output_type": "stream",
          "name": "stdout",
          "text": [
            "Requirement already satisfied: six>=1.5 in /usr/local/lib/python3.10/dist-packages (from python-dateutil>=2.7->matplotlib) (1.16.0)\n"
          ]
        }
      ]
    },
    {
      "cell_type": "markdown",
      "source": [
        "### 라이브러리 임포트"
      ],
      "metadata": {
        "id": "KF0rTuaDfhzg"
      }
    },
    {
      "cell_type": "code",
      "source": [
        "# 라이브러리 임포트\n",
        "import pandas as pd\n",
        "import numpy as np\n",
        "import matplotlib.pyplot as plt\n",
        "## 이 세 import 문은 머신러닝 프로그램에서 관용적으로 사용하는 별칭들로 항상 기억할 것.\n",
        "\n",
        "# 데이터 프레임 표시 함수\n",
        "from IPython.display import display\n",
        "\n",
        "## import : 임포트한 모듈에 포함된 함수를 모두 사용할 수 있다.\n",
        "## from x import y : x라는 이름의 라이브러리 중 y라는 함수(또는 변수, 클래스) 만을 사용한다."
      ],
      "metadata": {
        "id": "J6NfpEukf8h8"
      },
      "execution_count": 44,
      "outputs": []
    },
    {
      "cell_type": "markdown",
      "source": [
        "### warning을 출력하지 않는 방법"
      ],
      "metadata": {
        "id": "okiZuhSNgSdU"
      }
    },
    {
      "cell_type": "code",
      "source": [
        "# 필요하지 않은 warning 출력하지 않기\n",
        "import warnings\n",
        "warnings.filterwarnings('ignore')\n",
        "\n",
        "## '이 함수는 다음 버전에서 사용할 수 없게 될 예정입니다' 라는 경고 메세지 출력 무시"
      ],
      "metadata": {
        "id": "-pM5gTzzf-Rx"
      },
      "execution_count": 46,
      "outputs": []
    },
    {
      "cell_type": "markdown",
      "source": [
        "### 수치의 출력 형식 지정"
      ],
      "metadata": {
        "id": "3DQY3nqlgdQ4"
      }
    },
    {
      "cell_type": "code",
      "source": [
        "# f 문자열 표시\n",
        "a1 = 1.0/7.0\n",
        "a2 = 123\n",
        "\n",
        "str1 = f'a1 = {a1}   a2 = {a2}'\n",
        "print(str1)\n",
        "\n",
        "## f 문자열에서는 변수의 값을 {변수명}처럼 직접 중괄호 안으로 집어넣는다."
      ],
      "metadata": {
        "colab": {
          "base_uri": "https://localhost:8080/"
        },
        "id": "zx48qm8qgf2U",
        "outputId": "8fca5fca-37bb-4eb4-9a2c-85efc1e5582d"
      },
      "execution_count": 48,
      "outputs": [
        {
          "output_type": "stream",
          "name": "stdout",
          "text": [
            "a1 = 0.14285714285714285   a2 = 123\n"
          ]
        }
      ]
    },
    {
      "cell_type": "code",
      "source": [
        "# f 문자열의 상세 옵션\n",
        "\n",
        "# .4f : 소수점 이하 네 자리 고정소수점 표시\n",
        "# 04 : 정수를 0을 포함해 네 자리까지 표시\n",
        "str2 = f'a1 = {a1:.4f}  a2 = {a2:04}'\n",
        "print(str2)\n",
        "\n",
        "# 04e : 소수점 이하 네 자리 부동소수점 표시\n",
        "# #x : 정수를 16진수로 표시\n",
        "str3 = f'a1 = {a1:.04e}  a2 = {a2:#x}'\n",
        "print(str3)"
      ],
      "metadata": {
        "colab": {
          "base_uri": "https://localhost:8080/"
        },
        "id": "-bTbEwLggc8Q",
        "outputId": "bdfed030-5f8a-4d06-cdba-00e4706c0072"
      },
      "execution_count": 49,
      "outputs": [
        {
          "output_type": "stream",
          "name": "stdout",
          "text": [
            "a1 = 0.1429  a2 = 0123\n",
            "a1 = 1.4286e-01  a2 = 0x7b\n"
          ]
        }
      ]
    },
    {
      "cell_type": "markdown",
      "source": [
        "서식 지정 문법 Reference  \n",
        "https://docs.python.org/ko/3/library/string.html#formatstrings"
      ],
      "metadata": {
        "id": "4B-sOZLOgVvT"
      }
    }
  ]
}
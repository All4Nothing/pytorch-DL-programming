{
  "nbformat": 4,
  "nbformat_minor": 0,
  "metadata": {
    "colab": {
      "provenance": [],
      "authorship_tag": "ABX9TyOba+Z9XtRff4CcgHMmkFNR",
      "include_colab_link": true
    },
    "kernelspec": {
      "name": "python3",
      "display_name": "Python 3"
    },
    "language_info": {
      "name": "python"
    }
  },
  "cells": [
    {
      "cell_type": "markdown",
      "metadata": {
        "id": "view-in-github",
        "colab_type": "text"
      },
      "source": [
        "<a href=\"https://colab.research.google.com/github/All4Nothing/pytorch-DL-programming/blob/main/L02.ipynb\" target=\"_parent\"><img src=\"https://colab.research.google.com/assets/colab-badge.svg\" alt=\"Open In Colab\"/></a>"
      ]
    },
    {
      "cell_type": "markdown",
      "source": [
        "# 부록2 넘파이 입문"
      ],
      "metadata": {
        "id": "xgBG3TBDiYub"
      }
    },
    {
      "cell_type": "markdown",
      "source": [
        "Numpy : 표 형식의 데이터 간 계산을 쉽게 할 수 있게 하는 툴의 모음  \n",
        "머신러닝 프로그램은 결국 대부분이 표로 이뤄진 데이터에 대한 조작의 연속이다.  \n",
        "즉, numpy의 활용은 중요하다."
      ],
      "metadata": {
        "id": "JFgqP2T6ioi1"
      }
    },
    {
      "cell_type": "markdown",
      "source": [
        "### 라이브러리 임포트"
      ],
      "metadata": {
        "id": "Th8PB0BOicbR"
      }
    },
    {
      "cell_type": "code",
      "execution_count": 14,
      "metadata": {
        "id": "Fj0ziX1JiQLH"
      },
      "outputs": [],
      "source": [
        "# 라이브러리 임포트\n",
        "import numpy as np\n",
        "\n",
        "# 넘파이의 부동소수점 자릿수 표시\n",
        "np.set_printoptions(suppress=True, precision=5)"
      ]
    },
    {
      "cell_type": "markdown",
      "source": [
        "## L2.1 정의"
      ],
      "metadata": {
        "id": "Elo6sQERifrk"
      }
    },
    {
      "cell_type": "markdown",
      "source": [
        "### array 함수로 정의"
      ],
      "metadata": {
        "id": "YHkBDJuFijXS"
      }
    },
    {
      "cell_type": "code",
      "source": [
        "# array 함수를 통한 벡터(1계 배열) 변수의 정의\n",
        "n1 = np.array([1, 2, 3, 4, 5, 6, 7])\n",
        "\n",
        "# 결과 확인\n",
        "print(n1)\n",
        "\n",
        "# 요소 수 확인\n",
        "print(n1.shape)\n",
        "\n",
        "# 또 다른 방법\n",
        "print(len(n1))"
      ],
      "metadata": {
        "colab": {
          "base_uri": "https://localhost:8080/"
        },
        "id": "vKf7y3SviiAU",
        "outputId": "5a9dee53-98de-414b-a3bb-a80acbcaea73"
      },
      "execution_count": 15,
      "outputs": [
        {
          "output_type": "stream",
          "name": "stdout",
          "text": [
            "[1 2 3 4 5 6 7]\n",
            "(7,)\n",
            "7\n"
          ]
        }
      ]
    },
    {
      "cell_type": "code",
      "source": [
        "# array 함수를 통한 행렬(2계 배열) 변수의 정의\n",
        "n2 = np.array([\n",
        "    [1, 2, 3], \n",
        "    [4, 5, 6], \n",
        "    [7, 8, 9],\n",
        "    [10,11,12]\n",
        "])\n",
        "\n",
        "# 결과 확인\n",
        "print(n2)\n",
        "\n",
        "# 요소 수 확인\n",
        "print(n2.shape)\n",
        "\n",
        "# 또 다른 방법\n",
        "print(len(n2))\n",
        "\n",
        "## array 함수의 인수로 이중 구조인 리스트의 리스트를 사용하여 행렬을 정의할 수 있다.\n",
        "## shape : (행, 열) 또는 (행렬 개수, 행, 열)\n",
        "## len : 행의 개수"
      ],
      "metadata": {
        "colab": {
          "base_uri": "https://localhost:8080/"
        },
        "id": "IDpA8c0yilSA",
        "outputId": "cc999ad6-fe0b-4b3e-d7e5-766edda37655"
      },
      "execution_count": 16,
      "outputs": [
        {
          "output_type": "stream",
          "name": "stdout",
          "text": [
            "[[ 1  2  3]\n",
            " [ 4  5  6]\n",
            " [ 7  8  9]\n",
            " [10 11 12]]\n",
            "(4, 3)\n",
            "4\n"
          ]
        }
      ]
    },
    {
      "cell_type": "markdown",
      "source": [
        "### zeros 함수, ones 함수 등을 사용"
      ],
      "metadata": {
        "id": "u7Oluu8qjLYH"
      }
    },
    {
      "cell_type": "code",
      "source": [
        "# zeros 함수로 모든 요소가 0인 벡터를 정의\n",
        "n3 = np.zeros(5)\n",
        "\n",
        "# 결과 확인\n",
        "print(n3)\n",
        "\n",
        "# 요소 수 확인\n",
        "print(n3.shape)"
      ],
      "metadata": {
        "colab": {
          "base_uri": "https://localhost:8080/"
        },
        "id": "4iH0yDBni3jJ",
        "outputId": "4c204f2b-f70a-4c93-c1af-8dd4af083c2f"
      },
      "execution_count": 17,
      "outputs": [
        {
          "output_type": "stream",
          "name": "stdout",
          "text": [
            "[0. 0. 0. 0. 0.]\n",
            "(5,)\n"
          ]
        }
      ]
    },
    {
      "cell_type": "code",
      "source": [
        "# ones 함수로 모든 요소가 1인 행렬을 정의\n",
        "n4 = np.ones((2,3))\n",
        "\n",
        "# 결과 확인\n",
        "print(n4)\n",
        "\n",
        "# 요소 수 확인\n",
        "print(n4.shape)"
      ],
      "metadata": {
        "colab": {
          "base_uri": "https://localhost:8080/"
        },
        "id": "CJolaWMMjNW-",
        "outputId": "535e231c-4c00-46f5-89a8-f99d8cf95181"
      },
      "execution_count": 18,
      "outputs": [
        {
          "output_type": "stream",
          "name": "stdout",
          "text": [
            "[[1. 1. 1.]\n",
            " [1. 1. 1.]]\n",
            "(2, 3)\n"
          ]
        }
      ]
    },
    {
      "cell_type": "code",
      "source": [
        "# 모든 요소가 정규 분포를 따르는 변수인 3계 행렬\n",
        "n5 = np.random.randn(2,3,4)\n",
        "\n",
        "# 결과 확인\n",
        "print(n5)\n",
        "\n",
        "# 요소 수 확인\n",
        "print(n5.shape)\n",
        "\n",
        "## randn : 평균이 0, 분산이 1인 정규분포에 따라 값을 랜덤 생성한다."
      ],
      "metadata": {
        "colab": {
          "base_uri": "https://localhost:8080/"
        },
        "id": "RmNBiCfvjOYw",
        "outputId": "125e6786-26c8-4779-8885-7aec89a50c51"
      },
      "execution_count": 19,
      "outputs": [
        {
          "output_type": "stream",
          "name": "stdout",
          "text": [
            "[[[ 1.98152  0.72664  1.20505  1.0447 ]\n",
            "  [-0.72209 -1.98016 -1.07365 -1.39615]\n",
            "  [ 0.39789 -1.41456 -0.8115  -1.34765]]\n",
            "\n",
            " [[-2.03178 -0.11989  0.51845  0.4503 ]\n",
            "  [-0.63602 -1.72583 -0.47456 -0.03282]\n",
            "  [ 0.29907 -0.33113 -1.26984 -0.15401]]]\n",
            "(2, 3, 4)\n"
          ]
        }
      ]
    },
    {
      "cell_type": "markdown",
      "source": [
        "### 그래프 출력용 수치 배열 생성"
      ],
      "metadata": {
        "id": "T55xTtMwjWyS"
      }
    },
    {
      "cell_type": "code",
      "source": [
        "# linspace 함수로 그래프 출력용 수치 배열을 계산\n",
        "\n",
        "# 등간격으로 점을 찍음\n",
        "# 점의 수가 세번째 인수\n",
        "n6 = np.linspace(-1, 1, 11)\n",
        "\n",
        "# 결과 확인\n",
        "print(n6)\n",
        "\n",
        "## linspace(시작점, 마지막점, 점개수)"
      ],
      "metadata": {
        "colab": {
          "base_uri": "https://localhost:8080/"
        },
        "id": "vcEnGjTljR-Q",
        "outputId": "983c2869-4d8a-4c31-fae0-d5d043225175"
      },
      "execution_count": 20,
      "outputs": [
        {
          "output_type": "stream",
          "name": "stdout",
          "text": [
            "[-1.  -0.8 -0.6 -0.4 -0.2  0.   0.2  0.4  0.6  0.8  1. ]\n"
          ]
        }
      ]
    },
    {
      "cell_type": "code",
      "source": [
        "# arange 함수를 사용한 그래프 출력용 수치 배열을 계산\n",
        "\n",
        "# 등간격으로 점을 찍음\n",
        "# 간격의 크기 값이 세번째 인수\n",
        "# (두번째 인수는 max가 아니라 '미만'이라는 점에 주의)\n",
        "n7 = np.arange(-1, 1.2, 0.2)\n",
        "\n",
        "# 결과 확인\n",
        "print(n7)\n",
        "\n",
        "## arange(시작점, 마지막점, 간격크기)\n",
        "## 마지막점은 구간의 최댓값이나 '이 값 미만'을 의미"
      ],
      "metadata": {
        "colab": {
          "base_uri": "https://localhost:8080/"
        },
        "id": "J-vKkg48jZsz",
        "outputId": "7073c3fb-b133-47ad-f650-5632de47e57a"
      },
      "execution_count": 21,
      "outputs": [
        {
          "output_type": "stream",
          "name": "stdout",
          "text": [
            "[-1.  -0.8 -0.6 -0.4 -0.2 -0.   0.2  0.4  0.6  0.8  1. ]\n"
          ]
        }
      ]
    },
    {
      "cell_type": "markdown",
      "source": [
        "## L2.2 조작"
      ],
      "metadata": {
        "id": "bVqjC4gyjsK7"
      }
    },
    {
      "cell_type": "markdown",
      "source": [
        "### 특정 행, 열의 추출"
      ],
      "metadata": {
        "id": "qwtwVCBwjutx"
      }
    },
    {
      "cell_type": "code",
      "source": [
        "# 원본 변수\n",
        "print(n2)\n",
        "\n",
        "# 모든 행의 0번째 열을 추출\n",
        "n8 = n2[:,0]\n",
        "print(n8)\n",
        "\n",
        "## ':'은 모든 요소를 의미한다."
      ],
      "metadata": {
        "colab": {
          "base_uri": "https://localhost:8080/"
        },
        "id": "RvN7g0_pjawQ",
        "outputId": "e559581b-332f-4b36-ed6b-57744e227425"
      },
      "execution_count": 22,
      "outputs": [
        {
          "output_type": "stream",
          "name": "stdout",
          "text": [
            "[[ 1  2  3]\n",
            " [ 4  5  6]\n",
            " [ 7  8  9]\n",
            " [10 11 12]]\n",
            "[ 1  4  7 10]\n"
          ]
        }
      ]
    },
    {
      "cell_type": "code",
      "source": [
        "# 첫번째 행과 세번째 행을 추출\n",
        "# True / False 요소의 배열을 지정\n",
        "n2_index = np.array([False, True, False, True])\n",
        "n9 = n2[n2_index]\n",
        "print(n9)"
      ],
      "metadata": {
        "colab": {
          "base_uri": "https://localhost:8080/"
        },
        "id": "H9gwk-kojxCI",
        "outputId": "5021ce52-b2fa-4cc9-98df-ff4d6c2bfb3f"
      },
      "execution_count": 23,
      "outputs": [
        {
          "output_type": "stream",
          "name": "stdout",
          "text": [
            "[[ 4  5  6]\n",
            " [10 11 12]]\n"
          ]
        }
      ]
    },
    {
      "cell_type": "markdown",
      "source": [
        "### reshape 함수"
      ],
      "metadata": {
        "id": "NpDoG7xpkQRO"
      }
    },
    {
      "cell_type": "code",
      "source": [
        "# 초기 변수 1계 배열\n",
        "n10 = np.array(range(24))\n",
        "\n",
        "# 결과 확인\n",
        "print(n10)"
      ],
      "metadata": {
        "colab": {
          "base_uri": "https://localhost:8080/"
        },
        "id": "g5ynh_ORjyaQ",
        "outputId": "12b4091d-5c8b-4fb3-eab9-06257c8313a7"
      },
      "execution_count": 24,
      "outputs": [
        {
          "output_type": "stream",
          "name": "stdout",
          "text": [
            "[ 0  1  2  3  4  5  6  7  8  9 10 11 12 13 14 15 16 17 18 19 20 21 22 23]\n"
          ]
        }
      ]
    },
    {
      "cell_type": "code",
      "source": [
        "# 3x8의 2차원 배열로 변형\n",
        "n11 = n10.reshape(3,8)\n",
        "\n",
        "# 결과 확인\n",
        "print(n11)"
      ],
      "metadata": {
        "colab": {
          "base_uri": "https://localhost:8080/"
        },
        "id": "F42zzwKGkFNQ",
        "outputId": "bd90c60d-0c0f-4dc0-f825-ce64faef7e99"
      },
      "execution_count": 25,
      "outputs": [
        {
          "output_type": "stream",
          "name": "stdout",
          "text": [
            "[[ 0  1  2  3  4  5  6  7]\n",
            " [ 8  9 10 11 12 13 14 15]\n",
            " [16 17 18 19 20 21 22 23]]\n"
          ]
        }
      ]
    },
    {
      "cell_type": "code",
      "source": [
        "# -1을 지정, 자동 계산\n",
        "n12 = n10.reshape(2, -1, 4)\n",
        "\n",
        "# 결과 확인\n",
        "print(n12.shape)"
      ],
      "metadata": {
        "colab": {
          "base_uri": "https://localhost:8080/"
        },
        "id": "59fRYSK4kT2A",
        "outputId": "a30235d6-a8af-4da4-b9a1-8787ac6d1a51"
      },
      "execution_count": 26,
      "outputs": [
        {
          "output_type": "stream",
          "name": "stdout",
          "text": [
            "(2, 3, 4)\n"
          ]
        }
      ]
    },
    {
      "cell_type": "code",
      "source": [
        "# 벡터를 1행 N열의 행렬로 변형\n",
        "\n",
        "# 원본 변수(1계 배열)\n",
        "print(n10.shape)\n",
        "\n",
        "# 변형\n",
        "n13 = n10.reshape(1, -1)\n",
        "\n",
        "# 결과 확인\n",
        "print(n13.shape)\n",
        "\n",
        "## 잘 기억하기"
      ],
      "metadata": {
        "colab": {
          "base_uri": "https://localhost:8080/"
        },
        "id": "31jeK8lukUwI",
        "outputId": "447db4e5-9f83-4a80-e3c8-5b196b470603"
      },
      "execution_count": 27,
      "outputs": [
        {
          "output_type": "stream",
          "name": "stdout",
          "text": [
            "(24,)\n",
            "(1, 24)\n"
          ]
        }
      ]
    },
    {
      "cell_type": "markdown",
      "source": [
        "### 축 교체하기"
      ],
      "metadata": {
        "id": "uoYjUi2rkWqq"
      }
    },
    {
      "cell_type": "code",
      "source": [
        "# 전치 행렬\n",
        "print(n2)\n",
        "\n",
        "n14 = n2.T\n",
        "print(n14)"
      ],
      "metadata": {
        "colab": {
          "base_uri": "https://localhost:8080/"
        },
        "id": "5WOg0wNekVnY",
        "outputId": "ca46009c-b2f8-4fb6-ed1a-fa5814746455"
      },
      "execution_count": 28,
      "outputs": [
        {
          "output_type": "stream",
          "name": "stdout",
          "text": [
            "[[ 1  2  3]\n",
            " [ 4  5  6]\n",
            " [ 7  8  9]\n",
            " [10 11 12]]\n",
            "[[ 1  4  7 10]\n",
            " [ 2  5  8 11]\n",
            " [ 3  6  9 12]]\n"
          ]
        }
      ]
    },
    {
      "cell_type": "code",
      "source": [
        "# 축의 순서를 교체\n",
        "\n",
        "# 원본 변수\n",
        "print(n12.shape)\n",
        "print(n12)\n",
        "\n",
        "# 축을 (1, 2, 0) 순서로 교체\n",
        "n15 = np.transpose(n12, (1, 2, 0))\n",
        "\n",
        "# 결과 확인\n",
        "print(n15.shape)\n",
        "print(n15)"
      ],
      "metadata": {
        "colab": {
          "base_uri": "https://localhost:8080/"
        },
        "id": "XIEQMaLMkYyo",
        "outputId": "5c9e8218-0892-42d3-dd52-51071f1d5793"
      },
      "execution_count": 29,
      "outputs": [
        {
          "output_type": "stream",
          "name": "stdout",
          "text": [
            "(2, 3, 4)\n",
            "[[[ 0  1  2  3]\n",
            "  [ 4  5  6  7]\n",
            "  [ 8  9 10 11]]\n",
            "\n",
            " [[12 13 14 15]\n",
            "  [16 17 18 19]\n",
            "  [20 21 22 23]]]\n",
            "(3, 4, 2)\n",
            "[[[ 0 12]\n",
            "  [ 1 13]\n",
            "  [ 2 14]\n",
            "  [ 3 15]]\n",
            "\n",
            " [[ 4 16]\n",
            "  [ 5 17]\n",
            "  [ 6 18]\n",
            "  [ 7 19]]\n",
            "\n",
            " [[ 8 20]\n",
            "  [ 9 21]\n",
            "  [10 22]\n",
            "  [11 23]]]\n"
          ]
        }
      ]
    },
    {
      "cell_type": "markdown",
      "source": [
        "### 행렬 연결하기"
      ],
      "metadata": {
        "id": "NESrBm9QklmV"
      }
    },
    {
      "cell_type": "code",
      "source": [
        "# 변수로 사용할 배열\n",
        "\n",
        "# 2행 3열의 행렬\n",
        "n16 = np.array(range(1,7)).reshape(2,3)\n",
        "n17 = np.array(range(7,13)).reshape(2,3)\n",
        "\n",
        "# 3요소 벡터\n",
        "n18 = np.array(range(14,17))\n",
        "\n",
        "# 2요소 벡터\n",
        "n19 = np.array(range(17,19))\n",
        "\n",
        "print(n16)\n",
        "print(n17)\n",
        "print(n18)\n",
        "print(n19)"
      ],
      "metadata": {
        "colab": {
          "base_uri": "https://localhost:8080/"
        },
        "id": "77S3UniHkaGI",
        "outputId": "6da0db4f-e95b-438f-aff4-e989fdcd1bc8"
      },
      "execution_count": 30,
      "outputs": [
        {
          "output_type": "stream",
          "name": "stdout",
          "text": [
            "[[1 2 3]\n",
            " [4 5 6]]\n",
            "[[ 7  8  9]\n",
            " [10 11 12]]\n",
            "[14 15 16]\n",
            "[17 18]\n"
          ]
        }
      ]
    },
    {
      "cell_type": "code",
      "source": [
        "# 행렬과 행렬의 세로 연결\n",
        "n20 = np.vstack([n16, n17])\n",
        "print(n20)\n",
        "\n",
        "# 행렬과 벡터의 세로 연결\n",
        "n21 = np.vstack([n16, n18])\n",
        "print(n21)\n",
        "\n",
        "## Vertical STACKing"
      ],
      "metadata": {
        "colab": {
          "base_uri": "https://localhost:8080/"
        },
        "id": "8B4Nl8rkknMQ",
        "outputId": "ce30983f-8be0-435a-dd05-fe3d3c81928b"
      },
      "execution_count": 31,
      "outputs": [
        {
          "output_type": "stream",
          "name": "stdout",
          "text": [
            "[[ 1  2  3]\n",
            " [ 4  5  6]\n",
            " [ 7  8  9]\n",
            " [10 11 12]]\n",
            "[[ 1  2  3]\n",
            " [ 4  5  6]\n",
            " [14 15 16]]\n"
          ]
        }
      ]
    },
    {
      "cell_type": "code",
      "source": [
        "# 행렬과 행렬의 가로 연결\n",
        "n22 = np.hstack([n16, n17])\n",
        "print(n22)\n",
        "\n",
        "# 행렬과 벡터의 가로 연결\n",
        "# 벡터의 shape를 (N, 1) 형태로 변형\n",
        "n23 = n19.reshape(-1, 1)\n",
        "n24 = np.hstack([n16, n23])\n",
        "print(n24)\n",
        "\n",
        "## Horizontal STACKing\n",
        "## 벡터와 행렬 연결 시 주의. (1, N) 또는 (N, 1) 형태로 먼저 변환"
      ],
      "metadata": {
        "colab": {
          "base_uri": "https://localhost:8080/"
        },
        "id": "-zXbj5BwkoLY",
        "outputId": "da9d5fdb-3286-44d4-b3b6-05e0115f6643"
      },
      "execution_count": 32,
      "outputs": [
        {
          "output_type": "stream",
          "name": "stdout",
          "text": [
            "[[ 1  2  3  7  8  9]\n",
            " [ 4  5  6 10 11 12]]\n",
            "[[ 1  2  3 17]\n",
            " [ 4  5  6 18]]\n"
          ]
        }
      ]
    },
    {
      "cell_type": "markdown",
      "source": [
        "## L2.3 연산"
      ],
      "metadata": {
        "id": "KoTSHL3yk2HG"
      }
    },
    {
      "cell_type": "markdown",
      "source": [
        "### 넘파이 변수끼리의 연산"
      ],
      "metadata": {
        "id": "jbFzh6eNk4GW"
      }
    },
    {
      "cell_type": "code",
      "source": [
        "# 원본 변수\n",
        "print(n16)\n",
        "print(n17)\n",
        "\n",
        "# 행렬간 연산\n",
        "n25 = n16 + n17\n",
        "\n",
        "# 결과 확인\n",
        "print(n25)"
      ],
      "metadata": {
        "colab": {
          "base_uri": "https://localhost:8080/"
        },
        "id": "tUAd74N8kpRI",
        "outputId": "2d5a38ba-f6c7-47e6-b7cb-7139ca71846d"
      },
      "execution_count": 33,
      "outputs": [
        {
          "output_type": "stream",
          "name": "stdout",
          "text": [
            "[[1 2 3]\n",
            " [4 5 6]]\n",
            "[[ 7  8  9]\n",
            " [10 11 12]]\n",
            "[[ 8 10 12]\n",
            " [14 16 18]]\n"
          ]
        }
      ]
    },
    {
      "cell_type": "markdown",
      "source": [
        "### 브로드캐스트 기능"
      ],
      "metadata": {
        "id": "TjvrRusNk64o"
      }
    },
    {
      "cell_type": "code",
      "source": [
        "# 브로드캐스트 기능\n",
        "\n",
        "# 원본 변수\n",
        "print(n1)\n",
        "\n",
        "# 모든 요소에서 같은 값을 뺌\n",
        "n22 = n1 - 4\n",
        "\n",
        "# 결과 확인\n",
        "print(n22)\n",
        "\n",
        "## n1 - 4 : 넘파이는 사이즈가 서로 다른 변수를 연산을 할 때, 값을 복사해서 상대 변수와 사이즈를 맞추도록 도와준다.\n",
        "## 복사를 통해 자동으로 연산 상대와 사이즈를 맞추는 기능을 브로드캐스트 기능이라 한다."
      ],
      "metadata": {
        "colab": {
          "base_uri": "https://localhost:8080/"
        },
        "id": "vkclCWY4k6Bw",
        "outputId": "1e1968e7-a7ff-4330-cf37-94b65d6c0a8e"
      },
      "execution_count": 34,
      "outputs": [
        {
          "output_type": "stream",
          "name": "stdout",
          "text": [
            "[1 2 3 4 5 6 7]\n",
            "[-3 -2 -1  0  1  2  3]\n"
          ]
        }
      ]
    },
    {
      "cell_type": "markdown",
      "source": [
        "### 유니버설함수"
      ],
      "metadata": {
        "id": "QOr5ky3Tk92N"
      }
    },
    {
      "cell_type": "code",
      "source": [
        "# x 배열 준비\n",
        "x = np.linspace(0, 2*np.pi, 25)\n",
        "print(x)\n",
        "\n",
        "# y=sin(x) 계산\n",
        "y = np.sin(x)\n",
        "print(y)\n",
        "\n",
        "## 유니버셜 함수가 호출된 경우, 넘파이 변수의 각 요소에 대해 그 함수가 하나씩 적용되고, 계산 결과는 같은 사이즈를 가진 넘파이 변수로 반환된다."
      ],
      "metadata": {
        "colab": {
          "base_uri": "https://localhost:8080/"
        },
        "id": "H4bv_O-7k854",
        "outputId": "519f4124-b193-482a-c4a7-551d94b1d935"
      },
      "execution_count": 35,
      "outputs": [
        {
          "output_type": "stream",
          "name": "stdout",
          "text": [
            "[0.      0.2618  0.5236  0.7854  1.0472  1.309   1.5708  1.8326  2.0944\n",
            " 2.35619 2.61799 2.87979 3.14159 3.40339 3.66519 3.92699 4.18879 4.45059\n",
            " 4.71239 4.97419 5.23599 5.49779 5.75959 6.02139 6.28319]\n",
            "[ 0.       0.25882  0.5      0.70711  0.86603  0.96593  1.       0.96593\n",
            "  0.86603  0.70711  0.5      0.25882  0.      -0.25882 -0.5     -0.70711\n",
            " -0.86603 -0.96593 -1.      -0.96593 -0.86603 -0.70711 -0.5     -0.25882\n",
            " -0.     ]\n"
          ]
        }
      ]
    },
    {
      "cell_type": "markdown",
      "source": [
        "### 집계 함수"
      ],
      "metadata": {
        "id": "DHoToH0nLCnF"
      }
    },
    {
      "cell_type": "code",
      "source": [
        "# 집계 함수\n",
        "\n",
        "print(f'원본 변수 : {n1}')\n",
        "\n",
        "# 합 계산, sum 함수\n",
        "n23 = np.sum(n1)\n",
        "print(f'합 : {n23}')\n",
        "\n",
        "# 평균 계산, mean 함수\n",
        "n24 = np.mean(n1)\n",
        "print(f'평균 : {n24}')\n",
        "\n",
        "# 최댓값 계산, max 함수\n",
        "n25 = np.max(n1)\n",
        "print(f'최댓값 : {n25}')\n",
        "\n",
        "# 최솟값 계산, min 함수\n",
        "# 이런 방식도 가능\n",
        "n26 = n1.min()\n",
        "print(f'최솟값 : {n26}')\n",
        "\n",
        "## 집계함수는 배열을 하나의 묶음으로 보고, 배열 전체에 대해 하나의 결과를 반환하는 함수이다. 합계, 평균, 최대, 최소 등이 있다."
      ],
      "metadata": {
        "id": "uMBFoFfslBQg",
        "colab": {
          "base_uri": "https://localhost:8080/"
        },
        "outputId": "8c8f8106-af74-4534-a824-9ead0a882c72"
      },
      "execution_count": 36,
      "outputs": [
        {
          "output_type": "stream",
          "name": "stdout",
          "text": [
            "원본 변수 : [1 2 3 4 5 6 7]\n",
            "합 : 28\n",
            "평균 : 4.0\n",
            "최댓값 : 7\n",
            "최솟값 : 1\n"
          ]
        }
      ]
    },
    {
      "cell_type": "markdown",
      "source": [
        "## L2.4 응용 예시"
      ],
      "metadata": {
        "id": "Ps0tvObkLPA6"
      }
    },
    {
      "cell_type": "markdown",
      "source": [
        "### 두 변수를 비교해서 일치하는 개수로 정확도를 계산"
      ],
      "metadata": {
        "id": "_bgo04dFLFRJ"
      }
    },
    {
      "cell_type": "code",
      "source": [
        "# 2개의 넘파이 배열 준비\n",
        "# 정답\n",
        "yt = np.array([1, 1, 0, 1, 0, 1, 1, 0, 1, 1])\n",
        "# 예측 값\n",
        "yp = np.array([1, 1, 0, 1, 0, 1, 1, 1, 1, 1])\n",
        "\n",
        "# 내용 출력\n",
        "print(yt)\n",
        "print(yp)"
      ],
      "metadata": {
        "colab": {
          "base_uri": "https://localhost:8080/"
        },
        "id": "ayqXkG3lLT78",
        "outputId": "d8f084bb-7a3b-4182-9e9a-c36e7af6d7f6"
      },
      "execution_count": 37,
      "outputs": [
        {
          "output_type": "stream",
          "name": "stdout",
          "text": [
            "[1 1 0 1 0 1 1 0 1 1]\n",
            "[1 1 0 1 0 1 1 1 1 1]\n"
          ]
        }
      ]
    },
    {
      "cell_type": "code",
      "source": [
        "# 배열의 각 요소를 동시에 비교함\n",
        "matched = (yt == yp)\n",
        "print(matched)"
      ],
      "metadata": {
        "colab": {
          "base_uri": "https://localhost:8080/"
        },
        "id": "Hh-N-eOgLVNx",
        "outputId": "f2165c1f-be6e-4732-ab91-d7f058f6f94f"
      },
      "execution_count": 38,
      "outputs": [
        {
          "output_type": "stream",
          "name": "stdout",
          "text": [
            "[ True  True  True  True  True  True  True False  True  True]\n"
          ]
        }
      ]
    },
    {
      "cell_type": "code",
      "source": [
        "# 이 결과에 sum 함수를 적용함\n",
        "# 대상 변수가 논리형인 경우, True→1, False→0 으로 변환됨\n",
        "# 정답 수를 세는 방법\n",
        "correct = matched.sum()\n",
        "\n",
        "# 전체 수는 len(matched)로 계산\n",
        "total = len(matched)\n",
        "\n",
        "# 정확도 계산\n",
        "accuracy = correct/total\n",
        "\n",
        "print(f'정답수 :{correct} 전체수 :{total} 정확도 :{accuracy:.3f}')\n",
        "\n",
        "## matched는 True 또는 False를 값으로 갖는 벡터이나, 집계함수 sum이 호출되면 True -> 1, False -> 0으로 변환이 먼저 이루어진 후 sum 함수가 적용된다."
      ],
      "metadata": {
        "colab": {
          "base_uri": "https://localhost:8080/"
        },
        "id": "maD-H79VLYfh",
        "outputId": "329deb3e-ce6f-44e3-90cc-3e5ea09fd754"
      },
      "execution_count": 39,
      "outputs": [
        {
          "output_type": "stream",
          "name": "stdout",
          "text": [
            "정답수 :9 전체수 :10 정확도 :0.900\n"
          ]
        }
      ]
    },
    {
      "cell_type": "markdown",
      "source": [
        "### 벡터 값을 1차 함수로 변환해서 [0, 1] 범위로 제한"
      ],
      "metadata": {
        "id": "As4WcSqqLb46"
      }
    },
    {
      "cell_type": "code",
      "source": [
        "# 모든 값을 [0, 1] 범위에 포함하도록 변환\n",
        "\n",
        "# 원본 변수\n",
        "print(n1)\n",
        "\n",
        "# 최댓값과 최솟값을 집계 함수로 얻음\n",
        "n1_max = n1.max()\n",
        "n1_min = n1.min()\n",
        "print(n1_max, n1_min)"
      ],
      "metadata": {
        "colab": {
          "base_uri": "https://localhost:8080/"
        },
        "id": "KOlQoQcLLZ3J",
        "outputId": "cdaeb1e8-7b48-4a1d-e354-9cf2196d71ce"
      },
      "execution_count": 40,
      "outputs": [
        {
          "output_type": "stream",
          "name": "stdout",
          "text": [
            "[1 2 3 4 5 6 7]\n",
            "7 1\n"
          ]
        }
      ]
    },
    {
      "cell_type": "code",
      "source": [
        "# 변환(브로드캐스트 기능 사용)\n",
        "n27 = (n1 - n1_min) / (n1_max - n1_min)\n",
        "print(n27)"
      ],
      "metadata": {
        "colab": {
          "base_uri": "https://localhost:8080/"
        },
        "id": "6amf46_uLgHy",
        "outputId": "2138b1d4-e38a-448a-bff5-20836385e2a1"
      },
      "execution_count": 41,
      "outputs": [
        {
          "output_type": "stream",
          "name": "stdout",
          "text": [
            "[0.      0.16667 0.33333 0.5     0.66667 0.83333 1.     ]\n"
          ]
        }
      ]
    },
    {
      "cell_type": "markdown",
      "source": [
        "### 특정 조건을 만족하는 행을 추출"
      ],
      "metadata": {
        "id": "VGKA959WL4fy"
      }
    },
    {
      "cell_type": "code",
      "source": [
        "# n2의 0번째 열이 짝수임을 판단\n",
        "\n",
        "# 원본 변수\n",
        "print(n2)\n",
        "\n",
        "n28 = n2[:,0] % 2 == 0\n",
        "\n",
        "# 결과 확인\n",
        "print(n28)"
      ],
      "metadata": {
        "colab": {
          "base_uri": "https://localhost:8080/"
        },
        "id": "5LTl-7FcLhlh",
        "outputId": "f51436e0-6ce0-4be3-cece-83c68dbbed20"
      },
      "execution_count": 42,
      "outputs": [
        {
          "output_type": "stream",
          "name": "stdout",
          "text": [
            "[[ 1  2  3]\n",
            " [ 4  5  6]\n",
            " [ 7  8  9]\n",
            " [10 11 12]]\n",
            "[False  True False  True]\n"
          ]
        }
      ]
    },
    {
      "cell_type": "code",
      "source": [
        "# n28이 True인 행을 추출\n",
        "\n",
        "n29 = n2[n28]\n",
        "\n",
        "# 결과 확인\n",
        "print(n29)"
      ],
      "metadata": {
        "colab": {
          "base_uri": "https://localhost:8080/"
        },
        "id": "dW4XQOxTL6PT",
        "outputId": "d6e90976-b792-427a-ddc7-99a002219025"
      },
      "execution_count": 43,
      "outputs": [
        {
          "output_type": "stream",
          "name": "stdout",
          "text": [
            "[[ 4  5  6]\n",
            " [10 11 12]]\n"
          ]
        }
      ]
    }
  ]
}

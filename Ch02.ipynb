{
  "nbformat": 4,
  "nbformat_minor": 0,
  "metadata": {
    "colab": {
      "provenance": [],
      "authorship_tag": "ABX9TyMWykmQXZK/vihLYjV7kotO",
      "include_colab_link": true
    },
    "kernelspec": {
      "name": "python3",
      "display_name": "Python 3"
    },
    "language_info": {
      "name": "python"
    }
  },
  "cells": [
    {
      "cell_type": "markdown",
      "metadata": {
        "id": "view-in-github",
        "colab_type": "text"
      },
      "source": [
        "<a href=\"https://colab.research.google.com/github/All4Nothing/pytorch-DL-programming/blob/main/Ch02.ipynb\" target=\"_parent\"><img src=\"https://colab.research.google.com/assets/colab-badge.svg\" alt=\"Open In Colab\"/></a>"
      ]
    },
    {
      "cell_type": "code",
      "source": [
        "!sudo apt-get install -y fonts-nanum* | tail -n 1\n",
        "!sudo fc-cache -fv\n",
        "!rm -rf ~/.cache/matplotlib"
      ],
      "metadata": {
        "colab": {
          "base_uri": "https://localhost:8080/"
        },
        "id": "J8_jBXIFsJwn",
        "outputId": "4abc150f-352a-45c9-b71a-ca51dbf6bac0"
      },
      "execution_count": 1,
      "outputs": [
        {
          "output_type": "stream",
          "name": "stdout",
          "text": [
            "debconf: unable to initialize frontend: Dialog\n",
            "debconf: (No usable dialog-like program is installed, so the dialog based frontend cannot be used. at /usr/share/perl5/Debconf/FrontEnd/Dialog.pm line 76, <> line 4.)\n",
            "debconf: falling back to frontend: Readline\n",
            "debconf: unable to initialize frontend: Readline\n",
            "debconf: (This frontend requires a controlling tty.)\n",
            "debconf: falling back to frontend: Teletype\n",
            "dpkg-preconfigure: unable to re-open stdin: \n",
            "Processing triggers for fontconfig (2.13.1-2ubuntu3) ...\n",
            "/usr/share/fonts: caching, new cache contents: 0 fonts, 1 dirs\n",
            "/usr/share/fonts/truetype: caching, new cache contents: 0 fonts, 3 dirs\n",
            "/usr/share/fonts/truetype/humor-sans: caching, new cache contents: 1 fonts, 0 dirs\n",
            "/usr/share/fonts/truetype/liberation: caching, new cache contents: 16 fonts, 0 dirs\n",
            "/usr/share/fonts/truetype/nanum: caching, new cache contents: 31 fonts, 0 dirs\n",
            "/usr/local/share/fonts: caching, new cache contents: 0 fonts, 0 dirs\n",
            "/root/.local/share/fonts: skipping, no such directory\n",
            "/root/.fonts: skipping, no such directory\n",
            "/usr/share/fonts/truetype: skipping, looped directory detected\n",
            "/usr/share/fonts/truetype/humor-sans: skipping, looped directory detected\n",
            "/usr/share/fonts/truetype/liberation: skipping, looped directory detected\n",
            "/usr/share/fonts/truetype/nanum: skipping, looped directory detected\n",
            "/var/cache/fontconfig: cleaning cache directory\n",
            "/root/.cache/fontconfig: not cleaning non-existent cache directory\n",
            "/root/.fontconfig: not cleaning non-existent cache directory\n",
            "fc-cache: succeeded\n"
          ]
        }
      ]
    },
    {
      "cell_type": "code",
      "source": [
        "# 필요 라이브러리 설치\n",
        "\n",
        "!pip install torchviz | tail -n 1"
      ],
      "metadata": {
        "colab": {
          "base_uri": "https://localhost:8080/"
        },
        "id": "1acFgctJsLWh",
        "outputId": "5bd25176-68ef-4c1c-a632-2de46ed8be83"
      },
      "execution_count": 2,
      "outputs": [
        {
          "output_type": "stream",
          "name": "stdout",
          "text": [
            "Successfully installed torchviz-0.0.2\n"
          ]
        }
      ]
    },
    {
      "cell_type": "markdown",
      "source": [
        "**[런타임] -> [런타임 다시시작]**"
      ],
      "metadata": {
        "id": "OV75R8grsMmd"
      }
    },
    {
      "cell_type": "code",
      "source": [
        "# 라이브러리 임포트\n",
        "\n",
        "%matplotlib inline\n",
        "import numpy as np\n",
        "import matplotlib.pyplot as plt\n",
        "from IPython.display import display\n",
        "\n",
        "# 폰트 관련 용도\n",
        "import matplotlib.font_manager as fm\n",
        "\n",
        "# 나눔 고딕 폰트의 경로 명시\n",
        "path = '/usr/share/fonts/truetype/nanum/NanumGothic.ttf'\n",
        "font_name = fm.FontProperties(fname=path, size=10).get_name()"
      ],
      "metadata": {
        "id": "NR-j4KajsRXt"
      },
      "execution_count": 3,
      "outputs": []
    },
    {
      "cell_type": "code",
      "source": [
        "# 기본 폰트 설정\n",
        "plt.rcParams['font.family'] = font_name\n",
        "\n",
        "# 기본 폰트 사이즈 변경\n",
        "plt.rcParams['font.size'] = 14\n",
        "\n",
        "# 기본 그래프 사이즈 변경\n",
        "plt.rcParams['figure.figsize'] = (6,6)\n",
        "\n",
        "# 기본 그리드 표시\n",
        "# 필요에 따라 설정할 때는, plt.grid()\n",
        "plt.rcParams['axes.grid'] = True\n",
        "\n",
        "# 마이너스 기호 정상 출력\n",
        "plt.rcParams['axes.unicode_minus'] = False\n",
        "\n",
        "# 넘파이 부동소수점 자릿수 표시\n",
        "np.set_printoptions(suppress=True, precision=4)"
      ],
      "metadata": {
        "id": "DHA9h9FfsRPy"
      },
      "execution_count": 4,
      "outputs": []
    },
    {
      "cell_type": "markdown",
      "source": [
        "### 02. 파이토치의 기본 기능"
      ],
      "metadata": {
        "id": "ynRx9dyArxY-"
      }
    },
    {
      "cell_type": "markdown",
      "source": [
        "## 2.2 텐서"
      ],
      "metadata": {
        "id": "acKO3XBOr4-P"
      }
    },
    {
      "cell_type": "markdown",
      "source": [
        "파이토치에서 연산 대상 데이터는 모두 '텐서(Tensor)'라고 하는 파이토치 고유의 형식으로 되어 있어야 한다."
      ],
      "metadata": {
        "id": "Xmm9WpkorfRx"
      }
    },
    {
      "cell_type": "markdown",
      "source": [
        "### 라이브러리 임포트"
      ],
      "metadata": {
        "id": "UPPIkowssUu8"
      }
    },
    {
      "cell_type": "code",
      "source": [
        "# 파이토치 라이브러리\n",
        "\n",
        "import torch"
      ],
      "metadata": {
        "id": "MQ6Z5I7-r_1o"
      },
      "execution_count": 5,
      "outputs": []
    },
    {
      "cell_type": "markdown",
      "source": [
        "### 다양한 계수의 텐서 만들기"
      ],
      "metadata": {
        "id": "dBDOLmJjsW4R"
      }
    },
    {
      "cell_type": "code",
      "source": [
        "# 0계 텐서(스칼라)\n",
        "r0 = torch.tensor(1.0).float()\n",
        "\n",
        "## 텐서 변수가 생성될 때는 반드시 뒤에 float 함수를 호출해서, dtype을 강제로 float32(32비트 부동소수점)으로 변환해야 한다. 이 처리를 잊어버리면 dtype은 float64가 되고, 'nn.Linear'와 같은 부분에서 에러를 발생시킨다.\n",
        "\n",
        "# type 확인\n",
        "print(type(r0))\n",
        "\n",
        "# dtype 확인\n",
        "print(r0.dtype)"
      ],
      "metadata": {
        "colab": {
          "base_uri": "https://localhost:8080/"
        },
        "id": "1huIfnirsUZF",
        "outputId": "dd7fc485-2a3a-4891-b181-f7a23720e026"
      },
      "execution_count": 9,
      "outputs": [
        {
          "output_type": "stream",
          "name": "stdout",
          "text": [
            "<class 'torch.Tensor'>\n",
            "torch.float32\n"
          ]
        }
      ]
    },
    {
      "cell_type": "code",
      "source": [
        "## shape 확인\n",
        "print(r0.shape)\n",
        "\n",
        "# 데이터 확인\n",
        "print(r0.data)"
      ],
      "metadata": {
        "colab": {
          "base_uri": "https://localhost:8080/"
        },
        "id": "tRJ2sNUKsZes",
        "outputId": "60e430fd-6c9c-4a4b-9ea9-de06cd0fc16d"
      },
      "execution_count": 7,
      "outputs": [
        {
          "output_type": "stream",
          "name": "stdout",
          "text": [
            "torch.Size([])\n",
            "tensor(1.)\n"
          ]
        }
      ]
    },
    {
      "cell_type": "markdown",
      "source": [
        "텐서 변수는 단지 수치에 지나지 않고, 여러 역할을 가진다.  \n",
        "순수하게 수치만 얻고 싶을 때는 data 속성을 이용하면 된다."
      ],
      "metadata": {
        "id": "MZOnmDSls6Sl"
      }
    },
    {
      "cell_type": "code",
      "source": [
        "# 1계 텐서(벡터)\n",
        "\n",
        "# 1계 넘파이 변수 작성\n",
        "r1_np = np.array([1, 2, 3, 4, 5])\n",
        "print(r1_np.shape)\n",
        "\n",
        "# 넘파이에서 텐서로 변환\n",
        "r1 = torch.tensor(r1_np).float()\n",
        "\n",
        "# dtype 확인\n",
        "print(r1.dtype)\n",
        "\n",
        "# shape 확인\n",
        "print(r1.shape)\n",
        "\n",
        "# 데이터 확인\n",
        "print(r1.data)"
      ],
      "metadata": {
        "colab": {
          "base_uri": "https://localhost:8080/"
        },
        "id": "6W9pbZ0csju0",
        "outputId": "c30cadbd-c936-4715-d1cd-40f442198f83"
      },
      "execution_count": 10,
      "outputs": [
        {
          "output_type": "stream",
          "name": "stdout",
          "text": [
            "(5,)\n",
            "torch.float32\n",
            "torch.Size([5])\n",
            "tensor([1., 2., 3., 4., 5.])\n"
          ]
        }
      ]
    },
    {
      "cell_type": "code",
      "source": [
        "# 2계 텐서(행렬)\n",
        "\n",
        "# 2계 넘파이 변수 작성\n",
        "r2_np = np.array([[1, 5, 6], [4, 3, 2]])\n",
        "print(r2_np.shape)\n",
        "\n",
        "# 넘파이에서 텐서로 변환\n",
        "r2 = torch.tensor(r2_np).float()\n",
        "\n",
        "# shape 확인\n",
        "print(r2.shape)\n",
        "\n",
        "# 데이터 확인\n",
        "print(r2.data)"
      ],
      "metadata": {
        "colab": {
          "base_uri": "https://localhost:8080/"
        },
        "id": "PzUnwNOftCPd",
        "outputId": "d1555c3f-fd7b-47f2-93c9-5148a7ac808a"
      },
      "execution_count": 11,
      "outputs": [
        {
          "output_type": "stream",
          "name": "stdout",
          "text": [
            "(2, 3)\n",
            "torch.Size([2, 3])\n",
            "tensor([[1., 5., 6.],\n",
            "        [4., 3., 2.]])\n"
          ]
        }
      ]
    },
    {
      "cell_type": "code",
      "source": [
        "# ３계 텐서\n",
        "\n",
        "# 난수 seed 초기화\n",
        "torch.manual_seed(123)\n",
        "\n",
        "# shape=[3,2,2]의 정규분포 텐서 작성\n",
        "r3 = torch.randn((3, 2, 2))\n",
        "\n",
        "# shape 확인\n",
        "print(r3.shape)\n",
        "\n",
        "# 데이터 확인\n",
        "print(r3.data)"
      ],
      "metadata": {
        "colab": {
          "base_uri": "https://localhost:8080/"
        },
        "id": "T0lM-jG7tGSc",
        "outputId": "7d45ad1f-6848-479f-cafb-4e0342559b05"
      },
      "execution_count": 12,
      "outputs": [
        {
          "output_type": "stream",
          "name": "stdout",
          "text": [
            "torch.Size([3, 2, 2])\n",
            "tensor([[[-0.1115,  0.1204],\n",
            "         [-0.3696, -0.2404]],\n",
            "\n",
            "        [[-1.1969,  0.2093],\n",
            "         [-0.9724, -0.7550]],\n",
            "\n",
            "        [[ 0.3239, -0.1085],\n",
            "         [ 0.2103, -0.3908]]])\n"
          ]
        }
      ]
    },
    {
      "cell_type": "code",
      "source": [
        "# 4계 텐서\n",
        "\n",
        "# 요소가 모두 1인 shape=[2,3,2,2] 텐서 작성\n",
        "r4 = torch.ones((2, 3, 2, 2))\n",
        "\n",
        "# shape 확인\n",
        "print(r4.shape)\n",
        "\n",
        "# 데이터 확인\n",
        "print(r4.data)"
      ],
      "metadata": {
        "colab": {
          "base_uri": "https://localhost:8080/"
        },
        "id": "i4Q1zG9otIKb",
        "outputId": "2b71f75b-2e3c-4575-faa6-17b562a5ada3"
      },
      "execution_count": 13,
      "outputs": [
        {
          "output_type": "stream",
          "name": "stdout",
          "text": [
            "torch.Size([2, 3, 2, 2])\n",
            "tensor([[[[1., 1.],\n",
            "          [1., 1.]],\n",
            "\n",
            "         [[1., 1.],\n",
            "          [1., 1.]],\n",
            "\n",
            "         [[1., 1.],\n",
            "          [1., 1.]]],\n",
            "\n",
            "\n",
            "        [[[1., 1.],\n",
            "          [1., 1.]],\n",
            "\n",
            "         [[1., 1.],\n",
            "          [1., 1.]],\n",
            "\n",
            "         [[1., 1.],\n",
            "          [1., 1.]]]])\n"
          ]
        }
      ]
    },
    {
      "cell_type": "markdown",
      "source": [
        "### 정숫값을 갖는 텐서 만들기"
      ],
      "metadata": {
        "id": "n45L5El7tQ38"
      }
    },
    {
      "cell_type": "markdown",
      "source": [
        "파이토치의 대부분의 계산은 부동소수점 수치형(dtype=float32)을 사용한다.  \n",
        "그러나 한 가지 예외는, '다중 분류'에서 사용하는 손실함수인 nn.CrossEntropyLoss와 nn.NLLLoss는 손실함수를 호출할 때, 두번째 인수로 정수 타입을 지정해야 한다."
      ],
      "metadata": {
        "id": "ZaRWG_1juaxZ"
      }
    },
    {
      "cell_type": "code",
      "source": [
        "r5 = r1.long()\n",
        "\n",
        "# dtype 확인\n",
        "print(r5.dtype)\n",
        "\n",
        "# 값 확인\n",
        "print(r5)"
      ],
      "metadata": {
        "colab": {
          "base_uri": "https://localhost:8080/"
        },
        "id": "LuKGZdx4tMzR",
        "outputId": "8bf4150e-c049-4195-a625-f20d292ade3b"
      },
      "execution_count": 14,
      "outputs": [
        {
          "output_type": "stream",
          "name": "stdout",
          "text": [
            "torch.int64\n",
            "tensor([1, 2, 3, 4, 5])\n"
          ]
        }
      ]
    },
    {
      "cell_type": "markdown",
      "source": [
        "### view 함수"
      ],
      "metadata": {
        "id": "h3HL4lxWurad"
      }
    },
    {
      "cell_type": "code",
      "source": [
        "# 2계화\n",
        "# 남은 자리에 -1을 지정하면 이 수를 자동으로 조정함\n",
        "\n",
        "r6 = r3.view(3, -1)\n",
        "\n",
        "# shape 확인\n",
        "print(r6.shape)\n",
        "\n",
        "# 값 확인\n",
        "print(r6.data)"
      ],
      "metadata": {
        "colab": {
          "base_uri": "https://localhost:8080/"
        },
        "id": "SJV_Qfs-upSd",
        "outputId": "cc9146db-cca8-4059-a905-15fa7a1d4acd"
      },
      "execution_count": 15,
      "outputs": [
        {
          "output_type": "stream",
          "name": "stdout",
          "text": [
            "torch.Size([3, 4])\n",
            "tensor([[-0.1115,  0.1204, -0.3696, -0.2404],\n",
            "        [-1.1969,  0.2093, -0.9724, -0.7550],\n",
            "        [ 0.3239, -0.1085,  0.2103, -0.3908]])\n"
          ]
        }
      ]
    },
    {
      "cell_type": "code",
      "source": [
        "# 1계화\n",
        "# 남은 자리에 -1을 지정하면 이 수를 자동으로 조정함\n",
        "\n",
        "r7 = r3.view(-1)\n",
        "\n",
        "# shape 확인\n",
        "print(r7.shape)\n",
        "\n",
        "# 값 확인\n",
        "print(r7.data)"
      ],
      "metadata": {
        "colab": {
          "base_uri": "https://localhost:8080/"
        },
        "id": "dTxoxxHFu69s",
        "outputId": "4b66c2a5-05f5-4bd0-f27b-15f6f54e2735"
      },
      "execution_count": 16,
      "outputs": [
        {
          "output_type": "stream",
          "name": "stdout",
          "text": [
            "torch.Size([12])\n",
            "tensor([-0.1115,  0.1204, -0.3696, -0.2404, -1.1969,  0.2093, -0.9724, -0.7550,\n",
            "         0.3239, -0.1085,  0.2103, -0.3908])\n"
          ]
        }
      ]
    },
    {
      "cell_type": "markdown",
      "source": [
        "### 그 밖의 속성"
      ],
      "metadata": {
        "id": "-cbrYAbUvB4R"
      }
    },
    {
      "cell_type": "code",
      "source": [
        "# requires_grad 속성\n",
        "print('requires_grad: ', r1.requires_grad)\n",
        "\n",
        "# device 속성\n",
        "print('device: ', r1.device)\n",
        "\n",
        "## requires_grad 속성은 자동 미분 기능과, device 속성은 GPU 계산과 관련이 있다."
      ],
      "metadata": {
        "colab": {
          "base_uri": "https://localhost:8080/"
        },
        "id": "S-qsH0bZvAaE",
        "outputId": "c1cc34f9-bdda-497e-855c-807ae335c15e"
      },
      "execution_count": 18,
      "outputs": [
        {
          "output_type": "stream",
          "name": "stdout",
          "text": [
            "requires_grad:  False\n",
            "device:  cpu\n"
          ]
        }
      ]
    },
    {
      "cell_type": "markdown",
      "source": [
        "### item 함수"
      ],
      "metadata": {
        "id": "nOkjdbh6vGLA"
      }
    },
    {
      "cell_type": "code",
      "source": [
        "# 스칼라 텐서(0계 텐서)는 item 함수로 값을 꺼낼 수 있음\n",
        "## 텐서로 이뤄진 loss 계산 결과(손실)에서 데이터 기록을 위한 값을 추출하는 데 자주 사용된다\n",
        "\n",
        "item = r0.item()\n",
        "\n",
        "print(type(item))\n",
        "print(item)"
      ],
      "metadata": {
        "colab": {
          "base_uri": "https://localhost:8080/"
        },
        "id": "74yhr63UvE4M",
        "outputId": "aaeba819-72a7-4bc0-88c3-dc8203385b22"
      },
      "execution_count": 20,
      "outputs": [
        {
          "output_type": "stream",
          "name": "stdout",
          "text": [
            "<class 'float'>\n",
            "1.0\n"
          ]
        }
      ]
    },
    {
      "cell_type": "code",
      "source": [
        "# 스칼라 이외의 텐서에 item 함수는 무효함\n",
        "## 1계 이상의 텐서는 대상이 아니다\n",
        "\n",
        "print(r1.item())"
      ],
      "metadata": {
        "colab": {
          "base_uri": "https://localhost:8080/",
          "height": 221
        },
        "id": "jwTUCZ_gvQo8",
        "outputId": "d34c96d2-c3dd-40a4-ac23-9244c9953c36"
      },
      "execution_count": 22,
      "outputs": [
        {
          "output_type": "error",
          "ename": "RuntimeError",
          "evalue": "ignored",
          "traceback": [
            "\u001b[0;31m---------------------------------------------------------------------------\u001b[0m",
            "\u001b[0;31mRuntimeError\u001b[0m                              Traceback (most recent call last)",
            "\u001b[0;32m<ipython-input-22-88e8582ed92b>\u001b[0m in \u001b[0;36m<cell line: 4>\u001b[0;34m()\u001b[0m\n\u001b[1;32m      2\u001b[0m \u001b[0;31m## 1계 이상의 텐서는 대상이 아니다\u001b[0m\u001b[0;34m\u001b[0m\u001b[0;34m\u001b[0m\u001b[0m\n\u001b[1;32m      3\u001b[0m \u001b[0;34m\u001b[0m\u001b[0m\n\u001b[0;32m----> 4\u001b[0;31m \u001b[0mprint\u001b[0m\u001b[0;34m(\u001b[0m\u001b[0mr1\u001b[0m\u001b[0;34m.\u001b[0m\u001b[0mitem\u001b[0m\u001b[0;34m(\u001b[0m\u001b[0;34m)\u001b[0m\u001b[0;34m)\u001b[0m\u001b[0;34m\u001b[0m\u001b[0;34m\u001b[0m\u001b[0m\n\u001b[0m",
            "\u001b[0;31mRuntimeError\u001b[0m: a Tensor with 5 elements cannot be converted to Scalar"
          ]
        }
      ]
    },
    {
      "cell_type": "code",
      "source": [
        "# 요소 수가 하나뿐인 1계 텐서는 OK\n",
        "# (2계 이상에서도 마찬가지)\n",
        "t1 = torch.ones(1)\n",
        "\n",
        "# shape 확인\n",
        "print(t1.shape)\n",
        "\n",
        "# item 함수 호출\n",
        "print(t1.item())"
      ],
      "metadata": {
        "colab": {
          "base_uri": "https://localhost:8080/"
        },
        "id": "bZ_CgC5JvcAE",
        "outputId": "abbe80bc-e3ef-4635-ef0d-1b94fc70e12a"
      },
      "execution_count": 23,
      "outputs": [
        {
          "output_type": "stream",
          "name": "stdout",
          "text": [
            "torch.Size([1])\n",
            "1.0\n"
          ]
        }
      ]
    },
    {
      "cell_type": "markdown",
      "source": [
        "### max 함수"
      ],
      "metadata": {
        "id": "bOOJsj-kvjio"
      }
    },
    {
      "cell_type": "code",
      "source": [
        "# 텐서 r2 확인\n",
        "print(r2)\n",
        "\n",
        "# max 함수를 인수 없이 호출하면, 최댓값을 얻음\n",
        "print(r2.max())\n",
        "\n",
        "## 최솟값(min), 평균값(mean) 등의 함수도 같은 방식으로 사용한다"
      ],
      "metadata": {
        "colab": {
          "base_uri": "https://localhost:8080/"
        },
        "id": "59lPSpPjvjB0",
        "outputId": "ea2753f4-c399-4357-8ea4-2cd06c10339c"
      },
      "execution_count": 27,
      "outputs": [
        {
          "output_type": "stream",
          "name": "stdout",
          "text": [
            "tensor([[1., 5., 6.],\n",
            "        [4., 3., 2.]])\n",
            "tensor(6.)\n"
          ]
        }
      ]
    },
    {
      "cell_type": "code",
      "source": [
        "# torch.max 함수\n",
        "# 두번째 인수는 기준이 되는 축을 의미함\n",
        "print(torch.max(r2, 1))\n",
        "\n",
        "## 대상이 2계 텐서인 경우, 축=1은 행 방향의 집계를, 축=0은 열 방향의 집계를 의미한다"
      ],
      "metadata": {
        "colab": {
          "base_uri": "https://localhost:8080/"
        },
        "id": "6FMdEtQAvluk",
        "outputId": "1da5e5a0-2fc7-4705-d4da-f9675d21772e"
      },
      "execution_count": 30,
      "outputs": [
        {
          "output_type": "stream",
          "name": "stdout",
          "text": [
            "torch.return_types.max(\n",
            "values=tensor([6., 4.]),\n",
            "indices=tensor([2, 0]))\n"
          ]
        }
      ]
    },
    {
      "cell_type": "markdown",
      "source": [
        "### 넘파이 변수로 변환"
      ],
      "metadata": {
        "id": "NCBZ_HjCwAAG"
      }
    },
    {
      "cell_type": "code",
      "source": [
        "# 넘파이로 변환\n",
        "r2_np = r2.data.numpy()\n",
        "\n",
        "# type 확인\n",
        "print(type(r2_np))\n",
        "\n",
        "# 값 확인\n",
        "print(r2_np)\n",
        "\n",
        "## 이 형태로 변수에 대입하면 텐서 변수와 넘파이 배열이 같은 데이터를 바라보기 때문에, 텐서 값을 바꾸면 넘파이 배열도 같이 값이 바뀌게 된다"
      ],
      "metadata": {
        "colab": {
          "base_uri": "https://localhost:8080/"
        },
        "id": "CNbeEbELvnMc",
        "outputId": "12deee2f-08d7-489d-9019-5acaaa441a2f"
      },
      "execution_count": 33,
      "outputs": [
        {
          "output_type": "stream",
          "name": "stdout",
          "text": [
            "<class 'numpy.ndarray'>\n",
            "[[1. 5. 6.]\n",
            " [4. 3. 2.]]\n"
          ]
        }
      ]
    },
    {
      "cell_type": "markdown",
      "source": [
        "## 2.3 자동 미분 기능"
      ],
      "metadata": {
        "id": "B2TgzqZCwPGr"
      }
    },
    {
      "cell_type": "markdown",
      "source": [
        "**![자동미분기능 그림]**"
      ],
      "metadata": {
        "id": "FipAWRStwVcV"
      }
    },
    {
      "cell_type": "markdown",
      "source": [
        "### (1) 경사 계산용 변수의 정의"
      ],
      "metadata": {
        "id": "W_hKZ1O9wZSL"
      }
    },
    {
      "cell_type": "markdown",
      "source": [
        "경사(미분) 계산을 해야 하는 변수는 텐서 변수로 정의한다. 중요한 것은 requires_grad 속성을 True로 설정해야 한다는 점이다."
      ],
      "metadata": {
        "id": "v3SLMudBwmF4"
      }
    },
    {
      "cell_type": "markdown",
      "source": [
        "### (2) 텐서 변수 간의 계산"
      ],
      "metadata": {
        "id": "25xcEy9XwCxd"
      }
    },
    {
      "cell_type": "markdown",
      "source": [
        "**Define by Run** 방식 : 계산식을 통해 값을 계산함과 동시에, 보이지 않는 다른 쪽에서 계산그래프가 생성된다."
      ],
      "metadata": {
        "id": "h1V2BbOPwuXb"
      }
    },
    {
      "cell_type": "markdown",
      "source": [
        "### (3) 계산 그래프 시각화"
      ],
      "metadata": {
        "id": "zmH1Hq8ow-NB"
      }
    },
    {
      "cell_type": "markdown",
      "source": [
        "make_dot 함수를 사용하면 step(2)에서 자동 생성한 계산 그래프를 시각화할 수 있다."
      ],
      "metadata": {
        "id": "mN3tWMu8xFkc"
      }
    },
    {
      "cell_type": "markdown",
      "source": [
        "### (4) 경사 계산"
      ],
      "metadata": {
        "id": "zxEitRHIw-xF"
      }
    },
    {
      "cell_type": "markdown",
      "source": [
        "경사 계산은 계산 결과를 저장한 텐서 변수(스칼라)에 backward 함수를 호춣해서 이뤄진다."
      ],
      "metadata": {
        "id": "6k_fVf69xMA6"
      }
    },
    {
      "cell_type": "markdown",
      "source": [
        "### (5) 경삿값 가져오기"
      ],
      "metadata": {
        "id": "_weZknTtw_DY"
      }
    },
    {
      "cell_type": "markdown",
      "source": [
        "경사 계산(수치 미분)의 결과는 파이토치에서 '경삿값'으로 불린다. 경삿값은 텐서 변수의 grad 속성으로 가져올 수 있다."
      ],
      "metadata": {
        "id": "gGgw4KWjxTbz"
      }
    },
    {
      "cell_type": "markdown",
      "source": [
        "### (6) 경삿값의 초기화"
      ],
      "metadata": {
        "id": "es7q1ck-xaUm"
      }
    },
    {
      "cell_type": "markdown",
      "source": [
        "grad 속성에 저장된 경삿값은 사용이 끝나면 값을 초기화 해야한다.  \n",
        "초기화를 하기 위해 zero_ 함수를 사용한다."
      ],
      "metadata": {
        "id": "oWtH4sUXw43D"
      }
    },
    {
      "cell_type": "markdown",
      "source": [
        "## 2.4 2차 함수의 경사 계산"
      ],
      "metadata": {
        "id": "vYO_gonAxk_w"
      }
    },
    {
      "cell_type": "markdown",
      "source": [
        "### (1) 경사 계산용 변수 정의"
      ],
      "metadata": {
        "id": "071NxDprxqOB"
      }
    },
    {
      "cell_type": "code",
      "source": [
        "# x를 넘파이 배열로 정의\n",
        "x_np = np.arange(-2, 2.1, 0.25)\n",
        "\n",
        "# x값 표시\n",
        "print(x_np)"
      ],
      "metadata": {
        "colab": {
          "base_uri": "https://localhost:8080/"
        },
        "id": "zA5KKtPnxjSc",
        "outputId": "44234123-bc9a-484d-f07c-4013d276116c"
      },
      "execution_count": 34,
      "outputs": [
        {
          "output_type": "stream",
          "name": "stdout",
          "text": [
            "[-2.   -1.75 -1.5  -1.25 -1.   -0.75 -0.5  -0.25  0.    0.25  0.5   0.75\n",
            "  1.    1.25  1.5   1.75  2.  ]\n"
          ]
        }
      ]
    },
    {
      "cell_type": "code",
      "source": [
        "# (1) 경사 계산용 변수 정의\n",
        "\n",
        "x = torch.tensor(x_np, requires_grad=True, \n",
        "    dtype=torch.float32)\n",
        "\n",
        "# 결과 확인\n",
        "print(x)"
      ],
      "metadata": {
        "colab": {
          "base_uri": "https://localhost:8080/"
        },
        "id": "1uoV4TrFxtSN",
        "outputId": "c3cb0058-6d2b-463d-fd27-8b0ceed3aacd"
      },
      "execution_count": 35,
      "outputs": [
        {
          "output_type": "stream",
          "name": "stdout",
          "text": [
            "tensor([-2.0000, -1.7500, -1.5000, -1.2500, -1.0000, -0.7500, -0.5000, -0.2500,\n",
            "         0.0000,  0.2500,  0.5000,  0.7500,  1.0000,  1.2500,  1.5000,  1.7500,\n",
            "         2.0000], requires_grad=True)\n"
          ]
        }
      ]
    },
    {
      "cell_type": "markdown",
      "source": [
        "### (2) 텐서 변수로 계산"
      ],
      "metadata": {
        "id": "g9n_Jvmhxu9g"
      }
    },
    {
      "cell_type": "code",
      "source": [
        "# 2차 함수의 계산\n",
        "# 계산 그래프는 내부에서 자동 생성됨\n",
        "\n",
        "y = 2 * x**2 + 2"
      ],
      "metadata": {
        "id": "8waJVzOyxudk"
      },
      "execution_count": 36,
      "outputs": []
    },
    {
      "cell_type": "code",
      "source": [
        "# y의 계산 결과 확인\n",
        "\n",
        "print(y)"
      ],
      "metadata": {
        "colab": {
          "base_uri": "https://localhost:8080/"
        },
        "id": "fonkhF1Yxxb8",
        "outputId": "43c53b06-89bc-4f55-e32d-bf83cf54bb47"
      },
      "execution_count": 37,
      "outputs": [
        {
          "output_type": "stream",
          "name": "stdout",
          "text": [
            "tensor([10.0000,  8.1250,  6.5000,  5.1250,  4.0000,  3.1250,  2.5000,  2.1250,\n",
            "         2.0000,  2.1250,  2.5000,  3.1250,  4.0000,  5.1250,  6.5000,  8.1250,\n",
            "        10.0000], grad_fn=<AddBackward0>)\n"
          ]
        }
      ]
    },
    {
      "cell_type": "code",
      "source": [
        "# 그래프(산포도) 출력\n",
        "\n",
        "plt.plot(x.data, y.data)\n",
        "plt.show()\n",
        "\n",
        "## requires_grad 속싱이 True인 텐서 변수는 그 자체로는 matplotlib에서 사용할 수 없지만, data 속성을 넘겨주면 그래프로 표출할 수 있다."
      ],
      "metadata": {
        "colab": {
          "base_uri": "https://localhost:8080/",
          "height": 1000
        },
        "id": "IgJeRgfKxyTU",
        "outputId": "757e80f1-ec7b-4896-d6e0-d96bf2891ec5"
      },
      "execution_count": 39,
      "outputs": [
        {
          "output_type": "stream",
          "name": "stderr",
          "text": [
            "WARNING:matplotlib.font_manager:findfont: Font family 'NanumGothic' not found.\n",
            "WARNING:matplotlib.font_manager:findfont: Font family 'NanumGothic' not found.\n",
            "WARNING:matplotlib.font_manager:findfont: Font family 'NanumGothic' not found.\n",
            "WARNING:matplotlib.font_manager:findfont: Font family 'NanumGothic' not found.\n",
            "WARNING:matplotlib.font_manager:findfont: Font family 'NanumGothic' not found.\n",
            "WARNING:matplotlib.font_manager:findfont: Font family 'NanumGothic' not found.\n",
            "WARNING:matplotlib.font_manager:findfont: Font family 'NanumGothic' not found.\n",
            "WARNING:matplotlib.font_manager:findfont: Font family 'NanumGothic' not found.\n",
            "WARNING:matplotlib.font_manager:findfont: Font family 'NanumGothic' not found.\n",
            "WARNING:matplotlib.font_manager:findfont: Font family 'NanumGothic' not found.\n",
            "WARNING:matplotlib.font_manager:findfont: Font family 'NanumGothic' not found.\n",
            "WARNING:matplotlib.font_manager:findfont: Font family 'NanumGothic' not found.\n",
            "WARNING:matplotlib.font_manager:findfont: Font family 'NanumGothic' not found.\n",
            "WARNING:matplotlib.font_manager:findfont: Font family 'NanumGothic' not found.\n",
            "WARNING:matplotlib.font_manager:findfont: Font family 'NanumGothic' not found.\n",
            "WARNING:matplotlib.font_manager:findfont: Font family 'NanumGothic' not found.\n",
            "WARNING:matplotlib.font_manager:findfont: Font family 'NanumGothic' not found.\n",
            "WARNING:matplotlib.font_manager:findfont: Font family 'NanumGothic' not found.\n",
            "WARNING:matplotlib.font_manager:findfont: Font family 'NanumGothic' not found.\n",
            "WARNING:matplotlib.font_manager:findfont: Font family 'NanumGothic' not found.\n",
            "WARNING:matplotlib.font_manager:findfont: Font family 'NanumGothic' not found.\n",
            "WARNING:matplotlib.font_manager:findfont: Font family 'NanumGothic' not found.\n",
            "WARNING:matplotlib.font_manager:findfont: Font family 'NanumGothic' not found.\n",
            "WARNING:matplotlib.font_manager:findfont: Font family 'NanumGothic' not found.\n",
            "WARNING:matplotlib.font_manager:findfont: Font family 'NanumGothic' not found.\n",
            "WARNING:matplotlib.font_manager:findfont: Font family 'NanumGothic' not found.\n",
            "WARNING:matplotlib.font_manager:findfont: Font family 'NanumGothic' not found.\n",
            "WARNING:matplotlib.font_manager:findfont: Font family 'NanumGothic' not found.\n",
            "WARNING:matplotlib.font_manager:findfont: Font family 'NanumGothic' not found.\n",
            "WARNING:matplotlib.font_manager:findfont: Font family 'NanumGothic' not found.\n",
            "WARNING:matplotlib.font_manager:findfont: Font family 'NanumGothic' not found.\n",
            "WARNING:matplotlib.font_manager:findfont: Font family 'NanumGothic' not found.\n",
            "WARNING:matplotlib.font_manager:findfont: Font family 'NanumGothic' not found.\n",
            "WARNING:matplotlib.font_manager:findfont: Font family 'NanumGothic' not found.\n",
            "WARNING:matplotlib.font_manager:findfont: Font family 'NanumGothic' not found.\n",
            "WARNING:matplotlib.font_manager:findfont: Font family 'NanumGothic' not found.\n",
            "WARNING:matplotlib.font_manager:findfont: Font family 'NanumGothic' not found.\n",
            "WARNING:matplotlib.font_manager:findfont: Font family 'NanumGothic' not found.\n",
            "WARNING:matplotlib.font_manager:findfont: Font family 'NanumGothic' not found.\n",
            "WARNING:matplotlib.font_manager:findfont: Font family 'NanumGothic' not found.\n",
            "WARNING:matplotlib.font_manager:findfont: Font family 'NanumGothic' not found.\n",
            "WARNING:matplotlib.font_manager:findfont: Font family 'NanumGothic' not found.\n"
          ]
        },
        {
          "output_type": "display_data",
          "data": {
            "text/plain": [
              "<Figure size 600x600 with 1 Axes>"
            ],
            "image/png": "[encoded data removed]"
          },
          "metadata": {}
        }
      ]
    },
    {
      "cell_type": "code",
      "source": [
        "# 경사 계산을 위해 최종 값은 스칼라일 필요가 있으므로, 더미로 sum 함수를 붙임\n",
        "\n",
        "z = y.sum()"
      ],
      "metadata": {
        "id": "FywJMAzTx0Hc"
      },
      "execution_count": 40,
      "outputs": []
    },
    {
      "cell_type": "code",
      "source": [
        "# (3) 계산 그래프 시각화\n",
        "\n",
        "# 필요한 라이브러리 임포트\n",
        "from torchviz import make_dot\n",
        "\n",
        "# 시각화 함수 호출\n",
        "g= make_dot(z, params={'x': x})\n",
        "display(g)"
      ],
      "metadata": {
        "colab": {
          "base_uri": "https://localhost:8080/",
          "height": 527
        },
        "id": "RkCsaQzjyDb-",
        "outputId": "2d749344-3ddc-4ba6-c584-8544fbe50221"
      },
      "execution_count": 42,
      "outputs": [
        {
          "output_type": "display_data",
          "data": {
            "image/svg+xml": "<?xml version=\"1.0\" encoding=\"UTF-8\" standalone=\"no\"?>\n<!DOCTYPE svg PUBLIC \"-//W3C//DTD SVG 1.1//EN\"\n \"http://www.w3.org/Graphics/SVG/1.1/DTD/svg11.dtd\">\n<!-- Generated by graphviz version 2.43.0 (0)\n -->\n<!-- Title: %3 Pages: 1 -->\n<svg width=\"109pt\" height=\"380pt\"\n viewBox=\"0.00 0.00 109.00 380.00\" xmlns=\"http://www.w3.org/2000/svg\" xmlns:xlink=\"http://www.w3.org/1999/xlink\">\n<g id=\"graph0\" class=\"graph\" transform=\"scale(1 1) rotate(0) translate(4 376)\">\n<title>%3</title>\n<polygon fill=\"white\" stroke=\"transparent\" points=\"-4,4 -4,-376 105,-376 105,4 -4,4\"/>\n<!-- 140352638843008 -->\n<g id=\"node1\" class=\"node\">\n<title>140352638843008</title>\n<polygon fill=\"#caff70\" stroke=\"black\" points=\"77.5,-31 23.5,-31 23.5,0 77.5,0 77.5,-31\"/>\n<text text-anchor=\"middle\" x=\"50.5\" y=\"-7\" font-family=\"monospace\" font-size=\"10.00\"> ()</text>\n</g>\n<!-- 140352637467904 -->\n<g id=\"node2\" class=\"node\">\n<title>140352637467904</title>\n<polygon fill=\"lightgrey\" stroke=\"black\" points=\"95,-86 6,-86 6,-67 95,-67 95,-86\"/>\n<text text-anchor=\"middle\" x=\"50.5\" y=\"-74\" font-family=\"monospace\" font-size=\"10.00\">SumBackward0</text>\n</g>\n<!-- 140352637467904&#45;&gt;140352638843008 -->\n<g id=\"edge6\" class=\"edge\">\n<title>140352637467904&#45;&gt;140352638843008</title>\n<path fill=\"none\" stroke=\"black\" d=\"M50.5,-66.79C50.5,-60.07 50.5,-50.4 50.5,-41.34\"/>\n<polygon fill=\"black\" stroke=\"black\" points=\"54,-41.19 50.5,-31.19 47,-41.19 54,-41.19\"/>\n</g>\n<!-- 140352637468624 -->\n<g id=\"node3\" class=\"node\">\n<title>140352637468624</title>\n<polygon fill=\"lightgrey\" stroke=\"black\" points=\"95,-141 6,-141 6,-122 95,-122 95,-141\"/>\n<text text-anchor=\"middle\" x=\"50.5\" y=\"-129\" font-family=\"monospace\" font-size=\"10.00\">AddBackward0</text>\n</g>\n<!-- 140352637468624&#45;&gt;140352637467904 -->\n<g id=\"edge1\" class=\"edge\">\n<title>140352637468624&#45;&gt;140352637467904</title>\n<path fill=\"none\" stroke=\"black\" d=\"M50.5,-121.75C50.5,-114.8 50.5,-104.85 50.5,-96.13\"/>\n<polygon fill=\"black\" stroke=\"black\" points=\"54,-96.09 50.5,-86.09 47,-96.09 54,-96.09\"/>\n</g>\n<!-- 140352637467568 -->\n<g id=\"node4\" class=\"node\">\n<title>140352637467568</title>\n<polygon fill=\"lightgrey\" stroke=\"black\" points=\"95,-196 6,-196 6,-177 95,-177 95,-196\"/>\n<text text-anchor=\"middle\" x=\"50.5\" y=\"-184\" font-family=\"monospace\" font-size=\"10.00\">MulBackward0</text>\n</g>\n<!-- 140352637467568&#45;&gt;140352637468624 -->\n<g id=\"edge2\" class=\"edge\">\n<title>140352637467568&#45;&gt;140352637468624</title>\n<path fill=\"none\" stroke=\"black\" d=\"M50.5,-176.75C50.5,-169.8 50.5,-159.85 50.5,-151.13\"/>\n<polygon fill=\"black\" stroke=\"black\" points=\"54,-151.09 50.5,-141.09 47,-151.09 54,-151.09\"/>\n</g>\n<!-- 140352637468384 -->\n<g id=\"node5\" class=\"node\">\n<title>140352637468384</title>\n<polygon fill=\"lightgrey\" stroke=\"black\" points=\"95,-251 6,-251 6,-232 95,-232 95,-251\"/>\n<text text-anchor=\"middle\" x=\"50.5\" y=\"-239\" font-family=\"monospace\" font-size=\"10.00\">PowBackward0</text>\n</g>\n<!-- 140352637468384&#45;&gt;140352637467568 -->\n<g id=\"edge3\" class=\"edge\">\n<title>140352637468384&#45;&gt;140352637467568</title>\n<path fill=\"none\" stroke=\"black\" d=\"M50.5,-231.75C50.5,-224.8 50.5,-214.85 50.5,-206.13\"/>\n<polygon fill=\"black\" stroke=\"black\" points=\"54,-206.09 50.5,-196.09 47,-206.09 54,-206.09\"/>\n</g>\n<!-- 140352637467952 -->\n<g id=\"node6\" class=\"node\">\n<title>140352637467952</title>\n<polygon fill=\"lightgrey\" stroke=\"black\" points=\"101,-306 0,-306 0,-287 101,-287 101,-306\"/>\n<text text-anchor=\"middle\" x=\"50.5\" y=\"-294\" font-family=\"monospace\" font-size=\"10.00\">AccumulateGrad</text>\n</g>\n<!-- 140352637467952&#45;&gt;140352637468384 -->\n<g id=\"edge4\" class=\"edge\">\n<title>140352637467952&#45;&gt;140352637468384</title>\n<path fill=\"none\" stroke=\"black\" d=\"M50.5,-286.75C50.5,-279.8 50.5,-269.85 50.5,-261.13\"/>\n<polygon fill=\"black\" stroke=\"black\" points=\"54,-261.09 50.5,-251.09 47,-261.09 54,-261.09\"/>\n</g>\n<!-- 140356185160288 -->\n<g id=\"node7\" class=\"node\">\n<title>140356185160288</title>\n<polygon fill=\"lightblue\" stroke=\"black\" points=\"77.5,-372 23.5,-372 23.5,-342 77.5,-342 77.5,-372\"/>\n<text text-anchor=\"middle\" x=\"50.5\" y=\"-360\" font-family=\"monospace\" font-size=\"10.00\">x</text>\n<text text-anchor=\"middle\" x=\"50.5\" y=\"-349\" font-family=\"monospace\" font-size=\"10.00\"> (17)</text>\n</g>\n<!-- 140356185160288&#45;&gt;140352637467952 -->\n<g id=\"edge5\" class=\"edge\">\n<title>140356185160288&#45;&gt;140352637467952</title>\n<path fill=\"none\" stroke=\"black\" d=\"M50.5,-341.84C50.5,-334.21 50.5,-324.7 50.5,-316.45\"/>\n<polygon fill=\"black\" stroke=\"black\" points=\"54,-316.27 50.5,-306.27 47,-316.27 54,-316.27\"/>\n</g>\n</g>\n</svg>\n",
            "text/plain": [
              "<graphviz.graphs.Digraph at 0x7fa665195d80>"
            ]
          },
          "metadata": {}
        }
      ]
    },
    {
      "cell_type": "markdown",
      "source": [
        "make_dot 함수를 호출할 때, 첫번째 인수는 시각화하려는 계산 그래프의 대상이 될 변수(여기서는 z), 두번째 인수인 params로는 미분 계산 대상의 변수(여기서는 x)를 딕셔너리 형식의 파라미터 리스트로 넣어준다."
      ],
      "metadata": {
        "id": "i50A_2FOyKJg"
      }
    },
    {
      "cell_type": "markdown",
      "source": [
        "x를 텐서 변수가 아닌 넘파이 변수인 경우에도 완전히 같은 방법의 함수 호출(y=2*x**2 + 2, z=y.sum())로 인해 같은 계산 결과를 얻게 된다. 그러나 이 경우에는 출발점 x에서 어떤 계산을 통해 z를 얻었는지를 계산 결과 z와 x만으로 유추하기는 힘들다."
      ],
      "metadata": {
        "id": "Bk9Aegaiyb1a"
      }
    },
    {
      "cell_type": "markdown",
      "source": [
        "출발점 x를 텐서 변수로 하고, 동시에 requires_grad 그래프를 지정해 두면, 계산 과정이 자동적으로 기록된다. 따라서 z와 x만을 인수로, 그 과정을 시각화할 수 있는 것이다.  \n",
        "이처럼 값을 계산해 나가며 계산 과정을 자동적으로 기록하는 기능을 일컬어 **'Define by Run'**이라 부른다."
      ],
      "metadata": {
        "id": "TUZX-WBxyENV"
      }
    },
    {
      "cell_type": "markdown",
      "source": [
        "맨 위의 하늘색 노드는 make_dot 함수의 호출시 params로 지정한 변수에 해당하고,**리프 노드**라고도 불린다. 경삿값의 계산이 가능한 변수를 의미한다. 맨 위와 맨 아래 노드에 기재된 (17)과 ()은 각 변수의 shape를 나타낸다. 맨 위 노드의 텐서 x는 1계 17차원 텐서이고, 맨 아래 노드는 0계, 즉 스칼라이다."
      ],
      "metadata": {
        "id": "88HLna65y8WM"
      }
    },
    {
      "cell_type": "markdown",
      "source": [
        "x의 바로 아래 AccumulateGrad는 마지막 단의 리프 노드의 바로 아래에 배치되어, 경삿값을 축적하는 위치를 나타낸다."
      ],
      "metadata": {
        "id": "RZTsEngkzWNK"
      }
    },
    {
      "cell_type": "markdown",
      "source": [
        "PowBackward0는 지수 함수의 호출이고, MulBackward0는 곱셈함수의 호출이다.  \n",
        "마지막으로 y에서 스칼라 z를 만들기 위해 총합을 계산하는 sum 함수가 사용된다."
      ],
      "metadata": {
        "id": "VvbGkBE2zb8C"
      }
    },
    {
      "cell_type": "markdown",
      "source": [
        "이처럼 최종적인 함수 값(z)을 계산하기 위해서, 어떤 종류의 함수가 어떤 순서로 호출되는지를 나타내는 것이 '계산 그래프'다.  \n",
        "'계산 그래프'가 있으면, x값을 조금씩 움직였을 때, z값이 어떻게 변화하는지를 파이토치가 자동적으로 알려주게 된다. 이 원리를 사용해 수치 미분을 수행하는 것이, 'backward 함수를 통한 경사 계산'이다."
      ],
      "metadata": {
        "id": "XkPj05qAzH10"
      }
    },
    {
      "cell_type": "markdown",
      "source": [
        "여기서 나타냈던 계산 그래프는, 2차함수 $f(x)=2x^2+2$가  지수함수, 곱셈함수, 더하기 함수들로 이뤄진 합성 함수로 인식해, 그 결과로부터 자동 생성된 것이다."
      ],
      "metadata": {
        "id": "AFHbmpXN0AL4"
      }
    },
    {
      "cell_type": "markdown",
      "source": [
        "### (4) 경사 계산"
      ],
      "metadata": {
        "id": "NFiEOPMZ0Lre"
      }
    },
    {
      "cell_type": "code",
      "source": [
        "# (4) 경사 계산\n",
        "\n",
        "z.backward()"
      ],
      "metadata": {
        "id": "VYDwXl46z7lc"
      },
      "execution_count": 43,
      "outputs": []
    },
    {
      "cell_type": "markdown",
      "source": [
        "### (5) 경삿값 가져오기"
      ],
      "metadata": {
        "id": "v8W2KfNh0PjG"
      }
    },
    {
      "cell_type": "code",
      "source": [
        "# (5) 경삿값 가져오기\n",
        "\n",
        "print(x.grad)"
      ],
      "metadata": {
        "colab": {
          "base_uri": "https://localhost:8080/"
        },
        "id": "l1lUBLEl0Ogw",
        "outputId": "8ce1a708-f4a8-47df-9118-fa365386c1bb"
      },
      "execution_count": 44,
      "outputs": [
        {
          "output_type": "stream",
          "name": "stdout",
          "text": [
            "tensor([-8., -7., -6., -5., -4., -3., -2., -1.,  0.,  1.,  2.,  3.,  4.,  5.,\n",
            "         6.,  7.,  8.])\n"
          ]
        }
      ]
    },
    {
      "cell_type": "code",
      "source": [
        "# 원래 함수와 경사 그래프\n",
        "\n",
        "plt.plot(x.data, y.data, c='b', label='y')\n",
        "plt.plot(x.data, x.grad.data, c='k', label='y.grad')\n",
        "plt.legend()\n",
        "plt.show()"
      ],
      "metadata": {
        "colab": {
          "base_uri": "https://localhost:8080/",
          "height": 1000
        },
        "id": "ZsaA0UHi0SvM",
        "outputId": "bd6370e0-d063-4aef-d6d5-4a47e1b2adf1"
      },
      "execution_count": 45,
      "outputs": [
        {
          "output_type": "stream",
          "name": "stderr",
          "text": [
            "WARNING:matplotlib.font_manager:findfont: Font family 'NanumGothic' not found.\n",
            "WARNING:matplotlib.font_manager:findfont: Font family 'NanumGothic' not found.\n",
            "WARNING:matplotlib.font_manager:findfont: Font family 'NanumGothic' not found.\n",
            "WARNING:matplotlib.font_manager:findfont: Font family 'NanumGothic' not found.\n",
            "WARNING:matplotlib.font_manager:findfont: Font family 'NanumGothic' not found.\n",
            "WARNING:matplotlib.font_manager:findfont: Font family 'NanumGothic' not found.\n",
            "WARNING:matplotlib.font_manager:findfont: Font family 'NanumGothic' not found.\n",
            "WARNING:matplotlib.font_manager:findfont: Font family 'NanumGothic' not found.\n",
            "WARNING:matplotlib.font_manager:findfont: Font family 'NanumGothic' not found.\n",
            "WARNING:matplotlib.font_manager:findfont: Font family 'NanumGothic' not found.\n",
            "WARNING:matplotlib.font_manager:findfont: Font family 'NanumGothic' not found.\n",
            "WARNING:matplotlib.font_manager:findfont: Font family 'NanumGothic' not found.\n",
            "WARNING:matplotlib.font_manager:findfont: Font family 'NanumGothic' not found.\n",
            "WARNING:matplotlib.font_manager:findfont: Font family 'NanumGothic' not found.\n",
            "WARNING:matplotlib.font_manager:findfont: Font family 'NanumGothic' not found.\n",
            "WARNING:matplotlib.font_manager:findfont: Font family 'NanumGothic' not found.\n",
            "WARNING:matplotlib.font_manager:findfont: Font family 'NanumGothic' not found.\n",
            "WARNING:matplotlib.font_manager:findfont: Font family 'NanumGothic' not found.\n",
            "WARNING:matplotlib.font_manager:findfont: Font family 'NanumGothic' not found.\n",
            "WARNING:matplotlib.font_manager:findfont: Font family 'NanumGothic' not found.\n",
            "WARNING:matplotlib.font_manager:findfont: Font family 'NanumGothic' not found.\n",
            "WARNING:matplotlib.font_manager:findfont: Font family 'NanumGothic' not found.\n",
            "WARNING:matplotlib.font_manager:findfont: Font family 'NanumGothic' not found.\n",
            "WARNING:matplotlib.font_manager:findfont: Font family 'NanumGothic' not found.\n",
            "WARNING:matplotlib.font_manager:findfont: Font family 'NanumGothic' not found.\n",
            "WARNING:matplotlib.font_manager:findfont: Font family 'NanumGothic' not found.\n",
            "WARNING:matplotlib.font_manager:findfont: Font family 'NanumGothic' not found.\n",
            "WARNING:matplotlib.font_manager:findfont: Font family 'NanumGothic' not found.\n",
            "WARNING:matplotlib.font_manager:findfont: Font family 'NanumGothic' not found.\n",
            "WARNING:matplotlib.font_manager:findfont: Font family 'NanumGothic' not found.\n",
            "WARNING:matplotlib.font_manager:findfont: Font family 'NanumGothic' not found.\n",
            "WARNING:matplotlib.font_manager:findfont: Font family 'NanumGothic' not found.\n",
            "WARNING:matplotlib.font_manager:findfont: Font family 'NanumGothic' not found.\n",
            "WARNING:matplotlib.font_manager:findfont: Font family 'NanumGothic' not found.\n",
            "WARNING:matplotlib.font_manager:findfont: Font family 'NanumGothic' not found.\n",
            "WARNING:matplotlib.font_manager:findfont: Font family 'NanumGothic' not found.\n",
            "WARNING:matplotlib.font_manager:findfont: Font family 'NanumGothic' not found.\n",
            "WARNING:matplotlib.font_manager:findfont: Font family 'NanumGothic' not found.\n",
            "WARNING:matplotlib.font_manager:findfont: Font family 'NanumGothic' not found.\n",
            "WARNING:matplotlib.font_manager:findfont: Font family 'NanumGothic' not found.\n",
            "WARNING:matplotlib.font_manager:findfont: Font family 'NanumGothic' not found.\n",
            "WARNING:matplotlib.font_manager:findfont: Font family 'NanumGothic' not found.\n",
            "WARNING:matplotlib.font_manager:findfont: Font family 'NanumGothic' not found.\n",
            "WARNING:matplotlib.font_manager:findfont: Font family 'NanumGothic' not found.\n",
            "WARNING:matplotlib.font_manager:findfont: Font family 'NanumGothic' not found.\n",
            "WARNING:matplotlib.font_manager:findfont: Font family 'NanumGothic' not found.\n",
            "WARNING:matplotlib.font_manager:findfont: Font family 'NanumGothic' not found.\n",
            "WARNING:matplotlib.font_manager:findfont: Font family 'NanumGothic' not found.\n",
            "WARNING:matplotlib.font_manager:findfont: Font family 'NanumGothic' not found.\n",
            "WARNING:matplotlib.font_manager:findfont: Font family 'NanumGothic' not found.\n",
            "WARNING:matplotlib.font_manager:findfont: Font family 'NanumGothic' not found.\n",
            "WARNING:matplotlib.font_manager:findfont: Font family 'NanumGothic' not found.\n",
            "WARNING:matplotlib.font_manager:findfont: Font family 'NanumGothic' not found.\n",
            "WARNING:matplotlib.font_manager:findfont: Font family 'NanumGothic' not found.\n",
            "WARNING:matplotlib.font_manager:findfont: Font family 'NanumGothic' not found.\n",
            "WARNING:matplotlib.font_manager:findfont: Font family 'NanumGothic' not found.\n",
            "WARNING:matplotlib.font_manager:findfont: Font family 'NanumGothic' not found.\n",
            "WARNING:matplotlib.font_manager:findfont: Font family 'NanumGothic' not found.\n",
            "WARNING:matplotlib.font_manager:findfont: Font family 'NanumGothic' not found.\n",
            "WARNING:matplotlib.font_manager:findfont: Font family 'NanumGothic' not found.\n",
            "WARNING:matplotlib.font_manager:findfont: Font family 'NanumGothic' not found.\n",
            "WARNING:matplotlib.font_manager:findfont: Font family 'NanumGothic' not found.\n",
            "WARNING:matplotlib.font_manager:findfont: Font family 'NanumGothic' not found.\n",
            "WARNING:matplotlib.font_manager:findfont: Font family 'NanumGothic' not found.\n",
            "WARNING:matplotlib.font_manager:findfont: Font family 'NanumGothic' not found.\n",
            "WARNING:matplotlib.font_manager:findfont: Font family 'NanumGothic' not found.\n",
            "WARNING:matplotlib.font_manager:findfont: Font family 'NanumGothic' not found.\n",
            "WARNING:matplotlib.font_manager:findfont: Font family 'NanumGothic' not found.\n",
            "WARNING:matplotlib.font_manager:findfont: Font family 'NanumGothic' not found.\n",
            "WARNING:matplotlib.font_manager:findfont: Font family 'NanumGothic' not found.\n",
            "WARNING:matplotlib.font_manager:findfont: Font family 'NanumGothic' not found.\n",
            "WARNING:matplotlib.font_manager:findfont: Font family 'NanumGothic' not found.\n",
            "WARNING:matplotlib.font_manager:findfont: Font family 'NanumGothic' not found.\n"
          ]
        },
        {
          "output_type": "display_data",
          "data": {
            "text/plain": [
              "<Figure size 600x600 with 1 Axes>"
            ],
            "image/png": "[encoded data removed]"
          },
          "metadata": {}
        }
      ]
    },
    {
      "cell_type": "markdown",
      "source": [
        "### (6) 경삿값의 초기화"
      ],
      "metadata": {
        "id": "405FObFO0WNW"
      }
    },
    {
      "cell_type": "code",
      "source": [
        "# 경사를 초기화하지 않고 두번째 경사를 계산\n",
        "\n",
        "y = 2 * x**2 + 2\n",
        "z = y.sum()\n",
        "z.backward()\n",
        "\n",
        "# x의 경사 확인\n",
        "print(x.grad)"
      ],
      "metadata": {
        "colab": {
          "base_uri": "https://localhost:8080/"
        },
        "id": "fUAeib700VL_",
        "outputId": "1664f910-da0b-4876-f67d-0e19b769e9b5"
      },
      "execution_count": 46,
      "outputs": [
        {
          "output_type": "stream",
          "name": "stdout",
          "text": [
            "tensor([-16., -14., -12., -10.,  -8.,  -6.,  -4.,  -2.,   0.,   2.,   4.,   6.,\n",
            "          8.,  10.,  12.,  14.,  16.])\n"
          ]
        }
      ]
    },
    {
      "cell_type": "code",
      "source": [
        "# (6) 경삿값의 초기화는 zero_() 함수를 사용함\n",
        "\n",
        "x.grad.zero_()\n",
        "print(x.grad)"
      ],
      "metadata": {
        "colab": {
          "base_uri": "https://localhost:8080/"
        },
        "id": "S05VsDwW0ZmN",
        "outputId": "b2e60263-c133-48b4-85fb-80fd98fdadd2"
      },
      "execution_count": 47,
      "outputs": [
        {
          "output_type": "stream",
          "name": "stdout",
          "text": [
            "tensor([0., 0., 0., 0., 0., 0., 0., 0., 0., 0., 0., 0., 0., 0., 0., 0., 0.])\n"
          ]
        }
      ]
    },
    {
      "cell_type": "markdown",
      "source": [
        "## 2.5 시그모이드 함수의 경사 계싼"
      ],
      "metadata": {
        "id": "uQ7XHxZY0cvZ"
      }
    },
    {
      "cell_type": "markdown",
      "source": [
        "### (1) 시그모이드 함수의 정의"
      ],
      "metadata": {
        "id": "zyLnLLCr0gev"
      }
    },
    {
      "cell_type": "code",
      "source": [
        "# 시그모이드 함수의 정의\n",
        "\n",
        "sigmoid = torch.nn.Sigmoid()"
      ],
      "metadata": {
        "id": "4mjYSxYL0bnM"
      },
      "execution_count": 49,
      "outputs": []
    },
    {
      "cell_type": "markdown",
      "source": [
        "### (2) 텐서 변수로 y값의 계산"
      ],
      "metadata": {
        "id": "OrMkMySB0kf8"
      }
    },
    {
      "cell_type": "code",
      "source": [
        "# (2) y값의 계산\n",
        "\n",
        "y = sigmoid(x)"
      ],
      "metadata": {
        "id": "oJN-1tH80jNM"
      },
      "execution_count": 50,
      "outputs": []
    },
    {
      "cell_type": "markdown",
      "source": [
        "### 그래프 출력"
      ],
      "metadata": {
        "id": "e9SCKmQv0ox2"
      }
    },
    {
      "cell_type": "code",
      "source": [
        "# 그래프(산포도) 출력\n",
        "\n",
        "plt.plot(x.data, y.data)\n",
        "plt.show()"
      ],
      "metadata": {
        "colab": {
          "base_uri": "https://localhost:8080/",
          "height": 1000
        },
        "id": "oxLAi8Ca0oal",
        "outputId": "c675229c-ef66-4bb9-bd7d-b0f8dc33d76c"
      },
      "execution_count": 51,
      "outputs": [
        {
          "output_type": "stream",
          "name": "stderr",
          "text": [
            "WARNING:matplotlib.font_manager:findfont: Font family 'NanumGothic' not found.\n",
            "WARNING:matplotlib.font_manager:findfont: Font family 'NanumGothic' not found.\n",
            "WARNING:matplotlib.font_manager:findfont: Font family 'NanumGothic' not found.\n",
            "WARNING:matplotlib.font_manager:findfont: Font family 'NanumGothic' not found.\n",
            "WARNING:matplotlib.font_manager:findfont: Font family 'NanumGothic' not found.\n",
            "WARNING:matplotlib.font_manager:findfont: Font family 'NanumGothic' not found.\n",
            "WARNING:matplotlib.font_manager:findfont: Font family 'NanumGothic' not found.\n",
            "WARNING:matplotlib.font_manager:findfont: Font family 'NanumGothic' not found.\n",
            "WARNING:matplotlib.font_manager:findfont: Font family 'NanumGothic' not found.\n",
            "WARNING:matplotlib.font_manager:findfont: Font family 'NanumGothic' not found.\n",
            "WARNING:matplotlib.font_manager:findfont: Font family 'NanumGothic' not found.\n",
            "WARNING:matplotlib.font_manager:findfont: Font family 'NanumGothic' not found.\n",
            "WARNING:matplotlib.font_manager:findfont: Font family 'NanumGothic' not found.\n",
            "WARNING:matplotlib.font_manager:findfont: Font family 'NanumGothic' not found.\n",
            "WARNING:matplotlib.font_manager:findfont: Font family 'NanumGothic' not found.\n",
            "WARNING:matplotlib.font_manager:findfont: Font family 'NanumGothic' not found.\n",
            "WARNING:matplotlib.font_manager:findfont: Font family 'NanumGothic' not found.\n",
            "WARNING:matplotlib.font_manager:findfont: Font family 'NanumGothic' not found.\n",
            "WARNING:matplotlib.font_manager:findfont: Font family 'NanumGothic' not found.\n",
            "WARNING:matplotlib.font_manager:findfont: Font family 'NanumGothic' not found.\n",
            "WARNING:matplotlib.font_manager:findfont: Font family 'NanumGothic' not found.\n",
            "WARNING:matplotlib.font_manager:findfont: Font family 'NanumGothic' not found.\n",
            "WARNING:matplotlib.font_manager:findfont: Font family 'NanumGothic' not found.\n",
            "WARNING:matplotlib.font_manager:findfont: Font family 'NanumGothic' not found.\n",
            "WARNING:matplotlib.font_manager:findfont: Font family 'NanumGothic' not found.\n",
            "WARNING:matplotlib.font_manager:findfont: Font family 'NanumGothic' not found.\n",
            "WARNING:matplotlib.font_manager:findfont: Font family 'NanumGothic' not found.\n",
            "WARNING:matplotlib.font_manager:findfont: Font family 'NanumGothic' not found.\n",
            "WARNING:matplotlib.font_manager:findfont: Font family 'NanumGothic' not found.\n",
            "WARNING:matplotlib.font_manager:findfont: Font family 'NanumGothic' not found.\n",
            "WARNING:matplotlib.font_manager:findfont: Font family 'NanumGothic' not found.\n",
            "WARNING:matplotlib.font_manager:findfont: Font family 'NanumGothic' not found.\n",
            "WARNING:matplotlib.font_manager:findfont: Font family 'NanumGothic' not found.\n",
            "WARNING:matplotlib.font_manager:findfont: Font family 'NanumGothic' not found.\n",
            "WARNING:matplotlib.font_manager:findfont: Font family 'NanumGothic' not found.\n",
            "WARNING:matplotlib.font_manager:findfont: Font family 'NanumGothic' not found.\n",
            "WARNING:matplotlib.font_manager:findfont: Font family 'NanumGothic' not found.\n",
            "WARNING:matplotlib.font_manager:findfont: Font family 'NanumGothic' not found.\n",
            "WARNING:matplotlib.font_manager:findfont: Font family 'NanumGothic' not found.\n",
            "WARNING:matplotlib.font_manager:findfont: Font family 'NanumGothic' not found.\n",
            "WARNING:matplotlib.font_manager:findfont: Font family 'NanumGothic' not found.\n",
            "WARNING:matplotlib.font_manager:findfont: Font family 'NanumGothic' not found.\n",
            "WARNING:matplotlib.font_manager:findfont: Font family 'NanumGothic' not found.\n",
            "WARNING:matplotlib.font_manager:findfont: Font family 'NanumGothic' not found.\n"
          ]
        },
        {
          "output_type": "display_data",
          "data": {
            "text/plain": [
              "<Figure size 600x600 with 1 Axes>"
            ],
            "image/png": "[encoded data removed]"
          },
          "metadata": {}
        }
      ]
    },
    {
      "cell_type": "markdown",
      "source": [
        "### 최종 결과를 스칼라 값으로 변환"
      ],
      "metadata": {
        "id": "z8rE1wwk0rzw"
      }
    },
    {
      "cell_type": "code",
      "source": [
        "# 경사 계산을 위해 최종 값은 스칼라일 필요가 있으므로, 더미로 sum 함수를 붙임\n",
        "\n",
        "z = y.sum()"
      ],
      "metadata": {
        "id": "XR1VOMD20qpM"
      },
      "execution_count": 52,
      "outputs": []
    },
    {
      "cell_type": "markdown",
      "source": [
        "### (3) 계산 그래프 시각화"
      ],
      "metadata": {
        "id": "TYTFh9aw0vnI"
      }
    },
    {
      "cell_type": "code",
      "source": [
        "# (3) 계산 그래프 시각화\n",
        "\n",
        "g = make_dot(z, params={'x': x})\n",
        "display(g)"
      ],
      "metadata": {
        "colab": {
          "base_uri": "https://localhost:8080/",
          "height": 380
        },
        "id": "oDCvuEVX0vHU",
        "outputId": "3d7b6f64-471f-4a79-de5c-5c7aefc301d1"
      },
      "execution_count": 53,
      "outputs": [
        {
          "output_type": "display_data",
          "data": {
            "image/svg+xml": "<?xml version=\"1.0\" encoding=\"UTF-8\" standalone=\"no\"?>\n<!DOCTYPE svg PUBLIC \"-//W3C//DTD SVG 1.1//EN\"\n \"http://www.w3.org/Graphics/SVG/1.1/DTD/svg11.dtd\">\n<!-- Generated by graphviz version 2.43.0 (0)\n -->\n<!-- Title: %3 Pages: 1 -->\n<svg width=\"121pt\" height=\"270pt\"\n viewBox=\"0.00 0.00 121.00 270.00\" xmlns=\"http://www.w3.org/2000/svg\" xmlns:xlink=\"http://www.w3.org/1999/xlink\">\n<g id=\"graph0\" class=\"graph\" transform=\"scale(1 1) rotate(0) translate(4 266)\">\n<title>%3</title>\n<polygon fill=\"white\" stroke=\"transparent\" points=\"-4,4 -4,-266 117,-266 117,4 -4,4\"/>\n<!-- 140352636580416 -->\n<g id=\"node1\" class=\"node\">\n<title>140352636580416</title>\n<polygon fill=\"#caff70\" stroke=\"black\" points=\"83.5,-31 29.5,-31 29.5,0 83.5,0 83.5,-31\"/>\n<text text-anchor=\"middle\" x=\"56.5\" y=\"-7\" font-family=\"monospace\" font-size=\"10.00\"> ()</text>\n</g>\n<!-- 140352635475408 -->\n<g id=\"node2\" class=\"node\">\n<title>140352635475408</title>\n<polygon fill=\"lightgrey\" stroke=\"black\" points=\"101,-86 12,-86 12,-67 101,-67 101,-86\"/>\n<text text-anchor=\"middle\" x=\"56.5\" y=\"-74\" font-family=\"monospace\" font-size=\"10.00\">SumBackward0</text>\n</g>\n<!-- 140352635475408&#45;&gt;140352636580416 -->\n<g id=\"edge4\" class=\"edge\">\n<title>140352635475408&#45;&gt;140352636580416</title>\n<path fill=\"none\" stroke=\"black\" d=\"M56.5,-66.79C56.5,-60.07 56.5,-50.4 56.5,-41.34\"/>\n<polygon fill=\"black\" stroke=\"black\" points=\"60,-41.19 56.5,-31.19 53,-41.19 60,-41.19\"/>\n</g>\n<!-- 140352635474736 -->\n<g id=\"node3\" class=\"node\">\n<title>140352635474736</title>\n<polygon fill=\"lightgrey\" stroke=\"black\" points=\"113,-141 0,-141 0,-122 113,-122 113,-141\"/>\n<text text-anchor=\"middle\" x=\"56.5\" y=\"-129\" font-family=\"monospace\" font-size=\"10.00\">SigmoidBackward0</text>\n</g>\n<!-- 140352635474736&#45;&gt;140352635475408 -->\n<g id=\"edge1\" class=\"edge\">\n<title>140352635474736&#45;&gt;140352635475408</title>\n<path fill=\"none\" stroke=\"black\" d=\"M56.5,-121.75C56.5,-114.8 56.5,-104.85 56.5,-96.13\"/>\n<polygon fill=\"black\" stroke=\"black\" points=\"60,-96.09 56.5,-86.09 53,-96.09 60,-96.09\"/>\n</g>\n<!-- 140352635486160 -->\n<g id=\"node4\" class=\"node\">\n<title>140352635486160</title>\n<polygon fill=\"lightgrey\" stroke=\"black\" points=\"107,-196 6,-196 6,-177 107,-177 107,-196\"/>\n<text text-anchor=\"middle\" x=\"56.5\" y=\"-184\" font-family=\"monospace\" font-size=\"10.00\">AccumulateGrad</text>\n</g>\n<!-- 140352635486160&#45;&gt;140352635474736 -->\n<g id=\"edge2\" class=\"edge\">\n<title>140352635486160&#45;&gt;140352635474736</title>\n<path fill=\"none\" stroke=\"black\" d=\"M56.5,-176.75C56.5,-169.8 56.5,-159.85 56.5,-151.13\"/>\n<polygon fill=\"black\" stroke=\"black\" points=\"60,-151.09 56.5,-141.09 53,-151.09 60,-151.09\"/>\n</g>\n<!-- 140356185160288 -->\n<g id=\"node5\" class=\"node\">\n<title>140356185160288</title>\n<polygon fill=\"lightblue\" stroke=\"black\" points=\"83.5,-262 29.5,-262 29.5,-232 83.5,-232 83.5,-262\"/>\n<text text-anchor=\"middle\" x=\"56.5\" y=\"-250\" font-family=\"monospace\" font-size=\"10.00\">x</text>\n<text text-anchor=\"middle\" x=\"56.5\" y=\"-239\" font-family=\"monospace\" font-size=\"10.00\"> (17)</text>\n</g>\n<!-- 140356185160288&#45;&gt;140352635486160 -->\n<g id=\"edge3\" class=\"edge\">\n<title>140356185160288&#45;&gt;140352635486160</title>\n<path fill=\"none\" stroke=\"black\" d=\"M56.5,-231.84C56.5,-224.21 56.5,-214.7 56.5,-206.45\"/>\n<polygon fill=\"black\" stroke=\"black\" points=\"60,-206.27 56.5,-196.27 53,-206.27 60,-206.27\"/>\n</g>\n</g>\n</svg>\n",
            "text/plain": [
              "<graphviz.graphs.Digraph at 0x7fa664fb1420>"
            ]
          },
          "metadata": {}
        }
      ]
    },
    {
      "cell_type": "markdown",
      "source": [
        "### (4) 경사 계산, (5) 경삿값 가져오기"
      ],
      "metadata": {
        "id": "ImivRfD500G7"
      }
    },
    {
      "cell_type": "code",
      "source": [
        "# (4) 경사 계산\n",
        "z.backward()\n",
        "\n",
        "# (5) 경삿값 확인\n",
        "print(x.grad)"
      ],
      "metadata": {
        "colab": {
          "base_uri": "https://localhost:8080/"
        },
        "id": "lTc8Iohk0x2l",
        "outputId": "4f1e9e93-e5d8-4895-a489-05e27cf31e99"
      },
      "execution_count": 54,
      "outputs": [
        {
          "output_type": "stream",
          "name": "stdout",
          "text": [
            "tensor([0.1050, 0.1261, 0.1491, 0.1731, 0.1966, 0.2179, 0.2350, 0.2461, 0.2500,\n",
            "        0.2461, 0.2350, 0.2179, 0.1966, 0.1731, 0.1491, 0.1261, 0.1050])\n"
          ]
        }
      ]
    },
    {
      "cell_type": "code",
      "source": [
        "# 원래 함수와 경사 그래프\n",
        "\n",
        "plt.plot(x.data, y.data, c='b', label='y')\n",
        "plt.plot(x.data, x.grad.data, c='k', label='y.grad')\n",
        "plt.legend()\n",
        "plt.show()"
      ],
      "metadata": {
        "colab": {
          "base_uri": "https://localhost:8080/",
          "height": 1000
        },
        "id": "8n8wseFx04bF",
        "outputId": "ac8b1662-b86a-4bc5-f8f6-c4b3067e9921"
      },
      "execution_count": 55,
      "outputs": [
        {
          "output_type": "stream",
          "name": "stderr",
          "text": [
            "WARNING:matplotlib.font_manager:findfont: Font family 'NanumGothic' not found.\n",
            "WARNING:matplotlib.font_manager:findfont: Font family 'NanumGothic' not found.\n",
            "WARNING:matplotlib.font_manager:findfont: Font family 'NanumGothic' not found.\n",
            "WARNING:matplotlib.font_manager:findfont: Font family 'NanumGothic' not found.\n",
            "WARNING:matplotlib.font_manager:findfont: Font family 'NanumGothic' not found.\n",
            "WARNING:matplotlib.font_manager:findfont: Font family 'NanumGothic' not found.\n",
            "WARNING:matplotlib.font_manager:findfont: Font family 'NanumGothic' not found.\n",
            "WARNING:matplotlib.font_manager:findfont: Font family 'NanumGothic' not found.\n",
            "WARNING:matplotlib.font_manager:findfont: Font family 'NanumGothic' not found.\n",
            "WARNING:matplotlib.font_manager:findfont: Font family 'NanumGothic' not found.\n",
            "WARNING:matplotlib.font_manager:findfont: Font family 'NanumGothic' not found.\n",
            "WARNING:matplotlib.font_manager:findfont: Font family 'NanumGothic' not found.\n",
            "WARNING:matplotlib.font_manager:findfont: Font family 'NanumGothic' not found.\n",
            "WARNING:matplotlib.font_manager:findfont: Font family 'NanumGothic' not found.\n",
            "WARNING:matplotlib.font_manager:findfont: Font family 'NanumGothic' not found.\n",
            "WARNING:matplotlib.font_manager:findfont: Font family 'NanumGothic' not found.\n",
            "WARNING:matplotlib.font_manager:findfont: Font family 'NanumGothic' not found.\n",
            "WARNING:matplotlib.font_manager:findfont: Font family 'NanumGothic' not found.\n",
            "WARNING:matplotlib.font_manager:findfont: Font family 'NanumGothic' not found.\n",
            "WARNING:matplotlib.font_manager:findfont: Font family 'NanumGothic' not found.\n",
            "WARNING:matplotlib.font_manager:findfont: Font family 'NanumGothic' not found.\n",
            "WARNING:matplotlib.font_manager:findfont: Font family 'NanumGothic' not found.\n",
            "WARNING:matplotlib.font_manager:findfont: Font family 'NanumGothic' not found.\n",
            "WARNING:matplotlib.font_manager:findfont: Font family 'NanumGothic' not found.\n",
            "WARNING:matplotlib.font_manager:findfont: Font family 'NanumGothic' not found.\n",
            "WARNING:matplotlib.font_manager:findfont: Font family 'NanumGothic' not found.\n",
            "WARNING:matplotlib.font_manager:findfont: Font family 'NanumGothic' not found.\n",
            "WARNING:matplotlib.font_manager:findfont: Font family 'NanumGothic' not found.\n",
            "WARNING:matplotlib.font_manager:findfont: Font family 'NanumGothic' not found.\n",
            "WARNING:matplotlib.font_manager:findfont: Font family 'NanumGothic' not found.\n",
            "WARNING:matplotlib.font_manager:findfont: Font family 'NanumGothic' not found.\n",
            "WARNING:matplotlib.font_manager:findfont: Font family 'NanumGothic' not found.\n",
            "WARNING:matplotlib.font_manager:findfont: Font family 'NanumGothic' not found.\n",
            "WARNING:matplotlib.font_manager:findfont: Font family 'NanumGothic' not found.\n",
            "WARNING:matplotlib.font_manager:findfont: Font family 'NanumGothic' not found.\n",
            "WARNING:matplotlib.font_manager:findfont: Font family 'NanumGothic' not found.\n",
            "WARNING:matplotlib.font_manager:findfont: Font family 'NanumGothic' not found.\n",
            "WARNING:matplotlib.font_manager:findfont: Font family 'NanumGothic' not found.\n",
            "WARNING:matplotlib.font_manager:findfont: Font family 'NanumGothic' not found.\n",
            "WARNING:matplotlib.font_manager:findfont: Font family 'NanumGothic' not found.\n",
            "WARNING:matplotlib.font_manager:findfont: Font family 'NanumGothic' not found.\n",
            "WARNING:matplotlib.font_manager:findfont: Font family 'NanumGothic' not found.\n",
            "WARNING:matplotlib.font_manager:findfont: Font family 'NanumGothic' not found.\n",
            "WARNING:matplotlib.font_manager:findfont: Font family 'NanumGothic' not found.\n",
            "WARNING:matplotlib.font_manager:findfont: Font family 'NanumGothic' not found.\n",
            "WARNING:matplotlib.font_manager:findfont: Font family 'NanumGothic' not found.\n",
            "WARNING:matplotlib.font_manager:findfont: Font family 'NanumGothic' not found.\n",
            "WARNING:matplotlib.font_manager:findfont: Font family 'NanumGothic' not found.\n",
            "WARNING:matplotlib.font_manager:findfont: Font family 'NanumGothic' not found.\n",
            "WARNING:matplotlib.font_manager:findfont: Font family 'NanumGothic' not found.\n",
            "WARNING:matplotlib.font_manager:findfont: Font family 'NanumGothic' not found.\n",
            "WARNING:matplotlib.font_manager:findfont: Font family 'NanumGothic' not found.\n",
            "WARNING:matplotlib.font_manager:findfont: Font family 'NanumGothic' not found.\n",
            "WARNING:matplotlib.font_manager:findfont: Font family 'NanumGothic' not found.\n",
            "WARNING:matplotlib.font_manager:findfont: Font family 'NanumGothic' not found.\n",
            "WARNING:matplotlib.font_manager:findfont: Font family 'NanumGothic' not found.\n",
            "WARNING:matplotlib.font_manager:findfont: Font family 'NanumGothic' not found.\n",
            "WARNING:matplotlib.font_manager:findfont: Font family 'NanumGothic' not found.\n",
            "WARNING:matplotlib.font_manager:findfont: Font family 'NanumGothic' not found.\n",
            "WARNING:matplotlib.font_manager:findfont: Font family 'NanumGothic' not found.\n",
            "WARNING:matplotlib.font_manager:findfont: Font family 'NanumGothic' not found.\n",
            "WARNING:matplotlib.font_manager:findfont: Font family 'NanumGothic' not found.\n",
            "WARNING:matplotlib.font_manager:findfont: Font family 'NanumGothic' not found.\n",
            "WARNING:matplotlib.font_manager:findfont: Font family 'NanumGothic' not found.\n",
            "WARNING:matplotlib.font_manager:findfont: Font family 'NanumGothic' not found.\n",
            "WARNING:matplotlib.font_manager:findfont: Font family 'NanumGothic' not found.\n",
            "WARNING:matplotlib.font_manager:findfont: Font family 'NanumGothic' not found.\n",
            "WARNING:matplotlib.font_manager:findfont: Font family 'NanumGothic' not found.\n",
            "WARNING:matplotlib.font_manager:findfont: Font family 'NanumGothic' not found.\n",
            "WARNING:matplotlib.font_manager:findfont: Font family 'NanumGothic' not found.\n",
            "WARNING:matplotlib.font_manager:findfont: Font family 'NanumGothic' not found.\n",
            "WARNING:matplotlib.font_manager:findfont: Font family 'NanumGothic' not found.\n",
            "WARNING:matplotlib.font_manager:findfont: Font family 'NanumGothic' not found.\n",
            "WARNING:matplotlib.font_manager:findfont: Font family 'NanumGothic' not found.\n",
            "WARNING:matplotlib.font_manager:findfont: Font family 'NanumGothic' not found.\n",
            "WARNING:matplotlib.font_manager:findfont: Font family 'NanumGothic' not found.\n"
          ]
        },
        {
          "output_type": "display_data",
          "data": {
            "text/plain": [
              "<Figure size 600x600 with 1 Axes>"
            ],
            "image/png": "[encoded data removed]"
          },
          "metadata": {}
        }
      ]
    },
    {
      "cell_type": "markdown",
      "source": [
        "**텐서**  \n",
        "이미지 데이터는 가로와 세로 2차원의 넓이를 가지므로, 최소 2계 이상, 그리고 컬러 이미지의 경우 RGB 각 채널마다 2차원 배열이 총 3장이 필요하다. 이 채널을 표기하려면 3계 이상이 필요하다.  \n",
        "그리고 학습 데이터는 1장이 아닌 여러 장을 한번에 다뤄야 한다. 즉, 컬러 이미지에 서로 다른 데이터임을 표기해야 한다.  \n",
        "이와 같은 이유로, 학습용 이미지 데이터는 4계 텐서(4개의 첨자를 갖는. $A_{ijkl}$)로 이해해야 한다."
      ],
      "metadata": {
        "id": "zXmreBR41DFU"
      }
    }
  ]
}